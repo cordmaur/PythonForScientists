{
  "nbformat": 4,
  "nbformat_minor": 0,
  "metadata": {
    "colab": {
      "provenance": [],
      "toc_visible": true,
      "authorship_tag": "ABX9TyN1kuiYKD5Ji6LvjC/3Lx1j",
      "include_colab_link": true
    },
    "kernelspec": {
      "name": "python3",
      "display_name": "Python 3"
    },
    "language_info": {
      "name": "python"
    }
  },
  "cells": [
    {
      "cell_type": "markdown",
      "metadata": {
        "id": "view-in-github",
        "colab_type": "text"
      },
      "source": [
        "<a href=\"https://colab.research.google.com/github/cordmaur/PythonForScientists/blob/main/Lessons_ANA/Python4Scientists_Lesson3.ipynb\" target=\"_parent\"><img src=\"https://colab.research.google.com/assets/colab-badge.svg\" alt=\"Open In Colab\"/></a>"
      ]
    },
    {
      "cell_type": "markdown",
      "metadata": {
        "id": "jHgaiX0MablB"
      },
      "source": [
        "# Introduction to Python for Scientists - Lesson 3\n"
      ]
    },
    {
      "cell_type": "markdown",
      "metadata": {
        "id": "lSLEXTQmaiUI"
      },
      "source": [
        "## Exercises solution"
      ]
    },
    {
      "cell_type": "code",
      "metadata": {
        "colab": {
          "base_uri": "https://localhost:8080/"
        },
        "id": "rcyNImirgolt",
        "outputId": "bedd13fb-6b6f-4174-d4ec-f9806d58336d"
      },
      "source": [
        "import random\n",
        "\n",
        "# create the days and daily rain\n",
        "# Fix the random seed \n",
        "random.seed(1)\n",
        "\n",
        "daily_rain = []\n",
        "day_of_month = []\n",
        "\n",
        "for i in range(1, 32, 1):\n",
        "    day_of_month.append(i)\n",
        "    rainy = random.randint(0, 1)\n",
        "    if rainy == 1:\n",
        "        daily_rain.append(random.randint(0, 100))\n",
        "    else:\n",
        "        daily_rain.append(0)\n",
        "    \n",
        "\n",
        "str(day_of_month), str(daily_rain)"
      ],
      "execution_count": 2,
      "outputs": [
        {
          "output_type": "execute_result",
          "data": {
            "text/plain": [
              "('[1, 2, 3, 4, 5, 6, 7, 8, 9, 10, 11, 12, 13, 14, 15, 16, 17, 18, 19, 20, 21, 22, 23, 24, 25, 26, 27, 28, 29, 30, 31]',\n",
              " '[0, 0, 15, 97, 60, 100, 0, 0, 3, 55, 0, 34, 0, 0, 3, 0, 0, 0, 87, 0, 92, 0, 0, 63, 0, 29, 0, 37, 0, 71, 0]')"
            ]
          },
          "metadata": {},
          "execution_count": 2
        }
      ]
    },
    {
      "cell_type": "code",
      "metadata": {
        "colab": {
          "base_uri": "https://localhost:8080/",
          "height": 655
        },
        "id": "EbYm-tvvgojV",
        "outputId": "344341c4-dc76-41d8-8180-3cb961a532ae"
      },
      "source": [
        "import matplotlib.pyplot as plt\n",
        "plt.figure(figsize=(18, 9))\n",
        "plt.bar(day_of_month, daily_rain)"
      ],
      "execution_count": 3,
      "outputs": [
        {
          "output_type": "execute_result",
          "data": {
            "text/plain": [
              "<BarContainer object of 31 artists>"
            ]
          },
          "metadata": {},
          "execution_count": 3
        },
        {
          "output_type": "display_data",
          "data": {
            "text/plain": [
              "<Figure size 1800x900 with 1 Axes>"
            ],
            "image/png": "[encoded data removed]"
          },
          "metadata": {}
        }
      ]
    },
    {
      "cell_type": "markdown",
      "metadata": {
        "id": "YFXTAHQ-gy4H"
      },
      "source": [
        "Answer these questions:\n",
        "* number of days with rain\n",
        "* day of the maximum rain and day of the minimum rain\n",
        "* total rain\n",
        "* mean rain\n",
        "* <b>Challenge:</b> order the <b>days</b> according to the rain precipitation. Descending order (from highest to lowest). Ex: [12, 7, ...]"
      ]
    },
    {
      "cell_type": "code",
      "metadata": {
        "colab": {
          "base_uri": "https://localhost:8080/"
        },
        "id": "3k2kV4T-mCrg",
        "outputId": "05a2c5fb-eba7-4116-9f7d-29eff6c23c55"
      },
      "source": [
        "days_with_rain = 0\n",
        "for rain in daily_rain:\n",
        "    if rain > 0:\n",
        "        days_with_rain += 1\n",
        "days_with_rain"
      ],
      "execution_count": 8,
      "outputs": [
        {
          "output_type": "execute_result",
          "data": {
            "text/plain": [
              "14"
            ]
          },
          "metadata": {},
          "execution_count": 8
        }
      ]
    },
    {
      "cell_type": "code",
      "source": [
        "# Maximum daily rain\n",
        "max_rain = daily_rain[0]\n",
        "\n",
        "for rain in daily_rain:\n",
        "    if rain > max_rain:\n",
        "        max_rain = rain\n",
        "\n",
        "max_rain"
      ],
      "metadata": {
        "colab": {
          "base_uri": "https://localhost:8080/"
        },
        "id": "btaZQnEMLk_R",
        "outputId": "c513ac55-6aed-48a6-97b5-7335ded01192"
      },
      "execution_count": 9,
      "outputs": [
        {
          "output_type": "execute_result",
          "data": {
            "text/plain": [
              "100"
            ]
          },
          "metadata": {},
          "execution_count": 9
        }
      ]
    },
    {
      "cell_type": "code",
      "source": [
        "# Minimum (non-zero) daily rain\n",
        "min_rain = max_rain\n",
        "\n",
        "for rain in daily_rain:\n",
        "    if rain < min_rain and rain != 0:\n",
        "        min_rain = rain\n",
        "\n",
        "min_rain\n"
      ],
      "metadata": {
        "colab": {
          "base_uri": "https://localhost:8080/"
        },
        "id": "hVBZm8d_ME43",
        "outputId": "b20de06f-2a83-4bcd-c9a8-e70f9eef76e8"
      },
      "execution_count": 11,
      "outputs": [
        {
          "output_type": "execute_result",
          "data": {
            "text/plain": [
              "3"
            ]
          },
          "metadata": {},
          "execution_count": 11
        }
      ]
    },
    {
      "cell_type": "code",
      "metadata": {
        "colab": {
          "base_uri": "https://localhost:8080/"
        },
        "id": "RD_JMveQmWLv",
        "outputId": "5a866cf1-53d8-4c33-af0b-e508d9e41b1c"
      },
      "source": [
        "max_rain = 0\n",
        "day_of_max = 0\n",
        "\n",
        "min_rain = 99999\n",
        "day_of_min = 0\n",
        "\n",
        "for day, rain in zip(day_of_month, daily_rain):\n",
        "    if rain > max_rain:\n",
        "        max_rain = rain\n",
        "        day_of_max = day\n",
        "    \n",
        "    if rain < min_rain and rain > 0:\n",
        "        min_rain = rain\n",
        "        day_of_min = day\n",
        "\n",
        "\n",
        "day_of_max, day_of_min\n",
        "\n",
        "\n",
        "# import sys\n",
        "# print(sys.maxint)\n"
      ],
      "execution_count": 13,
      "outputs": [
        {
          "output_type": "execute_result",
          "data": {
            "text/plain": [
              "(6, 9)"
            ]
          },
          "metadata": {},
          "execution_count": 13
        }
      ]
    },
    {
      "cell_type": "code",
      "metadata": {
        "colab": {
          "base_uri": "https://localhost:8080/"
        },
        "id": "Buly7otVmWJQ",
        "outputId": "8492f958-c70d-4c5c-c98e-eeb1d88e9bfc"
      },
      "source": [
        "total_rain = 0\n",
        "for rain in daily_rain:\n",
        "    total_rain += rain\n",
        "total_rain"
      ],
      "execution_count": 14,
      "outputs": [
        {
          "output_type": "execute_result",
          "data": {
            "text/plain": [
              "746"
            ]
          },
          "metadata": {},
          "execution_count": 14
        }
      ]
    },
    {
      "cell_type": "code",
      "metadata": {
        "colab": {
          "base_uri": "https://localhost:8080/"
        },
        "id": "Ed9r068nmWGl",
        "outputId": "48072a25-94ec-464c-efbb-3b2826dd26c3"
      },
      "source": [
        "mean_rain = total_rain / len(daily_rain)\n",
        "mean_rain"
      ],
      "execution_count": 15,
      "outputs": [
        {
          "output_type": "execute_result",
          "data": {
            "text/plain": [
              "24.06451612903226"
            ]
          },
          "metadata": {},
          "execution_count": 15
        }
      ]
    },
    {
      "cell_type": "code",
      "metadata": {
        "colab": {
          "base_uri": "https://localhost:8080/"
        },
        "id": "ANZ2iRSXowfH",
        "outputId": "71e43464-9f31-4949-d1eb-95066a58b626"
      },
      "source": [
        "sorted_rain = daily_rain.copy()\n",
        "sorted_days = day_of_month.copy()\n",
        "\n",
        "print('Original list')\n",
        "print(sorted_rain)\n",
        "\n",
        "for i in range(len(sorted_rain)):\n",
        "    for j in range(i+1, len(sorted_rain)):\n",
        "        if sorted_rain[j] > sorted_rain[i]:\n",
        "\n",
        "            print(f'swapping i={i}({sorted_rain[i]}) with j={j}({sorted_rain[j]})')\n",
        "\n",
        "            # swap the rain\n",
        "            temp = sorted_rain[i]\n",
        "            sorted_rain[i] = sorted_rain[j]\n",
        "            sorted_rain[j] = temp\n",
        "\n",
        "            # swap the days\n",
        "            temp = sorted_days[i]\n",
        "            sorted_days[i] = sorted_days[j]\n",
        "            sorted_days[j] = temp\n",
        "\n",
        "            print(sorted_rain)\n",
        "    \n",
        "print('\\n Final lists')\n",
        "print(sorted_rain)\n",
        "print(sorted_days)"
      ],
      "execution_count": 24,
      "outputs": [
        {
          "output_type": "stream",
          "name": "stdout",
          "text": [
            "Original list\n",
            "[0, 0, 15, 97, 60, 100, 0, 0, 3, 55, 0, 34, 0, 0, 3, 0, 0, 0, 87, 0, 92, 0, 0, 63, 0, 29, 0, 37, 0, 71, 0]\n",
            "swapping i=0(0) with j=2(15)\n",
            "[15, 0, 0, 97, 60, 100, 0, 0, 3, 55, 0, 34, 0, 0, 3, 0, 0, 0, 87, 0, 92, 0, 0, 63, 0, 29, 0, 37, 0, 71, 0]\n",
            "swapping i=0(15) with j=3(97)\n",
            "[97, 0, 0, 15, 60, 100, 0, 0, 3, 55, 0, 34, 0, 0, 3, 0, 0, 0, 87, 0, 92, 0, 0, 63, 0, 29, 0, 37, 0, 71, 0]\n",
            "swapping i=0(97) with j=5(100)\n",
            "[100, 0, 0, 15, 60, 97, 0, 0, 3, 55, 0, 34, 0, 0, 3, 0, 0, 0, 87, 0, 92, 0, 0, 63, 0, 29, 0, 37, 0, 71, 0]\n",
            "swapping i=1(0) with j=3(15)\n",
            "[100, 15, 0, 0, 60, 97, 0, 0, 3, 55, 0, 34, 0, 0, 3, 0, 0, 0, 87, 0, 92, 0, 0, 63, 0, 29, 0, 37, 0, 71, 0]\n",
            "swapping i=1(15) with j=4(60)\n",
            "[100, 60, 0, 0, 15, 97, 0, 0, 3, 55, 0, 34, 0, 0, 3, 0, 0, 0, 87, 0, 92, 0, 0, 63, 0, 29, 0, 37, 0, 71, 0]\n",
            "swapping i=1(60) with j=5(97)\n",
            "[100, 97, 0, 0, 15, 60, 0, 0, 3, 55, 0, 34, 0, 0, 3, 0, 0, 0, 87, 0, 92, 0, 0, 63, 0, 29, 0, 37, 0, 71, 0]\n",
            "swapping i=2(0) with j=4(15)\n",
            "[100, 97, 15, 0, 0, 60, 0, 0, 3, 55, 0, 34, 0, 0, 3, 0, 0, 0, 87, 0, 92, 0, 0, 63, 0, 29, 0, 37, 0, 71, 0]\n",
            "swapping i=2(15) with j=5(60)\n",
            "[100, 97, 60, 0, 0, 15, 0, 0, 3, 55, 0, 34, 0, 0, 3, 0, 0, 0, 87, 0, 92, 0, 0, 63, 0, 29, 0, 37, 0, 71, 0]\n",
            "swapping i=2(60) with j=18(87)\n",
            "[100, 97, 87, 0, 0, 15, 0, 0, 3, 55, 0, 34, 0, 0, 3, 0, 0, 0, 60, 0, 92, 0, 0, 63, 0, 29, 0, 37, 0, 71, 0]\n",
            "swapping i=2(87) with j=20(92)\n",
            "[100, 97, 92, 0, 0, 15, 0, 0, 3, 55, 0, 34, 0, 0, 3, 0, 0, 0, 60, 0, 87, 0, 0, 63, 0, 29, 0, 37, 0, 71, 0]\n",
            "swapping i=3(0) with j=5(15)\n",
            "[100, 97, 92, 15, 0, 0, 0, 0, 3, 55, 0, 34, 0, 0, 3, 0, 0, 0, 60, 0, 87, 0, 0, 63, 0, 29, 0, 37, 0, 71, 0]\n",
            "swapping i=3(15) with j=9(55)\n",
            "[100, 97, 92, 55, 0, 0, 0, 0, 3, 15, 0, 34, 0, 0, 3, 0, 0, 0, 60, 0, 87, 0, 0, 63, 0, 29, 0, 37, 0, 71, 0]\n",
            "swapping i=3(55) with j=18(60)\n",
            "[100, 97, 92, 60, 0, 0, 0, 0, 3, 15, 0, 34, 0, 0, 3, 0, 0, 0, 55, 0, 87, 0, 0, 63, 0, 29, 0, 37, 0, 71, 0]\n",
            "swapping i=3(60) with j=20(87)\n",
            "[100, 97, 92, 87, 0, 0, 0, 0, 3, 15, 0, 34, 0, 0, 3, 0, 0, 0, 55, 0, 60, 0, 0, 63, 0, 29, 0, 37, 0, 71, 0]\n",
            "swapping i=4(0) with j=8(3)\n",
            "[100, 97, 92, 87, 3, 0, 0, 0, 0, 15, 0, 34, 0, 0, 3, 0, 0, 0, 55, 0, 60, 0, 0, 63, 0, 29, 0, 37, 0, 71, 0]\n",
            "swapping i=4(3) with j=9(15)\n",
            "[100, 97, 92, 87, 15, 0, 0, 0, 0, 3, 0, 34, 0, 0, 3, 0, 0, 0, 55, 0, 60, 0, 0, 63, 0, 29, 0, 37, 0, 71, 0]\n",
            "swapping i=4(15) with j=11(34)\n",
            "[100, 97, 92, 87, 34, 0, 0, 0, 0, 3, 0, 15, 0, 0, 3, 0, 0, 0, 55, 0, 60, 0, 0, 63, 0, 29, 0, 37, 0, 71, 0]\n",
            "swapping i=4(34) with j=18(55)\n",
            "[100, 97, 92, 87, 55, 0, 0, 0, 0, 3, 0, 15, 0, 0, 3, 0, 0, 0, 34, 0, 60, 0, 0, 63, 0, 29, 0, 37, 0, 71, 0]\n",
            "swapping i=4(55) with j=20(60)\n",
            "[100, 97, 92, 87, 60, 0, 0, 0, 0, 3, 0, 15, 0, 0, 3, 0, 0, 0, 34, 0, 55, 0, 0, 63, 0, 29, 0, 37, 0, 71, 0]\n",
            "swapping i=4(60) with j=23(63)\n",
            "[100, 97, 92, 87, 63, 0, 0, 0, 0, 3, 0, 15, 0, 0, 3, 0, 0, 0, 34, 0, 55, 0, 0, 60, 0, 29, 0, 37, 0, 71, 0]\n",
            "swapping i=4(63) with j=29(71)\n",
            "[100, 97, 92, 87, 71, 0, 0, 0, 0, 3, 0, 15, 0, 0, 3, 0, 0, 0, 34, 0, 55, 0, 0, 60, 0, 29, 0, 37, 0, 63, 0]\n",
            "swapping i=5(0) with j=9(3)\n",
            "[100, 97, 92, 87, 71, 3, 0, 0, 0, 0, 0, 15, 0, 0, 3, 0, 0, 0, 34, 0, 55, 0, 0, 60, 0, 29, 0, 37, 0, 63, 0]\n",
            "swapping i=5(3) with j=11(15)\n",
            "[100, 97, 92, 87, 71, 15, 0, 0, 0, 0, 0, 3, 0, 0, 3, 0, 0, 0, 34, 0, 55, 0, 0, 60, 0, 29, 0, 37, 0, 63, 0]\n",
            "swapping i=5(15) with j=18(34)\n",
            "[100, 97, 92, 87, 71, 34, 0, 0, 0, 0, 0, 3, 0, 0, 3, 0, 0, 0, 15, 0, 55, 0, 0, 60, 0, 29, 0, 37, 0, 63, 0]\n",
            "swapping i=5(34) with j=20(55)\n",
            "[100, 97, 92, 87, 71, 55, 0, 0, 0, 0, 0, 3, 0, 0, 3, 0, 0, 0, 15, 0, 34, 0, 0, 60, 0, 29, 0, 37, 0, 63, 0]\n",
            "swapping i=5(55) with j=23(60)\n",
            "[100, 97, 92, 87, 71, 60, 0, 0, 0, 0, 0, 3, 0, 0, 3, 0, 0, 0, 15, 0, 34, 0, 0, 55, 0, 29, 0, 37, 0, 63, 0]\n",
            "swapping i=5(60) with j=29(63)\n",
            "[100, 97, 92, 87, 71, 63, 0, 0, 0, 0, 0, 3, 0, 0, 3, 0, 0, 0, 15, 0, 34, 0, 0, 55, 0, 29, 0, 37, 0, 60, 0]\n",
            "swapping i=6(0) with j=11(3)\n",
            "[100, 97, 92, 87, 71, 63, 3, 0, 0, 0, 0, 0, 0, 0, 3, 0, 0, 0, 15, 0, 34, 0, 0, 55, 0, 29, 0, 37, 0, 60, 0]\n",
            "swapping i=6(3) with j=18(15)\n",
            "[100, 97, 92, 87, 71, 63, 15, 0, 0, 0, 0, 0, 0, 0, 3, 0, 0, 0, 3, 0, 34, 0, 0, 55, 0, 29, 0, 37, 0, 60, 0]\n",
            "swapping i=6(15) with j=20(34)\n",
            "[100, 97, 92, 87, 71, 63, 34, 0, 0, 0, 0, 0, 0, 0, 3, 0, 0, 0, 3, 0, 15, 0, 0, 55, 0, 29, 0, 37, 0, 60, 0]\n",
            "swapping i=6(34) with j=23(55)\n",
            "[100, 97, 92, 87, 71, 63, 55, 0, 0, 0, 0, 0, 0, 0, 3, 0, 0, 0, 3, 0, 15, 0, 0, 34, 0, 29, 0, 37, 0, 60, 0]\n",
            "swapping i=6(55) with j=29(60)\n",
            "[100, 97, 92, 87, 71, 63, 60, 0, 0, 0, 0, 0, 0, 0, 3, 0, 0, 0, 3, 0, 15, 0, 0, 34, 0, 29, 0, 37, 0, 55, 0]\n",
            "swapping i=7(0) with j=14(3)\n",
            "[100, 97, 92, 87, 71, 63, 60, 3, 0, 0, 0, 0, 0, 0, 0, 0, 0, 0, 3, 0, 15, 0, 0, 34, 0, 29, 0, 37, 0, 55, 0]\n",
            "swapping i=7(3) with j=20(15)\n",
            "[100, 97, 92, 87, 71, 63, 60, 15, 0, 0, 0, 0, 0, 0, 0, 0, 0, 0, 3, 0, 3, 0, 0, 34, 0, 29, 0, 37, 0, 55, 0]\n",
            "swapping i=7(15) with j=23(34)\n",
            "[100, 97, 92, 87, 71, 63, 60, 34, 0, 0, 0, 0, 0, 0, 0, 0, 0, 0, 3, 0, 3, 0, 0, 15, 0, 29, 0, 37, 0, 55, 0]\n",
            "swapping i=7(34) with j=27(37)\n",
            "[100, 97, 92, 87, 71, 63, 60, 37, 0, 0, 0, 0, 0, 0, 0, 0, 0, 0, 3, 0, 3, 0, 0, 15, 0, 29, 0, 34, 0, 55, 0]\n",
            "swapping i=7(37) with j=29(55)\n",
            "[100, 97, 92, 87, 71, 63, 60, 55, 0, 0, 0, 0, 0, 0, 0, 0, 0, 0, 3, 0, 3, 0, 0, 15, 0, 29, 0, 34, 0, 37, 0]\n",
            "swapping i=8(0) with j=18(3)\n",
            "[100, 97, 92, 87, 71, 63, 60, 55, 3, 0, 0, 0, 0, 0, 0, 0, 0, 0, 0, 0, 3, 0, 0, 15, 0, 29, 0, 34, 0, 37, 0]\n",
            "swapping i=8(3) with j=23(15)\n",
            "[100, 97, 92, 87, 71, 63, 60, 55, 15, 0, 0, 0, 0, 0, 0, 0, 0, 0, 0, 0, 3, 0, 0, 3, 0, 29, 0, 34, 0, 37, 0]\n",
            "swapping i=8(15) with j=25(29)\n",
            "[100, 97, 92, 87, 71, 63, 60, 55, 29, 0, 0, 0, 0, 0, 0, 0, 0, 0, 0, 0, 3, 0, 0, 3, 0, 15, 0, 34, 0, 37, 0]\n",
            "swapping i=8(29) with j=27(34)\n",
            "[100, 97, 92, 87, 71, 63, 60, 55, 34, 0, 0, 0, 0, 0, 0, 0, 0, 0, 0, 0, 3, 0, 0, 3, 0, 15, 0, 29, 0, 37, 0]\n",
            "swapping i=8(34) with j=29(37)\n",
            "[100, 97, 92, 87, 71, 63, 60, 55, 37, 0, 0, 0, 0, 0, 0, 0, 0, 0, 0, 0, 3, 0, 0, 3, 0, 15, 0, 29, 0, 34, 0]\n",
            "swapping i=9(0) with j=20(3)\n",
            "[100, 97, 92, 87, 71, 63, 60, 55, 37, 3, 0, 0, 0, 0, 0, 0, 0, 0, 0, 0, 0, 0, 0, 3, 0, 15, 0, 29, 0, 34, 0]\n",
            "swapping i=9(3) with j=25(15)\n",
            "[100, 97, 92, 87, 71, 63, 60, 55, 37, 15, 0, 0, 0, 0, 0, 0, 0, 0, 0, 0, 0, 0, 0, 3, 0, 3, 0, 29, 0, 34, 0]\n",
            "swapping i=9(15) with j=27(29)\n",
            "[100, 97, 92, 87, 71, 63, 60, 55, 37, 29, 0, 0, 0, 0, 0, 0, 0, 0, 0, 0, 0, 0, 0, 3, 0, 3, 0, 15, 0, 34, 0]\n",
            "swapping i=9(29) with j=29(34)\n",
            "[100, 97, 92, 87, 71, 63, 60, 55, 37, 34, 0, 0, 0, 0, 0, 0, 0, 0, 0, 0, 0, 0, 0, 3, 0, 3, 0, 15, 0, 29, 0]\n",
            "swapping i=10(0) with j=23(3)\n",
            "[100, 97, 92, 87, 71, 63, 60, 55, 37, 34, 3, 0, 0, 0, 0, 0, 0, 0, 0, 0, 0, 0, 0, 0, 0, 3, 0, 15, 0, 29, 0]\n",
            "swapping i=10(3) with j=27(15)\n",
            "[100, 97, 92, 87, 71, 63, 60, 55, 37, 34, 15, 0, 0, 0, 0, 0, 0, 0, 0, 0, 0, 0, 0, 0, 0, 3, 0, 3, 0, 29, 0]\n",
            "swapping i=10(15) with j=29(29)\n",
            "[100, 97, 92, 87, 71, 63, 60, 55, 37, 34, 29, 0, 0, 0, 0, 0, 0, 0, 0, 0, 0, 0, 0, 0, 0, 3, 0, 3, 0, 15, 0]\n",
            "swapping i=11(0) with j=25(3)\n",
            "[100, 97, 92, 87, 71, 63, 60, 55, 37, 34, 29, 3, 0, 0, 0, 0, 0, 0, 0, 0, 0, 0, 0, 0, 0, 0, 0, 3, 0, 15, 0]\n",
            "swapping i=11(3) with j=29(15)\n",
            "[100, 97, 92, 87, 71, 63, 60, 55, 37, 34, 29, 15, 0, 0, 0, 0, 0, 0, 0, 0, 0, 0, 0, 0, 0, 0, 0, 3, 0, 3, 0]\n",
            "swapping i=12(0) with j=27(3)\n",
            "[100, 97, 92, 87, 71, 63, 60, 55, 37, 34, 29, 15, 3, 0, 0, 0, 0, 0, 0, 0, 0, 0, 0, 0, 0, 0, 0, 0, 0, 3, 0]\n",
            "swapping i=13(0) with j=29(3)\n",
            "[100, 97, 92, 87, 71, 63, 60, 55, 37, 34, 29, 15, 3, 3, 0, 0, 0, 0, 0, 0, 0, 0, 0, 0, 0, 0, 0, 0, 0, 0, 0]\n",
            "\n",
            " Final lists\n",
            "[100, 97, 92, 87, 71, 63, 60, 55, 37, 34, 29, 15, 3, 3, 0, 0, 0, 0, 0, 0, 0, 0, 0, 0, 0, 0, 0, 0, 0, 0, 0]\n",
            "[6, 4, 21, 19, 30, 24, 5, 10, 28, 12, 26, 3, 9, 15, 8, 16, 17, 18, 1, 20, 2, 22, 23, 11, 25, 7, 27, 13, 29, 14, 31]\n"
          ]
        }
      ]
    },
    {
      "cell_type": "markdown",
      "metadata": {
        "id": "_URK_HNCk0bS"
      },
      "source": [
        "### **PYTHONIC**'S SOLUTIONS"
      ]
    },
    {
      "cell_type": "code",
      "source": [
        "print(daily_rain)\n",
        "print(day_of_month)"
      ],
      "metadata": {
        "colab": {
          "base_uri": "https://localhost:8080/"
        },
        "id": "y9QUnP6NUC8D",
        "outputId": "f87bbab7-2b95-4827-a97f-f397fee3d7d9"
      },
      "execution_count": 30,
      "outputs": [
        {
          "output_type": "stream",
          "name": "stdout",
          "text": [
            "[0, 0, 15, 97, 60, 100, 0, 0, 3, 55, 0, 34, 0, 0, 3, 0, 0, 0, 87, 0, 92, 0, 0, 63, 0, 29, 0, 37, 0, 71, 0]\n",
            "[1, 2, 3, 4, 5, 6, 7, 8, 9, 10, 11, 12, 13, 14, 15, 16, 17, 18, 19, 20, 21, 22, 23, 24, 25, 26, 27, 28, 29, 30, 31]\n"
          ]
        }
      ]
    },
    {
      "cell_type": "code",
      "metadata": {
        "colab": {
          "base_uri": "https://localhost:8080/"
        },
        "id": "vwQVsKi-liWY",
        "outputId": "3007e293-63b4-4d78-fcd1-045657a3505d"
      },
      "source": [
        "# day of max\n",
        "max_rain = max(daily_rain)\n",
        "max_rain"
      ],
      "execution_count": 28,
      "outputs": [
        {
          "output_type": "execute_result",
          "data": {
            "text/plain": [
              "100"
            ]
          },
          "metadata": {},
          "execution_count": 28
        }
      ]
    },
    {
      "cell_type": "code",
      "source": [
        "idx = daily_rain.index(max_rain)"
      ],
      "metadata": {
        "id": "OywIDmahT0k8"
      },
      "execution_count": 32,
      "outputs": []
    },
    {
      "cell_type": "code",
      "source": [
        "day_of_month[idx]"
      ],
      "metadata": {
        "colab": {
          "base_uri": "https://localhost:8080/"
        },
        "id": "4UxGm3yiT0im",
        "outputId": "d7c31454-aaf7-422e-e5cc-5fbcdb1a69bf"
      },
      "execution_count": 33,
      "outputs": [
        {
          "output_type": "execute_result",
          "data": {
            "text/plain": [
              "6"
            ]
          },
          "metadata": {},
          "execution_count": 33
        }
      ]
    },
    {
      "cell_type": "code",
      "source": [
        "# Or....\n",
        "day_of_month[daily_rain.index(max(daily_rain))]"
      ],
      "metadata": {
        "colab": {
          "base_uri": "https://localhost:8080/"
        },
        "id": "ERXb8W_KTyhr",
        "outputId": "00df2663-1fef-4030-8eb8-cd577b7a89c2"
      },
      "execution_count": 34,
      "outputs": [
        {
          "output_type": "execute_result",
          "data": {
            "text/plain": [
              "6"
            ]
          },
          "metadata": {},
          "execution_count": 34
        }
      ]
    },
    {
      "cell_type": "code",
      "source": [
        "# day of min\n",
        "# be carefull \n",
        "min(daily_rain)"
      ],
      "metadata": {
        "colab": {
          "base_uri": "https://localhost:8080/"
        },
        "id": "0GbqdPSfUrYW",
        "outputId": "e152984a-b67b-4a13-aa85-2c004596b07f"
      },
      "execution_count": 39,
      "outputs": [
        {
          "output_type": "execute_result",
          "data": {
            "text/plain": [
              "0"
            ]
          },
          "metadata": {},
          "execution_count": 39
        }
      ]
    },
    {
      "cell_type": "code",
      "source": [
        "# correct min rain\n",
        "min_rain = min(daily_rain, key=lambda x: x if x > 0 else 9999)\n",
        "min_rain"
      ],
      "metadata": {
        "colab": {
          "base_uri": "https://localhost:8080/"
        },
        "id": "qIs5Mw7cTykL",
        "outputId": "6a35ba84-906b-41bc-acdf-25b893963de5"
      },
      "execution_count": 41,
      "outputs": [
        {
          "output_type": "execute_result",
          "data": {
            "text/plain": [
              "3"
            ]
          },
          "metadata": {},
          "execution_count": 41
        }
      ]
    },
    {
      "cell_type": "code",
      "source": [
        "day_of_month[daily_rain.index(min_rain)]"
      ],
      "metadata": {
        "colab": {
          "base_uri": "https://localhost:8080/"
        },
        "id": "UEu1EJLKTyXO",
        "outputId": "9bd6d182-dbaf-4eda-865e-b818d55853ed"
      },
      "execution_count": 43,
      "outputs": [
        {
          "output_type": "execute_result",
          "data": {
            "text/plain": [
              "9"
            ]
          },
          "metadata": {},
          "execution_count": 43
        }
      ]
    },
    {
      "cell_type": "code",
      "source": [
        "# Accumulated rain\n",
        "sum(daily_rain)"
      ],
      "metadata": {
        "colab": {
          "base_uri": "https://localhost:8080/"
        },
        "id": "ReXGnl5IVL4F",
        "outputId": "47990bff-833d-43b8-bb6f-d256d4fed105"
      },
      "execution_count": 44,
      "outputs": [
        {
          "output_type": "execute_result",
          "data": {
            "text/plain": [
              "746"
            ]
          },
          "metadata": {},
          "execution_count": 44
        }
      ]
    },
    {
      "cell_type": "code",
      "metadata": {
        "colab": {
          "base_uri": "https://localhost:8080/"
        },
        "id": "O-o9q72dloVW",
        "outputId": "8f5291ae-aa3e-47dc-dcb6-6dc27948dbb8"
      },
      "source": [
        "# Average rain\n",
        "sum(daily_rain)/len(daily_rain)"
      ],
      "execution_count": 27,
      "outputs": [
        {
          "output_type": "execute_result",
          "data": {
            "text/plain": [
              "24.06451612903226"
            ]
          },
          "metadata": {},
          "execution_count": 27
        }
      ]
    },
    {
      "cell_type": "code",
      "source": [
        "# number of days with rain\n",
        "sum(list(map(lambda x: 1 if daily_rain[x-1] > 0 else 0, day_of_month)))"
      ],
      "metadata": {
        "colab": {
          "base_uri": "https://localhost:8080/"
        },
        "id": "G02o1ed2VcVF",
        "outputId": "a36e8c11-fc90-4fe2-afc4-ba9428a0fb91"
      },
      "execution_count": 46,
      "outputs": [
        {
          "output_type": "execute_result",
          "data": {
            "text/plain": [
              "14"
            ]
          },
          "metadata": {},
          "execution_count": 46
        }
      ]
    },
    {
      "cell_type": "code",
      "metadata": {
        "colab": {
          "base_uri": "https://localhost:8080/",
          "height": 35
        },
        "id": "4NQO4CnIgog_",
        "outputId": "c4932c20-318f-4731-8443-39f29bb13915"
      },
      "source": [
        "sorted_day_of_month = day_of_month.copy()\n",
        "\n",
        "sorted_day_of_month.sort(key=lambda x: daily_rain[x-1], reverse=True)\n",
        "str(sorted_day_of_month)"
      ],
      "execution_count": 47,
      "outputs": [
        {
          "output_type": "execute_result",
          "data": {
            "text/plain": [
              "'[6, 4, 21, 19, 30, 24, 5, 10, 28, 12, 26, 3, 9, 15, 1, 2, 7, 8, 11, 13, 14, 16, 17, 18, 20, 22, 23, 25, 27, 29, 31]'"
            ],
            "application/vnd.google.colaboratory.intrinsic+json": {
              "type": "string"
            }
          },
          "metadata": {},
          "execution_count": 47
        }
      ]
    },
    {
      "cell_type": "markdown",
      "metadata": {
        "id": "oDdmrl1dAt8q"
      },
      "source": [
        "## Basic Types - part 2 "
      ]
    },
    {
      "cell_type": "markdown",
      "metadata": {
        "id": "IOk7-87Qjfbe"
      },
      "source": [
        "### Set\n"
      ]
    },
    {
      "cell_type": "markdown",
      "metadata": {
        "id": "AkVazK88i8FI"
      },
      "source": [
        "\n",
        "(from w3 schools http://https://www.w3schools.com/python/python_sets.asp) \n",
        "\n",
        "\n",
        "Sets are used to store multiple items in a single variable.\n",
        "\n",
        "Set is one of 4 built-in data types in Python used to store collections of data, the other 3 are List, Tuple, and Dictionary, all with different qualities and usage.\n",
        "\n",
        "A set is a collection which is unordered, unchangeable*, and unindexed"
      ]
    },
    {
      "cell_type": "code",
      "metadata": {
        "colab": {
          "base_uri": "https://localhost:8080/"
        },
        "id": "RkFzdcjBbsx7",
        "outputId": "37c3c074-5045-44ac-9a25-781676622a89"
      },
      "source": [
        "myset = {\"apple\", \"banana\", \"cherry\", \"banana\"}\n",
        "myset"
      ],
      "execution_count": 52,
      "outputs": [
        {
          "output_type": "execute_result",
          "data": {
            "text/plain": [
              "{'apple', 'banana', 'cherry'}"
            ]
          },
          "metadata": {},
          "execution_count": 52
        }
      ]
    },
    {
      "cell_type": "code",
      "metadata": {
        "id": "005zxsULhNO7"
      },
      "source": [
        "# UNORDERED\n",
        "# myset[0]"
      ],
      "execution_count": 53,
      "outputs": []
    },
    {
      "cell_type": "code",
      "metadata": {
        "id": "L1JCBl_jjeCn"
      },
      "source": [
        "# set?"
      ],
      "execution_count": 54,
      "outputs": []
    },
    {
      "cell_type": "code",
      "metadata": {
        "colab": {
          "base_uri": "https://localhost:8080/"
        },
        "id": "4SAWXDfJcZ9q",
        "outputId": "1ade8e76-18f9-44a6-ea8c-a23e6ea57d0d"
      },
      "source": [
        "myset2 = set(['banana', 'kiwi', 'pineapple'])\n",
        "myset2"
      ],
      "execution_count": 55,
      "outputs": [
        {
          "output_type": "execute_result",
          "data": {
            "text/plain": [
              "{'banana', 'kiwi', 'pineapple'}"
            ]
          },
          "metadata": {},
          "execution_count": 55
        }
      ]
    },
    {
      "cell_type": "code",
      "metadata": {
        "colab": {
          "base_uri": "https://localhost:8080/"
        },
        "id": "6ZCKd3aQcBHD",
        "outputId": "594e75df-dfe8-438f-ad94-f83214f0edf1"
      },
      "source": [
        "myset.union(myset2)"
      ],
      "execution_count": 56,
      "outputs": [
        {
          "output_type": "execute_result",
          "data": {
            "text/plain": [
              "{'apple', 'banana', 'cherry', 'kiwi', 'pineapple'}"
            ]
          },
          "metadata": {},
          "execution_count": 56
        }
      ]
    },
    {
      "cell_type": "code",
      "metadata": {
        "id": "Wu1NfwV5hcg8"
      },
      "source": [
        "myset3 = myset.difference(myset2)"
      ],
      "execution_count": 57,
      "outputs": []
    },
    {
      "cell_type": "code",
      "metadata": {
        "colab": {
          "base_uri": "https://localhost:8080/"
        },
        "id": "T8vgCHmFhccv",
        "outputId": "ef5cce5e-173c-4ecf-a375-0877a779d978"
      },
      "source": [
        "for item in myset3:\n",
        "    print(item)"
      ],
      "execution_count": 58,
      "outputs": [
        {
          "output_type": "stream",
          "name": "stdout",
          "text": [
            "apple\n",
            "cherry\n"
          ]
        }
      ]
    },
    {
      "cell_type": "code",
      "metadata": {
        "colab": {
          "base_uri": "https://localhost:8080/"
        },
        "id": "lOFuXMjmjlfu",
        "outputId": "2a2f0be5-d136-49c3-8991-3cf4f0bd39de"
      },
      "source": [
        "\"cherry\" in myset3"
      ],
      "execution_count": null,
      "outputs": [
        {
          "output_type": "execute_result",
          "data": {
            "text/plain": [
              "True"
            ]
          },
          "metadata": {},
          "execution_count": 20
        }
      ]
    },
    {
      "cell_type": "code",
      "metadata": {
        "id": "SleGAE7cbspE"
      },
      "source": [
        "# example: to determine what are the minimum necessary bands to run waterdetect\n",
        "# reference band = B3, clustering bands = B3, B8, B11, threshold bands = B8, B11\n",
        "# result = B3, B8, and B11"
      ],
      "execution_count": null,
      "outputs": []
    },
    {
      "cell_type": "code",
      "source": [
        "ref_band = {'B3'}\n",
        "clustering_bands = {'B3', 'B8', 'B11'}\n",
        "threshold_bands = {'B8', 'B11'}\n",
        "\n"
      ],
      "metadata": {
        "id": "gU-7qs_cW1iT"
      },
      "execution_count": 63,
      "outputs": []
    },
    {
      "cell_type": "code",
      "source": [
        "ref_band | clustering_bands | threshold_bands"
      ],
      "metadata": {
        "colab": {
          "base_uri": "https://localhost:8080/"
        },
        "id": "riMNZw2nW_da",
        "outputId": "dad6e1e5-e75d-4ac6-8bf7-f592ce05160c"
      },
      "execution_count": 64,
      "outputs": [
        {
          "output_type": "execute_result",
          "data": {
            "text/plain": [
              "{'B11', 'B3', 'B8'}"
            ]
          },
          "metadata": {},
          "execution_count": 64
        }
      ]
    },
    {
      "cell_type": "markdown",
      "metadata": {
        "id": "YU2R9ljBA8UK"
      },
      "source": [
        "### Tuples"
      ]
    },
    {
      "cell_type": "code",
      "metadata": {
        "id": "mR1M3kOnA-4x",
        "colab": {
          "base_uri": "https://localhost:8080/"
        },
        "outputId": "9caf22a7-5695-43c5-be01-0478741f90ca"
      },
      "source": [
        "t = (1, 2, 3, 4, 5)\n",
        "t"
      ],
      "execution_count": 65,
      "outputs": [
        {
          "output_type": "execute_result",
          "data": {
            "text/plain": [
              "(1, 2, 3, 4, 5)"
            ]
          },
          "metadata": {},
          "execution_count": 65
        }
      ]
    },
    {
      "cell_type": "code",
      "metadata": {
        "id": "W7BZTGrXBOFA"
      },
      "source": [
        "# tuples are imutable\n",
        "# t[0] = 0"
      ],
      "execution_count": 66,
      "outputs": []
    },
    {
      "cell_type": "code",
      "metadata": {
        "id": "9wYXtPOhFxsO"
      },
      "source": [
        "# t."
      ],
      "execution_count": 68,
      "outputs": []
    },
    {
      "cell_type": "code",
      "metadata": {
        "id": "ogkVT3psA-1G",
        "colab": {
          "base_uri": "https://localhost:8080/"
        },
        "outputId": "43d1e7a7-9490-48ff-b787-3851aeb9fee7"
      },
      "source": [
        "type(t)"
      ],
      "execution_count": 69,
      "outputs": [
        {
          "output_type": "execute_result",
          "data": {
            "text/plain": [
              "tuple"
            ]
          },
          "metadata": {},
          "execution_count": 69
        }
      ]
    },
    {
      "cell_type": "code",
      "metadata": {
        "id": "M-CPeTFYA-yI",
        "colab": {
          "base_uri": "https://localhost:8080/"
        },
        "outputId": "13685ec5-1fc3-432b-ef42-e92b051eb3a0"
      },
      "source": [
        "t[0:3]"
      ],
      "execution_count": 70,
      "outputs": [
        {
          "output_type": "execute_result",
          "data": {
            "text/plain": [
              "(1, 2, 3)"
            ]
          },
          "metadata": {},
          "execution_count": 70
        }
      ]
    },
    {
      "cell_type": "code",
      "metadata": {
        "id": "p9YiBRrbB-cQ",
        "colab": {
          "base_uri": "https://localhost:8080/"
        },
        "outputId": "effdc30c-eed2-4e90-98ef-e0814fb2203a"
      },
      "source": [
        "# values separated by comma are packed into tuples automatically\n",
        "# Packing\n",
        "x = 0\n",
        "y = 1\n",
        "a = x, y\n",
        "a"
      ],
      "execution_count": 72,
      "outputs": [
        {
          "output_type": "execute_result",
          "data": {
            "text/plain": [
              "(0, 1)"
            ]
          },
          "metadata": {},
          "execution_count": 72
        }
      ]
    },
    {
      "cell_type": "code",
      "metadata": {
        "id": "OpbxwwK1BOBp",
        "colab": {
          "base_uri": "https://localhost:8080/"
        },
        "outputId": "114b6777-7b0f-4640-fa70-34b54c5e46e1"
      },
      "source": [
        "# tuple unpacking\n",
        "(x, y) = a\n",
        "print(x)\n",
        "print(y)"
      ],
      "execution_count": 73,
      "outputs": [
        {
          "output_type": "stream",
          "name": "stdout",
          "text": [
            "0\n",
            "1\n"
          ]
        }
      ]
    },
    {
      "cell_type": "code",
      "metadata": {
        "id": "rEtAIQDyPB2g",
        "colab": {
          "base_uri": "https://localhost:8080/"
        },
        "outputId": "ba1e50bd-189e-42a8-c1b8-f62ad97a8633"
      },
      "source": [
        "# Some operations\n",
        "# tuple joining\n",
        "t + (a,b)"
      ],
      "execution_count": null,
      "outputs": [
        {
          "output_type": "execute_result",
          "data": {
            "text/plain": [
              "(1, 2, 3, 4, 5, 0, 1)"
            ]
          },
          "metadata": {},
          "execution_count": 30
        }
      ]
    },
    {
      "cell_type": "code",
      "metadata": {
        "id": "NiM3pN5IP1EI",
        "colab": {
          "base_uri": "https://localhost:8080/"
        },
        "outputId": "e38ece73-1c66-460e-f34d-18c2a605f455"
      },
      "source": [
        "# Multiplication? No repetition...\n",
        "t*2"
      ],
      "execution_count": null,
      "outputs": [
        {
          "output_type": "execute_result",
          "data": {
            "text/plain": [
              "(1, 2, 3, 4, 5, 1, 2, 3, 4, 5)"
            ]
          },
          "metadata": {},
          "execution_count": 31
        }
      ]
    },
    {
      "cell_type": "code",
      "metadata": {
        "id": "tX9aPnBMCgna",
        "outputId": "c0b88f32-abf6-46bf-cb77-4b2382fb3427",
        "colab": {
          "base_uri": "https://localhost:8080/"
        }
      },
      "source": [
        "# Unpacking now works with any iterable\n",
        "employee = [\"John\", \"40\", \"Software Engineer\"]\n",
        "name = employee[0]\n",
        "age = employee[1]\n",
        "job = employee[2]\n",
        "name, age, job"
      ],
      "execution_count": 74,
      "outputs": [
        {
          "output_type": "execute_result",
          "data": {
            "text/plain": [
              "('John', '40', 'Software Engineer')"
            ]
          },
          "metadata": {},
          "execution_count": 74
        }
      ]
    },
    {
      "cell_type": "code",
      "metadata": {
        "id": "W-bZl1xGE0NE",
        "outputId": "af30dd42-0638-4251-d116-749c6590f27e",
        "colab": {
          "base_uri": "https://localhost:8080/"
        }
      },
      "source": [
        "name, age, job = [\"John\", \"40\", \"Software Engineer\"]\n",
        "name, age, job"
      ],
      "execution_count": 75,
      "outputs": [
        {
          "output_type": "execute_result",
          "data": {
            "text/plain": [
              "('John', '40', 'Software Engineer')"
            ]
          },
          "metadata": {},
          "execution_count": 75
        }
      ]
    },
    {
      "cell_type": "code",
      "metadata": {
        "id": "4RW0gvjXHmy7",
        "outputId": "f1868b8f-dc9a-438d-a7f7-105fe53bb05e",
        "colab": {
          "base_uri": "https://localhost:8080/"
        }
      },
      "source": [
        "# it can Unpack ANYTHING Python can iterate on (Iterable)\n",
        "m, a, u, r, i, c, i2, o = \"Maurício\"\n",
        "m, a, u, r, i, c, i2, o"
      ],
      "execution_count": 76,
      "outputs": [
        {
          "output_type": "execute_result",
          "data": {
            "text/plain": [
              "('M', 'a', 'u', 'r', 'í', 'c', 'i', 'o')"
            ]
          },
          "metadata": {},
          "execution_count": 76
        }
      ]
    },
    {
      "cell_type": "markdown",
      "metadata": {
        "id": "cT05vK5hEbZk"
      },
      "source": [
        "<b>Note:</b> For more packing and unpacking examples, go to:<br>\n",
        "https://stackabuse.com/unpacking-in-python-beyond-parallel-assignment/#definingfunctionswithand"
      ]
    },
    {
      "cell_type": "markdown",
      "metadata": {
        "id": "nj5W2bfPGTlE"
      },
      "source": [
        "### List comprehension"
      ]
    },
    {
      "cell_type": "markdown",
      "metadata": {
        "id": "IOhMR3uOGc6f"
      },
      "source": [
        "List comprehension offers a shorter syntax when you want to create a new list based on any iterable. <br>\n",
        "[operation(X) for X in \"list\"] and each operation(X) will be an item of a new list"
      ]
    },
    {
      "cell_type": "code",
      "metadata": {
        "id": "6Z3dvDzOJHm9",
        "colab": {
          "base_uri": "https://localhost:8080/"
        },
        "outputId": "f644d490-8c94-4c8f-bc3c-2021a0c7fbc1"
      },
      "source": [
        "# Suppose we want the square of each item in this list, in a new list\n",
        "lst = [1, 2, 3, 4, 5]\n",
        "\n",
        "new_list = []\n",
        "for x in lst:\n",
        "    new_list.append(x**2)\n",
        "\n",
        "new_list"
      ],
      "execution_count": 80,
      "outputs": [
        {
          "output_type": "execute_result",
          "data": {
            "text/plain": [
              "[1, 4, 9, 16, 25]"
            ]
          },
          "metadata": {},
          "execution_count": 80
        }
      ]
    },
    {
      "cell_type": "code",
      "metadata": {
        "id": "I9kE0ihWJwbl",
        "colab": {
          "base_uri": "https://localhost:8080/"
        },
        "outputId": "11c64c89-e764-4cd7-8b16-feb9fad971fd"
      },
      "source": [
        "new_list = [x**2 for x in lst]\n",
        "new_list"
      ],
      "execution_count": 81,
      "outputs": [
        {
          "output_type": "execute_result",
          "data": {
            "text/plain": [
              "[1, 4, 9, 16, 25]"
            ]
          },
          "metadata": {},
          "execution_count": 81
        }
      ]
    },
    {
      "cell_type": "code",
      "metadata": {
        "colab": {
          "base_uri": "https://localhost:8080/"
        },
        "id": "Hhpx3qkYkEUd",
        "outputId": "b3ea4e02-a955-4ae5-ad87-6825d4a3630a"
      },
      "source": [
        "# unpacking inside a list comprehension\n",
        "# Suppose 3 students, with its ages:\n",
        "\n",
        "lst = [('A', 11), ('B', 9), ('C', 10)]\n",
        "lst"
      ],
      "execution_count": 82,
      "outputs": [
        {
          "output_type": "execute_result",
          "data": {
            "text/plain": [
              "[('A', 11), ('B', 9), ('C', 10)]"
            ]
          },
          "metadata": {},
          "execution_count": 82
        }
      ]
    },
    {
      "cell_type": "code",
      "metadata": {
        "colab": {
          "base_uri": "https://localhost:8080/",
          "height": 35
        },
        "id": "Zww4f3UokRFI",
        "outputId": "663aebbc-6318-4633-a3bc-b5c0d5378870"
      },
      "source": [
        "lst[1][0]"
      ],
      "execution_count": 83,
      "outputs": [
        {
          "output_type": "execute_result",
          "data": {
            "text/plain": [
              "'B'"
            ],
            "application/vnd.google.colaboratory.intrinsic+json": {
              "type": "string"
            }
          },
          "metadata": {},
          "execution_count": 83
        }
      ]
    },
    {
      "cell_type": "code",
      "metadata": {
        "id": "PgzMm54dGTDU",
        "colab": {
          "base_uri": "https://localhost:8080/"
        },
        "outputId": "c7ebe8a4-42ec-4879-f0a0-7c487e2e13e3"
      },
      "source": [
        "# create a lst like:\n",
        "# students = ['Student A has 11 years', 'Student B has 9 years', 'Student C has 10 years']\n",
        "students = []\n",
        "for student, age in lst:\n",
        "    s = \"Student \" + str(student) + \" has \" + str(age) + \" years\"\n",
        "    students.append(s)\n",
        "\n",
        "students"
      ],
      "execution_count": 84,
      "outputs": [
        {
          "output_type": "execute_result",
          "data": {
            "text/plain": [
              "['Student A has 11 years', 'Student B has 9 years', 'Student C has 10 years']"
            ]
          },
          "metadata": {},
          "execution_count": 84
        }
      ]
    },
    {
      "cell_type": "code",
      "metadata": {
        "id": "gR0u3ZsQG-rS",
        "colab": {
          "base_uri": "https://localhost:8080/"
        },
        "outputId": "aecc9f96-10e7-4b55-c8d6-17d491ae0174"
      },
      "source": [
        "# in a more concise way\n",
        "students = [f\"Student {student} is {age} years old\" for student, age in lst]\n",
        "students"
      ],
      "execution_count": 85,
      "outputs": [
        {
          "output_type": "execute_result",
          "data": {
            "text/plain": [
              "['Student A is 11 years old',\n",
              " 'Student B is 9 years old',\n",
              " 'Student C is 10 years old']"
            ]
          },
          "metadata": {},
          "execution_count": 85
        }
      ]
    },
    {
      "cell_type": "markdown",
      "metadata": {
        "id": "LdU4ssmaEar4"
      },
      "source": [
        "### Dictionaries\n",
        "Similar to lists, but with a key to identify each item<br>\n",
        "{key: value, key: value, key:value, ....}<br>\n",
        "Keys are imutables <br>\n",
        "<b>Note:</b> As of Python version 3.7, dictionaries are ordered. In Python 3.6 and earlier, dictionaries are unordered.\n",
        "\n",
        "\n",
        "\n",
        "\n"
      ]
    },
    {
      "cell_type": "code",
      "metadata": {
        "id": "ljXEj8TaV1fN",
        "colab": {
          "base_uri": "https://localhost:8080/"
        },
        "outputId": "94095f2f-6bb2-4f96-99c7-8776306cbb58"
      },
      "source": [
        "# if we received the structure proposed before, how could we get the age of student named C\n",
        "lst"
      ],
      "execution_count": 88,
      "outputs": [
        {
          "output_type": "execute_result",
          "data": {
            "text/plain": [
              "[('A', 11), ('B', 9), ('C', 10)]"
            ]
          },
          "metadata": {},
          "execution_count": 88
        }
      ]
    },
    {
      "cell_type": "code",
      "source": [
        "# solution: go through the list, check the first item of the tuple, if it is C, get the second item of the tuple...\n",
        "desired_student = 'A'\n",
        "\n",
        "for student in lst:\n",
        "    if student[0] == desired_student:   \n",
        "        print(f'Student {desired_student} has {student[1]} years old')"
      ],
      "metadata": {
        "colab": {
          "base_uri": "https://localhost:8080/"
        },
        "id": "36lZcCisbBIp",
        "outputId": "d93d985c-b65f-4b76-fde1-1bb3e23ed5fe"
      },
      "execution_count": 89,
      "outputs": [
        {
          "output_type": "stream",
          "name": "stdout",
          "text": [
            "Student A has 11 years old\n"
          ]
        }
      ]
    },
    {
      "cell_type": "code",
      "metadata": {
        "id": "SPPttmCAV1b7",
        "colab": {
          "base_uri": "https://localhost:8080/"
        },
        "outputId": "24d7f367-0b41-4f91-d514-2e8eecc2c512"
      },
      "source": [
        "# if data had been passed by 2 lists... we needed to use the common index to locate the age\n",
        "names = ['A', 'B', 'C']\n",
        "ages = [11, 9, 10]\n",
        "\n",
        "desired_student = 'C'\n",
        "\n",
        "idx = names.index(desired_student)\n",
        "print(ages[idx])"
      ],
      "execution_count": 91,
      "outputs": [
        {
          "output_type": "stream",
          "name": "stdout",
          "text": [
            "10\n"
          ]
        }
      ]
    },
    {
      "cell_type": "code",
      "metadata": {
        "id": "xQAseaC4V1Pt",
        "colab": {
          "base_uri": "https://localhost:8080/"
        },
        "outputId": "84fbb1e1-50ad-46d2-d160-8d9d917e287d"
      },
      "source": [
        "# using dictionaries\n",
        "students = {'A': 11, 'B': 9, 'C': 10}\n",
        "students"
      ],
      "execution_count": null,
      "outputs": [
        {
          "output_type": "execute_result",
          "data": {
            "text/plain": [
              "{'A': 11, 'B': 9, 'C': 10}"
            ]
          },
          "metadata": {},
          "execution_count": 43
        }
      ]
    },
    {
      "cell_type": "code",
      "metadata": {
        "colab": {
          "base_uri": "https://localhost:8080/"
        },
        "id": "JOn_fErFk-EU",
        "outputId": "ef934c25-1c65-47c4-81f8-bc6d3a83e2d2"
      },
      "source": [
        "students['C']"
      ],
      "execution_count": null,
      "outputs": [
        {
          "output_type": "execute_result",
          "data": {
            "text/plain": [
              "10"
            ]
          },
          "metadata": {},
          "execution_count": 44
        }
      ]
    },
    {
      "cell_type": "code",
      "metadata": {
        "id": "kCGDvR7ZXiq-",
        "colab": {
          "base_uri": "https://localhost:8080/"
        },
        "outputId": "3cc659a5-db3d-4e77-e2ee-6169cc168a8e"
      },
      "source": [
        "# nothing prevent us to create inner dictionaries:\n",
        "students = {\n",
        "    'A': {'age': 11, 'Height': 145},\n",
        "    'B': {'age': 9, 'Height': 144.2},\n",
        "    'C': {'age': 10, 'Height': 147},\n",
        "}\n",
        "\n",
        "desired_student = 'C'\n",
        "students[desired_student]"
      ],
      "execution_count": 92,
      "outputs": [
        {
          "output_type": "execute_result",
          "data": {
            "text/plain": [
              "{'age': 10, 'Height': 147}"
            ]
          },
          "metadata": {},
          "execution_count": 92
        }
      ]
    },
    {
      "cell_type": "code",
      "metadata": {
        "id": "Y1O4K8ykYtRj",
        "colab": {
          "base_uri": "https://localhost:8080/"
        },
        "outputId": "b395d21d-910b-4ed9-ca9e-2816e3b91943"
      },
      "source": [
        "students[desired_student]['age']"
      ],
      "execution_count": 93,
      "outputs": [
        {
          "output_type": "execute_result",
          "data": {
            "text/plain": [
              "10"
            ]
          },
          "metadata": {},
          "execution_count": 93
        }
      ]
    },
    {
      "cell_type": "code",
      "metadata": {
        "id": "oZlPTKw8X6PT",
        "colab": {
          "base_uri": "https://localhost:8080/"
        },
        "outputId": "c3015cdf-b831-4467-e197-8ed4aead4b32"
      },
      "source": [
        "desired_student = 'B'\n",
        "print(f\"Student {desired_student} has {students[desired_student]['age']} and measures {students[desired_student]['Height']}\")"
      ],
      "execution_count": null,
      "outputs": [
        {
          "output_type": "stream",
          "name": "stdout",
          "text": [
            "Student B has 9 and measures 144.2\n"
          ]
        }
      ]
    },
    {
      "cell_type": "code",
      "source": [
        "# Dictionaries have 'keys' and 'values'\n",
        "\n",
        "print(students.keys())\n",
        "print(students.values())"
      ],
      "metadata": {
        "colab": {
          "base_uri": "https://localhost:8080/"
        },
        "id": "RYjXh29fdctd",
        "outputId": "5ec54db0-df4b-478d-ad2c-59e42b7fc23e"
      },
      "execution_count": 115,
      "outputs": [
        {
          "output_type": "stream",
          "name": "stdout",
          "text": [
            "dict_keys(['A', 'B', 'C'])\n",
            "dict_values([{'age': 11, 'Height': 145}, {'age': 9, 'Height': 144.2}, {'age': 10, 'Height': 147}])\n"
          ]
        }
      ]
    },
    {
      "cell_type": "markdown",
      "metadata": {
        "id": "r9JvYOMyXh6d"
      },
      "source": [
        "Back to our hydrological example"
      ]
    },
    {
      "cell_type": "code",
      "metadata": {
        "id": "TsBZr_gF-ZQH",
        "colab": {
          "base_uri": "https://localhost:8080/"
        },
        "outputId": "beb469a4-6346-4eb0-90dd-291b43f4d772"
      },
      "source": [
        "str(day_of_month), str(daily_rain)"
      ],
      "execution_count": 94,
      "outputs": [
        {
          "output_type": "execute_result",
          "data": {
            "text/plain": [
              "('[1, 2, 3, 4, 5, 6, 7, 8, 9, 10, 11, 12, 13, 14, 15, 16, 17, 18, 19, 20, 21, 22, 23, 24, 25, 26, 27, 28, 29, 30, 31]',\n",
              " '[0, 0, 15, 97, 60, 100, 0, 0, 3, 55, 0, 34, 0, 0, 3, 0, 0, 0, 87, 0, 92, 0, 0, 63, 0, 29, 0, 37, 0, 71, 0]')"
            ]
          },
          "metadata": {},
          "execution_count": 94
        }
      ]
    },
    {
      "cell_type": "code",
      "metadata": {
        "id": "f0Zelq4Hyer5",
        "outputId": "7e84f5e4-d2a7-4f44-e51e-304fb91d8d38",
        "colab": {
          "base_uri": "https://localhost:8080/"
        }
      },
      "source": [
        "# what happened on day X \n",
        "day = 15\n",
        "daily_rain[15-1]"
      ],
      "execution_count": 95,
      "outputs": [
        {
          "output_type": "execute_result",
          "data": {
            "text/plain": [
              "3"
            ]
          },
          "metadata": {},
          "execution_count": 95
        }
      ]
    },
    {
      "cell_type": "code",
      "metadata": {
        "id": "FeeTveh2zPkU",
        "outputId": "5b7e8688-f958-4f38-e310-e952aef41702",
        "colab": {
          "base_uri": "https://localhost:8080/"
        }
      },
      "source": [
        "rain_dict = {day: rain for day, rain in zip(day_of_month, daily_rain)}\n",
        "rain_dict"
      ],
      "execution_count": 96,
      "outputs": [
        {
          "output_type": "execute_result",
          "data": {
            "text/plain": [
              "{1: 0,\n",
              " 2: 0,\n",
              " 3: 15,\n",
              " 4: 97,\n",
              " 5: 60,\n",
              " 6: 100,\n",
              " 7: 0,\n",
              " 8: 0,\n",
              " 9: 3,\n",
              " 10: 55,\n",
              " 11: 0,\n",
              " 12: 34,\n",
              " 13: 0,\n",
              " 14: 0,\n",
              " 15: 3,\n",
              " 16: 0,\n",
              " 17: 0,\n",
              " 18: 0,\n",
              " 19: 87,\n",
              " 20: 0,\n",
              " 21: 92,\n",
              " 22: 0,\n",
              " 23: 0,\n",
              " 24: 63,\n",
              " 25: 0,\n",
              " 26: 29,\n",
              " 27: 0,\n",
              " 28: 37,\n",
              " 29: 0,\n",
              " 30: 71,\n",
              " 31: 0}"
            ]
          },
          "metadata": {},
          "execution_count": 96
        }
      ]
    },
    {
      "cell_type": "code",
      "metadata": {
        "id": "R0oM5Uv-ziE7",
        "outputId": "f6e6604d-e924-419f-d11a-d8209cb6c55e",
        "colab": {
          "base_uri": "https://localhost:8080/"
        }
      },
      "source": [
        "rain_dict[6]"
      ],
      "execution_count": 98,
      "outputs": [
        {
          "output_type": "execute_result",
          "data": {
            "text/plain": [
              "100"
            ]
          },
          "metadata": {},
          "execution_count": 98
        }
      ]
    },
    {
      "cell_type": "code",
      "source": [
        "max(rain_dict.values())"
      ],
      "metadata": {
        "colab": {
          "base_uri": "https://localhost:8080/"
        },
        "id": "hWdbbQOidR0D",
        "outputId": "aa646e65-55ff-46d2-9f6e-0b6929fcb61b"
      },
      "execution_count": 113,
      "outputs": [
        {
          "output_type": "execute_result",
          "data": {
            "text/plain": [
              "100"
            ]
          },
          "metadata": {},
          "execution_count": 113
        }
      ]
    },
    {
      "cell_type": "markdown",
      "source": [
        "## Exercise\n"
      ],
      "metadata": {
        "id": "B2lS_LFuePy2"
      }
    },
    {
      "cell_type": "markdown",
      "source": [
        "Answer these questions:\n",
        "* number of days with rain\n",
        "* day of the maximum rain and day of the minimum (non-zero) rain\n",
        "* total rain\n",
        "* mean rain\n",
        "* <b>Challenge:</b> order the <b>days</b> according to the rain precipitation. Descending order (from highest to lowest). Ex: [12, 7, ...]"
      ],
      "metadata": {
        "id": "PCUKC4FNd1GZ"
      }
    }
  ]
}