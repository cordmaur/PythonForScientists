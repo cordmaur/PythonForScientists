{
  "nbformat": 4,
  "nbformat_minor": 0,
  "metadata": {
    "colab": {
      "provenance": [],
      "toc_visible": true
    },
    "kernelspec": {
      "name": "python3",
      "display_name": "Python 3"
    },
    "language_info": {
      "name": "python"
    }
  },
  "cells": [
    {
      "cell_type": "markdown",
      "metadata": {
        "id": "jHgaiX0MablB"
      },
      "source": [
        "# Introduction to Python for Scientists - Lesson 4\n",
        "\n"
      ]
    },
    {
      "cell_type": "markdown",
      "metadata": {
        "id": "LdU4ssmaEar4"
      },
      "source": [
        "### Dictionaries\n",
        "Similar to lists, but with a key to identify each item<br>\n",
        "{key: value, key: value, key:value, ....}<br>\n",
        "Keys are imutables <br>\n",
        "<b>Note:</b> As of Python version 3.7, dictionaries are ordered. In Python 3.6 and earlier, dictionaries are unordered.\n",
        "\n",
        "\n",
        "\n",
        "\n"
      ]
    },
    {
      "cell_type": "code",
      "metadata": {
        "id": "ljXEj8TaV1fN",
        "colab": {
          "base_uri": "https://localhost:8080/"
        },
        "outputId": "c55641c2-da39-4e97-a531-a0df18dd68b2"
      },
      "source": [
        "# Students ages as list/tuples: how could we get the age of student named C\n",
        "lst = [('A', 11), ('B', 9), ('C', 10)]\n",
        "lst"
      ],
      "execution_count": 80,
      "outputs": [
        {
          "output_type": "execute_result",
          "data": {
            "text/plain": [
              "[('A', 11), ('B', 9), ('C', 10)]"
            ]
          },
          "metadata": {},
          "execution_count": 80
        }
      ]
    },
    {
      "cell_type": "code",
      "source": [
        "lst[0][1]"
      ],
      "metadata": {
        "colab": {
          "base_uri": "https://localhost:8080/"
        },
        "id": "zGt_j95vJ7j5",
        "outputId": "e6a54b3e-2862-4e75-eb66-6eebfde7194c"
      },
      "execution_count": 82,
      "outputs": [
        {
          "output_type": "execute_result",
          "data": {
            "text/plain": [
              "11"
            ]
          },
          "metadata": {},
          "execution_count": 82
        }
      ]
    },
    {
      "cell_type": "code",
      "source": [],
      "metadata": {
        "id": "SxBoPvWqJ7hZ"
      },
      "execution_count": null,
      "outputs": []
    },
    {
      "cell_type": "code",
      "source": [],
      "metadata": {
        "id": "7_J-ADxdJ7fH"
      },
      "execution_count": null,
      "outputs": []
    },
    {
      "cell_type": "code",
      "source": [],
      "metadata": {
        "id": "KdkmbcugJxkD"
      },
      "execution_count": null,
      "outputs": []
    },
    {
      "cell_type": "code",
      "source": [],
      "metadata": {
        "id": "QWEdd3UTJxYm"
      },
      "execution_count": null,
      "outputs": []
    },
    {
      "cell_type": "code",
      "source": [
        "# solution: go through the list, check the first item of the tuple, if it is C, get the second item of the tuple...\n",
        "desired_student = 'B'\n",
        "\n",
        "for student in lst:\n",
        "    # student[0] é o nome\n",
        "    if student[0] == desired_student:   \n",
        "        print(f'Student {desired_student} has {student[1]} years old')"
      ],
      "metadata": {
        "colab": {
          "base_uri": "https://localhost:8080/"
        },
        "id": "36lZcCisbBIp",
        "outputId": "57f829ca-54a6-4152-d72f-d9048cdd675d"
      },
      "execution_count": 83,
      "outputs": [
        {
          "output_type": "stream",
          "name": "stdout",
          "text": [
            "Student B has 9 years old\n"
          ]
        }
      ]
    },
    {
      "cell_type": "code",
      "source": [],
      "metadata": {
        "id": "xCcJzICQKaN_"
      },
      "execution_count": null,
      "outputs": []
    },
    {
      "cell_type": "code",
      "metadata": {
        "id": "SPPttmCAV1b7",
        "colab": {
          "base_uri": "https://localhost:8080/"
        },
        "outputId": "2a3730d0-09d8-4af4-dadb-87b5d624d509"
      },
      "source": [
        "# if data had been passed by 2 lists... we needed to use the common index to locate the age\n",
        "names = ['A', 'B', 'C']\n",
        "ages = [11, 9, 10]\n",
        "\n",
        "desired_student = 'C'\n",
        "\n",
        "idx = names.index(desired_student)\n",
        "print(ages[idx])"
      ],
      "execution_count": 85,
      "outputs": [
        {
          "output_type": "stream",
          "name": "stdout",
          "text": [
            "10\n"
          ]
        }
      ]
    },
    {
      "cell_type": "code",
      "source": [],
      "metadata": {
        "id": "J-S6T99vKfdp"
      },
      "execution_count": null,
      "outputs": []
    },
    {
      "cell_type": "code",
      "source": [],
      "metadata": {
        "id": "liuRBKjgKgbj"
      },
      "execution_count": null,
      "outputs": []
    },
    {
      "cell_type": "code",
      "metadata": {
        "id": "xQAseaC4V1Pt",
        "colab": {
          "base_uri": "https://localhost:8080/"
        },
        "outputId": "d074776c-db79-4c2a-e4f1-a21485bf1b4e"
      },
      "source": [
        "# using dictionaries\n",
        "students = {'A': 11, 'B': 9, 'C': 10}\n",
        "students"
      ],
      "execution_count": 86,
      "outputs": [
        {
          "output_type": "execute_result",
          "data": {
            "text/plain": [
              "{'A': 11, 'B': 9, 'C': 10}"
            ]
          },
          "metadata": {},
          "execution_count": 86
        }
      ]
    },
    {
      "cell_type": "code",
      "metadata": {
        "colab": {
          "base_uri": "https://localhost:8080/"
        },
        "id": "JOn_fErFk-EU",
        "outputId": "2cecb2e3-2fca-498b-a065-abf628465f8a"
      },
      "source": [
        "students['C']"
      ],
      "execution_count": 88,
      "outputs": [
        {
          "output_type": "execute_result",
          "data": {
            "text/plain": [
              "10"
            ]
          },
          "metadata": {},
          "execution_count": 88
        }
      ]
    },
    {
      "cell_type": "code",
      "source": [
        "students['A']"
      ],
      "metadata": {
        "colab": {
          "base_uri": "https://localhost:8080/"
        },
        "id": "ijsU6_TeKrSN",
        "outputId": "c749c02b-5d4e-4a85-e220-5583afbac513"
      },
      "execution_count": 89,
      "outputs": [
        {
          "output_type": "execute_result",
          "data": {
            "text/plain": [
              "11"
            ]
          },
          "metadata": {},
          "execution_count": 89
        }
      ]
    },
    {
      "cell_type": "code",
      "source": [],
      "metadata": {
        "id": "8Vp3NceSKrP_"
      },
      "execution_count": null,
      "outputs": []
    },
    {
      "cell_type": "code",
      "source": [],
      "metadata": {
        "id": "aQa9eFtjKrNr"
      },
      "execution_count": null,
      "outputs": []
    },
    {
      "cell_type": "code",
      "source": [],
      "metadata": {
        "id": "bXN8vg0bKrLB"
      },
      "execution_count": null,
      "outputs": []
    },
    {
      "cell_type": "code",
      "metadata": {
        "id": "kCGDvR7ZXiq-",
        "colab": {
          "base_uri": "https://localhost:8080/"
        },
        "outputId": "c887ccc2-b3e7-4680-8e49-e24920b88a8d"
      },
      "source": [
        "# nothing prevent us to create inner dictionaries:\n",
        "students = {\n",
        "    'A': {'age': 11, 'Height': 145},\n",
        "    'B': {'age': 9, 'Height': 144.2},\n",
        "    'C': {'age': 10, 'Height': 147},\n",
        "}\n",
        "\n",
        "desired_student = 'C'\n",
        "students[desired_student]"
      ],
      "execution_count": 90,
      "outputs": [
        {
          "output_type": "execute_result",
          "data": {
            "text/plain": [
              "{'age': 10, 'Height': 147}"
            ]
          },
          "metadata": {},
          "execution_count": 90
        }
      ]
    },
    {
      "cell_type": "code",
      "metadata": {
        "id": "Y1O4K8ykYtRj",
        "colab": {
          "base_uri": "https://localhost:8080/"
        },
        "outputId": "1c3b5b11-8861-47f3-b538-7c7cda4ebc27"
      },
      "source": [
        "students[desired_student]['Height']"
      ],
      "execution_count": 92,
      "outputs": [
        {
          "output_type": "execute_result",
          "data": {
            "text/plain": [
              "147"
            ]
          },
          "metadata": {},
          "execution_count": 92
        }
      ]
    },
    {
      "cell_type": "code",
      "source": [],
      "metadata": {
        "id": "a2AXCkZjLK5m"
      },
      "execution_count": null,
      "outputs": []
    },
    {
      "cell_type": "code",
      "source": [],
      "metadata": {
        "id": "ZKfTjXmdLK3A"
      },
      "execution_count": null,
      "outputs": []
    },
    {
      "cell_type": "code",
      "source": [],
      "metadata": {
        "id": "8ZD3K7W-LK0v"
      },
      "execution_count": null,
      "outputs": []
    },
    {
      "cell_type": "code",
      "source": [],
      "metadata": {
        "id": "t3GlOOizLKyf"
      },
      "execution_count": null,
      "outputs": []
    },
    {
      "cell_type": "code",
      "source": [],
      "metadata": {
        "id": "J9TRDN7aLKwA"
      },
      "execution_count": null,
      "outputs": []
    },
    {
      "cell_type": "code",
      "metadata": {
        "id": "oZlPTKw8X6PT"
      },
      "source": [
        "desired_student = 'B'\n",
        "print(f\"Student {desired_student} has {students[desired_student]['age']} and measures {students[desired_student]['Height']}\")"
      ],
      "execution_count": null,
      "outputs": []
    },
    {
      "cell_type": "code",
      "source": [
        "students"
      ],
      "metadata": {
        "colab": {
          "base_uri": "https://localhost:8080/"
        },
        "id": "3TncAvPiLXRo",
        "outputId": "1849e28a-1b11-409e-c615-26985ad3a6fc"
      },
      "execution_count": 94,
      "outputs": [
        {
          "output_type": "execute_result",
          "data": {
            "text/plain": [
              "{'A': {'age': 11, 'Height': 145},\n",
              " 'B': {'age': 9, 'Height': 144.2},\n",
              " 'C': {'age': 10, 'Height': 147}}"
            ]
          },
          "metadata": {},
          "execution_count": 94
        }
      ]
    },
    {
      "cell_type": "code",
      "source": [
        "# Dictionaries have 'keys' and 'values'\n",
        "\n",
        "print(students.keys())\n",
        "print(students.values())"
      ],
      "metadata": {
        "colab": {
          "base_uri": "https://localhost:8080/"
        },
        "id": "RYjXh29fdctd",
        "outputId": "b237473f-10c2-4424-a029-c0a76d403428"
      },
      "execution_count": 93,
      "outputs": [
        {
          "output_type": "stream",
          "name": "stdout",
          "text": [
            "dict_keys(['A', 'B', 'C'])\n",
            "dict_values([{'age': 11, 'Height': 145}, {'age': 9, 'Height': 144.2}, {'age': 10, 'Height': 147}])\n"
          ]
        }
      ]
    },
    {
      "cell_type": "code",
      "source": [
        "students['Jeanne'] = 'Estagiária da ANA/SOE'"
      ],
      "metadata": {
        "id": "T5kGIDjWLXld"
      },
      "execution_count": 97,
      "outputs": []
    },
    {
      "cell_type": "code",
      "source": [
        "students"
      ],
      "metadata": {
        "colab": {
          "base_uri": "https://localhost:8080/"
        },
        "id": "PaN2kL91LYL-",
        "outputId": "59ba8822-8bab-4e84-bbf6-421f97eea033"
      },
      "execution_count": 98,
      "outputs": [
        {
          "output_type": "execute_result",
          "data": {
            "text/plain": [
              "{'A': {'age': 11, 'Height': 145},\n",
              " 'B': {'age': 9, 'Height': 144.2},\n",
              " 'C': {'age': 10, 'Height': 147},\n",
              " 'Jeanne': 'Estagiária da ANA/SOE'}"
            ]
          },
          "metadata": {},
          "execution_count": 98
        }
      ]
    },
    {
      "cell_type": "code",
      "source": [
        "students.update({'D': 'outro aluno'})"
      ],
      "metadata": {
        "id": "E9E2cgNSLtrD"
      },
      "execution_count": 99,
      "outputs": []
    },
    {
      "cell_type": "code",
      "source": [
        "students"
      ],
      "metadata": {
        "colab": {
          "base_uri": "https://localhost:8080/"
        },
        "id": "lEo1GxRoLtkt",
        "outputId": "dfd9219c-83dc-478d-cedc-37b09fadc6b5"
      },
      "execution_count": 102,
      "outputs": [
        {
          "output_type": "execute_result",
          "data": {
            "text/plain": [
              "{'A': {'age': 11, 'Height': 145},\n",
              " 'B': {'age': 9, 'Height': 144.2},\n",
              " 'C': {'age': 10, 'Height': 147},\n",
              " 'Jeanne': 'Estagiária da ANA/SOE'}"
            ]
          },
          "metadata": {},
          "execution_count": 102
        }
      ]
    },
    {
      "cell_type": "code",
      "source": [
        "del students['D']"
      ],
      "metadata": {
        "id": "0VlhpQGpLtiQ"
      },
      "execution_count": 101,
      "outputs": []
    },
    {
      "cell_type": "code",
      "source": [
        "students.pop('Jeanne')"
      ],
      "metadata": {
        "colab": {
          "base_uri": "https://localhost:8080/",
          "height": 35
        },
        "id": "H3JtE13DLYJp",
        "outputId": "6b288d92-355f-4f84-8f62-455e6edd6db5"
      },
      "execution_count": 103,
      "outputs": [
        {
          "output_type": "execute_result",
          "data": {
            "text/plain": [
              "'Estagiária da ANA/SOE'"
            ],
            "application/vnd.google.colaboratory.intrinsic+json": {
              "type": "string"
            }
          },
          "metadata": {},
          "execution_count": 103
        }
      ]
    },
    {
      "cell_type": "code",
      "source": [
        "for student in lst:\n",
        "    print(student)"
      ],
      "metadata": {
        "colab": {
          "base_uri": "https://localhost:8080/"
        },
        "id": "CK2TRWZoMnhF",
        "outputId": "2b0a782b-cd49-4f8d-8327-e417766cbf54"
      },
      "execution_count": 106,
      "outputs": [
        {
          "output_type": "stream",
          "name": "stdout",
          "text": [
            "('A', 11)\n",
            "('B', 9)\n",
            "('C', 10)\n"
          ]
        }
      ]
    },
    {
      "cell_type": "code",
      "source": [
        "for x in students:\n",
        "    print(x, students[x])"
      ],
      "metadata": {
        "colab": {
          "base_uri": "https://localhost:8080/"
        },
        "id": "NbftjCYqMvDX",
        "outputId": "3dadd272-ec3e-4367-e416-a607c721752e"
      },
      "execution_count": 108,
      "outputs": [
        {
          "output_type": "stream",
          "name": "stdout",
          "text": [
            "A {'age': 11, 'Height': 145}\n",
            "B {'age': 9, 'Height': 144.2}\n",
            "C {'age': 10, 'Height': 147}\n"
          ]
        }
      ]
    },
    {
      "cell_type": "code",
      "source": [
        "for student_name in students.keys():\n",
        "    print(student_name)"
      ],
      "metadata": {
        "colab": {
          "base_uri": "https://localhost:8080/"
        },
        "id": "gqeZK8MlMvAa",
        "outputId": "e5069432-8008-4f2d-e0cd-34a2f91701ea"
      },
      "execution_count": 109,
      "outputs": [
        {
          "output_type": "stream",
          "name": "stdout",
          "text": [
            "A\n",
            "B\n",
            "C\n"
          ]
        }
      ]
    },
    {
      "cell_type": "code",
      "source": [
        "for student_values in students.values():\n",
        "    print(student_values)"
      ],
      "metadata": {
        "colab": {
          "base_uri": "https://localhost:8080/"
        },
        "id": "bNYifII6MneW",
        "outputId": "1b4ecf8c-604d-438e-891d-bca70e30ff62"
      },
      "execution_count": 111,
      "outputs": [
        {
          "output_type": "stream",
          "name": "stdout",
          "text": [
            "{'age': 11, 'Height': 145}\n",
            "{'age': 9, 'Height': 144.2}\n",
            "{'age': 10, 'Height': 147}\n"
          ]
        }
      ]
    },
    {
      "cell_type": "code",
      "source": [
        "for name, value in students.items():\n",
        "    print(name, value)"
      ],
      "metadata": {
        "colab": {
          "base_uri": "https://localhost:8080/"
        },
        "id": "180XSUihMnbv",
        "outputId": "e8c7cf62-780e-47f7-d5bb-1b3ec68e7910"
      },
      "execution_count": 112,
      "outputs": [
        {
          "output_type": "stream",
          "name": "stdout",
          "text": [
            "A {'age': 11, 'Height': 145}\n",
            "B {'age': 9, 'Height': 144.2}\n",
            "C {'age': 10, 'Height': 147}\n"
          ]
        }
      ]
    },
    {
      "cell_type": "code",
      "source": [],
      "metadata": {
        "id": "3SZML-MSMcyS"
      },
      "execution_count": null,
      "outputs": []
    },
    {
      "cell_type": "markdown",
      "source": [
        "## Dictionary Comprehension"
      ],
      "metadata": {
        "id": "j_slWjHtu9rA"
      }
    },
    {
      "cell_type": "markdown",
      "metadata": {
        "id": "r9JvYOMyXh6d"
      },
      "source": [
        "Back to our hydrological example"
      ]
    },
    {
      "cell_type": "code",
      "source": [
        "import random\n",
        "\n",
        "# create the days and daily rain\n",
        "# Fix the random seed \n",
        "random.seed(1)\n",
        "\n",
        "daily_rain = []\n",
        "day_of_month = []\n",
        "\n",
        "for i in range(1, 32, 1):\n",
        "    day_of_month.append(i)\n",
        "    rainy = random.randint(0, 1)\n",
        "    if rainy == 1:\n",
        "        daily_rain.append(random.randint(0, 100))\n",
        "    else:\n",
        "        daily_rain.append(0)\n",
        "    \n"
      ],
      "metadata": {
        "id": "mG5uYm3tkkcw"
      },
      "execution_count": 120,
      "outputs": []
    },
    {
      "cell_type": "code",
      "source": [],
      "metadata": {
        "id": "8_wIImY0N7HH"
      },
      "execution_count": null,
      "outputs": []
    },
    {
      "cell_type": "code",
      "source": [],
      "metadata": {
        "id": "aKBnz5uqN7Ez"
      },
      "execution_count": null,
      "outputs": []
    },
    {
      "cell_type": "code",
      "source": [],
      "metadata": {
        "id": "Y1tM7MzpN7CV"
      },
      "execution_count": null,
      "outputs": []
    },
    {
      "cell_type": "code",
      "source": [
        "daily_rain[2]"
      ],
      "metadata": {
        "colab": {
          "base_uri": "https://localhost:8080/"
        },
        "id": "5rUchRHlN7AE",
        "outputId": "f0017ce0-1c6e-4c70-bf9b-2cdb33b14a30"
      },
      "execution_count": 116,
      "outputs": [
        {
          "output_type": "execute_result",
          "data": {
            "text/plain": [
              "100"
            ]
          },
          "metadata": {},
          "execution_count": 116
        }
      ]
    },
    {
      "cell_type": "code",
      "source": [
        "str(day_of_month), str(daily_rain)"
      ],
      "metadata": {
        "colab": {
          "base_uri": "https://localhost:8080/"
        },
        "id": "fRH4Wgp2usRq",
        "outputId": "824a8ae3-a737-4f3a-beca-4efec4ee397b"
      },
      "execution_count": 114,
      "outputs": [
        {
          "output_type": "execute_result",
          "data": {
            "text/plain": [
              "('[1, 2, 3, 4, 5, 6, 7, 8, 9, 10, 11, 12, 13, 14, 15, 16, 17, 18, 19, 20, 21, 22, 23, 24, 25, 26, 27, 28, 29, 30, 31]',\n",
              " '[0, 0, 15, 97, 60, 100, 0, 0, 3, 55, 0, 34, 0, 0, 3, 0, 0, 0, 87, 0, 92, 0, 0, 63, 0, 29, 0, 37, 0, 71, 0]')"
            ]
          },
          "metadata": {},
          "execution_count": 114
        }
      ]
    },
    {
      "cell_type": "code",
      "source": [
        "{i+1: rain for i, rain in enumerate(daily_rain)}"
      ],
      "metadata": {
        "colab": {
          "base_uri": "https://localhost:8080/"
        },
        "id": "R9MpYux2OLt2",
        "outputId": "14a5b7ab-a4fd-4b8b-db25-5e791157a73d"
      },
      "execution_count": 123,
      "outputs": [
        {
          "output_type": "execute_result",
          "data": {
            "text/plain": [
              "{1: 0,\n",
              " 2: 0,\n",
              " 3: 15,\n",
              " 4: 97,\n",
              " 5: 60,\n",
              " 6: 100,\n",
              " 7: 0,\n",
              " 8: 0,\n",
              " 9: 3,\n",
              " 10: 55,\n",
              " 11: 0,\n",
              " 12: 34,\n",
              " 13: 0,\n",
              " 14: 0,\n",
              " 15: 3,\n",
              " 16: 0,\n",
              " 17: 0,\n",
              " 18: 0,\n",
              " 19: 87,\n",
              " 20: 0,\n",
              " 21: 92,\n",
              " 22: 0,\n",
              " 23: 0,\n",
              " 24: 63,\n",
              " 25: 0,\n",
              " 26: 29,\n",
              " 27: 0,\n",
              " 28: 37,\n",
              " 29: 0,\n",
              " 30: 71,\n",
              " 31: 0}"
            ]
          },
          "metadata": {},
          "execution_count": 123
        }
      ]
    },
    {
      "cell_type": "code",
      "source": [],
      "metadata": {
        "id": "LuoRYZhPOLrC"
      },
      "execution_count": null,
      "outputs": []
    },
    {
      "cell_type": "code",
      "source": [],
      "metadata": {
        "id": "Wq5kc_peOLoI"
      },
      "execution_count": null,
      "outputs": []
    },
    {
      "cell_type": "code",
      "source": [],
      "metadata": {
        "id": "BjMyI8uAOLlC"
      },
      "execution_count": null,
      "outputs": []
    },
    {
      "cell_type": "code",
      "metadata": {
        "id": "FeeTveh2zPkU"
      },
      "source": [
        "rain_dict = {day: rain for day, rain in zip(day_of_month, daily_rain)}\n",
        "rain_dict"
      ],
      "execution_count": null,
      "outputs": []
    },
    {
      "cell_type": "code",
      "metadata": {
        "id": "R0oM5Uv-ziE7"
      },
      "source": [
        "rain_dict[6]"
      ],
      "execution_count": null,
      "outputs": []
    },
    {
      "cell_type": "code",
      "source": [
        "max(rain_dict.values())"
      ],
      "metadata": {
        "id": "hWdbbQOidR0D"
      },
      "execution_count": null,
      "outputs": []
    },
    {
      "cell_type": "markdown",
      "source": [
        "## Exercise\n"
      ],
      "metadata": {
        "id": "B2lS_LFuePy2"
      }
    },
    {
      "cell_type": "markdown",
      "source": [
        "Answer these questions:\n",
        "* number of days with rain\n",
        "* day of the maximum rain and day of the minimum (non-zero) rain\n",
        "* total rain\n",
        "* mean rain\n",
        "* <b>Challenge:</b> order the <b>days</b> according to the rain precipitation. Descending order (from highest to lowest). Ex: [12, 7, ...]"
      ],
      "metadata": {
        "id": "PCUKC4FNd1GZ"
      }
    },
    {
      "cell_type": "markdown",
      "source": [
        "### Pandas Solution"
      ],
      "metadata": {
        "id": "CnuXcCm_sS_C"
      }
    },
    {
      "cell_type": "code",
      "source": [
        "import pandas as pd"
      ],
      "metadata": {
        "id": "aEYbOYvLsvUc"
      },
      "execution_count": null,
      "outputs": []
    },
    {
      "cell_type": "code",
      "source": [
        "series = pd.Series(rain_dict)\n",
        "series"
      ],
      "metadata": {
        "id": "Z-JgtQtdon4g"
      },
      "execution_count": null,
      "outputs": []
    },
    {
      "cell_type": "code",
      "source": [
        "(series > 0).sum()"
      ],
      "metadata": {
        "id": "C7TC_I8Ps2_W"
      },
      "execution_count": null,
      "outputs": []
    },
    {
      "cell_type": "code",
      "source": [
        "rainy_days = series[series > 0]"
      ],
      "metadata": {
        "id": "2O2JKihotNru"
      },
      "execution_count": null,
      "outputs": []
    },
    {
      "cell_type": "code",
      "source": [
        "rainy_days.max(), rainy_days.min()"
      ],
      "metadata": {
        "id": "L7mMILXks28-"
      },
      "execution_count": null,
      "outputs": []
    },
    {
      "cell_type": "code",
      "source": [
        "rainy_days"
      ],
      "metadata": {
        "id": "xwAbvpEXs2kG"
      },
      "execution_count": null,
      "outputs": []
    },
    {
      "cell_type": "code",
      "source": [
        "rainy_days[rainy_days == rainy_days.max()].index"
      ],
      "metadata": {
        "id": "wnUqe9pEsqbs"
      },
      "execution_count": null,
      "outputs": []
    },
    {
      "cell_type": "code",
      "source": [
        "rainy_days[rainy_days == rainy_days.min()].index"
      ],
      "metadata": {
        "id": "9c-WCYUiti1P"
      },
      "execution_count": null,
      "outputs": []
    },
    {
      "cell_type": "markdown",
      "source": [
        "## Datetime Basics"
      ],
      "metadata": {
        "id": "5Wu8RkFqvX0v"
      }
    },
    {
      "cell_type": "markdown",
      "source": [
        "What if I wanted to create a complete time series?\n",
        "\n",
        "Let's test it with another data (river stage)"
      ],
      "metadata": {
        "id": "Bdn-wBsEvj6E"
      }
    },
    {
      "cell_type": "code",
      "source": [
        "import matplotlib.pyplot as plt\n",
        "\n",
        "# Now I will create a random walk (non-stationary) to represent river stage\n",
        "random.seed(2)\n",
        "\n",
        "# river_stage = [100]\n",
        "\n",
        "river_dict = {1: 100}\n",
        "\n",
        "for i in range(365):\n",
        "    # river_stage.append(river_stage[-1] + random.randint(-2, 2))\n",
        "\n",
        "    river_dict[i+2] = river_dict[i+1] + random.randint(-2, 2)    \n",
        "\n",
        "plt.plot(river_dict.values())"
      ],
      "metadata": {
        "colab": {
          "base_uri": "https://localhost:8080/",
          "height": 447
        },
        "id": "04D4WnG6vlMD",
        "outputId": "9d3fc264-aa27-438f-b695-41ce0d74f533"
      },
      "execution_count": 125,
      "outputs": [
        {
          "output_type": "execute_result",
          "data": {
            "text/plain": [
              "[<matplotlib.lines.Line2D at 0x7f2b5da03850>]"
            ]
          },
          "metadata": {},
          "execution_count": 125
        },
        {
          "output_type": "display_data",
          "data": {
            "text/plain": [
              "<Figure size 640x480 with 1 Axes>"
            ],
            "image/png": "[encoded data removed]"
          },
          "metadata": {}
        }
      ]
    },
    {
      "cell_type": "code",
      "source": [
        "river_dict"
      ],
      "metadata": {
        "colab": {
          "base_uri": "https://localhost:8080/"
        },
        "id": "HPmnLt94RBTy",
        "outputId": "68e5c2a5-01bf-4588-8140-4271f68c85a7"
      },
      "execution_count": 126,
      "outputs": [
        {
          "output_type": "execute_result",
          "data": {
            "text/plain": [
              "{1: 100,\n",
              " 2: 98,\n",
              " 3: 96,\n",
              " 4: 94,\n",
              " 5: 94,\n",
              " 6: 93,\n",
              " 7: 93,\n",
              " 8: 93,\n",
              " 9: 95,\n",
              " 10: 94,\n",
              " 11: 96,\n",
              " 12: 94,\n",
              " 13: 96,\n",
              " 14: 95,\n",
              " 15: 96,\n",
              " 16: 97,\n",
              " 17: 99,\n",
              " 18: 99,\n",
              " 19: 101,\n",
              " 20: 102,\n",
              " 21: 104,\n",
              " 22: 104,\n",
              " 23: 102,\n",
              " 24: 100,\n",
              " 25: 100,\n",
              " 26: 101,\n",
              " 27: 101,\n",
              " 28: 102,\n",
              " 29: 103,\n",
              " 30: 105,\n",
              " 31: 104,\n",
              " 32: 106,\n",
              " 33: 105,\n",
              " 34: 104,\n",
              " 35: 103,\n",
              " 36: 101,\n",
              " 37: 100,\n",
              " 38: 100,\n",
              " 39: 99,\n",
              " 40: 98,\n",
              " 41: 100,\n",
              " 42: 102,\n",
              " 43: 102,\n",
              " 44: 104,\n",
              " 45: 106,\n",
              " 46: 105,\n",
              " 47: 106,\n",
              " 48: 107,\n",
              " 49: 109,\n",
              " 50: 109,\n",
              " 51: 111,\n",
              " 52: 111,\n",
              " 53: 111,\n",
              " 54: 112,\n",
              " 55: 111,\n",
              " 56: 112,\n",
              " 57: 113,\n",
              " 58: 115,\n",
              " 59: 114,\n",
              " 60: 115,\n",
              " 61: 115,\n",
              " 62: 116,\n",
              " 63: 118,\n",
              " 64: 120,\n",
              " 65: 120,\n",
              " 66: 121,\n",
              " 67: 122,\n",
              " 68: 122,\n",
              " 69: 124,\n",
              " 70: 126,\n",
              " 71: 127,\n",
              " 72: 128,\n",
              " 73: 127,\n",
              " 74: 127,\n",
              " 75: 126,\n",
              " 76: 128,\n",
              " 77: 128,\n",
              " 78: 129,\n",
              " 79: 129,\n",
              " 80: 129,\n",
              " 81: 131,\n",
              " 82: 133,\n",
              " 83: 135,\n",
              " 84: 137,\n",
              " 85: 139,\n",
              " 86: 141,\n",
              " 87: 142,\n",
              " 88: 142,\n",
              " 89: 141,\n",
              " 90: 142,\n",
              " 91: 144,\n",
              " 92: 144,\n",
              " 93: 146,\n",
              " 94: 144,\n",
              " 95: 144,\n",
              " 96: 142,\n",
              " 97: 141,\n",
              " 98: 139,\n",
              " 99: 137,\n",
              " 100: 139,\n",
              " 101: 137,\n",
              " 102: 137,\n",
              " 103: 139,\n",
              " 104: 138,\n",
              " 105: 136,\n",
              " 106: 138,\n",
              " 107: 137,\n",
              " 108: 137,\n",
              " 109: 136,\n",
              " 110: 135,\n",
              " 111: 133,\n",
              " 112: 134,\n",
              " 113: 132,\n",
              " 114: 130,\n",
              " 115: 130,\n",
              " 116: 130,\n",
              " 117: 129,\n",
              " 118: 128,\n",
              " 119: 126,\n",
              " 120: 124,\n",
              " 121: 122,\n",
              " 122: 120,\n",
              " 123: 118,\n",
              " 124: 116,\n",
              " 125: 114,\n",
              " 126: 114,\n",
              " 127: 114,\n",
              " 128: 113,\n",
              " 129: 112,\n",
              " 130: 111,\n",
              " 131: 113,\n",
              " 132: 111,\n",
              " 133: 112,\n",
              " 134: 114,\n",
              " 135: 112,\n",
              " 136: 111,\n",
              " 137: 110,\n",
              " 138: 108,\n",
              " 139: 106,\n",
              " 140: 106,\n",
              " 141: 108,\n",
              " 142: 106,\n",
              " 143: 106,\n",
              " 144: 106,\n",
              " 145: 107,\n",
              " 146: 105,\n",
              " 147: 105,\n",
              " 148: 106,\n",
              " 149: 108,\n",
              " 150: 110,\n",
              " 151: 108,\n",
              " 152: 108,\n",
              " 153: 109,\n",
              " 154: 111,\n",
              " 155: 110,\n",
              " 156: 111,\n",
              " 157: 110,\n",
              " 158: 108,\n",
              " 159: 108,\n",
              " 160: 106,\n",
              " 161: 104,\n",
              " 162: 105,\n",
              " 163: 104,\n",
              " 164: 106,\n",
              " 165: 108,\n",
              " 166: 109,\n",
              " 167: 110,\n",
              " 168: 112,\n",
              " 169: 112,\n",
              " 170: 111,\n",
              " 171: 111,\n",
              " 172: 111,\n",
              " 173: 111,\n",
              " 174: 113,\n",
              " 175: 114,\n",
              " 176: 112,\n",
              " 177: 114,\n",
              " 178: 113,\n",
              " 179: 111,\n",
              " 180: 111,\n",
              " 181: 109,\n",
              " 182: 108,\n",
              " 183: 107,\n",
              " 184: 106,\n",
              " 185: 104,\n",
              " 186: 105,\n",
              " 187: 104,\n",
              " 188: 106,\n",
              " 189: 104,\n",
              " 190: 103,\n",
              " 191: 102,\n",
              " 192: 103,\n",
              " 193: 101,\n",
              " 194: 101,\n",
              " 195: 99,\n",
              " 196: 101,\n",
              " 197: 100,\n",
              " 198: 102,\n",
              " 199: 104,\n",
              " 200: 104,\n",
              " 201: 104,\n",
              " 202: 105,\n",
              " 203: 105,\n",
              " 204: 107,\n",
              " 205: 105,\n",
              " 206: 104,\n",
              " 207: 102,\n",
              " 208: 103,\n",
              " 209: 104,\n",
              " 210: 103,\n",
              " 211: 101,\n",
              " 212: 103,\n",
              " 213: 101,\n",
              " 214: 100,\n",
              " 215: 98,\n",
              " 216: 96,\n",
              " 217: 94,\n",
              " 218: 93,\n",
              " 219: 92,\n",
              " 220: 90,\n",
              " 221: 89,\n",
              " 222: 87,\n",
              " 223: 89,\n",
              " 224: 90,\n",
              " 225: 91,\n",
              " 226: 91,\n",
              " 227: 93,\n",
              " 228: 94,\n",
              " 229: 93,\n",
              " 230: 92,\n",
              " 231: 93,\n",
              " 232: 94,\n",
              " 233: 96,\n",
              " 234: 94,\n",
              " 235: 96,\n",
              " 236: 98,\n",
              " 237: 96,\n",
              " 238: 97,\n",
              " 239: 99,\n",
              " 240: 101,\n",
              " 241: 100,\n",
              " 242: 98,\n",
              " 243: 99,\n",
              " 244: 99,\n",
              " 245: 97,\n",
              " 246: 99,\n",
              " 247: 97,\n",
              " 248: 99,\n",
              " 249: 99,\n",
              " 250: 99,\n",
              " 251: 99,\n",
              " 252: 99,\n",
              " 253: 97,\n",
              " 254: 98,\n",
              " 255: 96,\n",
              " 256: 94,\n",
              " 257: 94,\n",
              " 258: 93,\n",
              " 259: 91,\n",
              " 260: 92,\n",
              " 261: 90,\n",
              " 262: 91,\n",
              " 263: 92,\n",
              " 264: 93,\n",
              " 265: 92,\n",
              " 266: 94,\n",
              " 267: 96,\n",
              " 268: 94,\n",
              " 269: 92,\n",
              " 270: 92,\n",
              " 271: 90,\n",
              " 272: 90,\n",
              " 273: 90,\n",
              " 274: 88,\n",
              " 275: 87,\n",
              " 276: 88,\n",
              " 277: 87,\n",
              " 278: 85,\n",
              " 279: 87,\n",
              " 280: 87,\n",
              " 281: 88,\n",
              " 282: 89,\n",
              " 283: 88,\n",
              " 284: 88,\n",
              " 285: 89,\n",
              " 286: 87,\n",
              " 287: 87,\n",
              " 288: 85,\n",
              " 289: 83,\n",
              " 290: 81,\n",
              " 291: 83,\n",
              " 292: 83,\n",
              " 293: 84,\n",
              " 294: 83,\n",
              " 295: 81,\n",
              " 296: 79,\n",
              " 297: 81,\n",
              " 298: 82,\n",
              " 299: 80,\n",
              " 300: 81,\n",
              " 301: 81,\n",
              " 302: 81,\n",
              " 303: 82,\n",
              " 304: 81,\n",
              " 305: 81,\n",
              " 306: 81,\n",
              " 307: 82,\n",
              " 308: 84,\n",
              " 309: 85,\n",
              " 310: 86,\n",
              " 311: 87,\n",
              " 312: 87,\n",
              " 313: 88,\n",
              " 314: 87,\n",
              " 315: 86,\n",
              " 316: 87,\n",
              " 317: 89,\n",
              " 318: 89,\n",
              " 319: 91,\n",
              " 320: 92,\n",
              " 321: 90,\n",
              " 322: 92,\n",
              " 323: 94,\n",
              " 324: 92,\n",
              " 325: 90,\n",
              " 326: 90,\n",
              " 327: 89,\n",
              " 328: 91,\n",
              " 329: 90,\n",
              " 330: 91,\n",
              " 331: 89,\n",
              " 332: 87,\n",
              " 333: 85,\n",
              " 334: 84,\n",
              " 335: 84,\n",
              " 336: 85,\n",
              " 337: 84,\n",
              " 338: 84,\n",
              " 339: 85,\n",
              " 340: 84,\n",
              " 341: 86,\n",
              " 342: 86,\n",
              " 343: 84,\n",
              " 344: 83,\n",
              " 345: 85,\n",
              " 346: 86,\n",
              " 347: 84,\n",
              " 348: 84,\n",
              " 349: 86,\n",
              " 350: 85,\n",
              " 351: 87,\n",
              " 352: 87,\n",
              " 353: 86,\n",
              " 354: 85,\n",
              " 355: 86,\n",
              " 356: 85,\n",
              " 357: 86,\n",
              " 358: 86,\n",
              " 359: 88,\n",
              " 360: 87,\n",
              " 361: 88,\n",
              " 362: 89,\n",
              " 363: 87,\n",
              " 364: 89,\n",
              " 365: 90,\n",
              " 366: 89}"
            ]
          },
          "metadata": {},
          "execution_count": 126
        }
      ]
    },
    {
      "cell_type": "code",
      "source": [],
      "metadata": {
        "id": "SR_69PTZRBRU"
      },
      "execution_count": null,
      "outputs": []
    },
    {
      "cell_type": "code",
      "source": [],
      "metadata": {
        "id": "yNkH-jbzRBO3"
      },
      "execution_count": null,
      "outputs": []
    },
    {
      "cell_type": "code",
      "source": [
        "# what happened on 1st of July? We could count, but it depends on the number of days that happen in february... :(\n",
        "\n",
        "from datetime import datetime, timedelta\n",
        "\n",
        "datetime.now()"
      ],
      "metadata": {
        "colab": {
          "base_uri": "https://localhost:8080/"
        },
        "id": "OSQa3NLavwuZ",
        "outputId": "1b2e3f11-3e64-4e2d-95c9-aef2b080fb43"
      },
      "execution_count": 127,
      "outputs": [
        {
          "output_type": "execute_result",
          "data": {
            "text/plain": [
              "datetime.datetime(2023, 4, 28, 14, 33, 59, 657599)"
            ]
          },
          "metadata": {},
          "execution_count": 127
        }
      ]
    },
    {
      "cell_type": "code",
      "source": [],
      "metadata": {
        "id": "AFkgOzbmSHJr"
      },
      "execution_count": null,
      "outputs": []
    },
    {
      "cell_type": "code",
      "source": [],
      "metadata": {
        "id": "IdXYeRQ1SHHQ"
      },
      "execution_count": null,
      "outputs": []
    },
    {
      "cell_type": "code",
      "source": [],
      "metadata": {
        "id": "_4vTlJIXSHE3"
      },
      "execution_count": null,
      "outputs": []
    },
    {
      "cell_type": "code",
      "source": [],
      "metadata": {
        "id": "3Orn-BHISHCL"
      },
      "execution_count": null,
      "outputs": []
    },
    {
      "cell_type": "code",
      "source": [
        "dt = datetime(2021, 1, 1)\n",
        "dt"
      ],
      "metadata": {
        "colab": {
          "base_uri": "https://localhost:8080/"
        },
        "id": "tGCRON9WwAMk",
        "outputId": "08b48d61-d942-4f36-dbe3-6abbd21f0d8b"
      },
      "execution_count": 128,
      "outputs": [
        {
          "output_type": "execute_result",
          "data": {
            "text/plain": [
              "datetime.datetime(2021, 1, 1, 0, 0)"
            ]
          },
          "metadata": {},
          "execution_count": 128
        }
      ]
    },
    {
      "cell_type": "code",
      "source": [
        "dt2 = dt + timedelta(days=15)\n",
        "dt2\n"
      ],
      "metadata": {
        "colab": {
          "base_uri": "https://localhost:8080/"
        },
        "id": "QNsxtEa-wBjr",
        "outputId": "7c486cae-4240-4388-87dd-ad8d8aefbb62"
      },
      "execution_count": 130,
      "outputs": [
        {
          "output_type": "execute_result",
          "data": {
            "text/plain": [
              "datetime.datetime(2021, 1, 16, 0, 0)"
            ]
          },
          "metadata": {},
          "execution_count": 130
        }
      ]
    },
    {
      "cell_type": "code",
      "source": [
        "dt2 - dt"
      ],
      "metadata": {
        "colab": {
          "base_uri": "https://localhost:8080/"
        },
        "id": "1a5jPXX-wJI-",
        "outputId": "4b72ecb3-9b64-4b34-f7d7-e5e2402f2a25"
      },
      "execution_count": 131,
      "outputs": [
        {
          "output_type": "execute_result",
          "data": {
            "text/plain": [
              "datetime.timedelta(days=15)"
            ]
          },
          "metadata": {},
          "execution_count": 131
        }
      ]
    },
    {
      "cell_type": "code",
      "source": [
        "dt2.day, dt2.month, dt2.year"
      ],
      "metadata": {
        "colab": {
          "base_uri": "https://localhost:8080/"
        },
        "id": "W4BV6BSAwQCt",
        "outputId": "89835738-91de-481b-e022-d7d008e2f677"
      },
      "execution_count": 132,
      "outputs": [
        {
          "output_type": "execute_result",
          "data": {
            "text/plain": [
              "(16, 1, 2021)"
            ]
          },
          "metadata": {},
          "execution_count": 132
        }
      ]
    },
    {
      "cell_type": "code",
      "source": [],
      "metadata": {
        "id": "VgGrMjPkSsff"
      },
      "execution_count": null,
      "outputs": []
    },
    {
      "cell_type": "code",
      "source": [],
      "metadata": {
        "id": "xpB7xBQOSsdC"
      },
      "execution_count": null,
      "outputs": []
    },
    {
      "cell_type": "code",
      "source": [],
      "metadata": {
        "id": "1zUwAODVSquo"
      },
      "execution_count": null,
      "outputs": []
    },
    {
      "cell_type": "markdown",
      "source": [
        "## Dictionary comprehension"
      ],
      "metadata": {
        "id": "HyVL_zTbwWfS"
      }
    },
    {
      "cell_type": "markdown",
      "source": [
        "We want to create a series with datetime as the key"
      ],
      "metadata": {
        "id": "5T6XmzDRwX2T"
      }
    },
    {
      "cell_type": "code",
      "source": [
        "# dictionary comprehension: \n",
        "# {key(X): value(X) for X in Iterable[list, tuple, etc...]}\n",
        "\n",
        "# calc the squares\n",
        "{x: x**2 for x in range(11)}"
      ],
      "metadata": {
        "colab": {
          "base_uri": "https://localhost:8080/"
        },
        "id": "ktK3n6KlxOI0",
        "outputId": "ae6a549f-3b7e-4261-9e91-49da6d5fab9d"
      },
      "execution_count": 118,
      "outputs": [
        {
          "output_type": "execute_result",
          "data": {
            "text/plain": [
              "{0: 0, 1: 1, 2: 4, 3: 9, 4: 16, 5: 25, 6: 36, 7: 49, 8: 64, 9: 81, 10: 100}"
            ]
          },
          "metadata": {},
          "execution_count": 118
        }
      ]
    },
    {
      "cell_type": "code",
      "source": [
        "first_day = datetime(2022, 1, 1)\n",
        "\n",
        "# dictionary comprehension: {key(X): value(X) for X in Iterable[list, tuple, etc...]}\n",
        "stages = {first_day + timedelta(days=i): stage for i, stage in enumerate(river_stage)}"
      ],
      "metadata": {
        "id": "h1N_iVoOwSs7"
      },
      "execution_count": 134,
      "outputs": []
    },
    {
      "cell_type": "code",
      "source": [
        "stages"
      ],
      "metadata": {
        "colab": {
          "base_uri": "https://localhost:8080/"
        },
        "id": "1SA6U5lNTGoC",
        "outputId": "2783444d-5c87-41da-b264-22d52b7faa5c"
      },
      "execution_count": 135,
      "outputs": [
        {
          "output_type": "execute_result",
          "data": {
            "text/plain": [
              "{datetime.datetime(2022, 1, 1, 0, 0): 100,\n",
              " datetime.datetime(2022, 1, 2, 0, 0): 98,\n",
              " datetime.datetime(2022, 1, 3, 0, 0): 96,\n",
              " datetime.datetime(2022, 1, 4, 0, 0): 94,\n",
              " datetime.datetime(2022, 1, 5, 0, 0): 94,\n",
              " datetime.datetime(2022, 1, 6, 0, 0): 93,\n",
              " datetime.datetime(2022, 1, 7, 0, 0): 93,\n",
              " datetime.datetime(2022, 1, 8, 0, 0): 93,\n",
              " datetime.datetime(2022, 1, 9, 0, 0): 95,\n",
              " datetime.datetime(2022, 1, 10, 0, 0): 94,\n",
              " datetime.datetime(2022, 1, 11, 0, 0): 96,\n",
              " datetime.datetime(2022, 1, 12, 0, 0): 94,\n",
              " datetime.datetime(2022, 1, 13, 0, 0): 96,\n",
              " datetime.datetime(2022, 1, 14, 0, 0): 95,\n",
              " datetime.datetime(2022, 1, 15, 0, 0): 96,\n",
              " datetime.datetime(2022, 1, 16, 0, 0): 97,\n",
              " datetime.datetime(2022, 1, 17, 0, 0): 99,\n",
              " datetime.datetime(2022, 1, 18, 0, 0): 99,\n",
              " datetime.datetime(2022, 1, 19, 0, 0): 101,\n",
              " datetime.datetime(2022, 1, 20, 0, 0): 102,\n",
              " datetime.datetime(2022, 1, 21, 0, 0): 104,\n",
              " datetime.datetime(2022, 1, 22, 0, 0): 104,\n",
              " datetime.datetime(2022, 1, 23, 0, 0): 102,\n",
              " datetime.datetime(2022, 1, 24, 0, 0): 100,\n",
              " datetime.datetime(2022, 1, 25, 0, 0): 100,\n",
              " datetime.datetime(2022, 1, 26, 0, 0): 101,\n",
              " datetime.datetime(2022, 1, 27, 0, 0): 101,\n",
              " datetime.datetime(2022, 1, 28, 0, 0): 102,\n",
              " datetime.datetime(2022, 1, 29, 0, 0): 103,\n",
              " datetime.datetime(2022, 1, 30, 0, 0): 105,\n",
              " datetime.datetime(2022, 1, 31, 0, 0): 104,\n",
              " datetime.datetime(2022, 2, 1, 0, 0): 106,\n",
              " datetime.datetime(2022, 2, 2, 0, 0): 105,\n",
              " datetime.datetime(2022, 2, 3, 0, 0): 104,\n",
              " datetime.datetime(2022, 2, 4, 0, 0): 103,\n",
              " datetime.datetime(2022, 2, 5, 0, 0): 101,\n",
              " datetime.datetime(2022, 2, 6, 0, 0): 100,\n",
              " datetime.datetime(2022, 2, 7, 0, 0): 100,\n",
              " datetime.datetime(2022, 2, 8, 0, 0): 99,\n",
              " datetime.datetime(2022, 2, 9, 0, 0): 98,\n",
              " datetime.datetime(2022, 2, 10, 0, 0): 100,\n",
              " datetime.datetime(2022, 2, 11, 0, 0): 102,\n",
              " datetime.datetime(2022, 2, 12, 0, 0): 102,\n",
              " datetime.datetime(2022, 2, 13, 0, 0): 104,\n",
              " datetime.datetime(2022, 2, 14, 0, 0): 106,\n",
              " datetime.datetime(2022, 2, 15, 0, 0): 105,\n",
              " datetime.datetime(2022, 2, 16, 0, 0): 106,\n",
              " datetime.datetime(2022, 2, 17, 0, 0): 107,\n",
              " datetime.datetime(2022, 2, 18, 0, 0): 109,\n",
              " datetime.datetime(2022, 2, 19, 0, 0): 109,\n",
              " datetime.datetime(2022, 2, 20, 0, 0): 111,\n",
              " datetime.datetime(2022, 2, 21, 0, 0): 111,\n",
              " datetime.datetime(2022, 2, 22, 0, 0): 111,\n",
              " datetime.datetime(2022, 2, 23, 0, 0): 112,\n",
              " datetime.datetime(2022, 2, 24, 0, 0): 111,\n",
              " datetime.datetime(2022, 2, 25, 0, 0): 112,\n",
              " datetime.datetime(2022, 2, 26, 0, 0): 113,\n",
              " datetime.datetime(2022, 2, 27, 0, 0): 115,\n",
              " datetime.datetime(2022, 2, 28, 0, 0): 114,\n",
              " datetime.datetime(2022, 3, 1, 0, 0): 115,\n",
              " datetime.datetime(2022, 3, 2, 0, 0): 115,\n",
              " datetime.datetime(2022, 3, 3, 0, 0): 116,\n",
              " datetime.datetime(2022, 3, 4, 0, 0): 118,\n",
              " datetime.datetime(2022, 3, 5, 0, 0): 120,\n",
              " datetime.datetime(2022, 3, 6, 0, 0): 120,\n",
              " datetime.datetime(2022, 3, 7, 0, 0): 121,\n",
              " datetime.datetime(2022, 3, 8, 0, 0): 122,\n",
              " datetime.datetime(2022, 3, 9, 0, 0): 122,\n",
              " datetime.datetime(2022, 3, 10, 0, 0): 124,\n",
              " datetime.datetime(2022, 3, 11, 0, 0): 126,\n",
              " datetime.datetime(2022, 3, 12, 0, 0): 127,\n",
              " datetime.datetime(2022, 3, 13, 0, 0): 128,\n",
              " datetime.datetime(2022, 3, 14, 0, 0): 127,\n",
              " datetime.datetime(2022, 3, 15, 0, 0): 127,\n",
              " datetime.datetime(2022, 3, 16, 0, 0): 126,\n",
              " datetime.datetime(2022, 3, 17, 0, 0): 128,\n",
              " datetime.datetime(2022, 3, 18, 0, 0): 128,\n",
              " datetime.datetime(2022, 3, 19, 0, 0): 129,\n",
              " datetime.datetime(2022, 3, 20, 0, 0): 129,\n",
              " datetime.datetime(2022, 3, 21, 0, 0): 129,\n",
              " datetime.datetime(2022, 3, 22, 0, 0): 131,\n",
              " datetime.datetime(2022, 3, 23, 0, 0): 133,\n",
              " datetime.datetime(2022, 3, 24, 0, 0): 135,\n",
              " datetime.datetime(2022, 3, 25, 0, 0): 137,\n",
              " datetime.datetime(2022, 3, 26, 0, 0): 139,\n",
              " datetime.datetime(2022, 3, 27, 0, 0): 141,\n",
              " datetime.datetime(2022, 3, 28, 0, 0): 142,\n",
              " datetime.datetime(2022, 3, 29, 0, 0): 142,\n",
              " datetime.datetime(2022, 3, 30, 0, 0): 141,\n",
              " datetime.datetime(2022, 3, 31, 0, 0): 142,\n",
              " datetime.datetime(2022, 4, 1, 0, 0): 144,\n",
              " datetime.datetime(2022, 4, 2, 0, 0): 144,\n",
              " datetime.datetime(2022, 4, 3, 0, 0): 146,\n",
              " datetime.datetime(2022, 4, 4, 0, 0): 144,\n",
              " datetime.datetime(2022, 4, 5, 0, 0): 144,\n",
              " datetime.datetime(2022, 4, 6, 0, 0): 142,\n",
              " datetime.datetime(2022, 4, 7, 0, 0): 141,\n",
              " datetime.datetime(2022, 4, 8, 0, 0): 139,\n",
              " datetime.datetime(2022, 4, 9, 0, 0): 137,\n",
              " datetime.datetime(2022, 4, 10, 0, 0): 139,\n",
              " datetime.datetime(2022, 4, 11, 0, 0): 137,\n",
              " datetime.datetime(2022, 4, 12, 0, 0): 137,\n",
              " datetime.datetime(2022, 4, 13, 0, 0): 139,\n",
              " datetime.datetime(2022, 4, 14, 0, 0): 138,\n",
              " datetime.datetime(2022, 4, 15, 0, 0): 136,\n",
              " datetime.datetime(2022, 4, 16, 0, 0): 138,\n",
              " datetime.datetime(2022, 4, 17, 0, 0): 137,\n",
              " datetime.datetime(2022, 4, 18, 0, 0): 137,\n",
              " datetime.datetime(2022, 4, 19, 0, 0): 136,\n",
              " datetime.datetime(2022, 4, 20, 0, 0): 135,\n",
              " datetime.datetime(2022, 4, 21, 0, 0): 133,\n",
              " datetime.datetime(2022, 4, 22, 0, 0): 134,\n",
              " datetime.datetime(2022, 4, 23, 0, 0): 132,\n",
              " datetime.datetime(2022, 4, 24, 0, 0): 130,\n",
              " datetime.datetime(2022, 4, 25, 0, 0): 130,\n",
              " datetime.datetime(2022, 4, 26, 0, 0): 130,\n",
              " datetime.datetime(2022, 4, 27, 0, 0): 129,\n",
              " datetime.datetime(2022, 4, 28, 0, 0): 128,\n",
              " datetime.datetime(2022, 4, 29, 0, 0): 126,\n",
              " datetime.datetime(2022, 4, 30, 0, 0): 124,\n",
              " datetime.datetime(2022, 5, 1, 0, 0): 122,\n",
              " datetime.datetime(2022, 5, 2, 0, 0): 120,\n",
              " datetime.datetime(2022, 5, 3, 0, 0): 118,\n",
              " datetime.datetime(2022, 5, 4, 0, 0): 116,\n",
              " datetime.datetime(2022, 5, 5, 0, 0): 114,\n",
              " datetime.datetime(2022, 5, 6, 0, 0): 114,\n",
              " datetime.datetime(2022, 5, 7, 0, 0): 114,\n",
              " datetime.datetime(2022, 5, 8, 0, 0): 113,\n",
              " datetime.datetime(2022, 5, 9, 0, 0): 112,\n",
              " datetime.datetime(2022, 5, 10, 0, 0): 111,\n",
              " datetime.datetime(2022, 5, 11, 0, 0): 113,\n",
              " datetime.datetime(2022, 5, 12, 0, 0): 111,\n",
              " datetime.datetime(2022, 5, 13, 0, 0): 112,\n",
              " datetime.datetime(2022, 5, 14, 0, 0): 114,\n",
              " datetime.datetime(2022, 5, 15, 0, 0): 112,\n",
              " datetime.datetime(2022, 5, 16, 0, 0): 111,\n",
              " datetime.datetime(2022, 5, 17, 0, 0): 110,\n",
              " datetime.datetime(2022, 5, 18, 0, 0): 108,\n",
              " datetime.datetime(2022, 5, 19, 0, 0): 106,\n",
              " datetime.datetime(2022, 5, 20, 0, 0): 106,\n",
              " datetime.datetime(2022, 5, 21, 0, 0): 108,\n",
              " datetime.datetime(2022, 5, 22, 0, 0): 106,\n",
              " datetime.datetime(2022, 5, 23, 0, 0): 106,\n",
              " datetime.datetime(2022, 5, 24, 0, 0): 106,\n",
              " datetime.datetime(2022, 5, 25, 0, 0): 107,\n",
              " datetime.datetime(2022, 5, 26, 0, 0): 105,\n",
              " datetime.datetime(2022, 5, 27, 0, 0): 105,\n",
              " datetime.datetime(2022, 5, 28, 0, 0): 106,\n",
              " datetime.datetime(2022, 5, 29, 0, 0): 108,\n",
              " datetime.datetime(2022, 5, 30, 0, 0): 110,\n",
              " datetime.datetime(2022, 5, 31, 0, 0): 108,\n",
              " datetime.datetime(2022, 6, 1, 0, 0): 108,\n",
              " datetime.datetime(2022, 6, 2, 0, 0): 109,\n",
              " datetime.datetime(2022, 6, 3, 0, 0): 111,\n",
              " datetime.datetime(2022, 6, 4, 0, 0): 110,\n",
              " datetime.datetime(2022, 6, 5, 0, 0): 111,\n",
              " datetime.datetime(2022, 6, 6, 0, 0): 110,\n",
              " datetime.datetime(2022, 6, 7, 0, 0): 108,\n",
              " datetime.datetime(2022, 6, 8, 0, 0): 108,\n",
              " datetime.datetime(2022, 6, 9, 0, 0): 106,\n",
              " datetime.datetime(2022, 6, 10, 0, 0): 104,\n",
              " datetime.datetime(2022, 6, 11, 0, 0): 105,\n",
              " datetime.datetime(2022, 6, 12, 0, 0): 104,\n",
              " datetime.datetime(2022, 6, 13, 0, 0): 106,\n",
              " datetime.datetime(2022, 6, 14, 0, 0): 108,\n",
              " datetime.datetime(2022, 6, 15, 0, 0): 109,\n",
              " datetime.datetime(2022, 6, 16, 0, 0): 110,\n",
              " datetime.datetime(2022, 6, 17, 0, 0): 112,\n",
              " datetime.datetime(2022, 6, 18, 0, 0): 112,\n",
              " datetime.datetime(2022, 6, 19, 0, 0): 111,\n",
              " datetime.datetime(2022, 6, 20, 0, 0): 111,\n",
              " datetime.datetime(2022, 6, 21, 0, 0): 111,\n",
              " datetime.datetime(2022, 6, 22, 0, 0): 111,\n",
              " datetime.datetime(2022, 6, 23, 0, 0): 113,\n",
              " datetime.datetime(2022, 6, 24, 0, 0): 114,\n",
              " datetime.datetime(2022, 6, 25, 0, 0): 112,\n",
              " datetime.datetime(2022, 6, 26, 0, 0): 114,\n",
              " datetime.datetime(2022, 6, 27, 0, 0): 113,\n",
              " datetime.datetime(2022, 6, 28, 0, 0): 111,\n",
              " datetime.datetime(2022, 6, 29, 0, 0): 111,\n",
              " datetime.datetime(2022, 6, 30, 0, 0): 109,\n",
              " datetime.datetime(2022, 7, 1, 0, 0): 108,\n",
              " datetime.datetime(2022, 7, 2, 0, 0): 107,\n",
              " datetime.datetime(2022, 7, 3, 0, 0): 106,\n",
              " datetime.datetime(2022, 7, 4, 0, 0): 104,\n",
              " datetime.datetime(2022, 7, 5, 0, 0): 105,\n",
              " datetime.datetime(2022, 7, 6, 0, 0): 104,\n",
              " datetime.datetime(2022, 7, 7, 0, 0): 106,\n",
              " datetime.datetime(2022, 7, 8, 0, 0): 104,\n",
              " datetime.datetime(2022, 7, 9, 0, 0): 103,\n",
              " datetime.datetime(2022, 7, 10, 0, 0): 102,\n",
              " datetime.datetime(2022, 7, 11, 0, 0): 103,\n",
              " datetime.datetime(2022, 7, 12, 0, 0): 101,\n",
              " datetime.datetime(2022, 7, 13, 0, 0): 101,\n",
              " datetime.datetime(2022, 7, 14, 0, 0): 99,\n",
              " datetime.datetime(2022, 7, 15, 0, 0): 101,\n",
              " datetime.datetime(2022, 7, 16, 0, 0): 100,\n",
              " datetime.datetime(2022, 7, 17, 0, 0): 102,\n",
              " datetime.datetime(2022, 7, 18, 0, 0): 104,\n",
              " datetime.datetime(2022, 7, 19, 0, 0): 104,\n",
              " datetime.datetime(2022, 7, 20, 0, 0): 104,\n",
              " datetime.datetime(2022, 7, 21, 0, 0): 105,\n",
              " datetime.datetime(2022, 7, 22, 0, 0): 105,\n",
              " datetime.datetime(2022, 7, 23, 0, 0): 107,\n",
              " datetime.datetime(2022, 7, 24, 0, 0): 105,\n",
              " datetime.datetime(2022, 7, 25, 0, 0): 104,\n",
              " datetime.datetime(2022, 7, 26, 0, 0): 102,\n",
              " datetime.datetime(2022, 7, 27, 0, 0): 103,\n",
              " datetime.datetime(2022, 7, 28, 0, 0): 104,\n",
              " datetime.datetime(2022, 7, 29, 0, 0): 103,\n",
              " datetime.datetime(2022, 7, 30, 0, 0): 101,\n",
              " datetime.datetime(2022, 7, 31, 0, 0): 103,\n",
              " datetime.datetime(2022, 8, 1, 0, 0): 101,\n",
              " datetime.datetime(2022, 8, 2, 0, 0): 100,\n",
              " datetime.datetime(2022, 8, 3, 0, 0): 98,\n",
              " datetime.datetime(2022, 8, 4, 0, 0): 96,\n",
              " datetime.datetime(2022, 8, 5, 0, 0): 94,\n",
              " datetime.datetime(2022, 8, 6, 0, 0): 93,\n",
              " datetime.datetime(2022, 8, 7, 0, 0): 92,\n",
              " datetime.datetime(2022, 8, 8, 0, 0): 90,\n",
              " datetime.datetime(2022, 8, 9, 0, 0): 89,\n",
              " datetime.datetime(2022, 8, 10, 0, 0): 87,\n",
              " datetime.datetime(2022, 8, 11, 0, 0): 89,\n",
              " datetime.datetime(2022, 8, 12, 0, 0): 90,\n",
              " datetime.datetime(2022, 8, 13, 0, 0): 91,\n",
              " datetime.datetime(2022, 8, 14, 0, 0): 91,\n",
              " datetime.datetime(2022, 8, 15, 0, 0): 93,\n",
              " datetime.datetime(2022, 8, 16, 0, 0): 94,\n",
              " datetime.datetime(2022, 8, 17, 0, 0): 93,\n",
              " datetime.datetime(2022, 8, 18, 0, 0): 92,\n",
              " datetime.datetime(2022, 8, 19, 0, 0): 93,\n",
              " datetime.datetime(2022, 8, 20, 0, 0): 94,\n",
              " datetime.datetime(2022, 8, 21, 0, 0): 96,\n",
              " datetime.datetime(2022, 8, 22, 0, 0): 94,\n",
              " datetime.datetime(2022, 8, 23, 0, 0): 96,\n",
              " datetime.datetime(2022, 8, 24, 0, 0): 98,\n",
              " datetime.datetime(2022, 8, 25, 0, 0): 96,\n",
              " datetime.datetime(2022, 8, 26, 0, 0): 97,\n",
              " datetime.datetime(2022, 8, 27, 0, 0): 99,\n",
              " datetime.datetime(2022, 8, 28, 0, 0): 101,\n",
              " datetime.datetime(2022, 8, 29, 0, 0): 100,\n",
              " datetime.datetime(2022, 8, 30, 0, 0): 98,\n",
              " datetime.datetime(2022, 8, 31, 0, 0): 99,\n",
              " datetime.datetime(2022, 9, 1, 0, 0): 99,\n",
              " datetime.datetime(2022, 9, 2, 0, 0): 97,\n",
              " datetime.datetime(2022, 9, 3, 0, 0): 99,\n",
              " datetime.datetime(2022, 9, 4, 0, 0): 97,\n",
              " datetime.datetime(2022, 9, 5, 0, 0): 99,\n",
              " datetime.datetime(2022, 9, 6, 0, 0): 99,\n",
              " datetime.datetime(2022, 9, 7, 0, 0): 99,\n",
              " datetime.datetime(2022, 9, 8, 0, 0): 99,\n",
              " datetime.datetime(2022, 9, 9, 0, 0): 99,\n",
              " datetime.datetime(2022, 9, 10, 0, 0): 97,\n",
              " datetime.datetime(2022, 9, 11, 0, 0): 98,\n",
              " datetime.datetime(2022, 9, 12, 0, 0): 96,\n",
              " datetime.datetime(2022, 9, 13, 0, 0): 94,\n",
              " datetime.datetime(2022, 9, 14, 0, 0): 94,\n",
              " datetime.datetime(2022, 9, 15, 0, 0): 93,\n",
              " datetime.datetime(2022, 9, 16, 0, 0): 91,\n",
              " datetime.datetime(2022, 9, 17, 0, 0): 92,\n",
              " datetime.datetime(2022, 9, 18, 0, 0): 90,\n",
              " datetime.datetime(2022, 9, 19, 0, 0): 91,\n",
              " datetime.datetime(2022, 9, 20, 0, 0): 92,\n",
              " datetime.datetime(2022, 9, 21, 0, 0): 93,\n",
              " datetime.datetime(2022, 9, 22, 0, 0): 92,\n",
              " datetime.datetime(2022, 9, 23, 0, 0): 94,\n",
              " datetime.datetime(2022, 9, 24, 0, 0): 96,\n",
              " datetime.datetime(2022, 9, 25, 0, 0): 94,\n",
              " datetime.datetime(2022, 9, 26, 0, 0): 92,\n",
              " datetime.datetime(2022, 9, 27, 0, 0): 92,\n",
              " datetime.datetime(2022, 9, 28, 0, 0): 90,\n",
              " datetime.datetime(2022, 9, 29, 0, 0): 90,\n",
              " datetime.datetime(2022, 9, 30, 0, 0): 90,\n",
              " datetime.datetime(2022, 10, 1, 0, 0): 88,\n",
              " datetime.datetime(2022, 10, 2, 0, 0): 87,\n",
              " datetime.datetime(2022, 10, 3, 0, 0): 88,\n",
              " datetime.datetime(2022, 10, 4, 0, 0): 87,\n",
              " datetime.datetime(2022, 10, 5, 0, 0): 85,\n",
              " datetime.datetime(2022, 10, 6, 0, 0): 87,\n",
              " datetime.datetime(2022, 10, 7, 0, 0): 87,\n",
              " datetime.datetime(2022, 10, 8, 0, 0): 88,\n",
              " datetime.datetime(2022, 10, 9, 0, 0): 89,\n",
              " datetime.datetime(2022, 10, 10, 0, 0): 88,\n",
              " datetime.datetime(2022, 10, 11, 0, 0): 88,\n",
              " datetime.datetime(2022, 10, 12, 0, 0): 89,\n",
              " datetime.datetime(2022, 10, 13, 0, 0): 87,\n",
              " datetime.datetime(2022, 10, 14, 0, 0): 87,\n",
              " datetime.datetime(2022, 10, 15, 0, 0): 85,\n",
              " datetime.datetime(2022, 10, 16, 0, 0): 83,\n",
              " datetime.datetime(2022, 10, 17, 0, 0): 81,\n",
              " datetime.datetime(2022, 10, 18, 0, 0): 83,\n",
              " datetime.datetime(2022, 10, 19, 0, 0): 83,\n",
              " datetime.datetime(2022, 10, 20, 0, 0): 84,\n",
              " datetime.datetime(2022, 10, 21, 0, 0): 83,\n",
              " datetime.datetime(2022, 10, 22, 0, 0): 81,\n",
              " datetime.datetime(2022, 10, 23, 0, 0): 79,\n",
              " datetime.datetime(2022, 10, 24, 0, 0): 81,\n",
              " datetime.datetime(2022, 10, 25, 0, 0): 82,\n",
              " datetime.datetime(2022, 10, 26, 0, 0): 80,\n",
              " datetime.datetime(2022, 10, 27, 0, 0): 81,\n",
              " datetime.datetime(2022, 10, 28, 0, 0): 81,\n",
              " datetime.datetime(2022, 10, 29, 0, 0): 81,\n",
              " datetime.datetime(2022, 10, 30, 0, 0): 82,\n",
              " datetime.datetime(2022, 10, 31, 0, 0): 81,\n",
              " datetime.datetime(2022, 11, 1, 0, 0): 81,\n",
              " datetime.datetime(2022, 11, 2, 0, 0): 81,\n",
              " datetime.datetime(2022, 11, 3, 0, 0): 82,\n",
              " datetime.datetime(2022, 11, 4, 0, 0): 84,\n",
              " datetime.datetime(2022, 11, 5, 0, 0): 85,\n",
              " datetime.datetime(2022, 11, 6, 0, 0): 86,\n",
              " datetime.datetime(2022, 11, 7, 0, 0): 87,\n",
              " datetime.datetime(2022, 11, 8, 0, 0): 87,\n",
              " datetime.datetime(2022, 11, 9, 0, 0): 88,\n",
              " datetime.datetime(2022, 11, 10, 0, 0): 87,\n",
              " datetime.datetime(2022, 11, 11, 0, 0): 86,\n",
              " datetime.datetime(2022, 11, 12, 0, 0): 87,\n",
              " datetime.datetime(2022, 11, 13, 0, 0): 89,\n",
              " datetime.datetime(2022, 11, 14, 0, 0): 89,\n",
              " datetime.datetime(2022, 11, 15, 0, 0): 91,\n",
              " datetime.datetime(2022, 11, 16, 0, 0): 92,\n",
              " datetime.datetime(2022, 11, 17, 0, 0): 90,\n",
              " datetime.datetime(2022, 11, 18, 0, 0): 92,\n",
              " datetime.datetime(2022, 11, 19, 0, 0): 94,\n",
              " datetime.datetime(2022, 11, 20, 0, 0): 92,\n",
              " datetime.datetime(2022, 11, 21, 0, 0): 90,\n",
              " datetime.datetime(2022, 11, 22, 0, 0): 90,\n",
              " datetime.datetime(2022, 11, 23, 0, 0): 89,\n",
              " datetime.datetime(2022, 11, 24, 0, 0): 91,\n",
              " datetime.datetime(2022, 11, 25, 0, 0): 90,\n",
              " datetime.datetime(2022, 11, 26, 0, 0): 91,\n",
              " datetime.datetime(2022, 11, 27, 0, 0): 89,\n",
              " datetime.datetime(2022, 11, 28, 0, 0): 87,\n",
              " datetime.datetime(2022, 11, 29, 0, 0): 85,\n",
              " datetime.datetime(2022, 11, 30, 0, 0): 84,\n",
              " datetime.datetime(2022, 12, 1, 0, 0): 84,\n",
              " datetime.datetime(2022, 12, 2, 0, 0): 85,\n",
              " datetime.datetime(2022, 12, 3, 0, 0): 84,\n",
              " datetime.datetime(2022, 12, 4, 0, 0): 84,\n",
              " datetime.datetime(2022, 12, 5, 0, 0): 85,\n",
              " datetime.datetime(2022, 12, 6, 0, 0): 84,\n",
              " datetime.datetime(2022, 12, 7, 0, 0): 86,\n",
              " datetime.datetime(2022, 12, 8, 0, 0): 86,\n",
              " datetime.datetime(2022, 12, 9, 0, 0): 84,\n",
              " datetime.datetime(2022, 12, 10, 0, 0): 83,\n",
              " datetime.datetime(2022, 12, 11, 0, 0): 85,\n",
              " datetime.datetime(2022, 12, 12, 0, 0): 86,\n",
              " datetime.datetime(2022, 12, 13, 0, 0): 84,\n",
              " datetime.datetime(2022, 12, 14, 0, 0): 84,\n",
              " datetime.datetime(2022, 12, 15, 0, 0): 86,\n",
              " datetime.datetime(2022, 12, 16, 0, 0): 85,\n",
              " datetime.datetime(2022, 12, 17, 0, 0): 87,\n",
              " datetime.datetime(2022, 12, 18, 0, 0): 87,\n",
              " datetime.datetime(2022, 12, 19, 0, 0): 86,\n",
              " datetime.datetime(2022, 12, 20, 0, 0): 85,\n",
              " datetime.datetime(2022, 12, 21, 0, 0): 86,\n",
              " datetime.datetime(2022, 12, 22, 0, 0): 85,\n",
              " datetime.datetime(2022, 12, 23, 0, 0): 86,\n",
              " datetime.datetime(2022, 12, 24, 0, 0): 86,\n",
              " datetime.datetime(2022, 12, 25, 0, 0): 88,\n",
              " datetime.datetime(2022, 12, 26, 0, 0): 87,\n",
              " datetime.datetime(2022, 12, 27, 0, 0): 88,\n",
              " datetime.datetime(2022, 12, 28, 0, 0): 89,\n",
              " datetime.datetime(2022, 12, 29, 0, 0): 87,\n",
              " datetime.datetime(2022, 12, 30, 0, 0): 89,\n",
              " datetime.datetime(2022, 12, 31, 0, 0): 90,\n",
              " datetime.datetime(2023, 1, 1, 0, 0): 89}"
            ]
          },
          "metadata": {},
          "execution_count": 135
        }
      ]
    },
    {
      "cell_type": "code",
      "source": [
        "dt = datetime(2022, 7, 1)"
      ],
      "metadata": {
        "id": "5MNFh8gaTGlN"
      },
      "execution_count": 136,
      "outputs": []
    },
    {
      "cell_type": "code",
      "source": [
        "stages[dt]"
      ],
      "metadata": {
        "colab": {
          "base_uri": "https://localhost:8080/"
        },
        "id": "wY6EjwNvTGin",
        "outputId": "00aab631-c17b-4ff2-d710-b681d54de142"
      },
      "execution_count": 137,
      "outputs": [
        {
          "output_type": "execute_result",
          "data": {
            "text/plain": [
              "108"
            ]
          },
          "metadata": {},
          "execution_count": 137
        }
      ]
    },
    {
      "cell_type": "code",
      "source": [],
      "metadata": {
        "id": "zkPhIHjwS-gH"
      },
      "execution_count": null,
      "outputs": []
    },
    {
      "cell_type": "code",
      "source": [
        "import pandas as pd"
      ],
      "metadata": {
        "id": "Jwt6WN7HwdzZ"
      },
      "execution_count": 138,
      "outputs": []
    },
    {
      "cell_type": "code",
      "source": [
        "s = pd.Series(stages)"
      ],
      "metadata": {
        "id": "jHnGXC-ux5Di"
      },
      "execution_count": 139,
      "outputs": []
    },
    {
      "cell_type": "code",
      "source": [
        "s.plot()"
      ],
      "metadata": {
        "colab": {
          "base_uri": "https://localhost:8080/",
          "height": 463
        },
        "id": "IcrD1GZlTs6_",
        "outputId": "42fe0667-e0cb-49e8-e788-58c8a301c96f"
      },
      "execution_count": 141,
      "outputs": [
        {
          "output_type": "execute_result",
          "data": {
            "text/plain": [
              "<Axes: >"
            ]
          },
          "metadata": {},
          "execution_count": 141
        },
        {
          "output_type": "display_data",
          "data": {
            "text/plain": [
              "<Figure size 640x480 with 1 Axes>"
            ],
            "image/png": "[encoded data removed]"
          },
          "metadata": {}
        }
      ]
    },
    {
      "cell_type": "code",
      "source": [],
      "metadata": {
        "id": "mfVfnv49Ts4p"
      },
      "execution_count": null,
      "outputs": []
    },
    {
      "cell_type": "code",
      "source": [],
      "metadata": {
        "id": "_kCR-x7ITs2d"
      },
      "execution_count": null,
      "outputs": []
    },
    {
      "cell_type": "markdown",
      "source": [
        "## Example"
      ],
      "metadata": {
        "id": "7swdyW8OyJ0Q"
      }
    },
    {
      "cell_type": "markdown",
      "source": [
        "What if we want to store the river stages for 3 different stations? Are dictionaries a viable solution?\n"
      ],
      "metadata": {
        "id": "Kqlyt02NyL_q"
      }
    },
    {
      "cell_type": "code",
      "source": [
        "# create 3 stations\n",
        "stations = [f'Station {i}' for i in range(1, 4)]\n",
        "stations"
      ],
      "metadata": {
        "colab": {
          "base_uri": "https://localhost:8080/"
        },
        "id": "Q8bODYFcx-s8",
        "outputId": "55857e41-c294-4a5f-99cd-3464ee985b0c"
      },
      "execution_count": 142,
      "outputs": [
        {
          "output_type": "execute_result",
          "data": {
            "text/plain": [
              "['Station 1', 'Station 2', 'Station 3']"
            ]
          },
          "metadata": {},
          "execution_count": 142
        }
      ]
    },
    {
      "cell_type": "markdown",
      "source": [
        "![image.png](data:image/png;base64,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)"
      ],
      "metadata": {
        "id": "7cryAXGCyiER"
      }
    },
    {
      "cell_type": "code",
      "source": [
        "random.seed(4)\n",
        "\n",
        "stage_data = {}\n",
        "first_day = datetime(2020, 1, 1)\n",
        "\n",
        "for station in stations:\n",
        "\n",
        "    print(f'Creating stage data for station {station}')\n",
        "\n",
        "    # create a random series\n",
        "    stages_list = [random.randint(50, 150)]\n",
        "    for _ in range(364):\n",
        "        stages_list.append(stages_list[-1] + random.randint(-2, 2))\n",
        "\n",
        "    # create the stages dictionary with the dates and assign it to a specific station\n",
        "    stage_data[station] = {first_day + timedelta(days=i): stage for i, stage in enumerate(stages_list)}\n",
        "\n"
      ],
      "metadata": {
        "colab": {
          "base_uri": "https://localhost:8080/"
        },
        "id": "daMhbmldyRhb",
        "outputId": "20c8e9da-6c50-4193-aa95-a3f0f7a8e615"
      },
      "execution_count": 143,
      "outputs": [
        {
          "output_type": "stream",
          "name": "stdout",
          "text": [
            "Creating stage data for station Station 1\n",
            "Creating stage data for station Station 2\n",
            "Creating stage data for station Station 3\n"
          ]
        }
      ]
    },
    {
      "cell_type": "code",
      "source": [
        "stage_data['Station 2']"
      ],
      "metadata": {
        "colab": {
          "base_uri": "https://localhost:8080/"
        },
        "id": "edXHpyPrUd9f",
        "outputId": "f5df9f3d-b8f3-464a-a2c8-d49c7203a850"
      },
      "execution_count": 145,
      "outputs": [
        {
          "output_type": "execute_result",
          "data": {
            "text/plain": [
              "{datetime.datetime(2020, 1, 1, 0, 0): 73,\n",
              " datetime.datetime(2020, 1, 2, 0, 0): 75,\n",
              " datetime.datetime(2020, 1, 3, 0, 0): 76,\n",
              " datetime.datetime(2020, 1, 4, 0, 0): 78,\n",
              " datetime.datetime(2020, 1, 5, 0, 0): 76,\n",
              " datetime.datetime(2020, 1, 6, 0, 0): 74,\n",
              " datetime.datetime(2020, 1, 7, 0, 0): 73,\n",
              " datetime.datetime(2020, 1, 8, 0, 0): 74,\n",
              " datetime.datetime(2020, 1, 9, 0, 0): 73,\n",
              " datetime.datetime(2020, 1, 10, 0, 0): 75,\n",
              " datetime.datetime(2020, 1, 11, 0, 0): 75,\n",
              " datetime.datetime(2020, 1, 12, 0, 0): 76,\n",
              " datetime.datetime(2020, 1, 13, 0, 0): 78,\n",
              " datetime.datetime(2020, 1, 14, 0, 0): 77,\n",
              " datetime.datetime(2020, 1, 15, 0, 0): 78,\n",
              " datetime.datetime(2020, 1, 16, 0, 0): 77,\n",
              " datetime.datetime(2020, 1, 17, 0, 0): 77,\n",
              " datetime.datetime(2020, 1, 18, 0, 0): 77,\n",
              " datetime.datetime(2020, 1, 19, 0, 0): 76,\n",
              " datetime.datetime(2020, 1, 20, 0, 0): 76,\n",
              " datetime.datetime(2020, 1, 21, 0, 0): 78,\n",
              " datetime.datetime(2020, 1, 22, 0, 0): 80,\n",
              " datetime.datetime(2020, 1, 23, 0, 0): 81,\n",
              " datetime.datetime(2020, 1, 24, 0, 0): 82,\n",
              " datetime.datetime(2020, 1, 25, 0, 0): 84,\n",
              " datetime.datetime(2020, 1, 26, 0, 0): 85,\n",
              " datetime.datetime(2020, 1, 27, 0, 0): 85,\n",
              " datetime.datetime(2020, 1, 28, 0, 0): 85,\n",
              " datetime.datetime(2020, 1, 29, 0, 0): 86,\n",
              " datetime.datetime(2020, 1, 30, 0, 0): 87,\n",
              " datetime.datetime(2020, 1, 31, 0, 0): 89,\n",
              " datetime.datetime(2020, 2, 1, 0, 0): 87,\n",
              " datetime.datetime(2020, 2, 2, 0, 0): 87,\n",
              " datetime.datetime(2020, 2, 3, 0, 0): 86,\n",
              " datetime.datetime(2020, 2, 4, 0, 0): 88,\n",
              " datetime.datetime(2020, 2, 5, 0, 0): 89,\n",
              " datetime.datetime(2020, 2, 6, 0, 0): 91,\n",
              " datetime.datetime(2020, 2, 7, 0, 0): 93,\n",
              " datetime.datetime(2020, 2, 8, 0, 0): 93,\n",
              " datetime.datetime(2020, 2, 9, 0, 0): 94,\n",
              " datetime.datetime(2020, 2, 10, 0, 0): 95,\n",
              " datetime.datetime(2020, 2, 11, 0, 0): 97,\n",
              " datetime.datetime(2020, 2, 12, 0, 0): 95,\n",
              " datetime.datetime(2020, 2, 13, 0, 0): 94,\n",
              " datetime.datetime(2020, 2, 14, 0, 0): 96,\n",
              " datetime.datetime(2020, 2, 15, 0, 0): 94,\n",
              " datetime.datetime(2020, 2, 16, 0, 0): 95,\n",
              " datetime.datetime(2020, 2, 17, 0, 0): 95,\n",
              " datetime.datetime(2020, 2, 18, 0, 0): 97,\n",
              " datetime.datetime(2020, 2, 19, 0, 0): 97,\n",
              " datetime.datetime(2020, 2, 20, 0, 0): 95,\n",
              " datetime.datetime(2020, 2, 21, 0, 0): 95,\n",
              " datetime.datetime(2020, 2, 22, 0, 0): 96,\n",
              " datetime.datetime(2020, 2, 23, 0, 0): 95,\n",
              " datetime.datetime(2020, 2, 24, 0, 0): 96,\n",
              " datetime.datetime(2020, 2, 25, 0, 0): 98,\n",
              " datetime.datetime(2020, 2, 26, 0, 0): 96,\n",
              " datetime.datetime(2020, 2, 27, 0, 0): 95,\n",
              " datetime.datetime(2020, 2, 28, 0, 0): 94,\n",
              " datetime.datetime(2020, 2, 29, 0, 0): 92,\n",
              " datetime.datetime(2020, 3, 1, 0, 0): 92,\n",
              " datetime.datetime(2020, 3, 2, 0, 0): 91,\n",
              " datetime.datetime(2020, 3, 3, 0, 0): 89,\n",
              " datetime.datetime(2020, 3, 4, 0, 0): 88,\n",
              " datetime.datetime(2020, 3, 5, 0, 0): 89,\n",
              " datetime.datetime(2020, 3, 6, 0, 0): 91,\n",
              " datetime.datetime(2020, 3, 7, 0, 0): 93,\n",
              " datetime.datetime(2020, 3, 8, 0, 0): 95,\n",
              " datetime.datetime(2020, 3, 9, 0, 0): 97,\n",
              " datetime.datetime(2020, 3, 10, 0, 0): 97,\n",
              " datetime.datetime(2020, 3, 11, 0, 0): 95,\n",
              " datetime.datetime(2020, 3, 12, 0, 0): 97,\n",
              " datetime.datetime(2020, 3, 13, 0, 0): 96,\n",
              " datetime.datetime(2020, 3, 14, 0, 0): 95,\n",
              " datetime.datetime(2020, 3, 15, 0, 0): 93,\n",
              " datetime.datetime(2020, 3, 16, 0, 0): 92,\n",
              " datetime.datetime(2020, 3, 17, 0, 0): 90,\n",
              " datetime.datetime(2020, 3, 18, 0, 0): 90,\n",
              " datetime.datetime(2020, 3, 19, 0, 0): 88,\n",
              " datetime.datetime(2020, 3, 20, 0, 0): 86,\n",
              " datetime.datetime(2020, 3, 21, 0, 0): 86,\n",
              " datetime.datetime(2020, 3, 22, 0, 0): 84,\n",
              " datetime.datetime(2020, 3, 23, 0, 0): 84,\n",
              " datetime.datetime(2020, 3, 24, 0, 0): 86,\n",
              " datetime.datetime(2020, 3, 25, 0, 0): 85,\n",
              " datetime.datetime(2020, 3, 26, 0, 0): 84,\n",
              " datetime.datetime(2020, 3, 27, 0, 0): 85,\n",
              " datetime.datetime(2020, 3, 28, 0, 0): 84,\n",
              " datetime.datetime(2020, 3, 29, 0, 0): 82,\n",
              " datetime.datetime(2020, 3, 30, 0, 0): 84,\n",
              " datetime.datetime(2020, 3, 31, 0, 0): 84,\n",
              " datetime.datetime(2020, 4, 1, 0, 0): 82,\n",
              " datetime.datetime(2020, 4, 2, 0, 0): 84,\n",
              " datetime.datetime(2020, 4, 3, 0, 0): 83,\n",
              " datetime.datetime(2020, 4, 4, 0, 0): 85,\n",
              " datetime.datetime(2020, 4, 5, 0, 0): 86,\n",
              " datetime.datetime(2020, 4, 6, 0, 0): 85,\n",
              " datetime.datetime(2020, 4, 7, 0, 0): 84,\n",
              " datetime.datetime(2020, 4, 8, 0, 0): 84,\n",
              " datetime.datetime(2020, 4, 9, 0, 0): 85,\n",
              " datetime.datetime(2020, 4, 10, 0, 0): 87,\n",
              " datetime.datetime(2020, 4, 11, 0, 0): 85,\n",
              " datetime.datetime(2020, 4, 12, 0, 0): 86,\n",
              " datetime.datetime(2020, 4, 13, 0, 0): 85,\n",
              " datetime.datetime(2020, 4, 14, 0, 0): 84,\n",
              " datetime.datetime(2020, 4, 15, 0, 0): 84,\n",
              " datetime.datetime(2020, 4, 16, 0, 0): 86,\n",
              " datetime.datetime(2020, 4, 17, 0, 0): 87,\n",
              " datetime.datetime(2020, 4, 18, 0, 0): 89,\n",
              " datetime.datetime(2020, 4, 19, 0, 0): 89,\n",
              " datetime.datetime(2020, 4, 20, 0, 0): 90,\n",
              " datetime.datetime(2020, 4, 21, 0, 0): 90,\n",
              " datetime.datetime(2020, 4, 22, 0, 0): 89,\n",
              " datetime.datetime(2020, 4, 23, 0, 0): 90,\n",
              " datetime.datetime(2020, 4, 24, 0, 0): 88,\n",
              " datetime.datetime(2020, 4, 25, 0, 0): 89,\n",
              " datetime.datetime(2020, 4, 26, 0, 0): 87,\n",
              " datetime.datetime(2020, 4, 27, 0, 0): 87,\n",
              " datetime.datetime(2020, 4, 28, 0, 0): 85,\n",
              " datetime.datetime(2020, 4, 29, 0, 0): 85,\n",
              " datetime.datetime(2020, 4, 30, 0, 0): 84,\n",
              " datetime.datetime(2020, 5, 1, 0, 0): 82,\n",
              " datetime.datetime(2020, 5, 2, 0, 0): 81,\n",
              " datetime.datetime(2020, 5, 3, 0, 0): 79,\n",
              " datetime.datetime(2020, 5, 4, 0, 0): 81,\n",
              " datetime.datetime(2020, 5, 5, 0, 0): 79,\n",
              " datetime.datetime(2020, 5, 6, 0, 0): 78,\n",
              " datetime.datetime(2020, 5, 7, 0, 0): 77,\n",
              " datetime.datetime(2020, 5, 8, 0, 0): 79,\n",
              " datetime.datetime(2020, 5, 9, 0, 0): 77,\n",
              " datetime.datetime(2020, 5, 10, 0, 0): 78,\n",
              " datetime.datetime(2020, 5, 11, 0, 0): 80,\n",
              " datetime.datetime(2020, 5, 12, 0, 0): 79,\n",
              " datetime.datetime(2020, 5, 13, 0, 0): 80,\n",
              " datetime.datetime(2020, 5, 14, 0, 0): 81,\n",
              " datetime.datetime(2020, 5, 15, 0, 0): 81,\n",
              " datetime.datetime(2020, 5, 16, 0, 0): 80,\n",
              " datetime.datetime(2020, 5, 17, 0, 0): 82,\n",
              " datetime.datetime(2020, 5, 18, 0, 0): 84,\n",
              " datetime.datetime(2020, 5, 19, 0, 0): 83,\n",
              " datetime.datetime(2020, 5, 20, 0, 0): 81,\n",
              " datetime.datetime(2020, 5, 21, 0, 0): 82,\n",
              " datetime.datetime(2020, 5, 22, 0, 0): 84,\n",
              " datetime.datetime(2020, 5, 23, 0, 0): 84,\n",
              " datetime.datetime(2020, 5, 24, 0, 0): 84,\n",
              " datetime.datetime(2020, 5, 25, 0, 0): 85,\n",
              " datetime.datetime(2020, 5, 26, 0, 0): 87,\n",
              " datetime.datetime(2020, 5, 27, 0, 0): 85,\n",
              " datetime.datetime(2020, 5, 28, 0, 0): 84,\n",
              " datetime.datetime(2020, 5, 29, 0, 0): 84,\n",
              " datetime.datetime(2020, 5, 30, 0, 0): 86,\n",
              " datetime.datetime(2020, 5, 31, 0, 0): 88,\n",
              " datetime.datetime(2020, 6, 1, 0, 0): 88,\n",
              " datetime.datetime(2020, 6, 2, 0, 0): 89,\n",
              " datetime.datetime(2020, 6, 3, 0, 0): 89,\n",
              " datetime.datetime(2020, 6, 4, 0, 0): 87,\n",
              " datetime.datetime(2020, 6, 5, 0, 0): 86,\n",
              " datetime.datetime(2020, 6, 6, 0, 0): 86,\n",
              " datetime.datetime(2020, 6, 7, 0, 0): 84,\n",
              " datetime.datetime(2020, 6, 8, 0, 0): 82,\n",
              " datetime.datetime(2020, 6, 9, 0, 0): 84,\n",
              " datetime.datetime(2020, 6, 10, 0, 0): 84,\n",
              " datetime.datetime(2020, 6, 11, 0, 0): 86,\n",
              " datetime.datetime(2020, 6, 12, 0, 0): 87,\n",
              " datetime.datetime(2020, 6, 13, 0, 0): 87,\n",
              " datetime.datetime(2020, 6, 14, 0, 0): 85,\n",
              " datetime.datetime(2020, 6, 15, 0, 0): 84,\n",
              " datetime.datetime(2020, 6, 16, 0, 0): 82,\n",
              " datetime.datetime(2020, 6, 17, 0, 0): 83,\n",
              " datetime.datetime(2020, 6, 18, 0, 0): 85,\n",
              " datetime.datetime(2020, 6, 19, 0, 0): 87,\n",
              " datetime.datetime(2020, 6, 20, 0, 0): 89,\n",
              " datetime.datetime(2020, 6, 21, 0, 0): 88,\n",
              " datetime.datetime(2020, 6, 22, 0, 0): 86,\n",
              " datetime.datetime(2020, 6, 23, 0, 0): 85,\n",
              " datetime.datetime(2020, 6, 24, 0, 0): 83,\n",
              " datetime.datetime(2020, 6, 25, 0, 0): 83,\n",
              " datetime.datetime(2020, 6, 26, 0, 0): 85,\n",
              " datetime.datetime(2020, 6, 27, 0, 0): 84,\n",
              " datetime.datetime(2020, 6, 28, 0, 0): 84,\n",
              " datetime.datetime(2020, 6, 29, 0, 0): 82,\n",
              " datetime.datetime(2020, 6, 30, 0, 0): 84,\n",
              " datetime.datetime(2020, 7, 1, 0, 0): 86,\n",
              " datetime.datetime(2020, 7, 2, 0, 0): 84,\n",
              " datetime.datetime(2020, 7, 3, 0, 0): 82,\n",
              " datetime.datetime(2020, 7, 4, 0, 0): 81,\n",
              " datetime.datetime(2020, 7, 5, 0, 0): 83,\n",
              " datetime.datetime(2020, 7, 6, 0, 0): 83,\n",
              " datetime.datetime(2020, 7, 7, 0, 0): 85,\n",
              " datetime.datetime(2020, 7, 8, 0, 0): 83,\n",
              " datetime.datetime(2020, 7, 9, 0, 0): 81,\n",
              " datetime.datetime(2020, 7, 10, 0, 0): 79,\n",
              " datetime.datetime(2020, 7, 11, 0, 0): 80,\n",
              " datetime.datetime(2020, 7, 12, 0, 0): 79,\n",
              " datetime.datetime(2020, 7, 13, 0, 0): 78,\n",
              " datetime.datetime(2020, 7, 14, 0, 0): 78,\n",
              " datetime.datetime(2020, 7, 15, 0, 0): 77,\n",
              " datetime.datetime(2020, 7, 16, 0, 0): 77,\n",
              " datetime.datetime(2020, 7, 17, 0, 0): 77,\n",
              " datetime.datetime(2020, 7, 18, 0, 0): 78,\n",
              " datetime.datetime(2020, 7, 19, 0, 0): 80,\n",
              " datetime.datetime(2020, 7, 20, 0, 0): 81,\n",
              " datetime.datetime(2020, 7, 21, 0, 0): 79,\n",
              " datetime.datetime(2020, 7, 22, 0, 0): 78,\n",
              " datetime.datetime(2020, 7, 23, 0, 0): 79,\n",
              " datetime.datetime(2020, 7, 24, 0, 0): 80,\n",
              " datetime.datetime(2020, 7, 25, 0, 0): 78,\n",
              " datetime.datetime(2020, 7, 26, 0, 0): 80,\n",
              " datetime.datetime(2020, 7, 27, 0, 0): 82,\n",
              " datetime.datetime(2020, 7, 28, 0, 0): 82,\n",
              " datetime.datetime(2020, 7, 29, 0, 0): 84,\n",
              " datetime.datetime(2020, 7, 30, 0, 0): 84,\n",
              " datetime.datetime(2020, 7, 31, 0, 0): 83,\n",
              " datetime.datetime(2020, 8, 1, 0, 0): 84,\n",
              " datetime.datetime(2020, 8, 2, 0, 0): 84,\n",
              " datetime.datetime(2020, 8, 3, 0, 0): 83,\n",
              " datetime.datetime(2020, 8, 4, 0, 0): 82,\n",
              " datetime.datetime(2020, 8, 5, 0, 0): 80,\n",
              " datetime.datetime(2020, 8, 6, 0, 0): 81,\n",
              " datetime.datetime(2020, 8, 7, 0, 0): 82,\n",
              " datetime.datetime(2020, 8, 8, 0, 0): 82,\n",
              " datetime.datetime(2020, 8, 9, 0, 0): 82,\n",
              " datetime.datetime(2020, 8, 10, 0, 0): 83,\n",
              " datetime.datetime(2020, 8, 11, 0, 0): 84,\n",
              " datetime.datetime(2020, 8, 12, 0, 0): 84,\n",
              " datetime.datetime(2020, 8, 13, 0, 0): 86,\n",
              " datetime.datetime(2020, 8, 14, 0, 0): 85,\n",
              " datetime.datetime(2020, 8, 15, 0, 0): 85,\n",
              " datetime.datetime(2020, 8, 16, 0, 0): 85,\n",
              " datetime.datetime(2020, 8, 17, 0, 0): 87,\n",
              " datetime.datetime(2020, 8, 18, 0, 0): 85,\n",
              " datetime.datetime(2020, 8, 19, 0, 0): 83,\n",
              " datetime.datetime(2020, 8, 20, 0, 0): 84,\n",
              " datetime.datetime(2020, 8, 21, 0, 0): 84,\n",
              " datetime.datetime(2020, 8, 22, 0, 0): 86,\n",
              " datetime.datetime(2020, 8, 23, 0, 0): 86,\n",
              " datetime.datetime(2020, 8, 24, 0, 0): 85,\n",
              " datetime.datetime(2020, 8, 25, 0, 0): 87,\n",
              " datetime.datetime(2020, 8, 26, 0, 0): 87,\n",
              " datetime.datetime(2020, 8, 27, 0, 0): 85,\n",
              " datetime.datetime(2020, 8, 28, 0, 0): 84,\n",
              " datetime.datetime(2020, 8, 29, 0, 0): 86,\n",
              " datetime.datetime(2020, 8, 30, 0, 0): 84,\n",
              " datetime.datetime(2020, 8, 31, 0, 0): 83,\n",
              " datetime.datetime(2020, 9, 1, 0, 0): 83,\n",
              " datetime.datetime(2020, 9, 2, 0, 0): 82,\n",
              " datetime.datetime(2020, 9, 3, 0, 0): 83,\n",
              " datetime.datetime(2020, 9, 4, 0, 0): 81,\n",
              " datetime.datetime(2020, 9, 5, 0, 0): 81,\n",
              " datetime.datetime(2020, 9, 6, 0, 0): 79,\n",
              " datetime.datetime(2020, 9, 7, 0, 0): 80,\n",
              " datetime.datetime(2020, 9, 8, 0, 0): 82,\n",
              " datetime.datetime(2020, 9, 9, 0, 0): 81,\n",
              " datetime.datetime(2020, 9, 10, 0, 0): 80,\n",
              " datetime.datetime(2020, 9, 11, 0, 0): 78,\n",
              " datetime.datetime(2020, 9, 12, 0, 0): 77,\n",
              " datetime.datetime(2020, 9, 13, 0, 0): 79,\n",
              " datetime.datetime(2020, 9, 14, 0, 0): 77,\n",
              " datetime.datetime(2020, 9, 15, 0, 0): 75,\n",
              " datetime.datetime(2020, 9, 16, 0, 0): 75,\n",
              " datetime.datetime(2020, 9, 17, 0, 0): 75,\n",
              " datetime.datetime(2020, 9, 18, 0, 0): 77,\n",
              " datetime.datetime(2020, 9, 19, 0, 0): 79,\n",
              " datetime.datetime(2020, 9, 20, 0, 0): 78,\n",
              " datetime.datetime(2020, 9, 21, 0, 0): 76,\n",
              " datetime.datetime(2020, 9, 22, 0, 0): 75,\n",
              " datetime.datetime(2020, 9, 23, 0, 0): 73,\n",
              " datetime.datetime(2020, 9, 24, 0, 0): 72,\n",
              " datetime.datetime(2020, 9, 25, 0, 0): 71,\n",
              " datetime.datetime(2020, 9, 26, 0, 0): 71,\n",
              " datetime.datetime(2020, 9, 27, 0, 0): 69,\n",
              " datetime.datetime(2020, 9, 28, 0, 0): 71,\n",
              " datetime.datetime(2020, 9, 29, 0, 0): 71,\n",
              " datetime.datetime(2020, 9, 30, 0, 0): 71,\n",
              " datetime.datetime(2020, 10, 1, 0, 0): 73,\n",
              " datetime.datetime(2020, 10, 2, 0, 0): 73,\n",
              " datetime.datetime(2020, 10, 3, 0, 0): 72,\n",
              " datetime.datetime(2020, 10, 4, 0, 0): 71,\n",
              " datetime.datetime(2020, 10, 5, 0, 0): 70,\n",
              " datetime.datetime(2020, 10, 6, 0, 0): 68,\n",
              " datetime.datetime(2020, 10, 7, 0, 0): 66,\n",
              " datetime.datetime(2020, 10, 8, 0, 0): 65,\n",
              " datetime.datetime(2020, 10, 9, 0, 0): 63,\n",
              " datetime.datetime(2020, 10, 10, 0, 0): 63,\n",
              " datetime.datetime(2020, 10, 11, 0, 0): 64,\n",
              " datetime.datetime(2020, 10, 12, 0, 0): 62,\n",
              " datetime.datetime(2020, 10, 13, 0, 0): 61,\n",
              " datetime.datetime(2020, 10, 14, 0, 0): 60,\n",
              " datetime.datetime(2020, 10, 15, 0, 0): 61,\n",
              " datetime.datetime(2020, 10, 16, 0, 0): 62,\n",
              " datetime.datetime(2020, 10, 17, 0, 0): 64,\n",
              " datetime.datetime(2020, 10, 18, 0, 0): 66,\n",
              " datetime.datetime(2020, 10, 19, 0, 0): 67,\n",
              " datetime.datetime(2020, 10, 20, 0, 0): 69,\n",
              " datetime.datetime(2020, 10, 21, 0, 0): 69,\n",
              " datetime.datetime(2020, 10, 22, 0, 0): 69,\n",
              " datetime.datetime(2020, 10, 23, 0, 0): 70,\n",
              " datetime.datetime(2020, 10, 24, 0, 0): 71,\n",
              " datetime.datetime(2020, 10, 25, 0, 0): 69,\n",
              " datetime.datetime(2020, 10, 26, 0, 0): 67,\n",
              " datetime.datetime(2020, 10, 27, 0, 0): 66,\n",
              " datetime.datetime(2020, 10, 28, 0, 0): 65,\n",
              " datetime.datetime(2020, 10, 29, 0, 0): 65,\n",
              " datetime.datetime(2020, 10, 30, 0, 0): 64,\n",
              " datetime.datetime(2020, 10, 31, 0, 0): 64,\n",
              " datetime.datetime(2020, 11, 1, 0, 0): 63,\n",
              " datetime.datetime(2020, 11, 2, 0, 0): 63,\n",
              " datetime.datetime(2020, 11, 3, 0, 0): 65,\n",
              " datetime.datetime(2020, 11, 4, 0, 0): 64,\n",
              " datetime.datetime(2020, 11, 5, 0, 0): 66,\n",
              " datetime.datetime(2020, 11, 6, 0, 0): 66,\n",
              " datetime.datetime(2020, 11, 7, 0, 0): 67,\n",
              " datetime.datetime(2020, 11, 8, 0, 0): 67,\n",
              " datetime.datetime(2020, 11, 9, 0, 0): 69,\n",
              " datetime.datetime(2020, 11, 10, 0, 0): 67,\n",
              " datetime.datetime(2020, 11, 11, 0, 0): 66,\n",
              " datetime.datetime(2020, 11, 12, 0, 0): 65,\n",
              " datetime.datetime(2020, 11, 13, 0, 0): 65,\n",
              " datetime.datetime(2020, 11, 14, 0, 0): 64,\n",
              " datetime.datetime(2020, 11, 15, 0, 0): 66,\n",
              " datetime.datetime(2020, 11, 16, 0, 0): 65,\n",
              " datetime.datetime(2020, 11, 17, 0, 0): 63,\n",
              " datetime.datetime(2020, 11, 18, 0, 0): 61,\n",
              " datetime.datetime(2020, 11, 19, 0, 0): 59,\n",
              " datetime.datetime(2020, 11, 20, 0, 0): 58,\n",
              " datetime.datetime(2020, 11, 21, 0, 0): 58,\n",
              " datetime.datetime(2020, 11, 22, 0, 0): 58,\n",
              " datetime.datetime(2020, 11, 23, 0, 0): 60,\n",
              " datetime.datetime(2020, 11, 24, 0, 0): 61,\n",
              " datetime.datetime(2020, 11, 25, 0, 0): 59,\n",
              " datetime.datetime(2020, 11, 26, 0, 0): 59,\n",
              " datetime.datetime(2020, 11, 27, 0, 0): 60,\n",
              " datetime.datetime(2020, 11, 28, 0, 0): 59,\n",
              " datetime.datetime(2020, 11, 29, 0, 0): 58,\n",
              " datetime.datetime(2020, 11, 30, 0, 0): 59,\n",
              " datetime.datetime(2020, 12, 1, 0, 0): 61,\n",
              " datetime.datetime(2020, 12, 2, 0, 0): 62,\n",
              " datetime.datetime(2020, 12, 3, 0, 0): 62,\n",
              " datetime.datetime(2020, 12, 4, 0, 0): 62,\n",
              " datetime.datetime(2020, 12, 5, 0, 0): 60,\n",
              " datetime.datetime(2020, 12, 6, 0, 0): 61,\n",
              " datetime.datetime(2020, 12, 7, 0, 0): 60,\n",
              " datetime.datetime(2020, 12, 8, 0, 0): 61,\n",
              " datetime.datetime(2020, 12, 9, 0, 0): 59,\n",
              " datetime.datetime(2020, 12, 10, 0, 0): 60,\n",
              " datetime.datetime(2020, 12, 11, 0, 0): 59,\n",
              " datetime.datetime(2020, 12, 12, 0, 0): 57,\n",
              " datetime.datetime(2020, 12, 13, 0, 0): 57,\n",
              " datetime.datetime(2020, 12, 14, 0, 0): 57,\n",
              " datetime.datetime(2020, 12, 15, 0, 0): 59,\n",
              " datetime.datetime(2020, 12, 16, 0, 0): 61,\n",
              " datetime.datetime(2020, 12, 17, 0, 0): 59,\n",
              " datetime.datetime(2020, 12, 18, 0, 0): 57,\n",
              " datetime.datetime(2020, 12, 19, 0, 0): 58,\n",
              " datetime.datetime(2020, 12, 20, 0, 0): 57,\n",
              " datetime.datetime(2020, 12, 21, 0, 0): 59,\n",
              " datetime.datetime(2020, 12, 22, 0, 0): 57,\n",
              " datetime.datetime(2020, 12, 23, 0, 0): 56,\n",
              " datetime.datetime(2020, 12, 24, 0, 0): 58,\n",
              " datetime.datetime(2020, 12, 25, 0, 0): 57,\n",
              " datetime.datetime(2020, 12, 26, 0, 0): 59,\n",
              " datetime.datetime(2020, 12, 27, 0, 0): 59,\n",
              " datetime.datetime(2020, 12, 28, 0, 0): 61,\n",
              " datetime.datetime(2020, 12, 29, 0, 0): 59,\n",
              " datetime.datetime(2020, 12, 30, 0, 0): 57}"
            ]
          },
          "metadata": {},
          "execution_count": 145
        }
      ]
    },
    {
      "cell_type": "code",
      "source": [
        "stage_data['Station 2'][datetime(2020, 8, 30)]"
      ],
      "metadata": {
        "colab": {
          "base_uri": "https://localhost:8080/"
        },
        "id": "27MoTYO7yXLw",
        "outputId": "126d6fdb-b1d7-44cf-9f20-37c9453440b2"
      },
      "execution_count": 147,
      "outputs": [
        {
          "output_type": "execute_result",
          "data": {
            "text/plain": [
              "84"
            ]
          },
          "metadata": {},
          "execution_count": 147
        }
      ]
    },
    {
      "cell_type": "code",
      "source": [
        "plt.figure(figsize=(15, 5))\n",
        "\n",
        "for station in stations:\n",
        "    plt.plot(list(stage_data[station].keys()), list(stage_data[station].values()), label=station)\n",
        "\n",
        "plt.legend()"
      ],
      "metadata": {
        "colab": {
          "base_uri": "https://localhost:8080/",
          "height": 462
        },
        "id": "9S6tbAVD0N5b",
        "outputId": "87f5c57a-8b44-4541-e109-241cf19517b2"
      },
      "execution_count": 148,
      "outputs": [
        {
          "output_type": "execute_result",
          "data": {
            "text/plain": [
              "<matplotlib.legend.Legend at 0x7f2b5dbe21d0>"
            ]
          },
          "metadata": {},
          "execution_count": 148
        },
        {
          "output_type": "display_data",
          "data": {
            "text/plain": [
              "<Figure size 1500x500 with 1 Axes>"
            ],
            "image/png": "[encoded data removed]"
          },
          "metadata": {}
        }
      ]
    },
    {
      "cell_type": "code",
      "source": [],
      "metadata": {
        "id": "DUJO2nRIU2W8"
      },
      "execution_count": null,
      "outputs": []
    },
    {
      "cell_type": "code",
      "source": [],
      "metadata": {
        "id": "SuK9GlwaU2U0"
      },
      "execution_count": null,
      "outputs": []
    },
    {
      "cell_type": "code",
      "source": [],
      "metadata": {
        "id": "O02KII7xU2SM"
      },
      "execution_count": null,
      "outputs": []
    },
    {
      "cell_type": "markdown",
      "source": [
        "Doesn't it seem ackward? Dictionary inside another dictionary?"
      ],
      "metadata": {
        "id": "fG7DMt1U0aol"
      }
    },
    {
      "cell_type": "code",
      "source": [
        "# the indices are perfectly aligned\n",
        "import pandas as pd\n",
        "\n",
        "df = pd.DataFrame(stage_data)\n",
        "\n",
        "df"
      ],
      "metadata": {
        "colab": {
          "base_uri": "https://localhost:8080/",
          "height": 424
        },
        "id": "AeK5K0gC0RCS",
        "outputId": "0bf7562a-91d1-48c2-9ab1-ddb3b6ce6bf4"
      },
      "execution_count": 149,
      "outputs": [
        {
          "output_type": "execute_result",
          "data": {
            "text/plain": [
              "            Station 1  Station 2  Station 3\n",
              "2020-01-01         80         73         98\n",
              "2020-01-02         80         75         99\n",
              "2020-01-03         78         76         98\n",
              "2020-01-04         79         78        100\n",
              "2020-01-05         80         76         99\n",
              "...               ...        ...        ...\n",
              "2020-12-26         60         59        109\n",
              "2020-12-27         58         59        110\n",
              "2020-12-28         58         61        108\n",
              "2020-12-29         56         59        107\n",
              "2020-12-30         55         57        106\n",
              "\n",
              "[365 rows x 3 columns]"
            ],
            "text/html": [
              "\n",
              "  <div id=\"df-7ce5037e-6caf-4175-90ac-4965e8fbd204\">\n",
              "    <div class=\"colab-df-container\">\n",
              "      <div>\n",
              "<style scoped>\n",
              "    .dataframe tbody tr th:only-of-type {\n",
              "        vertical-align: middle;\n",
              "    }\n",
              "\n",
              "    .dataframe tbody tr th {\n",
              "        vertical-align: top;\n",
              "    }\n",
              "\n",
              "    .dataframe thead th {\n",
              "        text-align: right;\n",
              "    }\n",
              "</style>\n",
              "<table border=\"1\" class=\"dataframe\">\n",
              "  <thead>\n",
              "    <tr style=\"text-align: right;\">\n",
              "      <th></th>\n",
              "      <th>Station 1</th>\n",
              "      <th>Station 2</th>\n",
              "      <th>Station 3</th>\n",
              "    </tr>\n",
              "  </thead>\n",
              "  <tbody>\n",
              "    <tr>\n",
              "      <th>2020-01-01</th>\n",
              "      <td>80</td>\n",
              "      <td>73</td>\n",
              "      <td>98</td>\n",
              "    </tr>\n",
              "    <tr>\n",
              "      <th>2020-01-02</th>\n",
              "      <td>80</td>\n",
              "      <td>75</td>\n",
              "      <td>99</td>\n",
              "    </tr>\n",
              "    <tr>\n",
              "      <th>2020-01-03</th>\n",
              "      <td>78</td>\n",
              "      <td>76</td>\n",
              "      <td>98</td>\n",
              "    </tr>\n",
              "    <tr>\n",
              "      <th>2020-01-04</th>\n",
              "      <td>79</td>\n",
              "      <td>78</td>\n",
              "      <td>100</td>\n",
              "    </tr>\n",
              "    <tr>\n",
              "      <th>2020-01-05</th>\n",
              "      <td>80</td>\n",
              "      <td>76</td>\n",
              "      <td>99</td>\n",
              "    </tr>\n",
              "    <tr>\n",
              "      <th>...</th>\n",
              "      <td>...</td>\n",
              "      <td>...</td>\n",
              "      <td>...</td>\n",
              "    </tr>\n",
              "    <tr>\n",
              "      <th>2020-12-26</th>\n",
              "      <td>60</td>\n",
              "      <td>59</td>\n",
              "      <td>109</td>\n",
              "    </tr>\n",
              "    <tr>\n",
              "      <th>2020-12-27</th>\n",
              "      <td>58</td>\n",
              "      <td>59</td>\n",
              "      <td>110</td>\n",
              "    </tr>\n",
              "    <tr>\n",
              "      <th>2020-12-28</th>\n",
              "      <td>58</td>\n",
              "      <td>61</td>\n",
              "      <td>108</td>\n",
              "    </tr>\n",
              "    <tr>\n",
              "      <th>2020-12-29</th>\n",
              "      <td>56</td>\n",
              "      <td>59</td>\n",
              "      <td>107</td>\n",
              "    </tr>\n",
              "    <tr>\n",
              "      <th>2020-12-30</th>\n",
              "      <td>55</td>\n",
              "      <td>57</td>\n",
              "      <td>106</td>\n",
              "    </tr>\n",
              "  </tbody>\n",
              "</table>\n",
              "<p>365 rows × 3 columns</p>\n",
              "</div>\n",
              "      <button class=\"colab-df-convert\" onclick=\"convertToInteractive('df-7ce5037e-6caf-4175-90ac-4965e8fbd204')\"\n",
              "              title=\"Convert this dataframe to an interactive table.\"\n",
              "              style=\"display:none;\">\n",
              "        \n",
              "  <svg xmlns=\"http://www.w3.org/2000/svg\" height=\"24px\"viewBox=\"0 0 24 24\"\n",
              "       width=\"24px\">\n",
              "    <path d=\"M0 0h24v24H0V0z\" fill=\"none\"/>\n",
              "    <path d=\"M18.56 5.44l.94 2.06.94-2.06 2.06-.94-2.06-.94-.94-2.06-.94 2.06-2.06.94zm-11 1L8.5 8.5l.94-2.06 2.06-.94-2.06-.94L8.5 2.5l-.94 2.06-2.06.94zm10 10l.94 2.06.94-2.06 2.06-.94-2.06-.94-.94-2.06-.94 2.06-2.06.94z\"/><path d=\"M17.41 7.96l-1.37-1.37c-.4-.4-.92-.59-1.43-.59-.52 0-1.04.2-1.43.59L10.3 9.45l-7.72 7.72c-.78.78-.78 2.05 0 2.83L4 21.41c.39.39.9.59 1.41.59.51 0 1.02-.2 1.41-.59l7.78-7.78 2.81-2.81c.8-.78.8-2.07 0-2.86zM5.41 20L4 18.59l7.72-7.72 1.47 1.35L5.41 20z\"/>\n",
              "  </svg>\n",
              "      </button>\n",
              "      \n",
              "  <style>\n",
              "    .colab-df-container {\n",
              "      display:flex;\n",
              "      flex-wrap:wrap;\n",
              "      gap: 12px;\n",
              "    }\n",
              "\n",
              "    .colab-df-convert {\n",
              "      background-color: #E8F0FE;\n",
              "      border: none;\n",
              "      border-radius: 50%;\n",
              "      cursor: pointer;\n",
              "      display: none;\n",
              "      fill: #1967D2;\n",
              "      height: 32px;\n",
              "      padding: 0 0 0 0;\n",
              "      width: 32px;\n",
              "    }\n",
              "\n",
              "    .colab-df-convert:hover {\n",
              "      background-color: #E2EBFA;\n",
              "      box-shadow: 0px 1px 2px rgba(60, 64, 67, 0.3), 0px 1px 3px 1px rgba(60, 64, 67, 0.15);\n",
              "      fill: #174EA6;\n",
              "    }\n",
              "\n",
              "    [theme=dark] .colab-df-convert {\n",
              "      background-color: #3B4455;\n",
              "      fill: #D2E3FC;\n",
              "    }\n",
              "\n",
              "    [theme=dark] .colab-df-convert:hover {\n",
              "      background-color: #434B5C;\n",
              "      box-shadow: 0px 1px 3px 1px rgba(0, 0, 0, 0.15);\n",
              "      filter: drop-shadow(0px 1px 2px rgba(0, 0, 0, 0.3));\n",
              "      fill: #FFFFFF;\n",
              "    }\n",
              "  </style>\n",
              "\n",
              "      <script>\n",
              "        const buttonEl =\n",
              "          document.querySelector('#df-7ce5037e-6caf-4175-90ac-4965e8fbd204 button.colab-df-convert');\n",
              "        buttonEl.style.display =\n",
              "          google.colab.kernel.accessAllowed ? 'block' : 'none';\n",
              "\n",
              "        async function convertToInteractive(key) {\n",
              "          const element = document.querySelector('#df-7ce5037e-6caf-4175-90ac-4965e8fbd204');\n",
              "          const dataTable =\n",
              "            await google.colab.kernel.invokeFunction('convertToInteractive',\n",
              "                                                     [key], {});\n",
              "          if (!dataTable) return;\n",
              "\n",
              "          const docLinkHtml = 'Like what you see? Visit the ' +\n",
              "            '<a target=\"_blank\" href=https://colab.research.google.com/notebooks/data_table.ipynb>data table notebook</a>'\n",
              "            + ' to learn more about interactive tables.';\n",
              "          element.innerHTML = '';\n",
              "          dataTable['output_type'] = 'display_data';\n",
              "          await google.colab.output.renderOutput(dataTable, element);\n",
              "          const docLink = document.createElement('div');\n",
              "          docLink.innerHTML = docLinkHtml;\n",
              "          element.appendChild(docLink);\n",
              "        }\n",
              "      </script>\n",
              "    </div>\n",
              "  </div>\n",
              "  "
            ]
          },
          "metadata": {},
          "execution_count": 149
        }
      ]
    },
    {
      "cell_type": "code",
      "source": [
        "df.plot(figsize=(15, 5))"
      ],
      "metadata": {
        "colab": {
          "base_uri": "https://localhost:8080/",
          "height": 478
        },
        "id": "Ax72AusNVgoY",
        "outputId": "d1814de3-d534-4146-ecd7-8b6c2c2ca1c9"
      },
      "execution_count": 152,
      "outputs": [
        {
          "output_type": "execute_result",
          "data": {
            "text/plain": [
              "<Axes: >"
            ]
          },
          "metadata": {},
          "execution_count": 152
        },
        {
          "output_type": "display_data",
          "data": {
            "text/plain": [
              "<Figure size 1500x500 with 1 Axes>"
            ],
            "image/png": "[encoded data removed]"
          },
          "metadata": {}
        }
      ]
    },
    {
      "cell_type": "code",
      "source": [],
      "metadata": {
        "id": "3-RJD2FtVqgF"
      },
      "execution_count": null,
      "outputs": []
    },
    {
      "cell_type": "markdown",
      "source": [
        "## Exercise"
      ],
      "metadata": {
        "id": "ju0HsACm0m_Z"
      }
    },
    {
      "cell_type": "markdown",
      "source": [
        "![image.png](data:image/png;base64,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)"
      ],
      "metadata": {
        "id": "OWZnkH3U0oqf"
      }
    },
    {
      "cell_type": "markdown",
      "source": [
        "* The daily discharge on the main river?\n",
        "* The mean discharge on the main river?\n",
        "* The monthly mean discharge on the main river?\n",
        "* The days of maximum and minimum discharge?\n",
        "\n",
        "Using the pandas dataframe or not???"
      ],
      "metadata": {
        "id": "cQ77GclI0s8e"
      }
    },
    {
      "cell_type": "code",
      "source": [],
      "metadata": {
        "id": "0FqhSVMu0foW"
      },
      "execution_count": null,
      "outputs": []
    }
  ]
}