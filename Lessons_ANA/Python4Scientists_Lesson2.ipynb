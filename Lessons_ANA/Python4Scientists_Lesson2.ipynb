{
  "cells": [
    {
      "attachments": {},
      "cell_type": "markdown",
      "metadata": {
        "id": "OUSWUi1Efp25"
      },
      "source": [
        "# Lesson 2 - Flow Control"
      ]
    },
    {
      "cell_type": "markdown",
      "metadata": {
        "id": "NdrUIVuRpXQt"
      },
      "source": [
        "### Acessing object members"
      ]
    },
    {
      "cell_type": "code",
      "execution_count": 123,
      "metadata": {
        "id": "IKksl8dnqpPR"
      },
      "outputs": [],
      "source": [
        "lst = [5, 4, 3, 2., 1]"
      ]
    },
    {
      "cell_type": "code",
      "execution_count": 125,
      "metadata": {
        "colab": {
          "base_uri": "https://localhost:8080/"
        },
        "id": "Lqcbm7DxqpMr",
        "outputId": "43f356c2-c4a6-4383-e9bc-0c10e7237631"
      },
      "outputs": [
        {
          "name": "stdout",
          "output_type": "stream",
          "text": [
            "Help on built-in function sort:\n",
            "\n",
            "sort(*, key=None, reverse=False) method of builtins.list instance\n",
            "    Sort the list in ascending order and return None.\n",
            "    \n",
            "    The sort is in-place (i.e. the list itself is modified) and stable (i.e. the\n",
            "    order of two equal elements is maintained).\n",
            "    \n",
            "    If a key function is given, apply it once to each list item and sort them,\n",
            "    ascending or descending, according to their function values.\n",
            "    \n",
            "    The reverse flag can be set to sort in descending order.\n",
            "\n"
          ]
        }
      ],
      "source": [
        "help(lst.sort)"
      ]
    },
    {
      "cell_type": "code",
      "execution_count": 119,
      "metadata": {
        "id": "jHkhMMoDqpKB"
      },
      "outputs": [],
      "source": [
        "lst.sort(reverse=True)"
      ]
    },
    {
      "cell_type": "code",
      "execution_count": 120,
      "metadata": {
        "colab": {
          "base_uri": "https://localhost:8080/"
        },
        "id": "3MJawq33rdW4",
        "outputId": "5b7c24f2-acce-4146-d432-2af75619950d"
      },
      "outputs": [
        {
          "data": {
            "text/plain": [
              "[5, 4, 3, 2, 1]"
            ]
          },
          "execution_count": 120,
          "metadata": {},
          "output_type": "execute_result"
        }
      ],
      "source": [
        "lst"
      ]
    },
    {
      "cell_type": "code",
      "execution_count": null,
      "metadata": {
        "colab": {
          "base_uri": "https://localhost:8080/"
        },
        "id": "CTtzXZ4lg2dL",
        "outputId": "d2bf23ab-1d04-4191-d423-f00c5546f295"
      },
      "outputs": [
        {
          "data": {
            "text/plain": [
              "list"
            ]
          },
          "execution_count": 67,
          "metadata": {},
          "output_type": "execute_result"
        }
      ],
      "source": [
        "type(lst)"
      ]
    },
    {
      "cell_type": "code",
      "execution_count": null,
      "metadata": {
        "id": "cYTsf9K6pc1u"
      },
      "outputs": [],
      "source": [
        "# crtl+space\n",
        "lst.index?"
      ]
    },
    {
      "cell_type": "code",
      "execution_count": null,
      "metadata": {
        "colab": {
          "base_uri": "https://localhost:8080/"
        },
        "id": "5DeVZZrY5-R1",
        "outputId": "e341e71b-416a-471f-99a8-1a767f5a0620"
      },
      "outputs": [
        {
          "data": {
            "text/plain": [
              "3"
            ]
          },
          "execution_count": 69,
          "metadata": {},
          "output_type": "execute_result"
        }
      ],
      "source": [
        "lst.index(4)"
      ]
    },
    {
      "cell_type": "code",
      "execution_count": null,
      "metadata": {
        "colab": {
          "base_uri": "https://localhost:8080/"
        },
        "id": "5qkO73kDpczT",
        "outputId": "e4e361a7-31ec-4e55-ec82-e62b5895af72"
      },
      "outputs": [
        {
          "name": "stdout",
          "output_type": "stream",
          "text": [
            "Help on built-in function append:\n",
            "\n",
            "append(object, /) method of builtins.list instance\n",
            "    Append object to the end of the list.\n",
            "\n"
          ]
        }
      ],
      "source": [
        "help(lst.append)"
      ]
    },
    {
      "cell_type": "code",
      "execution_count": null,
      "metadata": {
        "id": "MNOoZw9Zqg0g"
      },
      "outputs": [],
      "source": [
        "lst.append?"
      ]
    },
    {
      "cell_type": "code",
      "execution_count": null,
      "metadata": {
        "colab": {
          "base_uri": "https://localhost:8080/"
        },
        "id": "JBpFu3kapcw0",
        "outputId": "0b8e44ee-f37c-4b74-c6d8-5545750da79a"
      },
      "outputs": [
        {
          "data": {
            "text/plain": [
              "[1, 'Hello', 3.5, 4, ['innerList_item1', 'innerList_item2'], 6, 'last element']"
            ]
          },
          "execution_count": 70,
          "metadata": {},
          "output_type": "execute_result"
        }
      ],
      "source": [
        "lst.append('last element')\n",
        "lst"
      ]
    },
    {
      "cell_type": "code",
      "execution_count": null,
      "metadata": {
        "colab": {
          "base_uri": "https://localhost:8080/"
        },
        "id": "uLLIK6_fpcuT",
        "outputId": "9385b4af-1295-4f53-b10f-024e6890e854"
      },
      "outputs": [
        {
          "data": {
            "text/plain": [
              "7"
            ]
          },
          "execution_count": 71,
          "metadata": {},
          "output_type": "execute_result"
        }
      ],
      "source": [
        "len(lst)"
      ]
    },
    {
      "cell_type": "code",
      "execution_count": null,
      "metadata": {
        "colab": {
          "base_uri": "https://localhost:8080/"
        },
        "id": "YO3aeTbFpcr-",
        "outputId": "9878902a-a595-405c-9aa7-6e2a7a9d5452"
      },
      "outputs": [
        {
          "data": {
            "text/plain": [
              "1"
            ]
          },
          "execution_count": 72,
          "metadata": {},
          "output_type": "execute_result"
        }
      ],
      "source": [
        "lst.index('Hello')"
      ]
    },
    {
      "cell_type": "code",
      "execution_count": null,
      "metadata": {
        "id": "roimLMoC6Rr5"
      },
      "outputs": [],
      "source": [
        "lst[-1] = 'last'"
      ]
    },
    {
      "cell_type": "code",
      "execution_count": null,
      "metadata": {
        "colab": {
          "base_uri": "https://localhost:8080/"
        },
        "id": "Glm6kLOc6gbn",
        "outputId": "22b71f4f-ff30-4ad1-81fc-5e3715f81042"
      },
      "outputs": [
        {
          "data": {
            "text/plain": [
              "[1, 'Hello', 3.5, 4, ['innerList_item1', 'innerList_item2'], 6, 'last']"
            ]
          },
          "execution_count": 75,
          "metadata": {},
          "output_type": "execute_result"
        }
      ],
      "source": [
        "lst"
      ]
    },
    {
      "cell_type": "markdown",
      "metadata": {
        "id": "gsZc2PbQrP0t"
      },
      "source": [
        "### String Members"
      ]
    },
    {
      "cell_type": "code",
      "execution_count": null,
      "metadata": {
        "colab": {
          "base_uri": "https://localhost:8080/",
          "height": 35
        },
        "id": "9kpCBb12hy-u",
        "outputId": "65c55350-e0a4-4116-ed96-280cd99e7d93"
      },
      "outputs": [
        {
          "data": {
            "application/vnd.google.colaboratory.intrinsic+json": {
              "type": "string"
            },
            "text/plain": [
              "'Hi world!'"
            ]
          },
          "execution_count": 79,
          "metadata": {},
          "output_type": "execute_result"
        }
      ],
      "source": [
        "s.replace('Hello', 'Hi')"
      ]
    },
    {
      "cell_type": "code",
      "execution_count": null,
      "metadata": {
        "colab": {
          "base_uri": "https://localhost:8080/",
          "height": 35
        },
        "id": "CgcC__BMqKLt",
        "outputId": "1d25febd-5dc7-4631-ba00-223395b0757e"
      },
      "outputs": [
        {
          "data": {
            "application/vnd.google.colaboratory.intrinsic+json": {
              "type": "string"
            },
            "text/plain": [
              "'hello world!'"
            ]
          },
          "execution_count": 80,
          "metadata": {},
          "output_type": "execute_result"
        }
      ],
      "source": [
        "s.lower()"
      ]
    },
    {
      "cell_type": "code",
      "execution_count": null,
      "metadata": {
        "colab": {
          "base_uri": "https://localhost:8080/",
          "height": 35
        },
        "id": "wOxsLhpOqKTT",
        "outputId": "194ab325-67c0-4171-eadb-2e23eb2f9a8e"
      },
      "outputs": [
        {
          "data": {
            "application/vnd.google.colaboratory.intrinsic+json": {
              "type": "string"
            },
            "text/plain": [
              "'hELLO WORLD!'"
            ]
          },
          "execution_count": 81,
          "metadata": {},
          "output_type": "execute_result"
        }
      ],
      "source": [
        "s.swapcase()"
      ]
    },
    {
      "cell_type": "code",
      "execution_count": null,
      "metadata": {
        "colab": {
          "base_uri": "https://localhost:8080/"
        },
        "id": "sPpIkV9MqKVp",
        "outputId": "46262cc0-e6a8-414a-9f9a-d1d9fd216f4d"
      },
      "outputs": [
        {
          "data": {
            "text/plain": [
              "True"
            ]
          },
          "execution_count": 82,
          "metadata": {},
          "output_type": "execute_result"
        }
      ],
      "source": [
        "'234'.isnumeric()"
      ]
    },
    {
      "cell_type": "code",
      "execution_count": null,
      "metadata": {
        "id": "oOiYTIw1qKOU"
      },
      "outputs": [],
      "source": [
        "s.isnumeric?"
      ]
    },
    {
      "cell_type": "markdown",
      "metadata": {
        "id": "mbecMW-6vjjV"
      },
      "source": [
        "We will now see how to control the flow execution of a program. <br>There are important structures missing like **tuples**, **dictionaries**, **sets**, etc... <br>We will come back to them afterwards."
      ]
    },
    {
      "cell_type": "markdown",
      "metadata": {
        "id": "LbikOH_XuvLZ"
      },
      "source": [
        "## Flow control"
      ]
    },
    {
      "cell_type": "markdown",
      "metadata": {
        "id": "_7JaVjFbvPI6"
      },
      "source": [
        "### If-statement (if-then-else)\n",
        "\n"
      ]
    },
    {
      "cell_type": "markdown",
      "metadata": {
        "id": "BbA4AQ0D1BB4"
      },
      "source": [
        "**basic usage is:** <br>\n",
        "if condition:<br>\n",
        "> flow if condition is satisfied<br>\n",
        "\n",
        "else:<br>\n",
        "> flow if condition is not satisfied<br>\n",
        "<br>\n",
        "\n",
        "**Extended version:**<br>\n",
        "if condition:<br>\n",
        "> flow if condition is satisfied<br>\n",
        "\n",
        "elif condition2:<br>\n",
        "> flow if condition2 is satisfied<br>\n",
        "\n",
        "elif condition3:<br>\n",
        "> flow if condition3 is satisfied<br>\n",
        "\n",
        "else:<br>\n",
        "> flow if now condition is satisfied<br>\n",
        "\n",
        "<br>\n",
        "<br>\n",
        "Condition is always a <b>boolean</b>"
      ]
    },
    {
      "cell_type": "code",
      "execution_count": null,
      "metadata": {
        "colab": {
          "base_uri": "https://localhost:8080/"
        },
        "id": "Nnhyy3KMig2y",
        "outputId": "27483d42-a4fd-4f74-d9d5-8a0e40ed70d6"
      },
      "outputs": [
        {
          "name": "stdout",
          "output_type": "stream",
          "text": [
            "18276748451\n",
            "This number is odd\n"
          ]
        }
      ],
      "source": [
        "# indent\n",
        "\n",
        "x = 18276748451\n",
        "\n",
        "if x % 2 == 0:\n",
        "    print(x)\n",
        "    print('This number is even')\n",
        "\n",
        "else:\n",
        "    print(x)\n",
        "    print('This number is odd')\n",
        "\n"
      ]
    },
    {
      "cell_type": "code",
      "execution_count": null,
      "metadata": {
        "colab": {
          "base_uri": "https://localhost:8080/"
        },
        "id": "jznFvnnAkwv5",
        "outputId": "74d1391d-a0b0-4738-feba-b5f4fb219655"
      },
      "outputs": [
        {
          "name": "stdout",
          "output_type": "stream",
          "text": [
            "Please, enter an integer:2\n",
            "Positive\n",
            "finished\n"
          ]
        }
      ],
      "source": [
        "x = input(\"Please, enter an integer:\")\n",
        "\n",
        "# The result of the input function is always a string.\n",
        "# We have to convert it to an integer before proceeding.\n",
        "x = int(x)\n",
        "\n",
        "if x < 0:\n",
        "    print('Negative')\n",
        "\n",
        "elif x > 0:\n",
        "    print('Positive')\n",
        "\n",
        "else:\n",
        "    print('Zero')\n",
        "\n",
        "print('finished')"
      ]
    },
    {
      "cell_type": "markdown",
      "metadata": {
        "id": "TuoTkr24zWbH"
      },
      "source": [
        "### While statement\n"
      ]
    },
    {
      "cell_type": "markdown",
      "metadata": {
        "id": "WQFn6n-41DYX"
      },
      "source": [
        "\n",
        "while condition (is met):\n",
        "> do something"
      ]
    },
    {
      "cell_type": "code",
      "execution_count": null,
      "metadata": {
        "id": "vNk4H89Wsb42"
      },
      "outputs": [],
      "source": [
        "# good to count\n",
        "start = 1\n",
        "end = 1000\n",
        "\n",
        "while start <= end:\n",
        "    print(start)\n",
        "    start = start + 1"
      ]
    },
    {
      "cell_type": "code",
      "execution_count": null,
      "metadata": {
        "id": "e9HwvKa2sb2M"
      },
      "outputs": [],
      "source": [
        "# combine flow control and loops (printing just numbers divisable by 3)\n",
        "i = 0\n",
        "while i <= 100:\n",
        "  if i % 3 == 0:\n",
        "      print(i)\n",
        "\n",
        "  i = i + 1"
      ]
    },
    {
      "cell_type": "code",
      "execution_count": null,
      "metadata": {
        "colab": {
          "base_uri": "https://localhost:8080/",
          "height": 35
        },
        "id": "iz8u5vt4mpuu",
        "outputId": "68560208-e7f8-4fdf-e4f9-6220d202341a"
      },
      "outputs": [
        {
          "data": {
            "application/vnd.google.colaboratory.intrinsic+json": {
              "type": "string"
            },
            "text/plain": [
              "'[0, 3, 6, 9, 12, 15, 18, 21, 24, 27, 30, 33, 36, 39, 42, 45, 48, 51, 54, 57, 60, 63, 66, 69, 72, 75, 78, 81, 84, 87, 90, 93, 96, 99]'"
            ]
          },
          "execution_count": 95,
          "metadata": {},
          "output_type": "execute_result"
        }
      ],
      "source": [
        "# Create a list with number divisible by 3 from 0 to 100\n",
        "current_number = 0\n",
        "lst = []\n",
        "\n",
        "while current_number < 100:\n",
        "    if current_number%3 == 0:\n",
        "        lst.append(current_number)\n",
        "\n",
        "    current_number += 1\n",
        "\n",
        "str(lst)"
      ]
    },
    {
      "cell_type": "code",
      "execution_count": null,
      "metadata": {
        "colab": {
          "base_uri": "https://localhost:8080/"
        },
        "id": "o_M-1AHrsbz0",
        "outputId": "f52c4b8f-077e-41e7-807b-46ece8db3910"
      },
      "outputs": [
        {
          "data": {
            "text/plain": [
              "[1, 3, 5, 7, 9, 11, 13, 15, 17, 19]"
            ]
          },
          "execution_count": 180,
          "metadata": {},
          "output_type": "execute_result"
        }
      ],
      "source": [
        "# Create a list with the 10 first odd numbers?\n",
        "current_number = 0\n",
        "lst = []\n",
        "\n",
        "while len(lst) < 10:\n",
        "    if current_number%2 != 0:\n",
        "        lst.append(current_number)\n",
        "\n",
        "    current_number += 1\n",
        "\n",
        "lst"
      ]
    },
    {
      "cell_type": "code",
      "execution_count": null,
      "metadata": {
        "colab": {
          "base_uri": "https://localhost:8080/"
        },
        "id": "6PJUTxIx7DsI",
        "outputId": "96f1ad5e-7e9f-491b-cbdd-832cc3880b39"
      },
      "outputs": [
        {
          "name": "stdout",
          "output_type": "stream",
          "text": [
            "0\n",
            "9\n",
            "36\n",
            "81\n",
            "144\n",
            "225\n",
            "324\n",
            "441\n",
            "576\n",
            "729\n",
            "900\n",
            "1089\n",
            "1296\n",
            "1521\n",
            "1764\n",
            "2025\n",
            "2304\n",
            "2601\n",
            "2916\n",
            "3249\n",
            "3600\n",
            "3969\n",
            "4356\n",
            "4761\n",
            "5184\n",
            "5625\n",
            "6084\n",
            "6561\n",
            "7056\n",
            "7569\n",
            "8100\n",
            "8649\n",
            "9216\n",
            "9801\n"
          ]
        }
      ],
      "source": [
        "# New we can iterate through a list (old-style)\n",
        "# Calculate the square\n",
        "i = 0\n",
        "while i < len(lst):\n",
        "    print(lst[i]**2)\n",
        "    i += 1"
      ]
    },
    {
      "cell_type": "markdown",
      "metadata": {
        "id": "x7TrXoYU56P1"
      },
      "source": [
        "### For statement"
      ]
    },
    {
      "cell_type": "markdown",
      "metadata": {
        "id": "BtWnj0yh5-Hv"
      },
      "source": [
        "**Basic usage:**<br>\n",
        "for variable in \"list\" (Iterable):\n",
        "> do something"
      ]
    },
    {
      "cell_type": "code",
      "execution_count": null,
      "metadata": {
        "colab": {
          "base_uri": "https://localhost:8080/"
        },
        "id": "ssSx9Lf_6PMD",
        "outputId": "af0c348e-c61b-4443-b7f3-eb071f865955"
      },
      "outputs": [
        {
          "name": "stdout",
          "output_type": "stream",
          "text": [
            "0.0\n",
            "1.5\n",
            "3.0\n",
            "4.5\n",
            "6.0\n",
            "7.5\n",
            "9.0\n",
            "10.5\n",
            "12.0\n",
            "13.5\n",
            "15.0\n",
            "16.5\n",
            "18.0\n",
            "19.5\n",
            "21.0\n",
            "22.5\n",
            "24.0\n",
            "25.5\n",
            "27.0\n",
            "28.5\n",
            "30.0\n",
            "31.5\n",
            "33.0\n",
            "34.5\n",
            "36.0\n",
            "37.5\n",
            "39.0\n",
            "40.5\n",
            "42.0\n",
            "43.5\n",
            "45.0\n",
            "46.5\n",
            "48.0\n",
            "49.5\n"
          ]
        }
      ],
      "source": [
        "# to calculate the square of these...\n",
        "for anything in lst:\n",
        "    print(anything/2)"
      ]
    },
    {
      "cell_type": "markdown",
      "metadata": {
        "id": "obo0N2EV7iQ8"
      },
      "source": [
        "That's something different from older (lower level) languages like C, C++, Pascal, Fortran, etc. <br>\n",
        "**Note: There is no condition in Python's `for statement`**\n",
        "\n"
      ]
    },
    {
      "cell_type": "code",
      "execution_count": null,
      "metadata": {
        "colab": {
          "base_uri": "https://localhost:8080/"
        },
        "id": "h8Kq4RSb893x",
        "outputId": "228ab16d-d19c-4e80-bf3e-eecf70e55883"
      },
      "outputs": [
        {
          "name": "stdout",
          "output_type": "stream",
          "text": [
            "10\n",
            "8\n",
            "6\n",
            "4\n",
            "2\n"
          ]
        }
      ],
      "source": [
        "# range(start, end, step)\n",
        "for i in range(10, 0, -2):\n",
        "    print(i)"
      ]
    },
    {
      "cell_type": "markdown",
      "metadata": {
        "id": "UyT927dL4m2_"
      },
      "source": [
        "## Exercise"
      ]
    },
    {
      "cell_type": "markdown",
      "metadata": {
        "id": "o712DDFW4qa1"
      },
      "source": [
        "We have the precipitation for one month and corresponding days."
      ]
    },
    {
      "cell_type": "code",
      "execution_count": null,
      "metadata": {
        "id": "1PIEN8ua4mFy"
      },
      "outputs": [],
      "source": [
        "import random\n",
        "random.randint?"
      ]
    },
    {
      "cell_type": "code",
      "execution_count": null,
      "metadata": {
        "colab": {
          "base_uri": "https://localhost:8080/"
        },
        "id": "KH85DBLK8izi",
        "outputId": "77d90244-c866-41ee-bafb-c8f2bb5dd0cb"
      },
      "outputs": [
        {
          "data": {
            "text/plain": [
              "('[1, 2, 3, 4, 5, 6, 7, 8, 9, 10, 11, 12, 13, 14, 15, 16, 17, 18, 19, 20, 21, 22, 23, 24, 25, 26, 27, 28, 29, 30, 31]',\n",
              " '[17, 72, 97, 8, 32, 15, 63, 97, 57, 60, 83, 48, 100, 26, 12, 62, 3, 49, 55, 77, 97, 98, 0, 89, 57, 34, 92, 29, 75, 13, 40]')"
            ]
          },
          "execution_count": 7,
          "metadata": {},
          "output_type": "execute_result"
        }
      ],
      "source": [
        "# create the days and daily rain\n",
        "random.seed(1)\n",
        "\n",
        "daily_rain = []\n",
        "day_of_month = []\n",
        "\n",
        "for i in range(1, 32, 1):\n",
        "    day_of_month.append(i)\n",
        "    daily_rain.append(random.randint(0, 100))\n",
        "\n",
        "str(day_of_month), str(daily_rain)"
      ]
    },
    {
      "cell_type": "code",
      "execution_count": null,
      "metadata": {
        "colab": {
          "base_uri": "https://localhost:8080/",
          "height": 554
        },
        "id": "S4p6y_2O-2j0",
        "outputId": "6384baab-a145-4c5c-8555-93f220340905"
      },
      "outputs": [
        {
          "data": {
            "text/plain": [
              "<BarContainer object of 31 artists>"
            ]
          },
          "execution_count": 8,
          "metadata": {},
          "output_type": "execute_result"
        },
        {
          "data": {
            "image/png": "[encoded data removed]",
            "text/plain": [
              "<Figure size 1296x648 with 1 Axes>"
            ]
          },
          "metadata": {
            "needs_background": "light"
          },
          "output_type": "display_data"
        }
      ],
      "source": [
        "import matplotlib.pyplot as plt\n",
        "plt.figure(figsize=(18, 9))\n",
        "plt.bar(day_of_month, daily_rain)"
      ]
    },
    {
      "cell_type": "markdown",
      "metadata": {
        "id": "nPfY1g1R-CLD"
      },
      "source": [
        "Answer these questions:\n",
        "* number of days with rain\n",
        "* day of the maximum rain and day of the minimum rain\n",
        "* total rain\n",
        "* mean rain\n",
        "* <b>Challenge:</b> order the <b>days</b> according to the rain precipitation. Descending order (from highest to lowest). Ex: [12, 7, ...]"
      ]
    },
    {
      "cell_type": "markdown",
      "metadata": {
        "id": "VJdXdcSx1Yb5"
      },
      "source": [
        "## Extra - n-dimensional matrices as combination of lists"
      ]
    },
    {
      "cell_type": "code",
      "execution_count": null,
      "metadata": {
        "id": "sl2T6Y0UnzOO"
      },
      "outputs": [],
      "source": [
        "# create a checkerboard\n",
        "l1 = [0, 1, 0, 1, 0, 1, 0, 1]\n",
        "l2 = [1, 0, 1, 0, 1, 0, 1, 0]\n",
        "l3 = [0, 1, 0, 1, 0, 1, 0, 1]\n",
        "l4 = [1, 0, 1, 0, 1, 0, 1, 0]\n",
        "l5 = [0, 1, 0, 1, 0, 1, 0, 1]\n",
        "l6 = [1, 0, 1, 0, 1, 0, 1, 0]\n",
        "l7 = [0, 1, 0, 1, 0, 1, 0, 1]\n",
        "l8 = [1, 0, 1, 0, 1, 0, 1, 0]\n"
      ]
    },
    {
      "cell_type": "code",
      "execution_count": null,
      "metadata": {
        "id": "24CPfyvYo05Y"
      },
      "outputs": [],
      "source": [
        "m = [l1, l2, l3, l4, l5, l6, l7, l8]"
      ]
    },
    {
      "cell_type": "code",
      "execution_count": null,
      "metadata": {
        "colab": {
          "base_uri": "https://localhost:8080/"
        },
        "id": "VwBoPQBbo6mX",
        "outputId": "1f55d018-62aa-4853-9eb5-ae622b82a86a"
      },
      "outputs": [
        {
          "data": {
            "text/plain": [
              "[[0, 1, 0, 1, 0, 1, 0, 1],\n",
              " [1, 0, 1, 0, 1, 0, 1, 0],\n",
              " [0, 1, 0, 1, 0, 1, 0, 1],\n",
              " [1, 0, 1, 0, 1, 0, 1, 0],\n",
              " [0, 1, 0, 1, 0, 1, 0, 1],\n",
              " [1, 0, 1, 0, 1, 0, 1, 0],\n",
              " [0, 1, 0, 1, 0, 1, 0, 1],\n",
              " [1, 0, 1, 0, 1, 0, 1, 0]]"
            ]
          },
          "execution_count": 115,
          "metadata": {},
          "output_type": "execute_result"
        }
      ],
      "source": [
        "m"
      ]
    },
    {
      "cell_type": "code",
      "execution_count": null,
      "metadata": {
        "colab": {
          "base_uri": "https://localhost:8080/"
        },
        "id": "Wa5w_LVDo7Sn",
        "outputId": "59219c9f-1354-4b61-f1cf-ec14fafc38a3"
      },
      "outputs": [
        {
          "data": {
            "text/plain": [
              "0"
            ]
          },
          "execution_count": 113,
          "metadata": {},
          "output_type": "execute_result"
        }
      ],
      "source": [
        "m[2][2]"
      ]
    },
    {
      "cell_type": "code",
      "execution_count": null,
      "metadata": {
        "colab": {
          "base_uri": "https://localhost:8080/"
        },
        "id": "D0XlRwIopAou",
        "outputId": "7f9aaa79-cf40-47a8-e65b-303a55136531"
      },
      "outputs": [
        {
          "data": {
            "text/plain": [
              "list"
            ]
          },
          "execution_count": 116,
          "metadata": {},
          "output_type": "execute_result"
        }
      ],
      "source": [
        "type(m[2])"
      ]
    },
    {
      "cell_type": "code",
      "execution_count": null,
      "metadata": {
        "colab": {
          "base_uri": "https://localhost:8080/",
          "height": 282
        },
        "id": "kF9j4q6FpH_G",
        "outputId": "764d9d22-1ef5-4ca8-aa1c-3ee9d5b0f185"
      },
      "outputs": [
        {
          "data": {
            "text/plain": [
              "<matplotlib.image.AxesImage at 0x7f6439df5810>"
            ]
          },
          "execution_count": 117,
          "metadata": {},
          "output_type": "execute_result"
        },
        {
          "data": {
            "image/png": "[encoded data removed]",
            "text/plain": [
              "<Figure size 432x288 with 1 Axes>"
            ]
          },
          "metadata": {
            "needs_background": "light"
          },
          "output_type": "display_data"
        }
      ],
      "source": [
        "plt.imshow(m, cmap='hot')"
      ]
    },
    {
      "cell_type": "code",
      "execution_count": null,
      "metadata": {
        "id": "jNEVBNvq5GfQ"
      },
      "outputs": [],
      "source": []
    },
    {
      "cell_type": "code",
      "execution_count": null,
      "metadata": {
        "colab": {
          "base_uri": "https://localhost:8080/",
          "height": 282
        },
        "id": "2h9s9otv2z-J",
        "outputId": "0946451c-8653-4f9c-af55-b51d6595cc6b"
      },
      "outputs": [
        {
          "data": {
            "text/plain": [
              "<matplotlib.image.AxesImage at 0x7f6439d63f10>"
            ]
          },
          "execution_count": 118,
          "metadata": {},
          "output_type": "execute_result"
        },
        {
          "data": {
            "image/png": "[encoded data removed]",
            "text/plain": [
              "<Figure size 432x288 with 1 Axes>"
            ]
          },
          "metadata": {
            "needs_background": "light"
          },
          "output_type": "display_data"
        }
      ],
      "source": [
        "size = 12\n",
        "m = []\n",
        "for i in range(size):  # lines\n",
        "    line = []\n",
        "    for j in range(size):  # columns\n",
        "        line.append(i%2 == j%2)\n",
        "    m.append(line)\n",
        "\n",
        "plt.imshow(m, cmap='hot')"
      ]
    },
    {
      "cell_type": "code",
      "execution_count": null,
      "metadata": {
        "colab": {
          "base_uri": "https://localhost:8080/",
          "height": 139
        },
        "id": "bc4-04E8rXAC",
        "outputId": "155d16ad-1efd-488e-b7a8-8cd4832023f8"
      },
      "outputs": [
        {
          "data": {
            "application/vnd.google.colaboratory.intrinsic+json": {
              "type": "string"
            },
            "text/plain": [
              "'[0, 1, 2, 3, 4, 5, 6, 7, 8, 9, 10, 11, 12, 13, 14, 15, 16, 17, 18, 19, 20, 21, 22, 23, 24, 25, 26, 27, 28, 29, 30, 31, 32, 33, 34, 35, 36, 37, 38, 39, 40, 41, 42, 43, 44, 45, 46, 47, 48, 49, 50, 51, 52, 53, 54, 55, 56, 57, 58, 59, 60, 61, 62, 63, 64, 65, 66, 67, 68, 69, 70, 71, 72, 73, 74, 75, 76, 77, 78, 79, 80, 81, 82, 83, 84, 85, 86, 87, 88, 89, 90, 91, 92, 93, 94, 95, 96, 97, 98, 99, 100, 101, 102, 103, 104, 105, 106, 107, 108, 109, 110, 111, 112, 113, 114, 115, 116, 117, 118, 119, 120, 121, 122, 123, 124, 125, 126, 127, 128, 129, 130, 131, 132, 133, 134, 135, 136, 137, 138, 139, 140, 141, 142, 143, 144, 145, 146, 147, 148, 149, 150, 151, 152, 153, 154, 155, 156, 157, 158, 159, 160, 161, 162, 163, 164, 165, 166, 167, 168, 169, 170, 171, 172, 173, 174, 175, 176, 177, 178, 179, 180, 181, 182, 183, 184, 185, 186, 187, 188, 189, 190, 191, 192, 193, 194, 195, 196, 197, 198, 199, 200, 201, 202, 203, 204, 205, 206, 207, 208, 209, 210, 211, 212, 213, 214, 215, 216, 217, 218, 219, 220, 221, 222, 223, 224, 225, 226, 227, 228, 229, 230, 231, 232, 233, 234, 235, 236, 237, 238, 239, 240, 241, 242, 243, 244, 245, 246, 247, 248, 249, 250, 251, 252, 253, 254, 255]'"
            ]
          },
          "execution_count": 194,
          "metadata": {},
          "output_type": "execute_result"
        }
      ],
      "source": [
        "linha = []\n",
        "i = 0\n",
        "\n",
        "while i < 256:\n",
        "  linha.append(i)\n",
        "  i = i + 1\n",
        "\n",
        "str(linha)"
      ]
    },
    {
      "cell_type": "code",
      "execution_count": null,
      "metadata": {
        "id": "X-LHS-XqsAgh"
      },
      "outputs": [],
      "source": [
        "m = []\n",
        "i = 0\n",
        "while i < 256:\n",
        "  m.append(linha)\n",
        "  i = i + 1"
      ]
    },
    {
      "cell_type": "code",
      "execution_count": null,
      "metadata": {
        "colab": {
          "base_uri": "https://localhost:8080/",
          "height": 286
        },
        "id": "Tf_4unmpsAZN",
        "outputId": "6172f662-48d9-42c8-a296-91ed198c1dbe"
      },
      "outputs": [
        {
          "data": {
            "text/plain": [
              "<matplotlib.image.AxesImage at 0x7fe7cd757c90>"
            ]
          },
          "execution_count": 196,
          "metadata": {},
          "output_type": "execute_result"
        },
        {
          "data": {
            "image/png": "[encoded data removed]",
            "text/plain": [
              "<Figure size 432x288 with 1 Axes>"
            ]
          },
          "metadata": {
            "needs_background": "light"
          },
          "output_type": "display_data"
        }
      ],
      "source": [
        "plt.imshow(m, cmap='hot')"
      ]
    },
    {
      "cell_type": "code",
      "execution_count": 129,
      "metadata": {
        "id": "dEWj5iHFuWev"
      },
      "outputs": [],
      "source": [
        "import torch"
      ]
    },
    {
      "cell_type": "code",
      "execution_count": 130,
      "metadata": {
        "id": "DGy_N8rUuf27"
      },
      "outputs": [],
      "source": [
        "import sklearn"
      ]
    },
    {
      "cell_type": "code",
      "execution_count": null,
      "metadata": {
        "id": "p8MBm-bkuj9W"
      },
      "outputs": [],
      "source": []
    }
  ],
  "metadata": {
    "colab": {
      "name": "Python4Scientists_Lesson1.ipynb",
      "provenance": []
    },
    "kernelspec": {
      "display_name": "Python 3",
      "name": "python3"
    },
    "language_info": {
      "name": "python"
    }
  },
  "nbformat": 4,
  "nbformat_minor": 0
}
