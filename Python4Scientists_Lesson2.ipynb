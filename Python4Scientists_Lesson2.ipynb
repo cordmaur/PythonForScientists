{
  "nbformat": 4,
  "nbformat_minor": 0,
  "metadata": {
    "colab": {
      "name": "Python4Scientists_Lesson2.ipynb",
      "provenance": [],
      "toc_visible": true,
      "authorship_tag": "ABX9TyOzCemFY62MRbkqSPrv6uz5",
      "include_colab_link": true
    },
    "kernelspec": {
      "name": "python3",
      "display_name": "Python 3"
    },
    "language_info": {
      "name": "python"
    }
  },
  "cells": [
    {
      "cell_type": "markdown",
      "metadata": {
        "id": "view-in-github",
        "colab_type": "text"
      },
      "source": [
        "<a href=\"https://colab.research.google.com/github/cordmaur/PythonForScientists/blob/main/Python4Scientists_Lesson2.ipynb\" target=\"_parent\"><img src=\"https://colab.research.google.com/assets/colab-badge.svg\" alt=\"Open In Colab\"/></a>"
      ]
    },
    {
      "cell_type": "markdown",
      "metadata": {
        "id": "jHgaiX0MablB"
      },
      "source": [
        "# Introduction to Python for Scientists - Lesson 2"
      ]
    },
    {
      "cell_type": "markdown",
      "metadata": {
        "id": "lSLEXTQmaiUI"
      },
      "source": [
        "## Exercises solution"
      ]
    },
    {
      "cell_type": "code",
      "metadata": {
        "colab": {
          "base_uri": "https://localhost:8080/"
        },
        "id": "rcyNImirgolt",
        "outputId": "4ffd68f5-0bb2-4b53-d527-6758353153cb"
      },
      "source": [
        "import random\n",
        "# create the days and daily rain\n",
        "random.seed(1)\n",
        "\n",
        "daily_rain = []\n",
        "day_of_month = []\n",
        "\n",
        "for i in range(1, 32, 1):\n",
        "    day_of_month.append(i)\n",
        "    daily_rain.append(random.randint(0, 100))\n",
        "\n",
        "str(day_of_month), str(daily_rain)"
      ],
      "execution_count": null,
      "outputs": [
        {
          "output_type": "execute_result",
          "data": {
            "text/plain": [
              "('[1, 2, 3, 4, 5, 6, 7, 8, 9, 10, 11, 12, 13, 14, 15, 16, 17, 18, 19, 20, 21, 22, 23, 24, 25, 26, 27, 28, 29, 30, 31]',\n",
              " '[17, 72, 97, 8, 32, 15, 63, 97, 57, 60, 83, 48, 100, 26, 12, 62, 3, 49, 55, 77, 97, 98, 0, 89, 57, 34, 92, 29, 75, 13, 40]')"
            ]
          },
          "metadata": {},
          "execution_count": 1
        }
      ]
    },
    {
      "cell_type": "code",
      "metadata": {
        "colab": {
          "base_uri": "https://localhost:8080/",
          "height": 554
        },
        "id": "EbYm-tvvgojV",
        "outputId": "077e200e-7870-429d-fe21-55a6559a56a5"
      },
      "source": [
        "import matplotlib.pyplot as plt\n",
        "plt.figure(figsize=(18, 9))\n",
        "plt.bar(day_of_month, daily_rain)"
      ],
      "execution_count": null,
      "outputs": [
        {
          "output_type": "execute_result",
          "data": {
            "text/plain": [
              "<BarContainer object of 31 artists>"
            ]
          },
          "metadata": {},
          "execution_count": 2
        },
        {
          "output_type": "display_data",
          "data": {
            "image/png": "[encoded data removed]",
            "text/plain": [
              "<Figure size 1296x648 with 1 Axes>"
            ]
          },
          "metadata": {
            "needs_background": "light"
          }
        }
      ]
    },
    {
      "cell_type": "markdown",
      "metadata": {
        "id": "YFXTAHQ-gy4H"
      },
      "source": [
        "Answer these questions:\n",
        "* number of days with rain\n",
        "* day of the maximum rain and day of the minimum rain\n",
        "* total rain\n",
        "* mean rain\n",
        "* <b>Challenge:</b> order the <b>days</b> according to the rain precipitation. Descending order (from highest to lowest). Ex: [12, 7, ...]"
      ]
    },
    {
      "cell_type": "code",
      "metadata": {
        "colab": {
          "base_uri": "https://localhost:8080/"
        },
        "id": "3k2kV4T-mCrg",
        "outputId": "906e5a73-b66e-475f-93f9-6f40d3b8bbed"
      },
      "source": [
        "days_with_rain = 0\n",
        "for rain in daily_rain:\n",
        "    if rain > 0:\n",
        "        days_with_rain += 1\n",
        "days_with_rain"
      ],
      "execution_count": null,
      "outputs": [
        {
          "output_type": "execute_result",
          "data": {
            "text/plain": [
              "30"
            ]
          },
          "metadata": {},
          "execution_count": 3
        }
      ]
    },
    {
      "cell_type": "code",
      "metadata": {
        "colab": {
          "base_uri": "https://localhost:8080/"
        },
        "id": "RD_JMveQmWLv",
        "outputId": "3506d16b-e72e-4905-f8f6-57599def5424"
      },
      "source": [
        "max_rain = 0\n",
        "day_of_max = 0\n",
        "\n",
        "min_rain = 99999\n",
        "day_of_min = 0\n",
        "\n",
        "for day, rain in zip(day_of_month, daily_rain):\n",
        "    if rain > max_rain:\n",
        "        max_rain = rain\n",
        "        day_of_max = day\n",
        "    \n",
        "    if rain < min_rain:\n",
        "        min_rain = rain\n",
        "        day_of_min = day\n",
        "\n",
        "\n",
        "day_of_max, day_of_min\n",
        "\n",
        "\n",
        "# import sys\n",
        "# print(sys.maxint)\n"
      ],
      "execution_count": null,
      "outputs": [
        {
          "output_type": "execute_result",
          "data": {
            "text/plain": [
              "(13, 23)"
            ]
          },
          "metadata": {},
          "execution_count": 4
        }
      ]
    },
    {
      "cell_type": "code",
      "metadata": {
        "colab": {
          "base_uri": "https://localhost:8080/"
        },
        "id": "Buly7otVmWJQ",
        "outputId": "5424f60a-b1ad-462a-ce9c-ba525698ab50"
      },
      "source": [
        "total_rain = 0\n",
        "for rain in daily_rain:\n",
        "    total_rain += rain\n",
        "total_rain"
      ],
      "execution_count": null,
      "outputs": [
        {
          "output_type": "execute_result",
          "data": {
            "text/plain": [
              "1657"
            ]
          },
          "metadata": {},
          "execution_count": 5
        }
      ]
    },
    {
      "cell_type": "code",
      "metadata": {
        "colab": {
          "base_uri": "https://localhost:8080/"
        },
        "id": "Ed9r068nmWGl",
        "outputId": "75114fc1-b5d1-4e2c-c079-bc06b98c5dc5"
      },
      "source": [
        "mean_rain = total_rain / len(daily_rain)\n",
        "mean_rain"
      ],
      "execution_count": null,
      "outputs": [
        {
          "output_type": "execute_result",
          "data": {
            "text/plain": [
              "53.45161290322581"
            ]
          },
          "metadata": {},
          "execution_count": 6
        }
      ]
    },
    {
      "cell_type": "code",
      "metadata": {
        "colab": {
          "base_uri": "https://localhost:8080/"
        },
        "id": "ANZ2iRSXowfH",
        "outputId": "6fe4504f-5c25-41fa-b676-bc5cb90aeb45"
      },
      "source": [
        "sorted_rain = daily_rain.copy()\n",
        "\n",
        "print('Original list')\n",
        "print(sorted_rain)\n",
        "\n",
        "for i in range(len(sorted_rain)):\n",
        "    for j in range(i+1, len(sorted_rain)):\n",
        "        if sorted_rain[j] < sorted_rain[i]:\n",
        "\n",
        "            print(f'swapping i={i}({sorted_rain[i]}) with j={j}({sorted_rain[j]})')\n",
        "\n",
        "            temp = sorted_rain[i]\n",
        "            sorted_rain[i] = sorted_rain[j]\n",
        "            sorted_rain[j] = temp\n",
        "            print(sorted_rain)\n",
        "    \n",
        "    print('End of first pass')\n",
        "print('\\n Final list')\n",
        "print(sorted_rain)"
      ],
      "execution_count": null,
      "outputs": [
        {
          "output_type": "stream",
          "name": "stdout",
          "text": [
            "Original list\n",
            "[17, 72, 97, 8, 32, 15, 63, 97, 57, 60, 83, 48, 100, 26, 12, 62, 3, 49, 55, 77, 97, 98, 0, 89, 57, 34, 92, 29, 75, 13, 40]\n",
            "swapping i=0(17) with j=3(8)\n",
            "[8, 72, 97, 17, 32, 15, 63, 97, 57, 60, 83, 48, 100, 26, 12, 62, 3, 49, 55, 77, 97, 98, 0, 89, 57, 34, 92, 29, 75, 13, 40]\n",
            "swapping i=0(8) with j=16(3)\n",
            "[3, 72, 97, 17, 32, 15, 63, 97, 57, 60, 83, 48, 100, 26, 12, 62, 8, 49, 55, 77, 97, 98, 0, 89, 57, 34, 92, 29, 75, 13, 40]\n",
            "swapping i=0(3) with j=22(0)\n",
            "[0, 72, 97, 17, 32, 15, 63, 97, 57, 60, 83, 48, 100, 26, 12, 62, 8, 49, 55, 77, 97, 98, 3, 89, 57, 34, 92, 29, 75, 13, 40]\n",
            "End of first pass\n",
            "swapping i=1(72) with j=3(17)\n",
            "[0, 17, 97, 72, 32, 15, 63, 97, 57, 60, 83, 48, 100, 26, 12, 62, 8, 49, 55, 77, 97, 98, 3, 89, 57, 34, 92, 29, 75, 13, 40]\n",
            "swapping i=1(17) with j=5(15)\n",
            "[0, 15, 97, 72, 32, 17, 63, 97, 57, 60, 83, 48, 100, 26, 12, 62, 8, 49, 55, 77, 97, 98, 3, 89, 57, 34, 92, 29, 75, 13, 40]\n",
            "swapping i=1(15) with j=14(12)\n",
            "[0, 12, 97, 72, 32, 17, 63, 97, 57, 60, 83, 48, 100, 26, 15, 62, 8, 49, 55, 77, 97, 98, 3, 89, 57, 34, 92, 29, 75, 13, 40]\n",
            "swapping i=1(12) with j=16(8)\n",
            "[0, 8, 97, 72, 32, 17, 63, 97, 57, 60, 83, 48, 100, 26, 15, 62, 12, 49, 55, 77, 97, 98, 3, 89, 57, 34, 92, 29, 75, 13, 40]\n",
            "swapping i=1(8) with j=22(3)\n",
            "[0, 3, 97, 72, 32, 17, 63, 97, 57, 60, 83, 48, 100, 26, 15, 62, 12, 49, 55, 77, 97, 98, 8, 89, 57, 34, 92, 29, 75, 13, 40]\n",
            "End of first pass\n",
            "swapping i=2(97) with j=3(72)\n",
            "[0, 3, 72, 97, 32, 17, 63, 97, 57, 60, 83, 48, 100, 26, 15, 62, 12, 49, 55, 77, 97, 98, 8, 89, 57, 34, 92, 29, 75, 13, 40]\n",
            "swapping i=2(72) with j=4(32)\n",
            "[0, 3, 32, 97, 72, 17, 63, 97, 57, 60, 83, 48, 100, 26, 15, 62, 12, 49, 55, 77, 97, 98, 8, 89, 57, 34, 92, 29, 75, 13, 40]\n",
            "swapping i=2(32) with j=5(17)\n",
            "[0, 3, 17, 97, 72, 32, 63, 97, 57, 60, 83, 48, 100, 26, 15, 62, 12, 49, 55, 77, 97, 98, 8, 89, 57, 34, 92, 29, 75, 13, 40]\n",
            "swapping i=2(17) with j=14(15)\n",
            "[0, 3, 15, 97, 72, 32, 63, 97, 57, 60, 83, 48, 100, 26, 17, 62, 12, 49, 55, 77, 97, 98, 8, 89, 57, 34, 92, 29, 75, 13, 40]\n",
            "swapping i=2(15) with j=16(12)\n",
            "[0, 3, 12, 97, 72, 32, 63, 97, 57, 60, 83, 48, 100, 26, 17, 62, 15, 49, 55, 77, 97, 98, 8, 89, 57, 34, 92, 29, 75, 13, 40]\n",
            "swapping i=2(12) with j=22(8)\n",
            "[0, 3, 8, 97, 72, 32, 63, 97, 57, 60, 83, 48, 100, 26, 17, 62, 15, 49, 55, 77, 97, 98, 12, 89, 57, 34, 92, 29, 75, 13, 40]\n",
            "End of first pass\n",
            "swapping i=3(97) with j=4(72)\n",
            "[0, 3, 8, 72, 97, 32, 63, 97, 57, 60, 83, 48, 100, 26, 17, 62, 15, 49, 55, 77, 97, 98, 12, 89, 57, 34, 92, 29, 75, 13, 40]\n",
            "swapping i=3(72) with j=5(32)\n",
            "[0, 3, 8, 32, 97, 72, 63, 97, 57, 60, 83, 48, 100, 26, 17, 62, 15, 49, 55, 77, 97, 98, 12, 89, 57, 34, 92, 29, 75, 13, 40]\n",
            "swapping i=3(32) with j=13(26)\n",
            "[0, 3, 8, 26, 97, 72, 63, 97, 57, 60, 83, 48, 100, 32, 17, 62, 15, 49, 55, 77, 97, 98, 12, 89, 57, 34, 92, 29, 75, 13, 40]\n",
            "swapping i=3(26) with j=14(17)\n",
            "[0, 3, 8, 17, 97, 72, 63, 97, 57, 60, 83, 48, 100, 32, 26, 62, 15, 49, 55, 77, 97, 98, 12, 89, 57, 34, 92, 29, 75, 13, 40]\n",
            "swapping i=3(17) with j=16(15)\n",
            "[0, 3, 8, 15, 97, 72, 63, 97, 57, 60, 83, 48, 100, 32, 26, 62, 17, 49, 55, 77, 97, 98, 12, 89, 57, 34, 92, 29, 75, 13, 40]\n",
            "swapping i=3(15) with j=22(12)\n",
            "[0, 3, 8, 12, 97, 72, 63, 97, 57, 60, 83, 48, 100, 32, 26, 62, 17, 49, 55, 77, 97, 98, 15, 89, 57, 34, 92, 29, 75, 13, 40]\n",
            "End of first pass\n",
            "swapping i=4(97) with j=5(72)\n",
            "[0, 3, 8, 12, 72, 97, 63, 97, 57, 60, 83, 48, 100, 32, 26, 62, 17, 49, 55, 77, 97, 98, 15, 89, 57, 34, 92, 29, 75, 13, 40]\n",
            "swapping i=4(72) with j=6(63)\n",
            "[0, 3, 8, 12, 63, 97, 72, 97, 57, 60, 83, 48, 100, 32, 26, 62, 17, 49, 55, 77, 97, 98, 15, 89, 57, 34, 92, 29, 75, 13, 40]\n",
            "swapping i=4(63) with j=8(57)\n",
            "[0, 3, 8, 12, 57, 97, 72, 97, 63, 60, 83, 48, 100, 32, 26, 62, 17, 49, 55, 77, 97, 98, 15, 89, 57, 34, 92, 29, 75, 13, 40]\n",
            "swapping i=4(57) with j=11(48)\n",
            "[0, 3, 8, 12, 48, 97, 72, 97, 63, 60, 83, 57, 100, 32, 26, 62, 17, 49, 55, 77, 97, 98, 15, 89, 57, 34, 92, 29, 75, 13, 40]\n",
            "swapping i=4(48) with j=13(32)\n",
            "[0, 3, 8, 12, 32, 97, 72, 97, 63, 60, 83, 57, 100, 48, 26, 62, 17, 49, 55, 77, 97, 98, 15, 89, 57, 34, 92, 29, 75, 13, 40]\n",
            "swapping i=4(32) with j=14(26)\n",
            "[0, 3, 8, 12, 26, 97, 72, 97, 63, 60, 83, 57, 100, 48, 32, 62, 17, 49, 55, 77, 97, 98, 15, 89, 57, 34, 92, 29, 75, 13, 40]\n",
            "swapping i=4(26) with j=16(17)\n",
            "[0, 3, 8, 12, 17, 97, 72, 97, 63, 60, 83, 57, 100, 48, 32, 62, 26, 49, 55, 77, 97, 98, 15, 89, 57, 34, 92, 29, 75, 13, 40]\n",
            "swapping i=4(17) with j=22(15)\n",
            "[0, 3, 8, 12, 15, 97, 72, 97, 63, 60, 83, 57, 100, 48, 32, 62, 26, 49, 55, 77, 97, 98, 17, 89, 57, 34, 92, 29, 75, 13, 40]\n",
            "swapping i=4(15) with j=29(13)\n",
            "[0, 3, 8, 12, 13, 97, 72, 97, 63, 60, 83, 57, 100, 48, 32, 62, 26, 49, 55, 77, 97, 98, 17, 89, 57, 34, 92, 29, 75, 15, 40]\n",
            "End of first pass\n",
            "swapping i=5(97) with j=6(72)\n",
            "[0, 3, 8, 12, 13, 72, 97, 97, 63, 60, 83, 57, 100, 48, 32, 62, 26, 49, 55, 77, 97, 98, 17, 89, 57, 34, 92, 29, 75, 15, 40]\n",
            "swapping i=5(72) with j=8(63)\n",
            "[0, 3, 8, 12, 13, 63, 97, 97, 72, 60, 83, 57, 100, 48, 32, 62, 26, 49, 55, 77, 97, 98, 17, 89, 57, 34, 92, 29, 75, 15, 40]\n",
            "swapping i=5(63) with j=9(60)\n",
            "[0, 3, 8, 12, 13, 60, 97, 97, 72, 63, 83, 57, 100, 48, 32, 62, 26, 49, 55, 77, 97, 98, 17, 89, 57, 34, 92, 29, 75, 15, 40]\n",
            "swapping i=5(60) with j=11(57)\n",
            "[0, 3, 8, 12, 13, 57, 97, 97, 72, 63, 83, 60, 100, 48, 32, 62, 26, 49, 55, 77, 97, 98, 17, 89, 57, 34, 92, 29, 75, 15, 40]\n",
            "swapping i=5(57) with j=13(48)\n",
            "[0, 3, 8, 12, 13, 48, 97, 97, 72, 63, 83, 60, 100, 57, 32, 62, 26, 49, 55, 77, 97, 98, 17, 89, 57, 34, 92, 29, 75, 15, 40]\n",
            "swapping i=5(48) with j=14(32)\n",
            "[0, 3, 8, 12, 13, 32, 97, 97, 72, 63, 83, 60, 100, 57, 48, 62, 26, 49, 55, 77, 97, 98, 17, 89, 57, 34, 92, 29, 75, 15, 40]\n",
            "swapping i=5(32) with j=16(26)\n",
            "[0, 3, 8, 12, 13, 26, 97, 97, 72, 63, 83, 60, 100, 57, 48, 62, 32, 49, 55, 77, 97, 98, 17, 89, 57, 34, 92, 29, 75, 15, 40]\n",
            "swapping i=5(26) with j=22(17)\n",
            "[0, 3, 8, 12, 13, 17, 97, 97, 72, 63, 83, 60, 100, 57, 48, 62, 32, 49, 55, 77, 97, 98, 26, 89, 57, 34, 92, 29, 75, 15, 40]\n",
            "swapping i=5(17) with j=29(15)\n",
            "[0, 3, 8, 12, 13, 15, 97, 97, 72, 63, 83, 60, 100, 57, 48, 62, 32, 49, 55, 77, 97, 98, 26, 89, 57, 34, 92, 29, 75, 17, 40]\n",
            "End of first pass\n",
            "swapping i=6(97) with j=8(72)\n",
            "[0, 3, 8, 12, 13, 15, 72, 97, 97, 63, 83, 60, 100, 57, 48, 62, 32, 49, 55, 77, 97, 98, 26, 89, 57, 34, 92, 29, 75, 17, 40]\n",
            "swapping i=6(72) with j=9(63)\n",
            "[0, 3, 8, 12, 13, 15, 63, 97, 97, 72, 83, 60, 100, 57, 48, 62, 32, 49, 55, 77, 97, 98, 26, 89, 57, 34, 92, 29, 75, 17, 40]\n",
            "swapping i=6(63) with j=11(60)\n",
            "[0, 3, 8, 12, 13, 15, 60, 97, 97, 72, 83, 63, 100, 57, 48, 62, 32, 49, 55, 77, 97, 98, 26, 89, 57, 34, 92, 29, 75, 17, 40]\n",
            "swapping i=6(60) with j=13(57)\n",
            "[0, 3, 8, 12, 13, 15, 57, 97, 97, 72, 83, 63, 100, 60, 48, 62, 32, 49, 55, 77, 97, 98, 26, 89, 57, 34, 92, 29, 75, 17, 40]\n",
            "swapping i=6(57) with j=14(48)\n",
            "[0, 3, 8, 12, 13, 15, 48, 97, 97, 72, 83, 63, 100, 60, 57, 62, 32, 49, 55, 77, 97, 98, 26, 89, 57, 34, 92, 29, 75, 17, 40]\n",
            "swapping i=6(48) with j=16(32)\n",
            "[0, 3, 8, 12, 13, 15, 32, 97, 97, 72, 83, 63, 100, 60, 57, 62, 48, 49, 55, 77, 97, 98, 26, 89, 57, 34, 92, 29, 75, 17, 40]\n",
            "swapping i=6(32) with j=22(26)\n",
            "[0, 3, 8, 12, 13, 15, 26, 97, 97, 72, 83, 63, 100, 60, 57, 62, 48, 49, 55, 77, 97, 98, 32, 89, 57, 34, 92, 29, 75, 17, 40]\n",
            "swapping i=6(26) with j=29(17)\n",
            "[0, 3, 8, 12, 13, 15, 17, 97, 97, 72, 83, 63, 100, 60, 57, 62, 48, 49, 55, 77, 97, 98, 32, 89, 57, 34, 92, 29, 75, 26, 40]\n",
            "End of first pass\n",
            "swapping i=7(97) with j=9(72)\n",
            "[0, 3, 8, 12, 13, 15, 17, 72, 97, 97, 83, 63, 100, 60, 57, 62, 48, 49, 55, 77, 97, 98, 32, 89, 57, 34, 92, 29, 75, 26, 40]\n",
            "swapping i=7(72) with j=11(63)\n",
            "[0, 3, 8, 12, 13, 15, 17, 63, 97, 97, 83, 72, 100, 60, 57, 62, 48, 49, 55, 77, 97, 98, 32, 89, 57, 34, 92, 29, 75, 26, 40]\n",
            "swapping i=7(63) with j=13(60)\n",
            "[0, 3, 8, 12, 13, 15, 17, 60, 97, 97, 83, 72, 100, 63, 57, 62, 48, 49, 55, 77, 97, 98, 32, 89, 57, 34, 92, 29, 75, 26, 40]\n",
            "swapping i=7(60) with j=14(57)\n",
            "[0, 3, 8, 12, 13, 15, 17, 57, 97, 97, 83, 72, 100, 63, 60, 62, 48, 49, 55, 77, 97, 98, 32, 89, 57, 34, 92, 29, 75, 26, 40]\n",
            "swapping i=7(57) with j=16(48)\n",
            "[0, 3, 8, 12, 13, 15, 17, 48, 97, 97, 83, 72, 100, 63, 60, 62, 57, 49, 55, 77, 97, 98, 32, 89, 57, 34, 92, 29, 75, 26, 40]\n",
            "swapping i=7(48) with j=22(32)\n",
            "[0, 3, 8, 12, 13, 15, 17, 32, 97, 97, 83, 72, 100, 63, 60, 62, 57, 49, 55, 77, 97, 98, 48, 89, 57, 34, 92, 29, 75, 26, 40]\n",
            "swapping i=7(32) with j=27(29)\n",
            "[0, 3, 8, 12, 13, 15, 17, 29, 97, 97, 83, 72, 100, 63, 60, 62, 57, 49, 55, 77, 97, 98, 48, 89, 57, 34, 92, 32, 75, 26, 40]\n",
            "swapping i=7(29) with j=29(26)\n",
            "[0, 3, 8, 12, 13, 15, 17, 26, 97, 97, 83, 72, 100, 63, 60, 62, 57, 49, 55, 77, 97, 98, 48, 89, 57, 34, 92, 32, 75, 29, 40]\n",
            "End of first pass\n",
            "swapping i=8(97) with j=10(83)\n",
            "[0, 3, 8, 12, 13, 15, 17, 26, 83, 97, 97, 72, 100, 63, 60, 62, 57, 49, 55, 77, 97, 98, 48, 89, 57, 34, 92, 32, 75, 29, 40]\n",
            "swapping i=8(83) with j=11(72)\n",
            "[0, 3, 8, 12, 13, 15, 17, 26, 72, 97, 97, 83, 100, 63, 60, 62, 57, 49, 55, 77, 97, 98, 48, 89, 57, 34, 92, 32, 75, 29, 40]\n",
            "swapping i=8(72) with j=13(63)\n",
            "[0, 3, 8, 12, 13, 15, 17, 26, 63, 97, 97, 83, 100, 72, 60, 62, 57, 49, 55, 77, 97, 98, 48, 89, 57, 34, 92, 32, 75, 29, 40]\n",
            "swapping i=8(63) with j=14(60)\n",
            "[0, 3, 8, 12, 13, 15, 17, 26, 60, 97, 97, 83, 100, 72, 63, 62, 57, 49, 55, 77, 97, 98, 48, 89, 57, 34, 92, 32, 75, 29, 40]\n",
            "swapping i=8(60) with j=16(57)\n",
            "[0, 3, 8, 12, 13, 15, 17, 26, 57, 97, 97, 83, 100, 72, 63, 62, 60, 49, 55, 77, 97, 98, 48, 89, 57, 34, 92, 32, 75, 29, 40]\n",
            "swapping i=8(57) with j=17(49)\n",
            "[0, 3, 8, 12, 13, 15, 17, 26, 49, 97, 97, 83, 100, 72, 63, 62, 60, 57, 55, 77, 97, 98, 48, 89, 57, 34, 92, 32, 75, 29, 40]\n",
            "swapping i=8(49) with j=22(48)\n",
            "[0, 3, 8, 12, 13, 15, 17, 26, 48, 97, 97, 83, 100, 72, 63, 62, 60, 57, 55, 77, 97, 98, 49, 89, 57, 34, 92, 32, 75, 29, 40]\n",
            "swapping i=8(48) with j=25(34)\n",
            "[0, 3, 8, 12, 13, 15, 17, 26, 34, 97, 97, 83, 100, 72, 63, 62, 60, 57, 55, 77, 97, 98, 49, 89, 57, 48, 92, 32, 75, 29, 40]\n",
            "swapping i=8(34) with j=27(32)\n",
            "[0, 3, 8, 12, 13, 15, 17, 26, 32, 97, 97, 83, 100, 72, 63, 62, 60, 57, 55, 77, 97, 98, 49, 89, 57, 48, 92, 34, 75, 29, 40]\n",
            "swapping i=8(32) with j=29(29)\n",
            "[0, 3, 8, 12, 13, 15, 17, 26, 29, 97, 97, 83, 100, 72, 63, 62, 60, 57, 55, 77, 97, 98, 49, 89, 57, 48, 92, 34, 75, 32, 40]\n",
            "End of first pass\n",
            "swapping i=9(97) with j=11(83)\n",
            "[0, 3, 8, 12, 13, 15, 17, 26, 29, 83, 97, 97, 100, 72, 63, 62, 60, 57, 55, 77, 97, 98, 49, 89, 57, 48, 92, 34, 75, 32, 40]\n",
            "swapping i=9(83) with j=13(72)\n",
            "[0, 3, 8, 12, 13, 15, 17, 26, 29, 72, 97, 97, 100, 83, 63, 62, 60, 57, 55, 77, 97, 98, 49, 89, 57, 48, 92, 34, 75, 32, 40]\n",
            "swapping i=9(72) with j=14(63)\n",
            "[0, 3, 8, 12, 13, 15, 17, 26, 29, 63, 97, 97, 100, 83, 72, 62, 60, 57, 55, 77, 97, 98, 49, 89, 57, 48, 92, 34, 75, 32, 40]\n",
            "swapping i=9(63) with j=15(62)\n",
            "[0, 3, 8, 12, 13, 15, 17, 26, 29, 62, 97, 97, 100, 83, 72, 63, 60, 57, 55, 77, 97, 98, 49, 89, 57, 48, 92, 34, 75, 32, 40]\n",
            "swapping i=9(62) with j=16(60)\n",
            "[0, 3, 8, 12, 13, 15, 17, 26, 29, 60, 97, 97, 100, 83, 72, 63, 62, 57, 55, 77, 97, 98, 49, 89, 57, 48, 92, 34, 75, 32, 40]\n",
            "swapping i=9(60) with j=17(57)\n",
            "[0, 3, 8, 12, 13, 15, 17, 26, 29, 57, 97, 97, 100, 83, 72, 63, 62, 60, 55, 77, 97, 98, 49, 89, 57, 48, 92, 34, 75, 32, 40]\n",
            "swapping i=9(57) with j=18(55)\n",
            "[0, 3, 8, 12, 13, 15, 17, 26, 29, 55, 97, 97, 100, 83, 72, 63, 62, 60, 57, 77, 97, 98, 49, 89, 57, 48, 92, 34, 75, 32, 40]\n",
            "swapping i=9(55) with j=22(49)\n",
            "[0, 3, 8, 12, 13, 15, 17, 26, 29, 49, 97, 97, 100, 83, 72, 63, 62, 60, 57, 77, 97, 98, 55, 89, 57, 48, 92, 34, 75, 32, 40]\n",
            "swapping i=9(49) with j=25(48)\n",
            "[0, 3, 8, 12, 13, 15, 17, 26, 29, 48, 97, 97, 100, 83, 72, 63, 62, 60, 57, 77, 97, 98, 55, 89, 57, 49, 92, 34, 75, 32, 40]\n",
            "swapping i=9(48) with j=27(34)\n",
            "[0, 3, 8, 12, 13, 15, 17, 26, 29, 34, 97, 97, 100, 83, 72, 63, 62, 60, 57, 77, 97, 98, 55, 89, 57, 49, 92, 48, 75, 32, 40]\n",
            "swapping i=9(34) with j=29(32)\n",
            "[0, 3, 8, 12, 13, 15, 17, 26, 29, 32, 97, 97, 100, 83, 72, 63, 62, 60, 57, 77, 97, 98, 55, 89, 57, 49, 92, 48, 75, 34, 40]\n",
            "End of first pass\n",
            "swapping i=10(97) with j=13(83)\n",
            "[0, 3, 8, 12, 13, 15, 17, 26, 29, 32, 83, 97, 100, 97, 72, 63, 62, 60, 57, 77, 97, 98, 55, 89, 57, 49, 92, 48, 75, 34, 40]\n",
            "swapping i=10(83) with j=14(72)\n",
            "[0, 3, 8, 12, 13, 15, 17, 26, 29, 32, 72, 97, 100, 97, 83, 63, 62, 60, 57, 77, 97, 98, 55, 89, 57, 49, 92, 48, 75, 34, 40]\n",
            "swapping i=10(72) with j=15(63)\n",
            "[0, 3, 8, 12, 13, 15, 17, 26, 29, 32, 63, 97, 100, 97, 83, 72, 62, 60, 57, 77, 97, 98, 55, 89, 57, 49, 92, 48, 75, 34, 40]\n",
            "swapping i=10(63) with j=16(62)\n",
            "[0, 3, 8, 12, 13, 15, 17, 26, 29, 32, 62, 97, 100, 97, 83, 72, 63, 60, 57, 77, 97, 98, 55, 89, 57, 49, 92, 48, 75, 34, 40]\n",
            "swapping i=10(62) with j=17(60)\n",
            "[0, 3, 8, 12, 13, 15, 17, 26, 29, 32, 60, 97, 100, 97, 83, 72, 63, 62, 57, 77, 97, 98, 55, 89, 57, 49, 92, 48, 75, 34, 40]\n",
            "swapping i=10(60) with j=18(57)\n",
            "[0, 3, 8, 12, 13, 15, 17, 26, 29, 32, 57, 97, 100, 97, 83, 72, 63, 62, 60, 77, 97, 98, 55, 89, 57, 49, 92, 48, 75, 34, 40]\n",
            "swapping i=10(57) with j=22(55)\n",
            "[0, 3, 8, 12, 13, 15, 17, 26, 29, 32, 55, 97, 100, 97, 83, 72, 63, 62, 60, 77, 97, 98, 57, 89, 57, 49, 92, 48, 75, 34, 40]\n",
            "swapping i=10(55) with j=25(49)\n",
            "[0, 3, 8, 12, 13, 15, 17, 26, 29, 32, 49, 97, 100, 97, 83, 72, 63, 62, 60, 77, 97, 98, 57, 89, 57, 55, 92, 48, 75, 34, 40]\n",
            "swapping i=10(49) with j=27(48)\n",
            "[0, 3, 8, 12, 13, 15, 17, 26, 29, 32, 48, 97, 100, 97, 83, 72, 63, 62, 60, 77, 97, 98, 57, 89, 57, 55, 92, 49, 75, 34, 40]\n",
            "swapping i=10(48) with j=29(34)\n",
            "[0, 3, 8, 12, 13, 15, 17, 26, 29, 32, 34, 97, 100, 97, 83, 72, 63, 62, 60, 77, 97, 98, 57, 89, 57, 55, 92, 49, 75, 48, 40]\n",
            "End of first pass\n",
            "swapping i=11(97) with j=14(83)\n",
            "[0, 3, 8, 12, 13, 15, 17, 26, 29, 32, 34, 83, 100, 97, 97, 72, 63, 62, 60, 77, 97, 98, 57, 89, 57, 55, 92, 49, 75, 48, 40]\n",
            "swapping i=11(83) with j=15(72)\n",
            "[0, 3, 8, 12, 13, 15, 17, 26, 29, 32, 34, 72, 100, 97, 97, 83, 63, 62, 60, 77, 97, 98, 57, 89, 57, 55, 92, 49, 75, 48, 40]\n",
            "swapping i=11(72) with j=16(63)\n",
            "[0, 3, 8, 12, 13, 15, 17, 26, 29, 32, 34, 63, 100, 97, 97, 83, 72, 62, 60, 77, 97, 98, 57, 89, 57, 55, 92, 49, 75, 48, 40]\n",
            "swapping i=11(63) with j=17(62)\n",
            "[0, 3, 8, 12, 13, 15, 17, 26, 29, 32, 34, 62, 100, 97, 97, 83, 72, 63, 60, 77, 97, 98, 57, 89, 57, 55, 92, 49, 75, 48, 40]\n",
            "swapping i=11(62) with j=18(60)\n",
            "[0, 3, 8, 12, 13, 15, 17, 26, 29, 32, 34, 60, 100, 97, 97, 83, 72, 63, 62, 77, 97, 98, 57, 89, 57, 55, 92, 49, 75, 48, 40]\n",
            "swapping i=11(60) with j=22(57)\n",
            "[0, 3, 8, 12, 13, 15, 17, 26, 29, 32, 34, 57, 100, 97, 97, 83, 72, 63, 62, 77, 97, 98, 60, 89, 57, 55, 92, 49, 75, 48, 40]\n",
            "swapping i=11(57) with j=25(55)\n",
            "[0, 3, 8, 12, 13, 15, 17, 26, 29, 32, 34, 55, 100, 97, 97, 83, 72, 63, 62, 77, 97, 98, 60, 89, 57, 57, 92, 49, 75, 48, 40]\n",
            "swapping i=11(55) with j=27(49)\n",
            "[0, 3, 8, 12, 13, 15, 17, 26, 29, 32, 34, 49, 100, 97, 97, 83, 72, 63, 62, 77, 97, 98, 60, 89, 57, 57, 92, 55, 75, 48, 40]\n",
            "swapping i=11(49) with j=29(48)\n",
            "[0, 3, 8, 12, 13, 15, 17, 26, 29, 32, 34, 48, 100, 97, 97, 83, 72, 63, 62, 77, 97, 98, 60, 89, 57, 57, 92, 55, 75, 49, 40]\n",
            "swapping i=11(48) with j=30(40)\n",
            "[0, 3, 8, 12, 13, 15, 17, 26, 29, 32, 34, 40, 100, 97, 97, 83, 72, 63, 62, 77, 97, 98, 60, 89, 57, 57, 92, 55, 75, 49, 48]\n",
            "End of first pass\n",
            "swapping i=12(100) with j=13(97)\n",
            "[0, 3, 8, 12, 13, 15, 17, 26, 29, 32, 34, 40, 97, 100, 97, 83, 72, 63, 62, 77, 97, 98, 60, 89, 57, 57, 92, 55, 75, 49, 48]\n",
            "swapping i=12(97) with j=15(83)\n",
            "[0, 3, 8, 12, 13, 15, 17, 26, 29, 32, 34, 40, 83, 100, 97, 97, 72, 63, 62, 77, 97, 98, 60, 89, 57, 57, 92, 55, 75, 49, 48]\n",
            "swapping i=12(83) with j=16(72)\n",
            "[0, 3, 8, 12, 13, 15, 17, 26, 29, 32, 34, 40, 72, 100, 97, 97, 83, 63, 62, 77, 97, 98, 60, 89, 57, 57, 92, 55, 75, 49, 48]\n",
            "swapping i=12(72) with j=17(63)\n",
            "[0, 3, 8, 12, 13, 15, 17, 26, 29, 32, 34, 40, 63, 100, 97, 97, 83, 72, 62, 77, 97, 98, 60, 89, 57, 57, 92, 55, 75, 49, 48]\n",
            "swapping i=12(63) with j=18(62)\n",
            "[0, 3, 8, 12, 13, 15, 17, 26, 29, 32, 34, 40, 62, 100, 97, 97, 83, 72, 63, 77, 97, 98, 60, 89, 57, 57, 92, 55, 75, 49, 48]\n",
            "swapping i=12(62) with j=22(60)\n",
            "[0, 3, 8, 12, 13, 15, 17, 26, 29, 32, 34, 40, 60, 100, 97, 97, 83, 72, 63, 77, 97, 98, 62, 89, 57, 57, 92, 55, 75, 49, 48]\n",
            "swapping i=12(60) with j=24(57)\n",
            "[0, 3, 8, 12, 13, 15, 17, 26, 29, 32, 34, 40, 57, 100, 97, 97, 83, 72, 63, 77, 97, 98, 62, 89, 60, 57, 92, 55, 75, 49, 48]\n",
            "swapping i=12(57) with j=27(55)\n",
            "[0, 3, 8, 12, 13, 15, 17, 26, 29, 32, 34, 40, 55, 100, 97, 97, 83, 72, 63, 77, 97, 98, 62, 89, 60, 57, 92, 57, 75, 49, 48]\n",
            "swapping i=12(55) with j=29(49)\n",
            "[0, 3, 8, 12, 13, 15, 17, 26, 29, 32, 34, 40, 49, 100, 97, 97, 83, 72, 63, 77, 97, 98, 62, 89, 60, 57, 92, 57, 75, 55, 48]\n",
            "swapping i=12(49) with j=30(48)\n",
            "[0, 3, 8, 12, 13, 15, 17, 26, 29, 32, 34, 40, 48, 100, 97, 97, 83, 72, 63, 77, 97, 98, 62, 89, 60, 57, 92, 57, 75, 55, 49]\n",
            "End of first pass\n",
            "swapping i=13(100) with j=14(97)\n",
            "[0, 3, 8, 12, 13, 15, 17, 26, 29, 32, 34, 40, 48, 97, 100, 97, 83, 72, 63, 77, 97, 98, 62, 89, 60, 57, 92, 57, 75, 55, 49]\n",
            "swapping i=13(97) with j=16(83)\n",
            "[0, 3, 8, 12, 13, 15, 17, 26, 29, 32, 34, 40, 48, 83, 100, 97, 97, 72, 63, 77, 97, 98, 62, 89, 60, 57, 92, 57, 75, 55, 49]\n",
            "swapping i=13(83) with j=17(72)\n",
            "[0, 3, 8, 12, 13, 15, 17, 26, 29, 32, 34, 40, 48, 72, 100, 97, 97, 83, 63, 77, 97, 98, 62, 89, 60, 57, 92, 57, 75, 55, 49]\n",
            "swapping i=13(72) with j=18(63)\n",
            "[0, 3, 8, 12, 13, 15, 17, 26, 29, 32, 34, 40, 48, 63, 100, 97, 97, 83, 72, 77, 97, 98, 62, 89, 60, 57, 92, 57, 75, 55, 49]\n",
            "swapping i=13(63) with j=22(62)\n",
            "[0, 3, 8, 12, 13, 15, 17, 26, 29, 32, 34, 40, 48, 62, 100, 97, 97, 83, 72, 77, 97, 98, 63, 89, 60, 57, 92, 57, 75, 55, 49]\n",
            "swapping i=13(62) with j=24(60)\n",
            "[0, 3, 8, 12, 13, 15, 17, 26, 29, 32, 34, 40, 48, 60, 100, 97, 97, 83, 72, 77, 97, 98, 63, 89, 62, 57, 92, 57, 75, 55, 49]\n",
            "swapping i=13(60) with j=25(57)\n",
            "[0, 3, 8, 12, 13, 15, 17, 26, 29, 32, 34, 40, 48, 57, 100, 97, 97, 83, 72, 77, 97, 98, 63, 89, 62, 60, 92, 57, 75, 55, 49]\n",
            "swapping i=13(57) with j=29(55)\n",
            "[0, 3, 8, 12, 13, 15, 17, 26, 29, 32, 34, 40, 48, 55, 100, 97, 97, 83, 72, 77, 97, 98, 63, 89, 62, 60, 92, 57, 75, 57, 49]\n",
            "swapping i=13(55) with j=30(49)\n",
            "[0, 3, 8, 12, 13, 15, 17, 26, 29, 32, 34, 40, 48, 49, 100, 97, 97, 83, 72, 77, 97, 98, 63, 89, 62, 60, 92, 57, 75, 57, 55]\n",
            "End of first pass\n",
            "swapping i=14(100) with j=15(97)\n",
            "[0, 3, 8, 12, 13, 15, 17, 26, 29, 32, 34, 40, 48, 49, 97, 100, 97, 83, 72, 77, 97, 98, 63, 89, 62, 60, 92, 57, 75, 57, 55]\n",
            "swapping i=14(97) with j=17(83)\n",
            "[0, 3, 8, 12, 13, 15, 17, 26, 29, 32, 34, 40, 48, 49, 83, 100, 97, 97, 72, 77, 97, 98, 63, 89, 62, 60, 92, 57, 75, 57, 55]\n",
            "swapping i=14(83) with j=18(72)\n",
            "[0, 3, 8, 12, 13, 15, 17, 26, 29, 32, 34, 40, 48, 49, 72, 100, 97, 97, 83, 77, 97, 98, 63, 89, 62, 60, 92, 57, 75, 57, 55]\n",
            "swapping i=14(72) with j=22(63)\n",
            "[0, 3, 8, 12, 13, 15, 17, 26, 29, 32, 34, 40, 48, 49, 63, 100, 97, 97, 83, 77, 97, 98, 72, 89, 62, 60, 92, 57, 75, 57, 55]\n",
            "swapping i=14(63) with j=24(62)\n",
            "[0, 3, 8, 12, 13, 15, 17, 26, 29, 32, 34, 40, 48, 49, 62, 100, 97, 97, 83, 77, 97, 98, 72, 89, 63, 60, 92, 57, 75, 57, 55]\n",
            "swapping i=14(62) with j=25(60)\n",
            "[0, 3, 8, 12, 13, 15, 17, 26, 29, 32, 34, 40, 48, 49, 60, 100, 97, 97, 83, 77, 97, 98, 72, 89, 63, 62, 92, 57, 75, 57, 55]\n",
            "swapping i=14(60) with j=27(57)\n",
            "[0, 3, 8, 12, 13, 15, 17, 26, 29, 32, 34, 40, 48, 49, 57, 100, 97, 97, 83, 77, 97, 98, 72, 89, 63, 62, 92, 60, 75, 57, 55]\n",
            "swapping i=14(57) with j=30(55)\n",
            "[0, 3, 8, 12, 13, 15, 17, 26, 29, 32, 34, 40, 48, 49, 55, 100, 97, 97, 83, 77, 97, 98, 72, 89, 63, 62, 92, 60, 75, 57, 57]\n",
            "End of first pass\n",
            "swapping i=15(100) with j=16(97)\n",
            "[0, 3, 8, 12, 13, 15, 17, 26, 29, 32, 34, 40, 48, 49, 55, 97, 100, 97, 83, 77, 97, 98, 72, 89, 63, 62, 92, 60, 75, 57, 57]\n",
            "swapping i=15(97) with j=18(83)\n",
            "[0, 3, 8, 12, 13, 15, 17, 26, 29, 32, 34, 40, 48, 49, 55, 83, 100, 97, 97, 77, 97, 98, 72, 89, 63, 62, 92, 60, 75, 57, 57]\n",
            "swapping i=15(83) with j=19(77)\n",
            "[0, 3, 8, 12, 13, 15, 17, 26, 29, 32, 34, 40, 48, 49, 55, 77, 100, 97, 97, 83, 97, 98, 72, 89, 63, 62, 92, 60, 75, 57, 57]\n",
            "swapping i=15(77) with j=22(72)\n",
            "[0, 3, 8, 12, 13, 15, 17, 26, 29, 32, 34, 40, 48, 49, 55, 72, 100, 97, 97, 83, 97, 98, 77, 89, 63, 62, 92, 60, 75, 57, 57]\n",
            "swapping i=15(72) with j=24(63)\n",
            "[0, 3, 8, 12, 13, 15, 17, 26, 29, 32, 34, 40, 48, 49, 55, 63, 100, 97, 97, 83, 97, 98, 77, 89, 72, 62, 92, 60, 75, 57, 57]\n",
            "swapping i=15(63) with j=25(62)\n",
            "[0, 3, 8, 12, 13, 15, 17, 26, 29, 32, 34, 40, 48, 49, 55, 62, 100, 97, 97, 83, 97, 98, 77, 89, 72, 63, 92, 60, 75, 57, 57]\n",
            "swapping i=15(62) with j=27(60)\n",
            "[0, 3, 8, 12, 13, 15, 17, 26, 29, 32, 34, 40, 48, 49, 55, 60, 100, 97, 97, 83, 97, 98, 77, 89, 72, 63, 92, 62, 75, 57, 57]\n",
            "swapping i=15(60) with j=29(57)\n",
            "[0, 3, 8, 12, 13, 15, 17, 26, 29, 32, 34, 40, 48, 49, 55, 57, 100, 97, 97, 83, 97, 98, 77, 89, 72, 63, 92, 62, 75, 60, 57]\n",
            "End of first pass\n",
            "swapping i=16(100) with j=17(97)\n",
            "[0, 3, 8, 12, 13, 15, 17, 26, 29, 32, 34, 40, 48, 49, 55, 57, 97, 100, 97, 83, 97, 98, 77, 89, 72, 63, 92, 62, 75, 60, 57]\n",
            "swapping i=16(97) with j=19(83)\n",
            "[0, 3, 8, 12, 13, 15, 17, 26, 29, 32, 34, 40, 48, 49, 55, 57, 83, 100, 97, 97, 97, 98, 77, 89, 72, 63, 92, 62, 75, 60, 57]\n",
            "swapping i=16(83) with j=22(77)\n",
            "[0, 3, 8, 12, 13, 15, 17, 26, 29, 32, 34, 40, 48, 49, 55, 57, 77, 100, 97, 97, 97, 98, 83, 89, 72, 63, 92, 62, 75, 60, 57]\n",
            "swapping i=16(77) with j=24(72)\n",
            "[0, 3, 8, 12, 13, 15, 17, 26, 29, 32, 34, 40, 48, 49, 55, 57, 72, 100, 97, 97, 97, 98, 83, 89, 77, 63, 92, 62, 75, 60, 57]\n",
            "swapping i=16(72) with j=25(63)\n",
            "[0, 3, 8, 12, 13, 15, 17, 26, 29, 32, 34, 40, 48, 49, 55, 57, 63, 100, 97, 97, 97, 98, 83, 89, 77, 72, 92, 62, 75, 60, 57]\n",
            "swapping i=16(63) with j=27(62)\n",
            "[0, 3, 8, 12, 13, 15, 17, 26, 29, 32, 34, 40, 48, 49, 55, 57, 62, 100, 97, 97, 97, 98, 83, 89, 77, 72, 92, 63, 75, 60, 57]\n",
            "swapping i=16(62) with j=29(60)\n",
            "[0, 3, 8, 12, 13, 15, 17, 26, 29, 32, 34, 40, 48, 49, 55, 57, 60, 100, 97, 97, 97, 98, 83, 89, 77, 72, 92, 63, 75, 62, 57]\n",
            "swapping i=16(60) with j=30(57)\n",
            "[0, 3, 8, 12, 13, 15, 17, 26, 29, 32, 34, 40, 48, 49, 55, 57, 57, 100, 97, 97, 97, 98, 83, 89, 77, 72, 92, 63, 75, 62, 60]\n",
            "End of first pass\n",
            "swapping i=17(100) with j=18(97)\n",
            "[0, 3, 8, 12, 13, 15, 17, 26, 29, 32, 34, 40, 48, 49, 55, 57, 57, 97, 100, 97, 97, 98, 83, 89, 77, 72, 92, 63, 75, 62, 60]\n",
            "swapping i=17(97) with j=22(83)\n",
            "[0, 3, 8, 12, 13, 15, 17, 26, 29, 32, 34, 40, 48, 49, 55, 57, 57, 83, 100, 97, 97, 98, 97, 89, 77, 72, 92, 63, 75, 62, 60]\n",
            "swapping i=17(83) with j=24(77)\n",
            "[0, 3, 8, 12, 13, 15, 17, 26, 29, 32, 34, 40, 48, 49, 55, 57, 57, 77, 100, 97, 97, 98, 97, 89, 83, 72, 92, 63, 75, 62, 60]\n",
            "swapping i=17(77) with j=25(72)\n",
            "[0, 3, 8, 12, 13, 15, 17, 26, 29, 32, 34, 40, 48, 49, 55, 57, 57, 72, 100, 97, 97, 98, 97, 89, 83, 77, 92, 63, 75, 62, 60]\n",
            "swapping i=17(72) with j=27(63)\n",
            "[0, 3, 8, 12, 13, 15, 17, 26, 29, 32, 34, 40, 48, 49, 55, 57, 57, 63, 100, 97, 97, 98, 97, 89, 83, 77, 92, 72, 75, 62, 60]\n",
            "swapping i=17(63) with j=29(62)\n",
            "[0, 3, 8, 12, 13, 15, 17, 26, 29, 32, 34, 40, 48, 49, 55, 57, 57, 62, 100, 97, 97, 98, 97, 89, 83, 77, 92, 72, 75, 63, 60]\n",
            "swapping i=17(62) with j=30(60)\n",
            "[0, 3, 8, 12, 13, 15, 17, 26, 29, 32, 34, 40, 48, 49, 55, 57, 57, 60, 100, 97, 97, 98, 97, 89, 83, 77, 92, 72, 75, 63, 62]\n",
            "End of first pass\n",
            "swapping i=18(100) with j=19(97)\n",
            "[0, 3, 8, 12, 13, 15, 17, 26, 29, 32, 34, 40, 48, 49, 55, 57, 57, 60, 97, 100, 97, 98, 97, 89, 83, 77, 92, 72, 75, 63, 62]\n",
            "swapping i=18(97) with j=23(89)\n",
            "[0, 3, 8, 12, 13, 15, 17, 26, 29, 32, 34, 40, 48, 49, 55, 57, 57, 60, 89, 100, 97, 98, 97, 97, 83, 77, 92, 72, 75, 63, 62]\n",
            "swapping i=18(89) with j=24(83)\n",
            "[0, 3, 8, 12, 13, 15, 17, 26, 29, 32, 34, 40, 48, 49, 55, 57, 57, 60, 83, 100, 97, 98, 97, 97, 89, 77, 92, 72, 75, 63, 62]\n",
            "swapping i=18(83) with j=25(77)\n",
            "[0, 3, 8, 12, 13, 15, 17, 26, 29, 32, 34, 40, 48, 49, 55, 57, 57, 60, 77, 100, 97, 98, 97, 97, 89, 83, 92, 72, 75, 63, 62]\n",
            "swapping i=18(77) with j=27(72)\n",
            "[0, 3, 8, 12, 13, 15, 17, 26, 29, 32, 34, 40, 48, 49, 55, 57, 57, 60, 72, 100, 97, 98, 97, 97, 89, 83, 92, 77, 75, 63, 62]\n",
            "swapping i=18(72) with j=29(63)\n",
            "[0, 3, 8, 12, 13, 15, 17, 26, 29, 32, 34, 40, 48, 49, 55, 57, 57, 60, 63, 100, 97, 98, 97, 97, 89, 83, 92, 77, 75, 72, 62]\n",
            "swapping i=18(63) with j=30(62)\n",
            "[0, 3, 8, 12, 13, 15, 17, 26, 29, 32, 34, 40, 48, 49, 55, 57, 57, 60, 62, 100, 97, 98, 97, 97, 89, 83, 92, 77, 75, 72, 63]\n",
            "End of first pass\n",
            "swapping i=19(100) with j=20(97)\n",
            "[0, 3, 8, 12, 13, 15, 17, 26, 29, 32, 34, 40, 48, 49, 55, 57, 57, 60, 62, 97, 100, 98, 97, 97, 89, 83, 92, 77, 75, 72, 63]\n",
            "swapping i=19(97) with j=24(89)\n",
            "[0, 3, 8, 12, 13, 15, 17, 26, 29, 32, 34, 40, 48, 49, 55, 57, 57, 60, 62, 89, 100, 98, 97, 97, 97, 83, 92, 77, 75, 72, 63]\n",
            "swapping i=19(89) with j=25(83)\n",
            "[0, 3, 8, 12, 13, 15, 17, 26, 29, 32, 34, 40, 48, 49, 55, 57, 57, 60, 62, 83, 100, 98, 97, 97, 97, 89, 92, 77, 75, 72, 63]\n",
            "swapping i=19(83) with j=27(77)\n",
            "[0, 3, 8, 12, 13, 15, 17, 26, 29, 32, 34, 40, 48, 49, 55, 57, 57, 60, 62, 77, 100, 98, 97, 97, 97, 89, 92, 83, 75, 72, 63]\n",
            "swapping i=19(77) with j=28(75)\n",
            "[0, 3, 8, 12, 13, 15, 17, 26, 29, 32, 34, 40, 48, 49, 55, 57, 57, 60, 62, 75, 100, 98, 97, 97, 97, 89, 92, 83, 77, 72, 63]\n",
            "swapping i=19(75) with j=29(72)\n",
            "[0, 3, 8, 12, 13, 15, 17, 26, 29, 32, 34, 40, 48, 49, 55, 57, 57, 60, 62, 72, 100, 98, 97, 97, 97, 89, 92, 83, 77, 75, 63]\n",
            "swapping i=19(72) with j=30(63)\n",
            "[0, 3, 8, 12, 13, 15, 17, 26, 29, 32, 34, 40, 48, 49, 55, 57, 57, 60, 62, 63, 100, 98, 97, 97, 97, 89, 92, 83, 77, 75, 72]\n",
            "End of first pass\n",
            "swapping i=20(100) with j=21(98)\n",
            "[0, 3, 8, 12, 13, 15, 17, 26, 29, 32, 34, 40, 48, 49, 55, 57, 57, 60, 62, 63, 98, 100, 97, 97, 97, 89, 92, 83, 77, 75, 72]\n",
            "swapping i=20(98) with j=22(97)\n",
            "[0, 3, 8, 12, 13, 15, 17, 26, 29, 32, 34, 40, 48, 49, 55, 57, 57, 60, 62, 63, 97, 100, 98, 97, 97, 89, 92, 83, 77, 75, 72]\n",
            "swapping i=20(97) with j=25(89)\n",
            "[0, 3, 8, 12, 13, 15, 17, 26, 29, 32, 34, 40, 48, 49, 55, 57, 57, 60, 62, 63, 89, 100, 98, 97, 97, 97, 92, 83, 77, 75, 72]\n",
            "swapping i=20(89) with j=27(83)\n",
            "[0, 3, 8, 12, 13, 15, 17, 26, 29, 32, 34, 40, 48, 49, 55, 57, 57, 60, 62, 63, 83, 100, 98, 97, 97, 97, 92, 89, 77, 75, 72]\n",
            "swapping i=20(83) with j=28(77)\n",
            "[0, 3, 8, 12, 13, 15, 17, 26, 29, 32, 34, 40, 48, 49, 55, 57, 57, 60, 62, 63, 77, 100, 98, 97, 97, 97, 92, 89, 83, 75, 72]\n",
            "swapping i=20(77) with j=29(75)\n",
            "[0, 3, 8, 12, 13, 15, 17, 26, 29, 32, 34, 40, 48, 49, 55, 57, 57, 60, 62, 63, 75, 100, 98, 97, 97, 97, 92, 89, 83, 77, 72]\n",
            "swapping i=20(75) with j=30(72)\n",
            "[0, 3, 8, 12, 13, 15, 17, 26, 29, 32, 34, 40, 48, 49, 55, 57, 57, 60, 62, 63, 72, 100, 98, 97, 97, 97, 92, 89, 83, 77, 75]\n",
            "End of first pass\n",
            "swapping i=21(100) with j=22(98)\n",
            "[0, 3, 8, 12, 13, 15, 17, 26, 29, 32, 34, 40, 48, 49, 55, 57, 57, 60, 62, 63, 72, 98, 100, 97, 97, 97, 92, 89, 83, 77, 75]\n",
            "swapping i=21(98) with j=23(97)\n",
            "[0, 3, 8, 12, 13, 15, 17, 26, 29, 32, 34, 40, 48, 49, 55, 57, 57, 60, 62, 63, 72, 97, 100, 98, 97, 97, 92, 89, 83, 77, 75]\n",
            "swapping i=21(97) with j=26(92)\n",
            "[0, 3, 8, 12, 13, 15, 17, 26, 29, 32, 34, 40, 48, 49, 55, 57, 57, 60, 62, 63, 72, 92, 100, 98, 97, 97, 97, 89, 83, 77, 75]\n",
            "swapping i=21(92) with j=27(89)\n",
            "[0, 3, 8, 12, 13, 15, 17, 26, 29, 32, 34, 40, 48, 49, 55, 57, 57, 60, 62, 63, 72, 89, 100, 98, 97, 97, 97, 92, 83, 77, 75]\n",
            "swapping i=21(89) with j=28(83)\n",
            "[0, 3, 8, 12, 13, 15, 17, 26, 29, 32, 34, 40, 48, 49, 55, 57, 57, 60, 62, 63, 72, 83, 100, 98, 97, 97, 97, 92, 89, 77, 75]\n",
            "swapping i=21(83) with j=29(77)\n",
            "[0, 3, 8, 12, 13, 15, 17, 26, 29, 32, 34, 40, 48, 49, 55, 57, 57, 60, 62, 63, 72, 77, 100, 98, 97, 97, 97, 92, 89, 83, 75]\n",
            "swapping i=21(77) with j=30(75)\n",
            "[0, 3, 8, 12, 13, 15, 17, 26, 29, 32, 34, 40, 48, 49, 55, 57, 57, 60, 62, 63, 72, 75, 100, 98, 97, 97, 97, 92, 89, 83, 77]\n",
            "End of first pass\n",
            "swapping i=22(100) with j=23(98)\n",
            "[0, 3, 8, 12, 13, 15, 17, 26, 29, 32, 34, 40, 48, 49, 55, 57, 57, 60, 62, 63, 72, 75, 98, 100, 97, 97, 97, 92, 89, 83, 77]\n",
            "swapping i=22(98) with j=24(97)\n",
            "[0, 3, 8, 12, 13, 15, 17, 26, 29, 32, 34, 40, 48, 49, 55, 57, 57, 60, 62, 63, 72, 75, 97, 100, 98, 97, 97, 92, 89, 83, 77]\n",
            "swapping i=22(97) with j=27(92)\n",
            "[0, 3, 8, 12, 13, 15, 17, 26, 29, 32, 34, 40, 48, 49, 55, 57, 57, 60, 62, 63, 72, 75, 92, 100, 98, 97, 97, 97, 89, 83, 77]\n",
            "swapping i=22(92) with j=28(89)\n",
            "[0, 3, 8, 12, 13, 15, 17, 26, 29, 32, 34, 40, 48, 49, 55, 57, 57, 60, 62, 63, 72, 75, 89, 100, 98, 97, 97, 97, 92, 83, 77]\n",
            "swapping i=22(89) with j=29(83)\n",
            "[0, 3, 8, 12, 13, 15, 17, 26, 29, 32, 34, 40, 48, 49, 55, 57, 57, 60, 62, 63, 72, 75, 83, 100, 98, 97, 97, 97, 92, 89, 77]\n",
            "swapping i=22(83) with j=30(77)\n",
            "[0, 3, 8, 12, 13, 15, 17, 26, 29, 32, 34, 40, 48, 49, 55, 57, 57, 60, 62, 63, 72, 75, 77, 100, 98, 97, 97, 97, 92, 89, 83]\n",
            "End of first pass\n",
            "swapping i=23(100) with j=24(98)\n",
            "[0, 3, 8, 12, 13, 15, 17, 26, 29, 32, 34, 40, 48, 49, 55, 57, 57, 60, 62, 63, 72, 75, 77, 98, 100, 97, 97, 97, 92, 89, 83]\n",
            "swapping i=23(98) with j=25(97)\n",
            "[0, 3, 8, 12, 13, 15, 17, 26, 29, 32, 34, 40, 48, 49, 55, 57, 57, 60, 62, 63, 72, 75, 77, 97, 100, 98, 97, 97, 92, 89, 83]\n",
            "swapping i=23(97) with j=28(92)\n",
            "[0, 3, 8, 12, 13, 15, 17, 26, 29, 32, 34, 40, 48, 49, 55, 57, 57, 60, 62, 63, 72, 75, 77, 92, 100, 98, 97, 97, 97, 89, 83]\n",
            "swapping i=23(92) with j=29(89)\n",
            "[0, 3, 8, 12, 13, 15, 17, 26, 29, 32, 34, 40, 48, 49, 55, 57, 57, 60, 62, 63, 72, 75, 77, 89, 100, 98, 97, 97, 97, 92, 83]\n",
            "swapping i=23(89) with j=30(83)\n",
            "[0, 3, 8, 12, 13, 15, 17, 26, 29, 32, 34, 40, 48, 49, 55, 57, 57, 60, 62, 63, 72, 75, 77, 83, 100, 98, 97, 97, 97, 92, 89]\n",
            "End of first pass\n",
            "swapping i=24(100) with j=25(98)\n",
            "[0, 3, 8, 12, 13, 15, 17, 26, 29, 32, 34, 40, 48, 49, 55, 57, 57, 60, 62, 63, 72, 75, 77, 83, 98, 100, 97, 97, 97, 92, 89]\n",
            "swapping i=24(98) with j=26(97)\n",
            "[0, 3, 8, 12, 13, 15, 17, 26, 29, 32, 34, 40, 48, 49, 55, 57, 57, 60, 62, 63, 72, 75, 77, 83, 97, 100, 98, 97, 97, 92, 89]\n",
            "swapping i=24(97) with j=29(92)\n",
            "[0, 3, 8, 12, 13, 15, 17, 26, 29, 32, 34, 40, 48, 49, 55, 57, 57, 60, 62, 63, 72, 75, 77, 83, 92, 100, 98, 97, 97, 97, 89]\n",
            "swapping i=24(92) with j=30(89)\n",
            "[0, 3, 8, 12, 13, 15, 17, 26, 29, 32, 34, 40, 48, 49, 55, 57, 57, 60, 62, 63, 72, 75, 77, 83, 89, 100, 98, 97, 97, 97, 92]\n",
            "End of first pass\n",
            "swapping i=25(100) with j=26(98)\n",
            "[0, 3, 8, 12, 13, 15, 17, 26, 29, 32, 34, 40, 48, 49, 55, 57, 57, 60, 62, 63, 72, 75, 77, 83, 89, 98, 100, 97, 97, 97, 92]\n",
            "swapping i=25(98) with j=27(97)\n",
            "[0, 3, 8, 12, 13, 15, 17, 26, 29, 32, 34, 40, 48, 49, 55, 57, 57, 60, 62, 63, 72, 75, 77, 83, 89, 97, 100, 98, 97, 97, 92]\n",
            "swapping i=25(97) with j=30(92)\n",
            "[0, 3, 8, 12, 13, 15, 17, 26, 29, 32, 34, 40, 48, 49, 55, 57, 57, 60, 62, 63, 72, 75, 77, 83, 89, 92, 100, 98, 97, 97, 97]\n",
            "End of first pass\n",
            "swapping i=26(100) with j=27(98)\n",
            "[0, 3, 8, 12, 13, 15, 17, 26, 29, 32, 34, 40, 48, 49, 55, 57, 57, 60, 62, 63, 72, 75, 77, 83, 89, 92, 98, 100, 97, 97, 97]\n",
            "swapping i=26(98) with j=28(97)\n",
            "[0, 3, 8, 12, 13, 15, 17, 26, 29, 32, 34, 40, 48, 49, 55, 57, 57, 60, 62, 63, 72, 75, 77, 83, 89, 92, 97, 100, 98, 97, 97]\n",
            "End of first pass\n",
            "swapping i=27(100) with j=28(98)\n",
            "[0, 3, 8, 12, 13, 15, 17, 26, 29, 32, 34, 40, 48, 49, 55, 57, 57, 60, 62, 63, 72, 75, 77, 83, 89, 92, 97, 98, 100, 97, 97]\n",
            "swapping i=27(98) with j=29(97)\n",
            "[0, 3, 8, 12, 13, 15, 17, 26, 29, 32, 34, 40, 48, 49, 55, 57, 57, 60, 62, 63, 72, 75, 77, 83, 89, 92, 97, 97, 100, 98, 97]\n",
            "End of first pass\n",
            "swapping i=28(100) with j=29(98)\n",
            "[0, 3, 8, 12, 13, 15, 17, 26, 29, 32, 34, 40, 48, 49, 55, 57, 57, 60, 62, 63, 72, 75, 77, 83, 89, 92, 97, 97, 98, 100, 97]\n",
            "swapping i=28(98) with j=30(97)\n",
            "[0, 3, 8, 12, 13, 15, 17, 26, 29, 32, 34, 40, 48, 49, 55, 57, 57, 60, 62, 63, 72, 75, 77, 83, 89, 92, 97, 97, 97, 100, 98]\n",
            "End of first pass\n",
            "swapping i=29(100) with j=30(98)\n",
            "[0, 3, 8, 12, 13, 15, 17, 26, 29, 32, 34, 40, 48, 49, 55, 57, 57, 60, 62, 63, 72, 75, 77, 83, 89, 92, 97, 97, 97, 98, 100]\n",
            "End of first pass\n",
            "End of first pass\n",
            "\n",
            " Final list\n",
            "[0, 3, 8, 12, 13, 15, 17, 26, 29, 32, 34, 40, 48, 49, 55, 57, 57, 60, 62, 63, 72, 75, 77, 83, 89, 92, 97, 97, 97, 98, 100]\n"
          ]
        }
      ]
    },
    {
      "cell_type": "markdown",
      "metadata": {
        "id": "_URK_HNCk0bS"
      },
      "source": [
        "PYTHONIC'S SOLUTIONS"
      ]
    },
    {
      "cell_type": "code",
      "metadata": {
        "colab": {
          "base_uri": "https://localhost:8080/"
        },
        "id": "MirGNBghk6mx",
        "outputId": "1d323d03-78e7-4596-cfdd-0df8ee0ff7c1"
      },
      "source": [
        "day_of_month[daily_rain.index(min(daily_rain))]"
      ],
      "execution_count": null,
      "outputs": [
        {
          "output_type": "execute_result",
          "data": {
            "text/plain": [
              "23"
            ]
          },
          "metadata": {},
          "execution_count": 16
        }
      ]
    },
    {
      "cell_type": "code",
      "metadata": {
        "colab": {
          "base_uri": "https://localhost:8080/"
        },
        "id": "vwQVsKi-liWY",
        "outputId": "36d03f33-b071-4643-f363-cb3f1ab7e7c9"
      },
      "source": [
        "day_of_month[daily_rain.index(max(daily_rain))]"
      ],
      "execution_count": null,
      "outputs": [
        {
          "output_type": "execute_result",
          "data": {
            "text/plain": [
              "13"
            ]
          },
          "metadata": {},
          "execution_count": 17
        }
      ]
    },
    {
      "cell_type": "code",
      "metadata": {
        "colab": {
          "base_uri": "https://localhost:8080/"
        },
        "id": "O-o9q72dloVW",
        "outputId": "6ec4d959-54cd-48c3-8bee-8baa37ca564c"
      },
      "source": [
        "sum(daily_rain)/len(daily_rain)"
      ],
      "execution_count": null,
      "outputs": [
        {
          "output_type": "execute_result",
          "data": {
            "text/plain": [
              "53.45161290322581"
            ]
          },
          "metadata": {},
          "execution_count": 18
        }
      ]
    },
    {
      "cell_type": "code",
      "metadata": {
        "colab": {
          "base_uri": "https://localhost:8080/"
        },
        "id": "RzGkJbaYhJ_P",
        "outputId": "72e7d254-faf5-4534-cd2a-1b1cb7f637ef"
      },
      "source": [
        "sum(list(map(lambda x: 1 if daily_rain[x-1] > 0 else 0, day_of_month)))"
      ],
      "execution_count": null,
      "outputs": [
        {
          "output_type": "execute_result",
          "data": {
            "text/plain": [
              "30"
            ]
          },
          "metadata": {},
          "execution_count": 19
        }
      ]
    },
    {
      "cell_type": "code",
      "metadata": {
        "colab": {
          "base_uri": "https://localhost:8080/",
          "height": 35
        },
        "id": "4NQO4CnIgog_",
        "outputId": "84a07206-31e5-4d02-95b0-042c05b89b87"
      },
      "source": [
        "day_of_month.sort(key=lambda x: daily_rain[x-1], reverse=True)\n",
        "str(day_of_month)"
      ],
      "execution_count": null,
      "outputs": [
        {
          "output_type": "execute_result",
          "data": {
            "application/vnd.google.colaboratory.intrinsic+json": {
              "type": "string"
            },
            "text/plain": [
              "'[13, 22, 3, 8, 21, 27, 24, 11, 20, 29, 2, 7, 16, 10, 9, 25, 19, 18, 12, 31, 26, 5, 28, 14, 1, 6, 30, 15, 4, 17, 23]'"
            ]
          },
          "metadata": {},
          "execution_count": 20
        }
      ]
    },
    {
      "cell_type": "code",
      "metadata": {
        "id": "IDwYwM0kgoeo"
      },
      "source": [
        ""
      ],
      "execution_count": null,
      "outputs": []
    },
    {
      "cell_type": "markdown",
      "metadata": {
        "id": "oDdmrl1dAt8q"
      },
      "source": [
        "## Basic Types - part 2 "
      ]
    },
    {
      "cell_type": "markdown",
      "metadata": {
        "id": "IOk7-87Qjfbe"
      },
      "source": [
        "### Set\n",
        "\n",
        "(from w3 schools http://https://www.w3schools.com/python/python_sets.asp) \n",
        "\n",
        "\n",
        "Sets are used to store multiple items in a single variable.\n",
        "\n",
        "Set is one of 4 built-in data types in Python used to store collections of data, the other 3 are List, Tuple, and Dictionary, all with different qualities and usage.\n",
        "\n",
        "A set is a collection which is unordered, unchangeable*, and unindexed"
      ]
    },
    {
      "cell_type": "code",
      "metadata": {
        "colab": {
          "base_uri": "https://localhost:8080/"
        },
        "id": "RkFzdcjBbsx7",
        "outputId": "dc027a48-3d46-465d-dc40-1fa689d21644"
      },
      "source": [
        "myset = {\"apple\", \"banana\", \"cherry\", \"banana\"}\n",
        "myset"
      ],
      "execution_count": 3,
      "outputs": [
        {
          "output_type": "execute_result",
          "data": {
            "text/plain": [
              "{'apple', 'banana', 'cherry'}"
            ]
          },
          "metadata": {},
          "execution_count": 3
        }
      ]
    },
    {
      "cell_type": "code",
      "metadata": {
        "colab": {
          "base_uri": "https://localhost:8080/",
          "height": 164
        },
        "id": "pziZUu6ScvD4",
        "outputId": "ea67ef72-f6b4-4c06-fd67-36d9b77ab030"
      },
      "source": [
        "isiterable([])"
      ],
      "execution_count": 7,
      "outputs": [
        {
          "output_type": "error",
          "ename": "NameError",
          "evalue": "ignored",
          "traceback": [
            "\u001b[0;31m---------------------------------------------------------------------------\u001b[0m",
            "\u001b[0;31mNameError\u001b[0m                                 Traceback (most recent call last)",
            "\u001b[0;32m<ipython-input-7-090b8b1200ed>\u001b[0m in \u001b[0;36m<module>\u001b[0;34m()\u001b[0m\n\u001b[0;32m----> 1\u001b[0;31m \u001b[0misiterable\u001b[0m\u001b[0;34m(\u001b[0m\u001b[0;34m[\u001b[0m\u001b[0;34m]\u001b[0m\u001b[0;34m)\u001b[0m\u001b[0;34m\u001b[0m\u001b[0;34m\u001b[0m\u001b[0m\n\u001b[0m",
            "\u001b[0;31mNameError\u001b[0m: name 'isiterable' is not defined"
          ]
        }
      ]
    },
    {
      "cell_type": "code",
      "metadata": {
        "id": "L1JCBl_jjeCn"
      },
      "source": [
        "set?"
      ],
      "execution_count": 1,
      "outputs": []
    },
    {
      "cell_type": "code",
      "metadata": {
        "colab": {
          "base_uri": "https://localhost:8080/",
          "height": 181
        },
        "id": "4SAWXDfJcZ9q",
        "outputId": "05ed4016-ca8e-4847-cac1-5c58c97337ff"
      },
      "source": [
        "myset2 = set(['banana', 'kiwi', 'pineapple'])\n",
        "myset2"
      ],
      "execution_count": 6,
      "outputs": [
        {
          "output_type": "error",
          "ename": "TypeError",
          "evalue": "ignored",
          "traceback": [
            "\u001b[0;31m---------------------------------------------------------------------------\u001b[0m",
            "\u001b[0;31mTypeError\u001b[0m                                 Traceback (most recent call last)",
            "\u001b[0;32m<ipython-input-6-f6d2c4303c29>\u001b[0m in \u001b[0;36m<module>\u001b[0;34m()\u001b[0m\n\u001b[0;32m----> 1\u001b[0;31m \u001b[0mmyset2\u001b[0m \u001b[0;34m=\u001b[0m \u001b[0mset\u001b[0m\u001b[0;34m(\u001b[0m\u001b[0;34m'banana'\u001b[0m\u001b[0;34m,\u001b[0m \u001b[0;34m'kiwi'\u001b[0m\u001b[0;34m,\u001b[0m \u001b[0;34m'pineapple'\u001b[0m\u001b[0;34m)\u001b[0m\u001b[0;34m\u001b[0m\u001b[0;34m\u001b[0m\u001b[0m\n\u001b[0m\u001b[1;32m      2\u001b[0m \u001b[0mmyset2\u001b[0m\u001b[0;34m\u001b[0m\u001b[0;34m\u001b[0m\u001b[0m\n",
            "\u001b[0;31mTypeError\u001b[0m: set expected at most 1 arguments, got 3"
          ]
        }
      ]
    },
    {
      "cell_type": "code",
      "metadata": {
        "colab": {
          "base_uri": "https://localhost:8080/",
          "height": 164
        },
        "id": "6ZCKd3aQcBHD",
        "outputId": "c83062cb-bf36-420b-e555-599fd1d9f5ec"
      },
      "source": [
        "myset."
      ],
      "execution_count": 5,
      "outputs": [
        {
          "output_type": "error",
          "ename": "TypeError",
          "evalue": "ignored",
          "traceback": [
            "\u001b[0;31m---------------------------------------------------------------------------\u001b[0m",
            "\u001b[0;31mTypeError\u001b[0m                                 Traceback (most recent call last)",
            "\u001b[0;32m<ipython-input-5-5445583283da>\u001b[0m in \u001b[0;36m<module>\u001b[0;34m()\u001b[0m\n\u001b[0;32m----> 1\u001b[0;31m \u001b[0mmyset\u001b[0m\u001b[0;34m[\u001b[0m\u001b[0;36m0\u001b[0m\u001b[0;34m]\u001b[0m\u001b[0;34m\u001b[0m\u001b[0;34m\u001b[0m\u001b[0m\n\u001b[0m",
            "\u001b[0;31mTypeError\u001b[0m: 'set' object is not subscriptable"
          ]
        }
      ]
    },
    {
      "cell_type": "code",
      "metadata": {
        "id": "SleGAE7cbspE"
      },
      "source": [
        ""
      ],
      "execution_count": null,
      "outputs": []
    },
    {
      "cell_type": "markdown",
      "metadata": {
        "id": "YU2R9ljBA8UK"
      },
      "source": [
        "### Tuples"
      ]
    },
    {
      "cell_type": "code",
      "metadata": {
        "id": "mR1M3kOnA-4x"
      },
      "source": [
        "t = (1, 2, 3, 4, 5)\n",
        "t"
      ],
      "execution_count": null,
      "outputs": []
    },
    {
      "cell_type": "code",
      "metadata": {
        "id": "W7BZTGrXBOFA"
      },
      "source": [
        "# tuples are imutable\n",
        "# t[0] = 0"
      ],
      "execution_count": null,
      "outputs": []
    },
    {
      "cell_type": "code",
      "metadata": {
        "id": "9wYXtPOhFxsO"
      },
      "source": [
        "# t."
      ],
      "execution_count": null,
      "outputs": []
    },
    {
      "cell_type": "code",
      "metadata": {
        "id": "ogkVT3psA-1G"
      },
      "source": [
        "type(t)"
      ],
      "execution_count": null,
      "outputs": []
    },
    {
      "cell_type": "code",
      "metadata": {
        "id": "M-CPeTFYA-yI"
      },
      "source": [
        "t[0:3]"
      ],
      "execution_count": null,
      "outputs": []
    },
    {
      "cell_type": "code",
      "metadata": {
        "id": "p9YiBRrbB-cQ"
      },
      "source": [
        "# values separated by comma are packed into tuples automatically\n",
        "x = 0\n",
        "y = 1\n",
        "x, y"
      ],
      "execution_count": null,
      "outputs": []
    },
    {
      "cell_type": "code",
      "metadata": {
        "id": "OpbxwwK1BOBp"
      },
      "source": [
        "# tuple unpacking\n",
        "(a, b) = (x, y)\n",
        "(a, b) "
      ],
      "execution_count": null,
      "outputs": []
    },
    {
      "cell_type": "code",
      "metadata": {
        "id": "vvRc5bEUBN-Q"
      },
      "source": [
        "a, b = x, y\n",
        "a, b"
      ],
      "execution_count": null,
      "outputs": []
    },
    {
      "cell_type": "code",
      "metadata": {
        "id": "rEtAIQDyPB2g"
      },
      "source": [
        "# Some operations\n",
        "# tuple joining\n",
        "t + (a,b)"
      ],
      "execution_count": null,
      "outputs": []
    },
    {
      "cell_type": "code",
      "metadata": {
        "id": "NiM3pN5IP1EI"
      },
      "source": [
        "# Multiplication? No repetition...\n",
        "t*2"
      ],
      "execution_count": null,
      "outputs": []
    },
    {
      "cell_type": "code",
      "metadata": {
        "id": "tX9aPnBMCgna"
      },
      "source": [
        "# Unpacking now works with any iterable\n",
        "employee = [\"John Doe\", \"40\", \"Software Engineer\"]\n",
        "name = employee[0]\n",
        "age = employee[1]\n",
        "job = employee[2]\n",
        "name, age, job"
      ],
      "execution_count": null,
      "outputs": []
    },
    {
      "cell_type": "code",
      "metadata": {
        "id": "W-bZl1xGE0NE"
      },
      "source": [
        "name, age, job = [\"John Doe\", \"40\", \"Software Engineer\"]\n",
        "name, age, job"
      ],
      "execution_count": null,
      "outputs": []
    },
    {
      "cell_type": "code",
      "metadata": {
        "id": "4RW0gvjXHmy7"
      },
      "source": [
        "# it can Unpack ANYTHING Python can iterate on (Iterable)\n",
        "m, a, u, r, i, c, i2, o = \"Maurício\"\n",
        "m, a, u, r, i, c, i2, o"
      ],
      "execution_count": null,
      "outputs": []
    },
    {
      "cell_type": "markdown",
      "metadata": {
        "id": "cT05vK5hEbZk"
      },
      "source": [
        "<b>Note:</b> For more packing and unpacking examples, go to:<br>\n",
        "https://stackabuse.com/unpacking-in-python-beyond-parallel-assignment/#definingfunctionswithand"
      ]
    },
    {
      "cell_type": "markdown",
      "metadata": {
        "id": "nj5W2bfPGTlE"
      },
      "source": [
        "### List comprehension"
      ]
    },
    {
      "cell_type": "markdown",
      "metadata": {
        "id": "IOhMR3uOGc6f"
      },
      "source": [
        "List comprehension offers a shorter syntax when you want to create a new list based on any iterable. <br>\n",
        "[operation(X) for X in \"list\"] and each operation(X) will be an item of a new list"
      ]
    },
    {
      "cell_type": "code",
      "metadata": {
        "id": "6Z3dvDzOJHm9"
      },
      "source": [
        "# Suppose we want the square of each item in this list, in a new list\n",
        "lst = [1, 2, 3, 4, 5]\n",
        "\n",
        "new_list = []\n",
        "for x in lst:\n",
        "    new_list.append(x**2)\n",
        "\n",
        "new_list"
      ],
      "execution_count": null,
      "outputs": []
    },
    {
      "cell_type": "code",
      "metadata": {
        "id": "I9kE0ihWJwbl"
      },
      "source": [
        "new_list = [x**2 for x in lst]\n",
        "new_list"
      ],
      "execution_count": null,
      "outputs": []
    },
    {
      "cell_type": "code",
      "metadata": {
        "id": "PgzMm54dGTDU"
      },
      "source": [
        "# unpacking inside a list comprehension\n",
        "# Suppose 3 students, with its ages:\n",
        "lst = [('A', 11), ('B', 9), ('C', 10)]\n",
        "\n",
        "# create a lst like:\n",
        "# students = ['Student A', 'Student B', 'Student C']\n",
        "students = []\n",
        "for student, age in lst:\n",
        "    s = \"Student \" + str(student) + \" has \" + str(age) + \" years old\"\n",
        "    students.append(s)\n",
        "\n",
        "students"
      ],
      "execution_count": null,
      "outputs": []
    },
    {
      "cell_type": "code",
      "metadata": {
        "id": "gR0u3ZsQG-rS"
      },
      "source": [
        "# in a more concise way\n",
        "students = [f\"Student {student} is {age} years old\" for student, age in lst]\n",
        "students"
      ],
      "execution_count": null,
      "outputs": []
    },
    {
      "cell_type": "markdown",
      "metadata": {
        "id": "LdU4ssmaEar4"
      },
      "source": [
        "### Dictionaries\n",
        "Similar to lists, but with a key to identify each item<br>\n",
        "{key: value, key: valye, key:value, ....}<br>\n",
        "Keys are imutables <br>\n",
        "<b>Note:</b> As of Python version 3.7, dictionaries are ordered. In Python 3.6 and earlier, dictionaries are unordered.\n",
        "\n",
        "\n",
        "\n",
        "\n"
      ]
    },
    {
      "cell_type": "code",
      "metadata": {
        "id": "ljXEj8TaV1fN"
      },
      "source": [
        "# if we received the structure proposed before, how could we get the age of student named C\n",
        "\n",
        "# solution: go through the list, check the first item of the tuple, if it is C, get the second item of the tuple...\n",
        "desired_student = 'C'\n",
        "\n",
        "for student in lst:\n",
        "    if student[0] == desired_student:   \n",
        "        print(f'Student {desired_student} has {student[1]} years old')"
      ],
      "execution_count": null,
      "outputs": []
    },
    {
      "cell_type": "code",
      "metadata": {
        "id": "SPPttmCAV1b7"
      },
      "source": [
        "# if data had been passed by 2 lists... we needed to use the common index to locate the age\n",
        "names = ['A', 'B', 'C']\n",
        "ages = [11, 9, 10]\n",
        "\n",
        "desired_student == 'C'\n",
        "idx = names.index(desired_student)\n",
        "print(ages[idx])"
      ],
      "execution_count": null,
      "outputs": []
    },
    {
      "cell_type": "code",
      "metadata": {
        "id": "xQAseaC4V1Pt"
      },
      "source": [
        "# using dictionaries\n",
        "students = {'A': 11, 'B': 9, 'C': 10}\n",
        "\n",
        "students['C']"
      ],
      "execution_count": null,
      "outputs": []
    },
    {
      "cell_type": "code",
      "metadata": {
        "id": "kCGDvR7ZXiq-"
      },
      "source": [
        "# nothing prevent us to create inner dictionaries:\n",
        "students = {'A': {'age': 11, 'Height': 145},\n",
        "            'B': {'age': 9, 'Height': 144.2},\n",
        "            'C': {'age': 10, 'Height': 147},\n",
        "            }\n",
        "\n",
        "desired_student = 'C'\n",
        "students[desired_student]"
      ],
      "execution_count": null,
      "outputs": []
    },
    {
      "cell_type": "code",
      "metadata": {
        "id": "Y1O4K8ykYtRj"
      },
      "source": [
        "students[desired_student]['age']"
      ],
      "execution_count": null,
      "outputs": []
    },
    {
      "cell_type": "code",
      "metadata": {
        "id": "oZlPTKw8X6PT"
      },
      "source": [
        "print(f\"Student {desired_student} has {students[desired_student]['age']} and measures {students[desired_student]['Height']}\")"
      ],
      "execution_count": null,
      "outputs": []
    },
    {
      "cell_type": "markdown",
      "metadata": {
        "id": "r9JvYOMyXh6d"
      },
      "source": [
        "Back to our hydrological example"
      ]
    },
    {
      "cell_type": "code",
      "metadata": {
        "id": "TsBZr_gF-ZQH"
      },
      "source": [
        "import random\n",
        "import matplotlib.pyplot as plt\n",
        "\n",
        "# create the days and daily rain\n",
        "random.seed(1)\n",
        "\n",
        "daily_rain = []\n",
        "day_of_month = []\n",
        "\n",
        "for i in range(1, 32, 1):\n",
        "    day_of_month.append(i)\n",
        "    daily_rain.append(random.randint(0, 100))\n",
        "\n",
        "str(day_of_month), str(daily_rain)"
      ],
      "execution_count": null,
      "outputs": []
    },
    {
      "cell_type": "code",
      "metadata": {
        "id": "esLxcc2lPfy_"
      },
      "source": [
        "# Now I will create a random walk (non-stationary) to represent river stage\n",
        "random.seed(2)\n",
        "river_stage = [100]\n",
        "for _ in range(31):\n",
        "    river_stage.append(river_stage[-1] + random.randint(-2, 2))    \n",
        "\n",
        "plt.plot(river_stage)"
      ],
      "execution_count": null,
      "outputs": []
    },
    {
      "cell_type": "code",
      "metadata": {
        "id": "f5WEdpaCBN7r"
      },
      "source": [
        "# What happened on day 15?\n",
        "\n",
        "print(f'It rained {daily_rain[14]}mm and the level was {river_stage[14]}cm')"
      ],
      "execution_count": null,
      "outputs": []
    },
    {
      "cell_type": "markdown",
      "metadata": {
        "id": "4p5dylxjTYXN"
      },
      "source": [
        "In the previous example, we could find the value corresponding a specific day, because it has a relation with the list index (index = day -1)<br>\n",
        "And we need 2 variables of type list (stage and rain). <br>\n",
        "What if I want to store 10 different stations? <br>\n",
        "Should we declare 20 different lists (10*2)? <br>\n",
        "<br>\n",
        "How to know which variable holds each station? By using variable names? That would be cumbersome.\n",
        "\n"
      ]
    },
    {
      "cell_type": "code",
      "metadata": {
        "id": "6k-9wrU4BN4R"
      },
      "source": [
        "# Let's do it using dictionaries\n",
        "\n",
        "# 1st we will create the stations names (keys)\n",
        "stations = [f'Station {i}' for i in range(1, 11)]\n",
        "\n",
        "str(stations)"
      ],
      "execution_count": null,
      "outputs": []
    },
    {
      "cell_type": "code",
      "metadata": {
        "id": "7pQ8SMwaal7w"
      },
      "source": [
        "data = {2: 234}\n",
        "type(data)"
      ],
      "execution_count": null,
      "outputs": []
    },
    {
      "cell_type": "code",
      "metadata": {
        "id": "NKzNaC3japV1"
      },
      "source": [
        "# dict has no APPEND method...however it can be updated with a new {key: value}\n",
        "data.update({2: 543, 3: 0})\n",
        "data"
      ],
      "execution_count": null,
      "outputs": []
    },
    {
      "cell_type": "code",
      "metadata": {
        "id": "XENtWJ6XbGv-"
      },
      "source": [
        "data[2] = 222\n",
        "data"
      ],
      "execution_count": null,
      "outputs": []
    },
    {
      "cell_type": "code",
      "metadata": {
        "id": "aE-nJSPIU1D-"
      },
      "source": [
        "data = {}\n",
        "for station in stations:\n",
        "    daily_rain = []\n",
        "    river_stage = []\n",
        "    for _ in range(31):\n",
        "        daily_rain.append(random.randint(0, 100))\n",
        "\n",
        "        if len(river_stage) > 0:\n",
        "            river_stage.append(river_stage[-1] + random.randint(-1,1))\n",
        "        else:\n",
        "            river_stage.append(random.randint(90, 100))\n",
        "\n",
        "    station_data = {'rain': daily_rain, 'stage': river_stage}\n",
        "\n",
        "    # data.update({station: station_data})    \n",
        "    data[station] = station_data\n",
        "\n",
        "str(data)"
      ],
      "execution_count": null,
      "outputs": []
    },
    {
      "cell_type": "code",
      "metadata": {
        "id": "VOP7e-9naizV"
      },
      "source": [
        "str(data['Station 2']['stage'])"
      ],
      "execution_count": null,
      "outputs": []
    },
    {
      "cell_type": "code",
      "metadata": {
        "id": "Lc2r0SqF-12V"
      },
      "source": [
        "str(data['Station 5']['stage'])"
      ],
      "execution_count": null,
      "outputs": []
    },
    {
      "cell_type": "code",
      "metadata": {
        "id": "ApQgUAnT_ufv"
      },
      "source": [
        "plt.plot(data['Station 2']['stage'])\n",
        "plt.plot(data['Station 5']['stage'])"
      ],
      "execution_count": null,
      "outputs": []
    },
    {
      "cell_type": "markdown",
      "metadata": {
        "id": "MJ8Q6fLhhSbT"
      },
      "source": [
        "Great! But this example would make more sense if we had... <br>10 stations x 12 months x (28, 29, 30 or 31) days<br>\n",
        "<br>\n",
        "We could add one more loop and some tests for the date... but... <br>\n",
        "HELP!!!! Its getting too complicated..."
      ]
    },
    {
      "cell_type": "markdown",
      "metadata": {
        "id": "cjh2U9cniS0v"
      },
      "source": [
        "## Functions"
      ]
    },
    {
      "cell_type": "markdown",
      "metadata": {
        "id": "tSdVTHjbiUiH"
      },
      "source": [
        "A function is a block of code which only runs when it is called.\n",
        "\n",
        "You can pass data, known as parameters, into a function.\n",
        "\n",
        "A function can return data as a result."
      ]
    },
    {
      "cell_type": "code",
      "metadata": {
        "id": "IEL4n6PffRV9"
      },
      "source": [
        "def square(x):\n",
        "    return x**2\n",
        "\n",
        "square(11)"
      ],
      "execution_count": null,
      "outputs": []
    },
    {
      "cell_type": "code",
      "metadata": {
        "id": "kVyTqodhfRSe"
      },
      "source": [
        "def power(base, expoent):\n",
        "    return base**expoent\n",
        "\n",
        "power(2, 8)"
      ],
      "execution_count": null,
      "outputs": []
    },
    {
      "cell_type": "code",
      "metadata": {
        "id": "WQyzfe8gfROn"
      },
      "source": [
        "# base and expoent are required arguments\n",
        "# power(2)"
      ],
      "execution_count": null,
      "outputs": []
    },
    {
      "cell_type": "code",
      "metadata": {
        "id": "2RlPfMMqfRLJ"
      },
      "source": [
        "power(expoent=8, base=2)"
      ],
      "execution_count": null,
      "outputs": []
    },
    {
      "cell_type": "code",
      "metadata": {
        "id": "BMmGbun_fRHy"
      },
      "source": [
        "# b is an optional (default) parameter\n",
        "# def y = a*x + b\n",
        "def linear(x, a, b=0):\n",
        "    y = a * x + b\n",
        "    return y\n",
        "\n",
        "linear(2, 3)"
      ],
      "execution_count": null,
      "outputs": []
    },
    {
      "cell_type": "code",
      "metadata": {
        "id": "JGywimlifREY"
      },
      "source": [
        "# nomenclature 2 is a positional argument\n",
        "# -10 and 3 are keyword arguments\n",
        "linear(2, b=-10, a=3)"
      ],
      "execution_count": null,
      "outputs": []
    },
    {
      "cell_type": "code",
      "metadata": {
        "id": "ChH4gniPk5ZS"
      },
      "source": [
        "# y = a*x^2 + b*x + c\n",
        "def quadratic(x, a, b=1, c=0):\n",
        "    y = a * power(x, 2) + b*x + c\n",
        "    return y"
      ],
      "execution_count": null,
      "outputs": []
    },
    {
      "cell_type": "code",
      "metadata": {
        "id": "61ykMdGJk5Vw"
      },
      "source": [
        "quadratic(a=1, x=2)"
      ],
      "execution_count": null,
      "outputs": []
    },
    {
      "cell_type": "markdown",
      "metadata": {
        "id": "6wrA0UwXsGly"
      },
      "source": [
        "Explain the scope. Variables have specific scope inside the function..."
      ]
    },
    {
      "cell_type": "code",
      "metadata": {
        "id": "nnNzVXFAk5Sf"
      },
      "source": [
        "import math"
      ],
      "execution_count": null,
      "outputs": []
    },
    {
      "cell_type": "code",
      "metadata": {
        "id": "V-sHnb0_k5Pb"
      },
      "source": [
        "dir(math)"
      ],
      "execution_count": null,
      "outputs": []
    },
    {
      "cell_type": "markdown",
      "metadata": {
        "id": "DkFG6WTCyJrv"
      },
      "source": [
        "## The value <b>None</b>"
      ]
    },
    {
      "cell_type": "markdown",
      "metadata": {
        "id": "_3NvN-46yQmz"
      },
      "source": [
        "\n",
        "The value **None** is used to define a null value. **It is not the same as an empty string, False, or a zero.** It is a data type of the class NoneType object."
      ]
    },
    {
      "cell_type": "code",
      "metadata": {
        "id": "SSpOUxywk5Mb"
      },
      "source": [
        "None == \"\", None == False, None == 0"
      ],
      "execution_count": null,
      "outputs": []
    },
    {
      "cell_type": "code",
      "metadata": {
        "id": "QJlgy6PQoe6D"
      },
      "source": [
        "# correct way of testing (is -> identity operator)\n",
        "x = 0\n",
        "x is None, x is not None"
      ],
      "execution_count": null,
      "outputs": []
    },
    {
      "cell_type": "code",
      "metadata": {
        "id": "FcEs2UaCqibC"
      },
      "source": [
        "bool(None), bool(0), bool(False), bool(123)"
      ],
      "execution_count": null,
      "outputs": []
    },
    {
      "cell_type": "code",
      "metadata": {
        "id": "QpT8tF1Ap-42"
      },
      "source": [
        "# None is absence of value, so we cannot implement this...\n",
        "def check_value(x):\n",
        "    if x:\n",
        "        print(f'{x} has a value')\n",
        "    else:\n",
        "        print(f'{x} has no value at all')"
      ],
      "execution_count": null,
      "outputs": []
    },
    {
      "cell_type": "code",
      "metadata": {
        "id": "JzQXAoYYpDBU"
      },
      "source": [
        "check_value(None), check_value(0), check_value(False)"
      ],
      "execution_count": null,
      "outputs": []
    },
    {
      "cell_type": "code",
      "metadata": {
        "id": "6vjc9wc7pvwj"
      },
      "source": [
        "# Why is that... that's because if x: is testing the BOOLEAN result of x.\n",
        "# To test it correctly we should do:\n",
        "\n",
        "def check_value(x):\n",
        "    if  x is None:\n",
        "        print(f'{x} has no value at all')\n",
        "    else:\n",
        "        print(f'{x} has a value')\n"
      ],
      "execution_count": null,
      "outputs": []
    },
    {
      "cell_type": "code",
      "metadata": {
        "id": "j3ss1ajeqzRZ"
      },
      "source": [
        "check_value(None), check_value(0), check_value(False)"
      ],
      "execution_count": null,
      "outputs": []
    },
    {
      "cell_type": "markdown",
      "metadata": {
        "id": "B391z85-ogXK"
      },
      "source": [
        "Now that we know \"everything\" about functions, let's get back to the hydrological example.<br>\n",
        "\n"
      ]
    },
    {
      "cell_type": "markdown",
      "metadata": {
        "id": "8tmHvZgwy4p5"
      },
      "source": [
        "## Datetime Basics"
      ]
    },
    {
      "cell_type": "code",
      "metadata": {
        "id": "1tCtVqhFzVY8"
      },
      "source": [
        "from datetime import datetime, timedelta"
      ],
      "execution_count": null,
      "outputs": []
    },
    {
      "cell_type": "code",
      "metadata": {
        "id": "pAMzEsmDYR34"
      },
      "source": [
        "datetime.now()"
      ],
      "execution_count": null,
      "outputs": []
    },
    {
      "cell_type": "code",
      "metadata": {
        "id": "nEeBEYLJy-IN"
      },
      "source": [
        "dt = datetime(2021, 1, 1)\n",
        "dt"
      ],
      "execution_count": null,
      "outputs": []
    },
    {
      "cell_type": "code",
      "metadata": {
        "id": "KJLQCN0fYNSi"
      },
      "source": [
        "dt2 = dt + timedelta(days=1)\n",
        "dt2"
      ],
      "execution_count": null,
      "outputs": []
    },
    {
      "cell_type": "code",
      "metadata": {
        "id": "e2NWjY2kYfTV"
      },
      "source": [
        "dt2 - dt"
      ],
      "execution_count": null,
      "outputs": []
    },
    {
      "cell_type": "markdown",
      "metadata": {
        "id": "C4vpytd0y13c"
      },
      "source": [
        "## Exercise"
      ]
    },
    {
      "cell_type": "markdown",
      "metadata": {
        "id": "_YoZ_LJoRr1H"
      },
      "source": [
        "OBS: Show how to find the number of days in a specific month (internet search)."
      ]
    },
    {
      "cell_type": "code",
      "metadata": {
        "id": "TCFl-Rm6ZH0W"
      },
      "source": [
        "def create_random_rain(start, end, max_rain=100, seed=None):\n",
        "\n",
        "    if seed is not None:\n",
        "        random.seed(seed)\n",
        "\n",
        "    if start >= end:\n",
        "        return None\n",
        "\n",
        "    # use timedelta to get days\n",
        "    days = (end - start).days\n",
        "\n",
        "    return {start + timedelta(days=i): random.randint(0, max_rain) for i in range(days)}\n",
        "            "
      ],
      "execution_count": null,
      "outputs": []
    },
    {
      "cell_type": "code",
      "metadata": {
        "id": "tAv8DuIzkOUz"
      },
      "source": [
        "rain"
      ],
      "execution_count": null,
      "outputs": []
    },
    {
      "cell_type": "code",
      "metadata": {
        "id": "9SmXtFUvZHyK"
      },
      "source": [
        "rain = create_random_rain(datetime(2021, 1, 1), datetime(2021, 7, 1))\n",
        "\n",
        "plt.figure(figsize=(10, 5))\n",
        "plt.bar(rain.keys(), rain.values())"
      ],
      "execution_count": null,
      "outputs": []
    },
    {
      "cell_type": "code",
      "metadata": {
        "id": "SMzujxJSZHtJ"
      },
      "source": [
        "def create_random_stage(start, end, damp=1, seed=None):\n",
        "\n",
        "    if start >= end:\n",
        "        return\n",
        "\n",
        "    if seed is not None:\n",
        "        random.seed(seed)\n",
        "\n",
        "    days = (end - start).days\n",
        "\n",
        "    stage = {start: random.randint(50, 100)}\n",
        "\n",
        "    return {start + timedelta(i + 1): stage[start]*damp + random.normalvariate(0, 0.5) for i in range(days)}"
      ],
      "execution_count": null,
      "outputs": []
    },
    {
      "cell_type": "code",
      "metadata": {
        "id": "2A7gLcDpbD90"
      },
      "source": [
        "stage = create_random_stage (datetime(2021, 1, 1), datetime(2022, 7, 1))\n",
        "plt.figure(figsize=(15, 10))\n",
        "\n",
        "plt.plot(list(stage.values()))"
      ],
      "execution_count": null,
      "outputs": []
    },
    {
      "cell_type": "code",
      "metadata": {
        "id": "hDdjZ8WNbD7Y"
      },
      "source": [
        "list(stage.values())"
      ],
      "execution_count": null,
      "outputs": []
    },
    {
      "cell_type": "code",
      "metadata": {
        "id": "BirPXmUYbD43"
      },
      "source": [
        ""
      ],
      "execution_count": null,
      "outputs": []
    },
    {
      "cell_type": "code",
      "metadata": {
        "id": "nZqHeWUzbD2Z"
      },
      "source": [
        ""
      ],
      "execution_count": null,
      "outputs": []
    },
    {
      "cell_type": "code",
      "metadata": {
        "id": "pr2gJpyDj8ZC"
      },
      "source": [
        "from calendar import monthrange\n",
        "\n",
        "def create_random_rain(year, month, max_rain=100, seed=None):\n",
        "    if seed is not None:\n",
        "        random.seed(seed)\n",
        "\n",
        "    days_in_month = monthrange(year, month)[1]\n",
        "    return {(year, month, i): random.randint(0, max_rain) for i in range(1, days_in_month)}"
      ],
      "execution_count": null,
      "outputs": []
    },
    {
      "cell_type": "code",
      "metadata": {
        "id": "Eoen1viBReBt"
      },
      "source": [
        "rain = create_random_rain(2021, 11, max_rain=50, seed=2)\n",
        "plt.bar(range(1, len(rain)+1), rain.values())"
      ],
      "execution_count": null,
      "outputs": []
    },
    {
      "cell_type": "code",
      "metadata": {
        "id": "HSCyDhI9S1P3"
      },
      "source": [
        "def create_random_stage(year, month, seed=None):\n",
        "    if seed is not None:\n",
        "        random.seed(seed)\n",
        "\n",
        "    stage = [random.randint(0, 50)]\n",
        "\n",
        "    days_in_month = monthrange(year, month)[1]\n",
        "    for i in range(days_in_month):\n",
        "        stage.append(stage[-1] + random.uniform(-1, 1))\n",
        "    return stage"
      ],
      "execution_count": null,
      "outputs": []
    },
    {
      "cell_type": "code",
      "metadata": {
        "id": "4qSv-nYiS1Nb"
      },
      "source": [
        "plt.plot(create_random_stage(2021, 11))"
      ],
      "execution_count": null,
      "outputs": []
    },
    {
      "cell_type": "code",
      "metadata": {
        "id": "5hQ3z0XbXaoi"
      },
      "source": [
        "rain"
      ],
      "execution_count": null,
      "outputs": []
    },
    {
      "cell_type": "code",
      "metadata": {
        "id": "ouPVqMm6XamH"
      },
      "source": [
        ""
      ],
      "execution_count": null,
      "outputs": []
    },
    {
      "cell_type": "code",
      "metadata": {
        "id": "HwRXBXPoXajs"
      },
      "source": [
        ""
      ],
      "execution_count": null,
      "outputs": []
    },
    {
      "cell_type": "code",
      "metadata": {
        "id": "oM__4BvxXahL"
      },
      "source": [
        ""
      ],
      "execution_count": null,
      "outputs": []
    },
    {
      "cell_type": "code",
      "metadata": {
        "id": "zbBTb9QyXaeq"
      },
      "source": [
        ""
      ],
      "execution_count": null,
      "outputs": []
    },
    {
      "cell_type": "code",
      "metadata": {
        "id": "UaFUaXa4XacK"
      },
      "source": [
        ""
      ],
      "execution_count": null,
      "outputs": []
    },
    {
      "cell_type": "code",
      "metadata": {
        "id": "CLKjYYYxS1GD"
      },
      "source": [
        ""
      ],
      "execution_count": null,
      "outputs": []
    },
    {
      "cell_type": "code",
      "metadata": {
        "id": "g3DtK-ZnV8CS"
      },
      "source": [
        ""
      ],
      "execution_count": null,
      "outputs": []
    },
    {
      "cell_type": "code",
      "metadata": {
        "id": "v0DkVH0XV8AR"
      },
      "source": [
        ""
      ],
      "execution_count": null,
      "outputs": []
    },
    {
      "cell_type": "code",
      "metadata": {
        "id": "qdLTRD8AV795"
      },
      "source": [
        ""
      ],
      "execution_count": null,
      "outputs": []
    },
    {
      "cell_type": "code",
      "metadata": {
        "id": "-TvTkRyvV77a"
      },
      "source": [
        ""
      ],
      "execution_count": null,
      "outputs": []
    },
    {
      "cell_type": "code",
      "metadata": {
        "id": "PKFNKi7doNZC"
      },
      "source": [
        "rain = create_random_rain(2021, 1)"
      ],
      "execution_count": null,
      "outputs": []
    },
    {
      "cell_type": "code",
      "metadata": {
        "id": "-nKLIbkNPfb7"
      },
      "source": [
        "pd.DataFrame(pd.Series(rain).rename('estacao 1'))"
      ],
      "execution_count": null,
      "outputs": []
    },
    {
      "cell_type": "code",
      "metadata": {
        "id": "VbF8jh6uPqSA"
      },
      "source": [
        "idx = pd.MultiIndex.from_tuples(rain.keys(), names=['year', 'month', 'day'])"
      ],
      "execution_count": null,
      "outputs": []
    },
    {
      "cell_type": "code",
      "metadata": {
        "id": "vpVf7Fd-QkF6"
      },
      "source": [
        "pd.DataFrame(rain,)"
      ],
      "execution_count": null,
      "outputs": []
    },
    {
      "cell_type": "code",
      "metadata": {
        "id": "5fAE7YbGQDDx"
      },
      "source": [
        "pd.DataFrame.from_dict(rain, orient='index')"
      ],
      "execution_count": null,
      "outputs": []
    },
    {
      "cell_type": "code",
      "metadata": {
        "id": "jTWLYbUvoNVs"
      },
      "source": [
        "import pandas as pd\n",
        "pd.DataFrame(rain)"
      ],
      "execution_count": null,
      "outputs": []
    },
    {
      "cell_type": "code",
      "metadata": {
        "id": "hIGPDDwOoNSl"
      },
      "source": [
        ""
      ],
      "execution_count": null,
      "outputs": []
    },
    {
      "cell_type": "code",
      "metadata": {
        "id": "q88lLPpxoNHv"
      },
      "source": [
        ""
      ],
      "execution_count": null,
      "outputs": []
    },
    {
      "cell_type": "code",
      "metadata": {
        "id": "sbxWTH-C_vWe"
      },
      "source": [
        "df = pd.DataFrame.from_dict(data, orient=\"index\").stack().to_frame()\n",
        "df = pd.DataFrame(df[0].values.tolist(), index=df.index)\n",
        "df"
      ],
      "execution_count": null,
      "outputs": []
    },
    {
      "cell_type": "code",
      "metadata": {
        "id": "aNZYtqsj_0WJ"
      },
      "source": [
        "data = {}\n",
        "for station in stations:\n",
        "    daily_rain = []\n",
        "    river_stage = [100]\n",
        "    for _ in range(31):\n",
        "        daily_rain.append(random.randint(0, 100))\n",
        "        river_stage.append(river_stage[-1] + random.randint(-1,1))\n",
        "\n",
        "\n",
        "    # data.update({station: station_data})    \n",
        "    data[station] = daily_rain\n",
        "\n",
        "str(data)"
      ],
      "execution_count": null,
      "outputs": []
    },
    {
      "cell_type": "code",
      "metadata": {
        "id": "mR75Ml4M_4z2"
      },
      "source": [
        "pd.DataFrame(data, index=range(1, 32))"
      ],
      "execution_count": null,
      "outputs": []
    },
    {
      "cell_type": "code",
      "metadata": {
        "id": "hKao91OYc0MX"
      },
      "source": [
        ""
      ],
      "execution_count": null,
      "outputs": []
    }
  ]
}