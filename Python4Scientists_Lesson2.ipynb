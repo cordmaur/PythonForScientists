{
  "nbformat": 4,
  "nbformat_minor": 0,
  "metadata": {
    "colab": {
      "name": "Python4Scientists_Lesson2.ipynb",
      "provenance": [],
      "authorship_tag": "ABX9TyNoxB7EeuNlwFLe3GNPp9iT",
      "include_colab_link": true
    },
    "kernelspec": {
      "name": "python3",
      "display_name": "Python 3"
    },
    "language_info": {
      "name": "python"
    }
  },
  "cells": [
    {
      "cell_type": "markdown",
      "metadata": {
        "id": "view-in-github",
        "colab_type": "text"
      },
      "source": [
        "<a href=\"https://colab.research.google.com/github/cordmaur/PythonForScientists/blob/main/Python4Scientists_Lesson2.ipynb\" target=\"_parent\"><img src=\"https://colab.research.google.com/assets/colab-badge.svg\" alt=\"Open In Colab\"/></a>"
      ]
    },
    {
      "cell_type": "markdown",
      "metadata": {
        "id": "UOpkdQj3-iIh"
      },
      "source": [
        "# Lesson 2"
      ]
    },
    {
      "cell_type": "markdown",
      "metadata": {
        "id": "oDdmrl1dAt8q"
      },
      "source": [
        "## Basic Types - part 2 "
      ]
    },
    {
      "cell_type": "markdown",
      "metadata": {
        "id": "YU2R9ljBA8UK"
      },
      "source": [
        "### Tuples"
      ]
    },
    {
      "cell_type": "code",
      "metadata": {
        "colab": {
          "base_uri": "https://localhost:8080/"
        },
        "id": "mR1M3kOnA-4x",
        "outputId": "2c9c03f3-41b9-4466-e575-3b992b664c62"
      },
      "source": [
        "t = (1, 2, 3, 4, 5)\n",
        "t"
      ],
      "execution_count": 33,
      "outputs": [
        {
          "output_type": "execute_result",
          "data": {
            "text/plain": [
              "(1, 2, 3, 4, 5)"
            ]
          },
          "metadata": {},
          "execution_count": 33
        }
      ]
    },
    {
      "cell_type": "code",
      "metadata": {
        "id": "W7BZTGrXBOFA"
      },
      "source": [
        "# tuples are imutable\n",
        "# t[0] = 0"
      ],
      "execution_count": 17,
      "outputs": []
    },
    {
      "cell_type": "code",
      "metadata": {
        "id": "9wYXtPOhFxsO"
      },
      "source": [
        "# t."
      ],
      "execution_count": null,
      "outputs": []
    },
    {
      "cell_type": "code",
      "metadata": {
        "colab": {
          "base_uri": "https://localhost:8080/"
        },
        "id": "ogkVT3psA-1G",
        "outputId": "813e3ac0-73a0-421b-dedd-e8d25f0cad29"
      },
      "source": [
        "type(t)"
      ],
      "execution_count": 13,
      "outputs": [
        {
          "output_type": "execute_result",
          "data": {
            "text/plain": [
              "tuple"
            ]
          },
          "metadata": {},
          "execution_count": 13
        }
      ]
    },
    {
      "cell_type": "code",
      "metadata": {
        "colab": {
          "base_uri": "https://localhost:8080/"
        },
        "id": "M-CPeTFYA-yI",
        "outputId": "6fd64f4e-1644-427d-e77b-a7937dc49c4e"
      },
      "source": [
        "t[0:3]"
      ],
      "execution_count": 14,
      "outputs": [
        {
          "output_type": "execute_result",
          "data": {
            "text/plain": [
              "(1, 2, 3)"
            ]
          },
          "metadata": {},
          "execution_count": 14
        }
      ]
    },
    {
      "cell_type": "code",
      "metadata": {
        "colab": {
          "base_uri": "https://localhost:8080/"
        },
        "id": "p9YiBRrbB-cQ",
        "outputId": "fd4d7518-c88e-4bc6-e79b-5edc31976d1f"
      },
      "source": [
        "# values separated by comma are packed into tuples automatically\n",
        "x = 0\n",
        "y = 1\n",
        "x, y"
      ],
      "execution_count": 22,
      "outputs": [
        {
          "output_type": "execute_result",
          "data": {
            "text/plain": [
              "(0, 1)"
            ]
          },
          "metadata": {},
          "execution_count": 22
        }
      ]
    },
    {
      "cell_type": "code",
      "metadata": {
        "colab": {
          "base_uri": "https://localhost:8080/"
        },
        "id": "OpbxwwK1BOBp",
        "outputId": "9a202da4-fb06-4e40-ead0-77fa604d7b96"
      },
      "source": [
        "# tuple unpacking\n",
        "(a, b) = (x, y)\n",
        "(a, b) "
      ],
      "execution_count": 29,
      "outputs": [
        {
          "output_type": "execute_result",
          "data": {
            "text/plain": [
              "(0, 1)"
            ]
          },
          "metadata": {},
          "execution_count": 29
        }
      ]
    },
    {
      "cell_type": "code",
      "metadata": {
        "colab": {
          "base_uri": "https://localhost:8080/"
        },
        "id": "vvRc5bEUBN-Q",
        "outputId": "a77a7047-75f8-4e14-eb58-b209fddd88ca"
      },
      "source": [
        "a, b = x, y\n",
        "a, b"
      ],
      "execution_count": 30,
      "outputs": [
        {
          "output_type": "execute_result",
          "data": {
            "text/plain": [
              "(0, 1)"
            ]
          },
          "metadata": {},
          "execution_count": 30
        }
      ]
    },
    {
      "cell_type": "code",
      "metadata": {
        "colab": {
          "base_uri": "https://localhost:8080/"
        },
        "id": "tX9aPnBMCgna",
        "outputId": "99512101-ca52-4539-9502-5cf8f92bb731"
      },
      "source": [
        "# Unpacking now works with any iterable\n",
        "employee = [\"John Doe\", \"40\", \"Software Engineer\"]\n",
        "name = employee[0]\n",
        "age = employee[1]\n",
        "job = employee[2]\n",
        "name, age, job"
      ],
      "execution_count": 31,
      "outputs": [
        {
          "output_type": "execute_result",
          "data": {
            "text/plain": [
              "('John Doe', '40', 'Software Engineer')"
            ]
          },
          "metadata": {},
          "execution_count": 31
        }
      ]
    },
    {
      "cell_type": "code",
      "metadata": {
        "colab": {
          "base_uri": "https://localhost:8080/"
        },
        "id": "W-bZl1xGE0NE",
        "outputId": "e55d789e-3588-412a-9e00-ea4ae99bd0d0"
      },
      "source": [
        "name, age, job = [\"John Doe\", \"40\", \"Software Engineer\"]\n",
        "name, age, job"
      ],
      "execution_count": 38,
      "outputs": [
        {
          "output_type": "execute_result",
          "data": {
            "text/plain": [
              "('John Doe', '40', 'Software Engineer')"
            ]
          },
          "metadata": {},
          "execution_count": 38
        }
      ]
    },
    {
      "cell_type": "code",
      "metadata": {
        "colab": {
          "base_uri": "https://localhost:8080/"
        },
        "id": "4RW0gvjXHmy7",
        "outputId": "0c809c4b-d9e6-4d1f-d3c7-36154d71741d"
      },
      "source": [
        "# it can Unpack ANYTHING Python can iterate on (Iterable)\n",
        "m, a, u, r, i, c, i2, o = \"Maurício\"\n",
        "m, a, u, r, i, c, i2, o"
      ],
      "execution_count": 40,
      "outputs": [
        {
          "output_type": "execute_result",
          "data": {
            "text/plain": [
              "('M', 'a', 'u', 'r', 'í', 'c', 'i', 'o')"
            ]
          },
          "metadata": {},
          "execution_count": 40
        }
      ]
    },
    {
      "cell_type": "markdown",
      "metadata": {
        "id": "cT05vK5hEbZk"
      },
      "source": [
        "<b>Note:</b> For more packing and unpacking examples, go to:<br>\n",
        "https://stackabuse.com/unpacking-in-python-beyond-parallel-assignment/#definingfunctionswithand"
      ]
    },
    {
      "cell_type": "markdown",
      "metadata": {
        "id": "nj5W2bfPGTlE"
      },
      "source": [
        "### List comprehension"
      ]
    },
    {
      "cell_type": "markdown",
      "metadata": {
        "id": "IOhMR3uOGc6f"
      },
      "source": [
        "List comprehension offers a shorter syntax when you want to create a new list based on any iterable. <br>\n",
        "[operation(X) for X in \"list\"] and each operation(X) will be an item of a new list"
      ]
    },
    {
      "cell_type": "code",
      "metadata": {
        "colab": {
          "base_uri": "https://localhost:8080/"
        },
        "id": "6Z3dvDzOJHm9",
        "outputId": "4090c13f-577e-419f-8c57-15e1c1a21f85"
      },
      "source": [
        "# Suppose we want the square of each item in this list, in a new list\n",
        "lst = [1, 2, 3, 4, 5]\n",
        "\n",
        "new_list = []\n",
        "for x in lst:\n",
        "    new_list.append(x**2)\n",
        "\n",
        "new_list"
      ],
      "execution_count": 47,
      "outputs": [
        {
          "output_type": "execute_result",
          "data": {
            "text/plain": [
              "[1, 4, 9, 16, 25]"
            ]
          },
          "metadata": {},
          "execution_count": 47
        }
      ]
    },
    {
      "cell_type": "code",
      "metadata": {
        "colab": {
          "base_uri": "https://localhost:8080/"
        },
        "id": "I9kE0ihWJwbl",
        "outputId": "5d65fcc4-eb99-4e8a-eb52-528dac815e08"
      },
      "source": [
        "new_list = [x**2 for x in lst]\n",
        "new_list"
      ],
      "execution_count": 49,
      "outputs": [
        {
          "output_type": "execute_result",
          "data": {
            "text/plain": [
              "[1, 4, 9, 16, 25]"
            ]
          },
          "metadata": {},
          "execution_count": 49
        }
      ]
    },
    {
      "cell_type": "code",
      "metadata": {
        "colab": {
          "base_uri": "https://localhost:8080/"
        },
        "id": "PgzMm54dGTDU",
        "outputId": "a4ac1867-f4b3-4ce3-a7e2-78add128f852"
      },
      "source": [
        "# unpacking inside a list comprehension\n",
        "# Suppose 3 students, with its ages:\n",
        "lst = [('A', 11), ('B', 9), ('C', 10)]\n",
        "\n",
        "# create a lst like:\n",
        "# students = ['Student A', 'Student B', 'Student C']\n",
        "students = []\n",
        "for student, age in lst:\n",
        "    s = \"Student \" + str(student) + \" has \" + str(age) + \" years old\"\n",
        "    students.append(s)\n",
        "\n",
        "students"
      ],
      "execution_count": 52,
      "outputs": [
        {
          "output_type": "execute_result",
          "data": {
            "text/plain": [
              "['Student A has 11 years old',\n",
              " 'Student B has 9 years old',\n",
              " 'Student C has 10 years old']"
            ]
          },
          "metadata": {},
          "execution_count": 52
        }
      ]
    },
    {
      "cell_type": "code",
      "metadata": {
        "colab": {
          "base_uri": "https://localhost:8080/"
        },
        "id": "gR0u3ZsQG-rS",
        "outputId": "13f7efad-cf00-4425-eb94-b6f2968807e3"
      },
      "source": [
        "# in a more concise way\n",
        "\n",
        "students = [\"Student \" + student for student in t]\n",
        "students"
      ],
      "execution_count": 43,
      "outputs": [
        {
          "output_type": "execute_result",
          "data": {
            "text/plain": [
              "['Student A', 'Student B', 'Student C']"
            ]
          },
          "metadata": {},
          "execution_count": 43
        }
      ]
    },
    {
      "cell_type": "code",
      "metadata": {
        "id": "ZS16nZlGG-ny"
      },
      "source": [
        ""
      ],
      "execution_count": null,
      "outputs": []
    },
    {
      "cell_type": "code",
      "metadata": {
        "id": "MOnqzLYEG-kv"
      },
      "source": [
        ""
      ],
      "execution_count": null,
      "outputs": []
    },
    {
      "cell_type": "code",
      "metadata": {
        "id": "7z7lfE0jG-hx"
      },
      "source": [
        ""
      ],
      "execution_count": null,
      "outputs": []
    },
    {
      "cell_type": "code",
      "metadata": {
        "id": "K-SDqJqgG-fJ"
      },
      "source": [
        ""
      ],
      "execution_count": null,
      "outputs": []
    },
    {
      "cell_type": "code",
      "metadata": {
        "id": "VQaPFCSWF_rf"
      },
      "source": [
        "import random\n",
        "\n",
        "# create the days and daily rain\n",
        "random.seed(1)\n",
        "\n",
        "rain_jan = []\n",
        "\n",
        "for i in range(1, 32, 1):\n",
        "    day_of_month.append(i)\n",
        "    daily_rain.append(random.randint(0, 100))\n",
        "\n",
        "str(day_of_month), str(daily_rain)"
      ],
      "execution_count": null,
      "outputs": []
    },
    {
      "cell_type": "markdown",
      "metadata": {
        "id": "LdU4ssmaEar4"
      },
      "source": [
        "### Dictionaries\n",
        "\n",
        "\n"
      ]
    },
    {
      "cell_type": "code",
      "metadata": {
        "colab": {
          "base_uri": "https://localhost:8080/"
        },
        "id": "f5WEdpaCBN7r",
        "outputId": "5e63139a-f9c0-4a50-b637-f6cff440b4c1"
      },
      "source": [
        "b = a\n",
        "id(a), id(b)"
      ],
      "execution_count": 26,
      "outputs": [
        {
          "output_type": "execute_result",
          "data": {
            "text/plain": [
              "(139688828595648, 139688828595648)"
            ]
          },
          "metadata": {},
          "execution_count": 26
        }
      ]
    },
    {
      "cell_type": "code",
      "metadata": {
        "colab": {
          "base_uri": "https://localhost:8080/"
        },
        "id": "6k-9wrU4BN4R",
        "outputId": "69a6627a-e633-491b-a65c-6e167e944f7c"
      },
      "source": [
        "l = [1, 2, 3]\n",
        "l1 = l\n",
        "l[1] = 20\n",
        "l1"
      ],
      "execution_count": 28,
      "outputs": [
        {
          "output_type": "execute_result",
          "data": {
            "text/plain": [
              "[1, 20, 3]"
            ]
          },
          "metadata": {},
          "execution_count": 28
        }
      ]
    },
    {
      "cell_type": "code",
      "metadata": {
        "colab": {
          "base_uri": "https://localhost:8080/"
        },
        "id": "TsBZr_gF-ZQH",
        "outputId": "dc667dd7-9da8-4d77-a4a5-685c1d3a9823"
      },
      "source": [
        "import random\n",
        "\n",
        "# create the days and daily rain\n",
        "random.seed(1)\n",
        "\n",
        "daily_rain = []\n",
        "day_of_month = []\n",
        "\n",
        "for i in range(1, 32, 1):\n",
        "    day_of_month.append(i)\n",
        "    daily_rain.append(random.randint(0, 100))\n",
        "\n",
        "str(day_of_month), str(daily_rain)"
      ],
      "execution_count": 1,
      "outputs": [
        {
          "output_type": "execute_result",
          "data": {
            "text/plain": [
              "('[1, 2, 3, 4, 5, 6, 7, 8, 9, 10, 11, 12, 13, 14, 15, 16, 17, 18, 19, 20, 21, 22, 23, 24, 25, 26, 27, 28, 29, 30, 31]',\n",
              " '[17, 72, 97, 8, 32, 15, 63, 97, 57, 60, 83, 48, 100, 26, 12, 62, 3, 49, 55, 77, 97, 98, 0, 89, 57, 34, 92, 29, 75, 13, 40]')"
            ]
          },
          "metadata": {},
          "execution_count": 1
        }
      ]
    },
    {
      "cell_type": "code",
      "metadata": {
        "id": "Lc2r0SqF-12V"
      },
      "source": [
        "y = 0\n",
        "for x in range(10):\n",
        "    y = x"
      ],
      "execution_count": 2,
      "outputs": []
    },
    {
      "cell_type": "code",
      "metadata": {
        "colab": {
          "base_uri": "https://localhost:8080/"
        },
        "id": "ApQgUAnT_ufv",
        "outputId": "e87bf5ea-477b-4bbb-d83e-aa1b884be341"
      },
      "source": [
        "y"
      ],
      "execution_count": 3,
      "outputs": [
        {
          "output_type": "execute_result",
          "data": {
            "text/plain": [
              "9"
            ]
          },
          "metadata": {},
          "execution_count": 3
        }
      ]
    },
    {
      "cell_type": "code",
      "metadata": {
        "id": "sbxWTH-C_vWe"
      },
      "source": [
        "x=0"
      ],
      "execution_count": 6,
      "outputs": []
    },
    {
      "cell_type": "code",
      "metadata": {
        "colab": {
          "base_uri": "https://localhost:8080/"
        },
        "id": "aNZYtqsj_0WJ",
        "outputId": "55d24623-df0c-4432-e9ba-04cc655a5678"
      },
      "source": [
        "[x for x in range(10, 20)]\n",
        "x"
      ],
      "execution_count": 7,
      "outputs": [
        {
          "output_type": "execute_result",
          "data": {
            "text/plain": [
              "0"
            ]
          },
          "metadata": {},
          "execution_count": 7
        }
      ]
    },
    {
      "cell_type": "code",
      "metadata": {
        "id": "mR75Ml4M_4z2"
      },
      "source": [
        ""
      ],
      "execution_count": null,
      "outputs": []
    }
  ]
}