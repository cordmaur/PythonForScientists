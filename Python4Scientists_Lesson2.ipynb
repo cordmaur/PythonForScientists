{
  "nbformat": 4,
  "nbformat_minor": 0,
  "metadata": {
    "colab": {
      "name": "Python4Scientists_Lesson2.ipynb",
      "provenance": [],
      "toc_visible": true,
      "authorship_tag": "ABX9TyMX+KUXN+bnBYbDLZ/7LYty",
      "include_colab_link": true
    },
    "kernelspec": {
      "name": "python3",
      "display_name": "Python 3"
    },
    "language_info": {
      "name": "python"
    }
  },
  "cells": [
    {
      "cell_type": "markdown",
      "metadata": {
        "id": "view-in-github",
        "colab_type": "text"
      },
      "source": [
        "<a href=\"https://colab.research.google.com/github/cordmaur/PythonForScientists/blob/main/Python4Scientists_Lesson2.ipynb\" target=\"_parent\"><img src=\"https://colab.research.google.com/assets/colab-badge.svg\" alt=\"Open In Colab\"/></a>"
      ]
    },
    {
      "cell_type": "markdown",
      "metadata": {
        "id": "UOpkdQj3-iIh"
      },
      "source": [
        "# Lesson 2"
      ]
    },
    {
      "cell_type": "markdown",
      "metadata": {
        "id": "oDdmrl1dAt8q"
      },
      "source": [
        "## Basic Types - part 2 "
      ]
    },
    {
      "cell_type": "markdown",
      "metadata": {
        "id": "YU2R9ljBA8UK"
      },
      "source": [
        "### Tuples"
      ]
    },
    {
      "cell_type": "code",
      "metadata": {
        "colab": {
          "base_uri": "https://localhost:8080/"
        },
        "id": "mR1M3kOnA-4x",
        "outputId": "15d89963-94b6-40bb-e55d-cf74989a0e70"
      },
      "source": [
        "t = (1, 2, 3, 4, 5)\n",
        "t"
      ],
      "execution_count": 1,
      "outputs": [
        {
          "output_type": "execute_result",
          "data": {
            "text/plain": [
              "(1, 2, 3, 4, 5)"
            ]
          },
          "metadata": {},
          "execution_count": 1
        }
      ]
    },
    {
      "cell_type": "code",
      "metadata": {
        "id": "W7BZTGrXBOFA"
      },
      "source": [
        "# tuples are imutable\n",
        "# t[0] = 0"
      ],
      "execution_count": 2,
      "outputs": []
    },
    {
      "cell_type": "code",
      "metadata": {
        "id": "9wYXtPOhFxsO"
      },
      "source": [
        "# t."
      ],
      "execution_count": 3,
      "outputs": []
    },
    {
      "cell_type": "code",
      "metadata": {
        "colab": {
          "base_uri": "https://localhost:8080/"
        },
        "id": "ogkVT3psA-1G",
        "outputId": "a8359bc4-7ca4-4b42-e892-c69513ecb45a"
      },
      "source": [
        "type(t)"
      ],
      "execution_count": 4,
      "outputs": [
        {
          "output_type": "execute_result",
          "data": {
            "text/plain": [
              "tuple"
            ]
          },
          "metadata": {},
          "execution_count": 4
        }
      ]
    },
    {
      "cell_type": "code",
      "metadata": {
        "colab": {
          "base_uri": "https://localhost:8080/"
        },
        "id": "M-CPeTFYA-yI",
        "outputId": "7ca6db00-9b0e-418f-f707-4962c960c582"
      },
      "source": [
        "t[0:3]"
      ],
      "execution_count": 5,
      "outputs": [
        {
          "output_type": "execute_result",
          "data": {
            "text/plain": [
              "(1, 2, 3)"
            ]
          },
          "metadata": {},
          "execution_count": 5
        }
      ]
    },
    {
      "cell_type": "code",
      "metadata": {
        "colab": {
          "base_uri": "https://localhost:8080/"
        },
        "id": "p9YiBRrbB-cQ",
        "outputId": "c2c80bd6-73ac-42a0-fbb4-664c4bb02ba9"
      },
      "source": [
        "# values separated by comma are packed into tuples automatically\n",
        "x = 0\n",
        "y = 1\n",
        "x, y"
      ],
      "execution_count": 6,
      "outputs": [
        {
          "output_type": "execute_result",
          "data": {
            "text/plain": [
              "(0, 1)"
            ]
          },
          "metadata": {},
          "execution_count": 6
        }
      ]
    },
    {
      "cell_type": "code",
      "metadata": {
        "colab": {
          "base_uri": "https://localhost:8080/"
        },
        "id": "OpbxwwK1BOBp",
        "outputId": "e0ae2525-79e6-404c-91cf-c3321702af62"
      },
      "source": [
        "# tuple unpacking\n",
        "(a, b) = (x, y)\n",
        "(a, b) "
      ],
      "execution_count": 7,
      "outputs": [
        {
          "output_type": "execute_result",
          "data": {
            "text/plain": [
              "(0, 1)"
            ]
          },
          "metadata": {},
          "execution_count": 7
        }
      ]
    },
    {
      "cell_type": "code",
      "metadata": {
        "colab": {
          "base_uri": "https://localhost:8080/"
        },
        "id": "vvRc5bEUBN-Q",
        "outputId": "e767dc56-5129-42e5-b1b0-2cd9825b8fdc"
      },
      "source": [
        "a, b = x, y\n",
        "a, b"
      ],
      "execution_count": 8,
      "outputs": [
        {
          "output_type": "execute_result",
          "data": {
            "text/plain": [
              "(0, 1)"
            ]
          },
          "metadata": {},
          "execution_count": 8
        }
      ]
    },
    {
      "cell_type": "code",
      "metadata": {
        "colab": {
          "base_uri": "https://localhost:8080/"
        },
        "id": "rEtAIQDyPB2g",
        "outputId": "1aa5dc5b-dafa-449c-ea31-2ba64565e20c"
      },
      "source": [
        "# Some operations\n",
        "# tuple joining\n",
        "t + (a,b)"
      ],
      "execution_count": 9,
      "outputs": [
        {
          "output_type": "execute_result",
          "data": {
            "text/plain": [
              "(1, 2, 3, 4, 5, 0, 1)"
            ]
          },
          "metadata": {},
          "execution_count": 9
        }
      ]
    },
    {
      "cell_type": "code",
      "metadata": {
        "colab": {
          "base_uri": "https://localhost:8080/"
        },
        "id": "NiM3pN5IP1EI",
        "outputId": "ba76f08a-ea43-4103-ef96-02c93e7c4270"
      },
      "source": [
        "# Multiplication? No repetition...\n",
        "t*2"
      ],
      "execution_count": 10,
      "outputs": [
        {
          "output_type": "execute_result",
          "data": {
            "text/plain": [
              "(1, 2, 3, 4, 5, 1, 2, 3, 4, 5)"
            ]
          },
          "metadata": {},
          "execution_count": 10
        }
      ]
    },
    {
      "cell_type": "code",
      "metadata": {
        "colab": {
          "base_uri": "https://localhost:8080/"
        },
        "id": "tX9aPnBMCgna",
        "outputId": "d0d06d5a-5be7-42e1-e70c-63e238717de8"
      },
      "source": [
        "# Unpacking now works with any iterable\n",
        "employee = [\"John Doe\", \"40\", \"Software Engineer\"]\n",
        "name = employee[0]\n",
        "age = employee[1]\n",
        "job = employee[2]\n",
        "name, age, job"
      ],
      "execution_count": 11,
      "outputs": [
        {
          "output_type": "execute_result",
          "data": {
            "text/plain": [
              "('John Doe', '40', 'Software Engineer')"
            ]
          },
          "metadata": {},
          "execution_count": 11
        }
      ]
    },
    {
      "cell_type": "code",
      "metadata": {
        "colab": {
          "base_uri": "https://localhost:8080/"
        },
        "id": "W-bZl1xGE0NE",
        "outputId": "dea42915-c0f7-4d2e-a94d-b97cfd9e0aac"
      },
      "source": [
        "name, age, job = [\"John Doe\", \"40\", \"Software Engineer\"]\n",
        "name, age, job"
      ],
      "execution_count": 12,
      "outputs": [
        {
          "output_type": "execute_result",
          "data": {
            "text/plain": [
              "('John Doe', '40', 'Software Engineer')"
            ]
          },
          "metadata": {},
          "execution_count": 12
        }
      ]
    },
    {
      "cell_type": "code",
      "metadata": {
        "colab": {
          "base_uri": "https://localhost:8080/"
        },
        "id": "4RW0gvjXHmy7",
        "outputId": "a8b2a038-46d1-4833-ebe3-39e0ea5ca122"
      },
      "source": [
        "# it can Unpack ANYTHING Python can iterate on (Iterable)\n",
        "m, a, u, r, i, c, i2, o = \"Maurício\"\n",
        "m, a, u, r, i, c, i2, o"
      ],
      "execution_count": 13,
      "outputs": [
        {
          "output_type": "execute_result",
          "data": {
            "text/plain": [
              "('M', 'a', 'u', 'r', 'í', 'c', 'i', 'o')"
            ]
          },
          "metadata": {},
          "execution_count": 13
        }
      ]
    },
    {
      "cell_type": "markdown",
      "metadata": {
        "id": "cT05vK5hEbZk"
      },
      "source": [
        "<b>Note:</b> For more packing and unpacking examples, go to:<br>\n",
        "https://stackabuse.com/unpacking-in-python-beyond-parallel-assignment/#definingfunctionswithand"
      ]
    },
    {
      "cell_type": "markdown",
      "metadata": {
        "id": "nj5W2bfPGTlE"
      },
      "source": [
        "### List comprehension"
      ]
    },
    {
      "cell_type": "markdown",
      "metadata": {
        "id": "IOhMR3uOGc6f"
      },
      "source": [
        "List comprehension offers a shorter syntax when you want to create a new list based on any iterable. <br>\n",
        "[operation(X) for X in \"list\"] and each operation(X) will be an item of a new list"
      ]
    },
    {
      "cell_type": "code",
      "metadata": {
        "colab": {
          "base_uri": "https://localhost:8080/"
        },
        "id": "6Z3dvDzOJHm9",
        "outputId": "63f3bbf8-e83e-4274-def0-1df0799a1ab0"
      },
      "source": [
        "# Suppose we want the square of each item in this list, in a new list\n",
        "lst = [1, 2, 3, 4, 5]\n",
        "\n",
        "new_list = []\n",
        "for x in lst:\n",
        "    new_list.append(x**2)\n",
        "\n",
        "new_list"
      ],
      "execution_count": 14,
      "outputs": [
        {
          "output_type": "execute_result",
          "data": {
            "text/plain": [
              "[1, 4, 9, 16, 25]"
            ]
          },
          "metadata": {},
          "execution_count": 14
        }
      ]
    },
    {
      "cell_type": "code",
      "metadata": {
        "colab": {
          "base_uri": "https://localhost:8080/"
        },
        "id": "I9kE0ihWJwbl",
        "outputId": "b17cd76f-d01f-4fca-f104-5611c374c851"
      },
      "source": [
        "new_list = [x**2 for x in lst]\n",
        "new_list"
      ],
      "execution_count": 15,
      "outputs": [
        {
          "output_type": "execute_result",
          "data": {
            "text/plain": [
              "[1, 4, 9, 16, 25]"
            ]
          },
          "metadata": {},
          "execution_count": 15
        }
      ]
    },
    {
      "cell_type": "code",
      "metadata": {
        "colab": {
          "base_uri": "https://localhost:8080/"
        },
        "id": "PgzMm54dGTDU",
        "outputId": "12091492-34ca-441d-95da-9df414dc0583"
      },
      "source": [
        "# unpacking inside a list comprehension\n",
        "# Suppose 3 students, with its ages:\n",
        "lst = [('A', 11), ('B', 9), ('C', 10)]\n",
        "\n",
        "# create a lst like:\n",
        "# students = ['Student A', 'Student B', 'Student C']\n",
        "students = []\n",
        "for student, age in lst:\n",
        "    s = \"Student \" + str(student) + \" has \" + str(age) + \" years old\"\n",
        "    students.append(s)\n",
        "\n",
        "students"
      ],
      "execution_count": 16,
      "outputs": [
        {
          "output_type": "execute_result",
          "data": {
            "text/plain": [
              "['Student A has 11 years old',\n",
              " 'Student B has 9 years old',\n",
              " 'Student C has 10 years old']"
            ]
          },
          "metadata": {},
          "execution_count": 16
        }
      ]
    },
    {
      "cell_type": "code",
      "metadata": {
        "colab": {
          "base_uri": "https://localhost:8080/"
        },
        "id": "gR0u3ZsQG-rS",
        "outputId": "6ef5662b-3e2c-4d5a-8e48-484641e73db9"
      },
      "source": [
        "# in a more concise way\n",
        "students = [f\"Student {student} is {age} years old\" for student, age in lst]\n",
        "students"
      ],
      "execution_count": 17,
      "outputs": [
        {
          "output_type": "execute_result",
          "data": {
            "text/plain": [
              "['Student A is 11 years old',\n",
              " 'Student B is 9 years old',\n",
              " 'Student C is 10 years old']"
            ]
          },
          "metadata": {},
          "execution_count": 17
        }
      ]
    },
    {
      "cell_type": "markdown",
      "metadata": {
        "id": "LdU4ssmaEar4"
      },
      "source": [
        "### Dictionaries\n",
        "Similar to lists, but with a key to identify each item<br>\n",
        "{key: value, key: valye, key:value, ....}<br>\n",
        "<b>Note:</b> As of Python version 3.7, dictionaries are ordered. In Python 3.6 and earlier, dictionaries are unordered.\n",
        "\n",
        "\n",
        "\n",
        "\n"
      ]
    },
    {
      "cell_type": "code",
      "metadata": {
        "colab": {
          "base_uri": "https://localhost:8080/"
        },
        "id": "ljXEj8TaV1fN",
        "outputId": "8def26f8-a664-4c44-d910-799ed25c6963"
      },
      "source": [
        "# if we received the structure proposed before, how could we get the age of student named C\n",
        "\n",
        "# solution: go through the list, check the first item of the tuple, if it is C, get the second item of the tuple...\n",
        "desired_student = 'C'\n",
        "\n",
        "for student in lst:\n",
        "    if student[0] == desired_student:   \n",
        "        print(f'Student {desired_student} has {student[1]} years old')"
      ],
      "execution_count": 18,
      "outputs": [
        {
          "output_type": "stream",
          "name": "stdout",
          "text": [
            "Student C has 10 years old\n"
          ]
        }
      ]
    },
    {
      "cell_type": "code",
      "metadata": {
        "colab": {
          "base_uri": "https://localhost:8080/"
        },
        "id": "SPPttmCAV1b7",
        "outputId": "1d28c2c0-444c-4da5-934c-3b542aed7f2b"
      },
      "source": [
        "# if data had been passed by 2 lists... we needed to use the common index to locate the age\n",
        "names = ['A', 'B', 'C']\n",
        "ages = [11, 9, 10]\n",
        "\n",
        "desired_student == 'C'\n",
        "idx = names.index(desired_student)\n",
        "print(ages[idx])"
      ],
      "execution_count": 19,
      "outputs": [
        {
          "output_type": "stream",
          "name": "stdout",
          "text": [
            "10\n"
          ]
        }
      ]
    },
    {
      "cell_type": "code",
      "metadata": {
        "colab": {
          "base_uri": "https://localhost:8080/"
        },
        "id": "xQAseaC4V1Pt",
        "outputId": "979b5173-c288-4baa-ac42-0ff6f481fb90"
      },
      "source": [
        "# using dictionaries\n",
        "students = {'A': 11, 'B': 9, 'C': 10}\n",
        "\n",
        "students['C']"
      ],
      "execution_count": 20,
      "outputs": [
        {
          "output_type": "execute_result",
          "data": {
            "text/plain": [
              "10"
            ]
          },
          "metadata": {},
          "execution_count": 20
        }
      ]
    },
    {
      "cell_type": "code",
      "metadata": {
        "colab": {
          "base_uri": "https://localhost:8080/"
        },
        "id": "kCGDvR7ZXiq-",
        "outputId": "39a3153e-f70a-4e82-b272-17402211a32e"
      },
      "source": [
        "# nothing prevent us to create inner dictionaries:\n",
        "students = {'A': {'age': 11, 'Height': 145},\n",
        "            'B': {'age': 9, 'Height': 144.2},\n",
        "            'C': {'age': 10, 'Height': 147},\n",
        "            }\n",
        "\n",
        "desired_student = 'C'\n",
        "students[desired_student]"
      ],
      "execution_count": 21,
      "outputs": [
        {
          "output_type": "execute_result",
          "data": {
            "text/plain": [
              "{'Height': 147, 'age': 10}"
            ]
          },
          "metadata": {},
          "execution_count": 21
        }
      ]
    },
    {
      "cell_type": "code",
      "metadata": {
        "colab": {
          "base_uri": "https://localhost:8080/"
        },
        "id": "Y1O4K8ykYtRj",
        "outputId": "52c0baa0-d1d3-4beb-ad27-43fe7685a1ba"
      },
      "source": [
        "students[desired_student]['age']"
      ],
      "execution_count": 22,
      "outputs": [
        {
          "output_type": "execute_result",
          "data": {
            "text/plain": [
              "10"
            ]
          },
          "metadata": {},
          "execution_count": 22
        }
      ]
    },
    {
      "cell_type": "code",
      "metadata": {
        "colab": {
          "base_uri": "https://localhost:8080/"
        },
        "id": "oZlPTKw8X6PT",
        "outputId": "41a840da-ef62-4168-e3b4-ba16e31968d4"
      },
      "source": [
        "print(f\"Student {desired_student} has {students[desired_student]['age']} and measures {students[desired_student]['Height']}\")"
      ],
      "execution_count": 23,
      "outputs": [
        {
          "output_type": "stream",
          "name": "stdout",
          "text": [
            "Student C has 10 and measures 147\n"
          ]
        }
      ]
    },
    {
      "cell_type": "markdown",
      "metadata": {
        "id": "r9JvYOMyXh6d"
      },
      "source": [
        "Back to our hydrological example"
      ]
    },
    {
      "cell_type": "code",
      "metadata": {
        "colab": {
          "base_uri": "https://localhost:8080/"
        },
        "id": "TsBZr_gF-ZQH",
        "outputId": "541271fd-56f3-4f2e-e606-ea3c7fbbad38"
      },
      "source": [
        "import random\n",
        "import matplotlib.pyplot as plt\n",
        "\n",
        "# create the days and daily rain\n",
        "random.seed(1)\n",
        "\n",
        "daily_rain = []\n",
        "day_of_month = []\n",
        "\n",
        "for i in range(1, 32, 1):\n",
        "    day_of_month.append(i)\n",
        "    daily_rain.append(random.randint(0, 100))\n",
        "\n",
        "str(day_of_month), str(daily_rain)"
      ],
      "execution_count": 24,
      "outputs": [
        {
          "output_type": "execute_result",
          "data": {
            "text/plain": [
              "('[1, 2, 3, 4, 5, 6, 7, 8, 9, 10, 11, 12, 13, 14, 15, 16, 17, 18, 19, 20, 21, 22, 23, 24, 25, 26, 27, 28, 29, 30, 31]',\n",
              " '[17, 72, 97, 8, 32, 15, 63, 97, 57, 60, 83, 48, 100, 26, 12, 62, 3, 49, 55, 77, 97, 98, 0, 89, 57, 34, 92, 29, 75, 13, 40]')"
            ]
          },
          "metadata": {},
          "execution_count": 24
        }
      ]
    },
    {
      "cell_type": "code",
      "metadata": {
        "colab": {
          "base_uri": "https://localhost:8080/",
          "height": 282
        },
        "id": "esLxcc2lPfy_",
        "outputId": "203979e1-650c-48c5-d977-2502f682b38b"
      },
      "source": [
        "# Now I will create a random walk (non-stationary) to represent river stage\n",
        "random.seed(2)\n",
        "river_stage = [100]\n",
        "for _ in range(31):\n",
        "    river_stage.append(river_stage[-1] + random.randint(-2, 2))    \n",
        "\n",
        "plt.plot(river_stage)"
      ],
      "execution_count": 25,
      "outputs": [
        {
          "output_type": "execute_result",
          "data": {
            "text/plain": [
              "[<matplotlib.lines.Line2D at 0x7fb34131cf10>]"
            ]
          },
          "metadata": {},
          "execution_count": 25
        },
        {
          "output_type": "display_data",
          "data": {
            "image/png": "[encoded data removed]",
            "text/plain": [
              "<Figure size 432x288 with 1 Axes>"
            ]
          },
          "metadata": {
            "needs_background": "light"
          }
        }
      ]
    },
    {
      "cell_type": "code",
      "metadata": {
        "colab": {
          "base_uri": "https://localhost:8080/"
        },
        "id": "f5WEdpaCBN7r",
        "outputId": "35d1b9a8-1027-4dad-f0a2-98931dc723be"
      },
      "source": [
        "# What happened on day 15?\n",
        "\n",
        "print(f'It rained {daily_rain[14]}mm and the level was {river_stage[14]}cm')"
      ],
      "execution_count": 26,
      "outputs": [
        {
          "output_type": "stream",
          "name": "stdout",
          "text": [
            "It rained 12mm and the level was 96cm\n"
          ]
        }
      ]
    },
    {
      "cell_type": "markdown",
      "metadata": {
        "id": "4p5dylxjTYXN"
      },
      "source": [
        "In the previous example, we could find the value corresponding a specific day, because it has a relation with the list index (index = day -1)<br>\n",
        "And we need 2 variables of type list (stage and rain). <br>\n",
        "What if I want to store 10 different stations? <br>\n",
        "Should we declare 20 different lists (10*2)? <br>\n",
        "<br>\n",
        "How to know which variable holds each station? By using variable names? That would be cumbersome.\n",
        "\n"
      ]
    },
    {
      "cell_type": "code",
      "metadata": {
        "colab": {
          "base_uri": "https://localhost:8080/",
          "height": 52
        },
        "id": "6k-9wrU4BN4R",
        "outputId": "0e85110d-3419-4135-d0f6-c779307ccf23"
      },
      "source": [
        "# Let's do it using dictionaries\n",
        "\n",
        "# 1st we will create the stations names (keys)\n",
        "stations = [f'Station {i}' for i in range(1, 11)]\n",
        "\n",
        "str(stations)"
      ],
      "execution_count": 27,
      "outputs": [
        {
          "output_type": "execute_result",
          "data": {
            "application/vnd.google.colaboratory.intrinsic+json": {
              "type": "string"
            },
            "text/plain": [
              "\"['Station 1', 'Station 2', 'Station 3', 'Station 4', 'Station 5', 'Station 6', 'Station 7', 'Station 8', 'Station 9', 'Station 10']\""
            ]
          },
          "metadata": {},
          "execution_count": 27
        }
      ]
    },
    {
      "cell_type": "code",
      "metadata": {
        "colab": {
          "base_uri": "https://localhost:8080/"
        },
        "id": "7pQ8SMwaal7w",
        "outputId": "46fa018d-cae4-4fba-b0d2-863653a6208c"
      },
      "source": [
        "data = {2: 234}\n",
        "type(data)"
      ],
      "execution_count": 28,
      "outputs": [
        {
          "output_type": "execute_result",
          "data": {
            "text/plain": [
              "dict"
            ]
          },
          "metadata": {},
          "execution_count": 28
        }
      ]
    },
    {
      "cell_type": "code",
      "metadata": {
        "colab": {
          "base_uri": "https://localhost:8080/"
        },
        "id": "NKzNaC3japV1",
        "outputId": "4645c82c-61d4-475f-e412-8580d7f564b6"
      },
      "source": [
        "# dict has no APPEND method...however it can be updated with a new {key: value}\n",
        "data.update({2: 543, 3: 0})\n",
        "data"
      ],
      "execution_count": 29,
      "outputs": [
        {
          "output_type": "execute_result",
          "data": {
            "text/plain": [
              "{2: 543, 3: 0}"
            ]
          },
          "metadata": {},
          "execution_count": 29
        }
      ]
    },
    {
      "cell_type": "code",
      "metadata": {
        "colab": {
          "base_uri": "https://localhost:8080/"
        },
        "id": "XENtWJ6XbGv-",
        "outputId": "1b5e12be-7581-48e4-e971-4d413993bd84"
      },
      "source": [
        "data[2] = 222\n",
        "data"
      ],
      "execution_count": 30,
      "outputs": [
        {
          "output_type": "execute_result",
          "data": {
            "text/plain": [
              "{2: 222, 3: 0}"
            ]
          },
          "metadata": {},
          "execution_count": 30
        }
      ]
    },
    {
      "cell_type": "code",
      "metadata": {
        "colab": {
          "base_uri": "https://localhost:8080/",
          "height": 154
        },
        "id": "aE-nJSPIU1D-",
        "outputId": "79490a97-45d5-461e-f58e-71e2fba6acc8"
      },
      "source": [
        "data = {}\n",
        "for station in stations:\n",
        "    daily_rain = []\n",
        "    river_stage = []\n",
        "    for _ in range(31):\n",
        "        daily_rain.append(random.randint(0, 100))\n",
        "\n",
        "        if len(river_stage) > 0:\n",
        "            river_stage.append(river_stage[-1] + random.randint(-1,1))\n",
        "        else:\n",
        "            river_stage.append(random.randint(90, 100))\n",
        "\n",
        "    station_data = {'rain': daily_rain, 'stage': river_stage}\n",
        "\n",
        "    # data.update({station: station_data})    \n",
        "    data[station] = station_data\n",
        "\n",
        "str(data)"
      ],
      "execution_count": 31,
      "outputs": [
        {
          "output_type": "execute_result",
          "data": {
            "application/vnd.google.colaboratory.intrinsic+json": {
              "type": "string"
            },
            "text/plain": [
              "\"{'Station 1': {'rain': [22, 29, 22, 22, 65, 46, 86, 23, 53, 67, 75, 46, 20, 91, 59, 67, 62, 63, 65, 84, 59, 72, 71, 58, 84, 41, 21, 34, 39, 90, 71], 'stage': [93, 92, 92, 91, 92, 93, 94, 94, 95, 95, 95, 95, 95, 96, 97, 96, 96, 97, 97, 97, 97, 98, 99, 99, 98, 99, 100, 100, 100, 101, 102]}, 'Station 2': {'rain': [64, 78, 52, 93, 62, 46, 79, 100, 92, 24, 13, 73, 6, 75, 87, 96, 17, 31, 7, 91, 7, 46, 31, 3, 14, 3, 93, 47, 16, 94, 66], 'stage': [100, 101, 101, 100, 101, 102, 101, 101, 100, 101, 100, 101, 101, 100, 99, 100, 100, 99, 99, 98, 98, 97, 98, 97, 96, 95, 94, 94, 93, 92, 93]}, 'Station 3': {'rain': [0, 75, 31, 4, 44, 80, 95, 36, 62, 39, 70, 94, 33, 79, 19, 28, 84, 40, 3, 100, 66, 99, 62, 41, 43, 33, 53, 2, 71, 85, 32], 'stage': [96, 95, 94, 93, 94, 95, 94, 94, 93, 93, 94, 93, 93, 94, 94, 93, 94, 93, 93, 92, 93, 93, 94, 93, 93, 94, 95, 96, 95, 94, 93]}, 'Station 4': {'rain': [16, 21, 58, 29, 90, 31, 91, 9, 10, 29, 79, 46, 87, 35, 96, 19, 49, 20, 65, 11, 13, 2, 96, 13, 3, 85, 58, 68, 48, 87, 93], 'stage': [92, 91, 92, 93, 92, 91, 91, 91, 92, 93, 94, 94, 94, 95, 94, 93, 93, 92, 93, 92, 91, 90, 89, 88, 89, 89, 89, 90, 89, 88, 88]}, 'Station 5': {'rain': [54, 2, 75, 53, 74, 12, 61, 2, 15, 46, 88, 39, 87, 12, 39, 99, 2, 7, 81, 59, 75, 9, 36, 47, 92, 28, 24, 73, 50, 59, 96], 'stage': [98, 99, 98, 99, 98, 99, 99, 100, 101, 101, 101, 100, 100, 99, 98, 99, 99, 99, 99, 98, 99, 98, 97, 97, 96, 96, 95, 95, 96, 95, 95]}, 'Station 6': {'rain': [50, 32, 15, 78, 82, 27, 13, 79, 60, 92, 63, 45, 18, 34, 67, 92, 53, 87, 50, 20, 76, 70, 89, 89, 74, 73, 9, 22, 18, 8, 87], 'stage': [91, 90, 89, 89, 89, 90, 89, 90, 89, 90, 90, 90, 90, 90, 90, 91, 91, 91, 90, 90, 90, 90, 91, 90, 91, 90, 90, 91, 91, 90, 91]}, 'Station 7': {'rain': [4, 37, 29, 85, 42, 22, 36, 19, 96, 12, 66, 91, 32, 20, 90, 51, 100, 93, 59, 92, 76, 94, 50, 6, 35, 32, 93, 90, 60, 70, 91], 'stage': [92, 92, 93, 94, 94, 95, 94, 95, 95, 95, 94, 95, 94, 94, 93, 93, 94, 93, 93, 92, 92, 91, 92, 92, 92, 93, 93, 94, 94, 94, 95]}, 'Station 8': {'rain': [84, 97, 28, 79, 51, 48, 1, 59, 91, 83, 12, 51, 93, 77, 27, 49, 98, 35, 75, 24, 78, 1, 86, 61, 65, 22, 91, 97, 44, 62, 85], 'stage': [91, 92, 93, 92, 93, 94, 94, 95, 95, 94, 93, 92, 93, 93, 92, 93, 92, 93, 94, 94, 93, 94, 94, 94, 95, 95, 94, 93, 92, 93, 94]}, 'Station 9': {'rain': [8, 62, 42, 34, 58, 10, 96, 22, 32, 80, 17, 20, 48, 86, 19, 36, 59, 46, 68, 72, 26, 39, 83, 61, 68, 38, 33, 38, 82, 83, 50], 'stage': [99, 100, 100, 101, 100, 101, 101, 101, 102, 103, 102, 102, 102, 102, 101, 102, 101, 100, 100, 100, 101, 101, 100, 101, 102, 101, 101, 101, 101, 102, 103]}, 'Station 10': {'rain': [11, 81, 50, 67, 64, 11, 5, 58, 29, 35, 14, 86, 46, 40, 9, 58, 21, 56, 59, 91, 81, 34, 20, 30, 24, 47, 45, 17, 34, 81, 51], 'stage': [98, 97, 98, 97, 98, 98, 97, 98, 99, 98, 97, 97, 96, 96, 96, 96, 96, 96, 95, 95, 94, 94, 93, 93, 94, 93, 92, 91, 92, 92, 93]}}\""
            ]
          },
          "metadata": {},
          "execution_count": 31
        }
      ]
    },
    {
      "cell_type": "code",
      "metadata": {
        "colab": {
          "base_uri": "https://localhost:8080/",
          "height": 52
        },
        "id": "VOP7e-9naizV",
        "outputId": "25d76ce5-32bb-4916-98bb-d5f7e09e35f1"
      },
      "source": [
        "str(data['Station 2']['stage'])"
      ],
      "execution_count": 32,
      "outputs": [
        {
          "output_type": "execute_result",
          "data": {
            "application/vnd.google.colaboratory.intrinsic+json": {
              "type": "string"
            },
            "text/plain": [
              "'[100, 101, 101, 100, 101, 102, 101, 101, 100, 101, 100, 101, 101, 100, 99, 100, 100, 99, 99, 98, 98, 97, 98, 97, 96, 95, 94, 94, 93, 92, 93]'"
            ]
          },
          "metadata": {},
          "execution_count": 32
        }
      ]
    },
    {
      "cell_type": "code",
      "metadata": {
        "id": "Lc2r0SqF-12V",
        "colab": {
          "base_uri": "https://localhost:8080/",
          "height": 52
        },
        "outputId": "e33a3bb6-fdda-4c03-e0ef-39f12780e772"
      },
      "source": [
        "str(data['Station 5']['stage'])"
      ],
      "execution_count": 33,
      "outputs": [
        {
          "output_type": "execute_result",
          "data": {
            "application/vnd.google.colaboratory.intrinsic+json": {
              "type": "string"
            },
            "text/plain": [
              "'[98, 99, 98, 99, 98, 99, 99, 100, 101, 101, 101, 100, 100, 99, 98, 99, 99, 99, 99, 98, 99, 98, 97, 97, 96, 96, 95, 95, 96, 95, 95]'"
            ]
          },
          "metadata": {},
          "execution_count": 33
        }
      ]
    },
    {
      "cell_type": "code",
      "metadata": {
        "colab": {
          "base_uri": "https://localhost:8080/",
          "height": 282
        },
        "id": "ApQgUAnT_ufv",
        "outputId": "4ed222ab-4f68-475a-c315-881e292071be"
      },
      "source": [
        "plt.plot(data['Station 2']['stage'])\n",
        "plt.plot(data['Station 5']['stage'])"
      ],
      "execution_count": 34,
      "outputs": [
        {
          "output_type": "execute_result",
          "data": {
            "text/plain": [
              "[<matplotlib.lines.Line2D at 0x7fb33a429f50>]"
            ]
          },
          "metadata": {},
          "execution_count": 34
        },
        {
          "output_type": "display_data",
          "data": {
            "image/png": "[encoded data removed]",
            "text/plain": [
              "<Figure size 432x288 with 1 Axes>"
            ]
          },
          "metadata": {
            "needs_background": "light"
          }
        }
      ]
    },
    {
      "cell_type": "markdown",
      "metadata": {
        "id": "MJ8Q6fLhhSbT"
      },
      "source": [
        "Great! But this example would make more sense if we had... <br>10 stations x 12 months x (28, 29, 30 or 31) days<br>\n",
        "<br>\n",
        "We could add one more loop and some tests for the date... but... <br>\n",
        "HELP!!!! Its getting too complicated..."
      ]
    },
    {
      "cell_type": "markdown",
      "metadata": {
        "id": "cjh2U9cniS0v"
      },
      "source": [
        "## Functions"
      ]
    },
    {
      "cell_type": "markdown",
      "metadata": {
        "id": "tSdVTHjbiUiH"
      },
      "source": [
        "A function is a block of code which only runs when it is called.\n",
        "\n",
        "You can pass data, known as parameters, into a function.\n",
        "\n",
        "A function can return data as a result."
      ]
    },
    {
      "cell_type": "code",
      "metadata": {
        "colab": {
          "base_uri": "https://localhost:8080/"
        },
        "id": "IEL4n6PffRV9",
        "outputId": "0cd16bd6-0bad-4d03-e2d6-3b2746b6f471"
      },
      "source": [
        "def square(x):\n",
        "    return x**2\n",
        "\n",
        "square(11)"
      ],
      "execution_count": 35,
      "outputs": [
        {
          "output_type": "execute_result",
          "data": {
            "text/plain": [
              "121"
            ]
          },
          "metadata": {},
          "execution_count": 35
        }
      ]
    },
    {
      "cell_type": "code",
      "metadata": {
        "colab": {
          "base_uri": "https://localhost:8080/"
        },
        "id": "kVyTqodhfRSe",
        "outputId": "3764a5c4-91f1-49b4-bd4a-8d587c173255"
      },
      "source": [
        "def power(base, expoent):\n",
        "    return base**expoent\n",
        "\n",
        "power(2, 8)"
      ],
      "execution_count": 36,
      "outputs": [
        {
          "output_type": "execute_result",
          "data": {
            "text/plain": [
              "256"
            ]
          },
          "metadata": {},
          "execution_count": 36
        }
      ]
    },
    {
      "cell_type": "code",
      "metadata": {
        "id": "WQyzfe8gfROn"
      },
      "source": [
        "# base and expoent are required arguments\n",
        "# power(2)"
      ],
      "execution_count": 38,
      "outputs": []
    },
    {
      "cell_type": "code",
      "metadata": {
        "colab": {
          "base_uri": "https://localhost:8080/"
        },
        "id": "2RlPfMMqfRLJ",
        "outputId": "edae7abf-424d-4012-e798-2128cefb0a37"
      },
      "source": [
        "power(expoent=8, base=2)"
      ],
      "execution_count": 39,
      "outputs": [
        {
          "output_type": "execute_result",
          "data": {
            "text/plain": [
              "256"
            ]
          },
          "metadata": {},
          "execution_count": 39
        }
      ]
    },
    {
      "cell_type": "code",
      "metadata": {
        "colab": {
          "base_uri": "https://localhost:8080/"
        },
        "id": "BMmGbun_fRHy",
        "outputId": "48992b01-01f8-4d90-9613-b1228ffad651"
      },
      "source": [
        "# b is an optional (default) parameter\n",
        "# def y = a*x + b\n",
        "def linear(x, a, b=0):\n",
        "    y = a * x + b\n",
        "    return y\n",
        "\n",
        "linear(2, 3)"
      ],
      "execution_count": 40,
      "outputs": [
        {
          "output_type": "execute_result",
          "data": {
            "text/plain": [
              "6"
            ]
          },
          "metadata": {},
          "execution_count": 40
        }
      ]
    },
    {
      "cell_type": "code",
      "metadata": {
        "colab": {
          "base_uri": "https://localhost:8080/"
        },
        "id": "JGywimlifREY",
        "outputId": "1609103d-bb6c-441b-96c5-3ef5ac0d7112"
      },
      "source": [
        "# nomenclature 2 is a positional argument\n",
        "# -10 and 3 are keyword arguments\n",
        "linear(2, b=-10, a=3)"
      ],
      "execution_count": 41,
      "outputs": [
        {
          "output_type": "execute_result",
          "data": {
            "text/plain": [
              "-4"
            ]
          },
          "metadata": {},
          "execution_count": 41
        }
      ]
    },
    {
      "cell_type": "code",
      "metadata": {
        "id": "ChH4gniPk5ZS"
      },
      "source": [
        "# y = a*x^2 + b*x + c\n",
        "def quadratic(x, a, b=1, c=0):\n",
        "    y = a * power(x, 2) + b*x + c\n",
        "    return y"
      ],
      "execution_count": 42,
      "outputs": []
    },
    {
      "cell_type": "code",
      "metadata": {
        "colab": {
          "base_uri": "https://localhost:8080/"
        },
        "id": "61ykMdGJk5Vw",
        "outputId": "6851ae04-5aed-4dde-cc10-2b6388cb8660"
      },
      "source": [
        "quadratic(a=1, x=2)"
      ],
      "execution_count": 43,
      "outputs": [
        {
          "output_type": "execute_result",
          "data": {
            "text/plain": [
              "6"
            ]
          },
          "metadata": {},
          "execution_count": 43
        }
      ]
    },
    {
      "cell_type": "markdown",
      "metadata": {
        "id": "6wrA0UwXsGly"
      },
      "source": [
        "Explain the escope. Variables have specific scope inside the function..."
      ]
    },
    {
      "cell_type": "code",
      "metadata": {
        "id": "nnNzVXFAk5Sf"
      },
      "source": [
        "import math"
      ],
      "execution_count": 44,
      "outputs": []
    },
    {
      "cell_type": "code",
      "metadata": {
        "colab": {
          "base_uri": "https://localhost:8080/"
        },
        "id": "V-sHnb0_k5Pb",
        "outputId": "984c587c-5ca6-482d-e38a-398d5b02b0f1"
      },
      "source": [
        "dir(math)"
      ],
      "execution_count": 45,
      "outputs": [
        {
          "output_type": "execute_result",
          "data": {
            "text/plain": [
              "['__doc__',\n",
              " '__loader__',\n",
              " '__name__',\n",
              " '__package__',\n",
              " '__spec__',\n",
              " 'acos',\n",
              " 'acosh',\n",
              " 'asin',\n",
              " 'asinh',\n",
              " 'atan',\n",
              " 'atan2',\n",
              " 'atanh',\n",
              " 'ceil',\n",
              " 'copysign',\n",
              " 'cos',\n",
              " 'cosh',\n",
              " 'degrees',\n",
              " 'e',\n",
              " 'erf',\n",
              " 'erfc',\n",
              " 'exp',\n",
              " 'expm1',\n",
              " 'fabs',\n",
              " 'factorial',\n",
              " 'floor',\n",
              " 'fmod',\n",
              " 'frexp',\n",
              " 'fsum',\n",
              " 'gamma',\n",
              " 'gcd',\n",
              " 'hypot',\n",
              " 'inf',\n",
              " 'isclose',\n",
              " 'isfinite',\n",
              " 'isinf',\n",
              " 'isnan',\n",
              " 'ldexp',\n",
              " 'lgamma',\n",
              " 'log',\n",
              " 'log10',\n",
              " 'log1p',\n",
              " 'log2',\n",
              " 'modf',\n",
              " 'nan',\n",
              " 'pi',\n",
              " 'pow',\n",
              " 'radians',\n",
              " 'remainder',\n",
              " 'sin',\n",
              " 'sinh',\n",
              " 'sqrt',\n",
              " 'tan',\n",
              " 'tanh',\n",
              " 'tau',\n",
              " 'trunc']"
            ]
          },
          "metadata": {},
          "execution_count": 45
        }
      ]
    },
    {
      "cell_type": "markdown",
      "metadata": {
        "id": "DkFG6WTCyJrv"
      },
      "source": [
        "## The value <b>None</b>"
      ]
    },
    {
      "cell_type": "markdown",
      "metadata": {
        "id": "_3NvN-46yQmz"
      },
      "source": [
        "\n",
        "The value **None** is used to define a null value. **It is not the same as an empty string, False, or a zero.** It is a data type of the class NoneType object."
      ]
    },
    {
      "cell_type": "code",
      "metadata": {
        "colab": {
          "base_uri": "https://localhost:8080/"
        },
        "id": "SSpOUxywk5Mb",
        "outputId": "c807a770-875b-4205-8a1f-f87368456b90"
      },
      "source": [
        "None == \"\", None == False, None == 0"
      ],
      "execution_count": 46,
      "outputs": [
        {
          "output_type": "execute_result",
          "data": {
            "text/plain": [
              "(False, False, False)"
            ]
          },
          "metadata": {},
          "execution_count": 46
        }
      ]
    },
    {
      "cell_type": "code",
      "metadata": {
        "colab": {
          "base_uri": "https://localhost:8080/"
        },
        "id": "QJlgy6PQoe6D",
        "outputId": "07a9ccc0-b5db-47ff-c4c5-c8305000f110"
      },
      "source": [
        "# correct way of testing (is -> identity operator)\n",
        "x = 0\n",
        "x is None, x is not None"
      ],
      "execution_count": 47,
      "outputs": [
        {
          "output_type": "execute_result",
          "data": {
            "text/plain": [
              "(False, True)"
            ]
          },
          "metadata": {},
          "execution_count": 47
        }
      ]
    },
    {
      "cell_type": "code",
      "metadata": {
        "colab": {
          "base_uri": "https://localhost:8080/"
        },
        "id": "FcEs2UaCqibC",
        "outputId": "4dd9a544-bd7f-4371-cc0c-13508ea1db04"
      },
      "source": [
        "bool(None), bool(0), bool(False), bool(123)"
      ],
      "execution_count": 48,
      "outputs": [
        {
          "output_type": "execute_result",
          "data": {
            "text/plain": [
              "(False, False, False, True)"
            ]
          },
          "metadata": {},
          "execution_count": 48
        }
      ]
    },
    {
      "cell_type": "code",
      "metadata": {
        "id": "QpT8tF1Ap-42"
      },
      "source": [
        "# None is absence of value, so we cannot implement this...\n",
        "def check_value(x):\n",
        "    if x:\n",
        "        print(f'{x} has a value')\n",
        "    else:\n",
        "        print(f'{x} has no value at all')"
      ],
      "execution_count": 49,
      "outputs": []
    },
    {
      "cell_type": "code",
      "metadata": {
        "colab": {
          "base_uri": "https://localhost:8080/"
        },
        "id": "JzQXAoYYpDBU",
        "outputId": "3fabc81a-781c-4278-8d38-46a54f06b716"
      },
      "source": [
        "check_value(None), check_value(0), check_value(False)"
      ],
      "execution_count": 50,
      "outputs": [
        {
          "output_type": "stream",
          "name": "stdout",
          "text": [
            "None has no value at all\n",
            "0 has no value at all\n",
            "False has no value at all\n"
          ]
        },
        {
          "output_type": "execute_result",
          "data": {
            "text/plain": [
              "(None, None, None)"
            ]
          },
          "metadata": {},
          "execution_count": 50
        }
      ]
    },
    {
      "cell_type": "code",
      "metadata": {
        "id": "6vjc9wc7pvwj"
      },
      "source": [
        "# Why is that... that's because if x: is testing the BOOLEAN result of x.\n",
        "# To test it correctly we should do:\n",
        "\n",
        "def check_value(x):\n",
        "    if  x is None:\n",
        "        print(f'{x} has no value at all')\n",
        "    else:\n",
        "        print(f'{x} has a value')\n"
      ],
      "execution_count": 51,
      "outputs": []
    },
    {
      "cell_type": "code",
      "metadata": {
        "colab": {
          "base_uri": "https://localhost:8080/"
        },
        "id": "j3ss1ajeqzRZ",
        "outputId": "9434dadd-dbde-48b4-98d3-1ede2b2e5629"
      },
      "source": [
        "check_value(None), check_value(0), check_value(False)"
      ],
      "execution_count": 52,
      "outputs": [
        {
          "output_type": "stream",
          "name": "stdout",
          "text": [
            "None has no value at all\n",
            "0 has a value\n",
            "False has a value\n"
          ]
        },
        {
          "output_type": "execute_result",
          "data": {
            "text/plain": [
              "(None, None, None)"
            ]
          },
          "metadata": {},
          "execution_count": 52
        }
      ]
    },
    {
      "cell_type": "markdown",
      "metadata": {
        "id": "B391z85-ogXK"
      },
      "source": [
        "Now that we know \"everything\" about functions, let's get back to the hydrological example.<br>\n",
        "\n"
      ]
    },
    {
      "cell_type": "markdown",
      "metadata": {
        "id": "8tmHvZgwy4p5"
      },
      "source": [
        "## Datetime Basics"
      ]
    },
    {
      "cell_type": "code",
      "metadata": {
        "id": "1tCtVqhFzVY8"
      },
      "source": [
        "from datetime import datetime, timedelta"
      ],
      "execution_count": 122,
      "outputs": []
    },
    {
      "cell_type": "code",
      "metadata": {
        "colab": {
          "base_uri": "https://localhost:8080/"
        },
        "id": "pAMzEsmDYR34",
        "outputId": "088b7e0c-74a0-4300-ed28-0fbe40b15ccb"
      },
      "source": [
        "datetime.now()"
      ],
      "execution_count": 123,
      "outputs": [
        {
          "output_type": "execute_result",
          "data": {
            "text/plain": [
              "datetime.datetime(2021, 11, 7, 17, 10, 26, 329126)"
            ]
          },
          "metadata": {},
          "execution_count": 123
        }
      ]
    },
    {
      "cell_type": "code",
      "metadata": {
        "colab": {
          "base_uri": "https://localhost:8080/"
        },
        "id": "nEeBEYLJy-IN",
        "outputId": "66354300-9325-4504-d839-7cd16ee6eea7"
      },
      "source": [
        "dt = datetime(2021, 1, 1)\n",
        "dt"
      ],
      "execution_count": 124,
      "outputs": [
        {
          "output_type": "execute_result",
          "data": {
            "text/plain": [
              "datetime.datetime(2021, 1, 1, 0, 0)"
            ]
          },
          "metadata": {},
          "execution_count": 124
        }
      ]
    },
    {
      "cell_type": "code",
      "metadata": {
        "colab": {
          "base_uri": "https://localhost:8080/"
        },
        "id": "KJLQCN0fYNSi",
        "outputId": "92cf5dc8-919f-46a8-e72b-2779271a7e8e"
      },
      "source": [
        "dt2 = dt + timedelta(days=1)\n",
        "dt2"
      ],
      "execution_count": 127,
      "outputs": [
        {
          "output_type": "execute_result",
          "data": {
            "text/plain": [
              "datetime.datetime(2021, 1, 2, 0, 0)"
            ]
          },
          "metadata": {},
          "execution_count": 127
        }
      ]
    },
    {
      "cell_type": "code",
      "metadata": {
        "colab": {
          "base_uri": "https://localhost:8080/"
        },
        "id": "e2NWjY2kYfTV",
        "outputId": "f85d85d6-b037-42cd-fad7-7917ac71394f"
      },
      "source": [
        "dt2 - dt"
      ],
      "execution_count": 128,
      "outputs": [
        {
          "output_type": "execute_result",
          "data": {
            "text/plain": [
              "datetime.timedelta(days=1)"
            ]
          },
          "metadata": {},
          "execution_count": 128
        }
      ]
    },
    {
      "cell_type": "markdown",
      "metadata": {
        "id": "C4vpytd0y13c"
      },
      "source": [
        "## Exercise"
      ]
    },
    {
      "cell_type": "markdown",
      "metadata": {
        "id": "_YoZ_LJoRr1H"
      },
      "source": [
        "OBS: Show how to find the number of days in a specific month (internet search)."
      ]
    },
    {
      "cell_type": "code",
      "metadata": {
        "id": "TCFl-Rm6ZH0W"
      },
      "source": [
        "def create_random_rain(start, end, max_rain=100, seed=None):\n",
        "\n",
        "    if seed is not None:\n",
        "        random.seed(seed)\n",
        "\n",
        "    if start >= end:\n",
        "        return None\n",
        "\n",
        "    # use timedelta to get days\n",
        "    days = (end - start).days\n",
        "\n",
        "    return {start + timedelta(days=i): random.randint(0, max_rain) for i in range(days)}\n",
        "            "
      ],
      "execution_count": 129,
      "outputs": []
    },
    {
      "cell_type": "code",
      "metadata": {
        "colab": {
          "base_uri": "https://localhost:8080/",
          "height": 337
        },
        "id": "9SmXtFUvZHyK",
        "outputId": "987219e3-f4b3-494d-f438-0b5250937199"
      },
      "source": [
        "rain = create_random_rain(datetime(2021, 1, 1), datetime(2021, 7, 1))\n",
        "\n",
        "plt.figure(figsize=(10, 5))\n",
        "plt.bar(rain.keys(), rain.values())"
      ],
      "execution_count": 132,
      "outputs": [
        {
          "output_type": "execute_result",
          "data": {
            "text/plain": [
              "<BarContainer object of 181 artists>"
            ]
          },
          "metadata": {},
          "execution_count": 132
        },
        {
          "output_type": "display_data",
          "data": {
            "image/png": "[encoded data removed]",
            "text/plain": [
              "<Figure size 720x360 with 1 Axes>"
            ]
          },
          "metadata": {
            "needs_background": "light"
          }
        }
      ]
    },
    {
      "cell_type": "code",
      "metadata": {
        "id": "SMzujxJSZHtJ"
      },
      "source": [
        "def create_random_stage(start, end, damp=1, seed=None):\n",
        "\n",
        "    if start >= end:\n",
        "        return\n",
        "\n",
        "    if seed is not None:\n",
        "        random.seed(seed)\n",
        "\n",
        "    days = (end - start).days\n",
        "\n",
        "    stage = {start: random.randint(50, 100)}\n",
        "\n",
        "    return {start + timedelta(i + 1): stage[start]*damp + random.normalvariate(0, 0.5) for i in range(days)}"
      ],
      "execution_count": 154,
      "outputs": []
    },
    {
      "cell_type": "code",
      "metadata": {
        "colab": {
          "base_uri": "https://localhost:8080/",
          "height": 612
        },
        "id": "2A7gLcDpbD90",
        "outputId": "5a464160-b308-4683-fc5e-3ec296f27904"
      },
      "source": [
        "stage = create_random_stage (datetime(2021, 1, 1), datetime(2022, 7, 1))\n",
        "plt.figure(figsize=(15, 10))\n",
        "\n",
        "plt.plot(list(stage.values()))"
      ],
      "execution_count": 155,
      "outputs": [
        {
          "output_type": "execute_result",
          "data": {
            "text/plain": [
              "[<matplotlib.lines.Line2D at 0x7fb3349f3d10>]"
            ]
          },
          "metadata": {},
          "execution_count": 155
        },
        {
          "output_type": "display_data",
          "data": {
            "image/png": "[encoded data removed]",
            "text/plain": [
              "<Figure size 1080x720 with 1 Axes>"
            ]
          },
          "metadata": {
            "needs_background": "light"
          }
        }
      ]
    },
    {
      "cell_type": "code",
      "metadata": {
        "colab": {
          "base_uri": "https://localhost:8080/"
        },
        "id": "hDdjZ8WNbD7Y",
        "outputId": "63c4d37f-a407-4a73-e4f3-a488f7e31415"
      },
      "source": [
        "list(stage.values())"
      ],
      "execution_count": 143,
      "outputs": [
        {
          "output_type": "execute_result",
          "data": {
            "text/plain": [
              "[99.90047291160664,\n",
              " 99.68600885591934,\n",
              " 99.8337284608139,\n",
              " 100.65105265910002,\n",
              " 100.01263316628867,\n",
              " 99.66720836683217,\n",
              " 100.473598630412,\n",
              " 99.32454259147987,\n",
              " 99.33677299965004,\n",
              " 99.96518095700462,\n",
              " 100.43990497912826,\n",
              " 100.5254239302404,\n",
              " 99.27172890113431,\n",
              " 99.62041617870078,\n",
              " 99.18644234438898,\n",
              " 99.55133249628796,\n",
              " 99.49077080456556,\n",
              " 99.45317453742922,\n",
              " 101.11674069461024,\n",
              " 99.28400197880096,\n",
              " 99.49949257415388,\n",
              " 100.18370216984746,\n",
              " 99.63888860672043,\n",
              " 99.9098212224714,\n",
              " 100.8233066326867,\n",
              " 99.75016920518738,\n",
              " 99.13002044176164,\n",
              " 100.0728623329961,\n",
              " 100.54325012675686,\n",
              " 100.39570829840562,\n",
              " 100.3414518169654,\n",
              " 100.1125835898783,\n",
              " 99.90660329674938,\n",
              " 100.49013556231291,\n",
              " 99.51072213107423,\n",
              " 100.85346845807665,\n",
              " 99.82747280472304,\n",
              " 99.39878120638309,\n",
              " 100.78674076382487,\n",
              " 100.48735827991227,\n",
              " 99.88120064371296,\n",
              " 100.06774211567468,\n",
              " 100.07061667420705,\n",
              " 100.6235301896985,\n",
              " 98.9908913344672,\n",
              " 99.62282124558996,\n",
              " 100.07600859953502,\n",
              " 100.06911918866903,\n",
              " 100.53992205902408,\n",
              " 98.58700293434714,\n",
              " 99.39443805671561,\n",
              " 99.89738532782188,\n",
              " 100.01507999826273,\n",
              " 100.3929414435979,\n",
              " 99.97728480305527,\n",
              " 99.29640991434442,\n",
              " 99.45011998808795,\n",
              " 100.2112083514905,\n",
              " 99.8747483592467,\n",
              " 100.09340238118652,\n",
              " 100.14360551500415,\n",
              " 100.73997013886512,\n",
              " 99.41163603105961,\n",
              " 100.23434798074987,\n",
              " 100.15892419395388,\n",
              " 99.58281362480251,\n",
              " 100.66675216520898,\n",
              " 99.73801692694484,\n",
              " 99.84184735454181,\n",
              " 99.70229777361716,\n",
              " 100.7612224505083,\n",
              " 100.35086597769427,\n",
              " 99.96785367060231,\n",
              " 100.44406166022739,\n",
              " 99.73100990881761,\n",
              " 100.09930567238193,\n",
              " 99.13197340660032,\n",
              " 100.25879161736208,\n",
              " 99.90525933292014,\n",
              " 100.99556058688702,\n",
              " 99.87988003166588,\n",
              " 100.14927215728896,\n",
              " 99.77275903962855,\n",
              " 99.61699479246292,\n",
              " 99.76435833353304,\n",
              " 100.23104851237515,\n",
              " 99.89099213571508,\n",
              " 99.4851195310406,\n",
              " 100.21840750591696,\n",
              " 99.61175773269447,\n",
              " 99.9168054612802,\n",
              " 99.82692505905102,\n",
              " 100.22298094465413,\n",
              " 99.97535079344863,\n",
              " 100.1335214559154,\n",
              " 99.90887135177687,\n",
              " 100.77007609950758,\n",
              " 99.52460824885574,\n",
              " 99.1394041863855,\n",
              " 100.51372232662693,\n",
              " 101.25518384352418,\n",
              " 99.92273592673111,\n",
              " 99.60459574024796,\n",
              " 100.08036238867247,\n",
              " 100.60166935250514,\n",
              " 99.54299318121606,\n",
              " 99.91840541010744,\n",
              " 99.62584602470997,\n",
              " 99.31110344700222,\n",
              " 100.40704853488369,\n",
              " 100.34104683228219,\n",
              " 99.77953618835006,\n",
              " 99.59777402242405,\n",
              " 100.40401335875627,\n",
              " 100.46813615186693,\n",
              " 99.73857662006031,\n",
              " 99.52899211640798,\n",
              " 99.80103915770518,\n",
              " 101.00193136755763,\n",
              " 99.53652880335773,\n",
              " 100.78525438823253,\n",
              " 99.42260697715366,\n",
              " 99.82383290471903,\n",
              " 99.77197278939688,\n",
              " 100.38241425156947,\n",
              " 100.92674426732076,\n",
              " 99.65473989435473,\n",
              " 100.11342973362247,\n",
              " 99.91278212551165,\n",
              " 100.08680426690864,\n",
              " 99.60605263286526,\n",
              " 100.45460447819661,\n",
              " 99.58510506716935,\n",
              " 99.6582667649015,\n",
              " 99.38736693142624,\n",
              " 100.21918779886867,\n",
              " 100.07621059566962,\n",
              " 99.95326592365596,\n",
              " 99.5918207440367,\n",
              " 99.89180152953209,\n",
              " 100.64040210348035,\n",
              " 100.16204517148603,\n",
              " 100.08387959940056,\n",
              " 100.02556719085298,\n",
              " 100.06302183577952,\n",
              " 98.98105347770208,\n",
              " 100.25087253224869,\n",
              " 100.4714076992366,\n",
              " 99.84076505972511,\n",
              " 99.95911596210348,\n",
              " 99.65933376119948,\n",
              " 101.01174437093671,\n",
              " 99.87013222206039,\n",
              " 99.9972028431654,\n",
              " 99.62644997329237,\n",
              " 99.81191840638165,\n",
              " 100.22685258113479,\n",
              " 99.36776363466879,\n",
              " 100.43234943783317,\n",
              " 100.12725936654499,\n",
              " 100.19826931877738,\n",
              " 100.66775264371542,\n",
              " 98.9780907573508,\n",
              " 100.13117045316528,\n",
              " 100.07177523333593,\n",
              " 99.8162196785546,\n",
              " 99.28650728381348,\n",
              " 100.10723030066868,\n",
              " 100.22999562090554,\n",
              " 99.5807020473176,\n",
              " 99.69520828422212,\n",
              " 99.3803664548434,\n",
              " 99.71628153156269,\n",
              " 101.04165618750024,\n",
              " 100.02855790829409,\n",
              " 99.58472843219036,\n",
              " 100.00903085057794,\n",
              " 99.83102813381377,\n",
              " 99.36374004095059,\n",
              " 99.92569672103672,\n",
              " 99.527444626374]"
            ]
          },
          "metadata": {},
          "execution_count": 143
        }
      ]
    },
    {
      "cell_type": "code",
      "metadata": {
        "id": "BirPXmUYbD43"
      },
      "source": [
        ""
      ],
      "execution_count": null,
      "outputs": []
    },
    {
      "cell_type": "code",
      "metadata": {
        "id": "nZqHeWUzbD2Z"
      },
      "source": [
        ""
      ],
      "execution_count": null,
      "outputs": []
    },
    {
      "cell_type": "code",
      "metadata": {
        "id": "pr2gJpyDj8ZC"
      },
      "source": [
        "from calendar import monthrange\n",
        "\n",
        "def create_random_rain(year, month, max_rain=100, seed=None):\n",
        "    if seed is not None:\n",
        "        random.seed(seed)\n",
        "\n",
        "    days_in_month = monthrange(year, month)[1]\n",
        "    return {(year, month, i): random.randint(0, max_rain) for i in range(1, days_in_month)}"
      ],
      "execution_count": 77,
      "outputs": []
    },
    {
      "cell_type": "code",
      "metadata": {
        "colab": {
          "base_uri": "https://localhost:8080/",
          "height": 282
        },
        "id": "Eoen1viBReBt",
        "outputId": "691d5ca6-192a-4bdc-d1e4-07c923e258a7"
      },
      "source": [
        "rain = create_random_rain(2021, 11, max_rain=50, seed=2)\n",
        "plt.bar(range(1, len(rain)+1), rain.values())"
      ],
      "execution_count": 83,
      "outputs": [
        {
          "output_type": "execute_result",
          "data": {
            "text/plain": [
              "<BarContainer object of 30 artists>"
            ]
          },
          "metadata": {},
          "execution_count": 83
        },
        {
          "output_type": "display_data",
          "data": {
            "image/png": "[encoded data removed]",
            "text/plain": [
              "<Figure size 432x288 with 1 Axes>"
            ]
          },
          "metadata": {
            "needs_background": "light"
          }
        }
      ]
    },
    {
      "cell_type": "code",
      "metadata": {
        "id": "HSCyDhI9S1P3"
      },
      "source": [
        "def create_random_stage(year, month, seed=None):\n",
        "    if seed is not None:\n",
        "        random.seed(seed)\n",
        "\n",
        "    stage = [random.randint(0, 50)]\n",
        "\n",
        "    days_in_month = monthrange(year, month)[1]\n",
        "    for i in range(days_in_month):\n",
        "        stage.append(stage[-1] + random.uniform(-1, 1))\n",
        "    return stage"
      ],
      "execution_count": 118,
      "outputs": []
    },
    {
      "cell_type": "code",
      "metadata": {
        "colab": {
          "base_uri": "https://localhost:8080/",
          "height": 282
        },
        "id": "4qSv-nYiS1Nb",
        "outputId": "2699a90f-2085-43f7-88a8-54880e7b9866"
      },
      "source": [
        "plt.plot(create_random_stage(2021, 11))"
      ],
      "execution_count": 119,
      "outputs": [
        {
          "output_type": "execute_result",
          "data": {
            "text/plain": [
              "[<matplotlib.lines.Line2D at 0x7fb334cd3590>]"
            ]
          },
          "metadata": {},
          "execution_count": 119
        },
        {
          "output_type": "display_data",
          "data": {
            "image/png": "[encoded data removed]",
            "text/plain": [
              "<Figure size 432x288 with 1 Axes>"
            ]
          },
          "metadata": {
            "needs_background": "light"
          }
        }
      ]
    },
    {
      "cell_type": "code",
      "metadata": {
        "colab": {
          "base_uri": "https://localhost:8080/"
        },
        "id": "5hQ3z0XbXaoi",
        "outputId": "6655a95f-eded-4a26-aa20-89a4a67f3556"
      },
      "source": [
        "rain"
      ],
      "execution_count": 121,
      "outputs": [
        {
          "output_type": "execute_result",
          "data": {
            "text/plain": [
              "{(2021, 11, 1): 3,\n",
              " (2021, 11, 2): 5,\n",
              " (2021, 11, 3): 5,\n",
              " (2021, 11, 4): 23,\n",
              " (2021, 11, 5): 10,\n",
              " (2021, 11, 6): 47,\n",
              " (2021, 11, 7): 42,\n",
              " (2021, 11, 8): 19,\n",
              " (2021, 11, 9): 16,\n",
              " (2021, 11, 10): 38,\n",
              " (2021, 11, 11): 13,\n",
              " (2021, 11, 12): 38,\n",
              " (2021, 11, 13): 2,\n",
              " (2021, 11, 14): 37,\n",
              " (2021, 11, 15): 43,\n",
              " (2021, 11, 16): 10,\n",
              " (2021, 11, 17): 27,\n",
              " (2021, 11, 18): 40,\n",
              " (2021, 11, 19): 25,\n",
              " (2021, 11, 20): 46,\n",
              " (2021, 11, 21): 32,\n",
              " (2021, 11, 22): 23,\n",
              " (2021, 11, 23): 34,\n",
              " (2021, 11, 24): 28,\n",
              " (2021, 11, 25): 32,\n",
              " (2021, 11, 26): 17,\n",
              " (2021, 11, 27): 2,\n",
              " (2021, 11, 28): 1,\n",
              " (2021, 11, 29): 23,\n",
              " (2021, 11, 30): 29}"
            ]
          },
          "metadata": {},
          "execution_count": 121
        }
      ]
    },
    {
      "cell_type": "code",
      "metadata": {
        "id": "ouPVqMm6XamH"
      },
      "source": [
        ""
      ],
      "execution_count": null,
      "outputs": []
    },
    {
      "cell_type": "code",
      "metadata": {
        "id": "HwRXBXPoXajs"
      },
      "source": [
        ""
      ],
      "execution_count": null,
      "outputs": []
    },
    {
      "cell_type": "code",
      "metadata": {
        "id": "oM__4BvxXahL"
      },
      "source": [
        ""
      ],
      "execution_count": null,
      "outputs": []
    },
    {
      "cell_type": "code",
      "metadata": {
        "id": "zbBTb9QyXaeq"
      },
      "source": [
        ""
      ],
      "execution_count": null,
      "outputs": []
    },
    {
      "cell_type": "code",
      "metadata": {
        "id": "UaFUaXa4XacK"
      },
      "source": [
        ""
      ],
      "execution_count": null,
      "outputs": []
    },
    {
      "cell_type": "code",
      "metadata": {
        "id": "CLKjYYYxS1GD"
      },
      "source": [
        ""
      ],
      "execution_count": null,
      "outputs": []
    },
    {
      "cell_type": "code",
      "metadata": {
        "id": "g3DtK-ZnV8CS"
      },
      "source": [
        ""
      ],
      "execution_count": null,
      "outputs": []
    },
    {
      "cell_type": "code",
      "metadata": {
        "id": "v0DkVH0XV8AR"
      },
      "source": [
        ""
      ],
      "execution_count": null,
      "outputs": []
    },
    {
      "cell_type": "code",
      "metadata": {
        "id": "qdLTRD8AV795"
      },
      "source": [
        ""
      ],
      "execution_count": null,
      "outputs": []
    },
    {
      "cell_type": "code",
      "metadata": {
        "id": "-TvTkRyvV77a"
      },
      "source": [
        ""
      ],
      "execution_count": null,
      "outputs": []
    },
    {
      "cell_type": "code",
      "metadata": {
        "id": "PKFNKi7doNZC"
      },
      "source": [
        "rain = create_random_rain(2021, 1)"
      ],
      "execution_count": 59,
      "outputs": []
    },
    {
      "cell_type": "code",
      "metadata": {
        "colab": {
          "base_uri": "https://localhost:8080/",
          "height": 1000
        },
        "id": "-nKLIbkNPfb7",
        "outputId": "766f1c3b-8647-4ae7-d92e-ae3e40bd46b5"
      },
      "source": [
        "pd.DataFrame(pd.Series(rain).rename('estacao 1'))"
      ],
      "execution_count": 76,
      "outputs": [
        {
          "output_type": "execute_result",
          "data": {
            "text/html": [
              "<div>\n",
              "<style scoped>\n",
              "    .dataframe tbody tr th:only-of-type {\n",
              "        vertical-align: middle;\n",
              "    }\n",
              "\n",
              "    .dataframe tbody tr th {\n",
              "        vertical-align: top;\n",
              "    }\n",
              "\n",
              "    .dataframe thead th {\n",
              "        text-align: right;\n",
              "    }\n",
              "</style>\n",
              "<table border=\"1\" class=\"dataframe\">\n",
              "  <thead>\n",
              "    <tr style=\"text-align: right;\">\n",
              "      <th></th>\n",
              "      <th></th>\n",
              "      <th></th>\n",
              "      <th>estacao 1</th>\n",
              "    </tr>\n",
              "  </thead>\n",
              "  <tbody>\n",
              "    <tr>\n",
              "      <th rowspan=\"31\" valign=\"top\">2021</th>\n",
              "      <th rowspan=\"31\" valign=\"top\">1</th>\n",
              "      <th>1</th>\n",
              "      <td>61</td>\n",
              "    </tr>\n",
              "    <tr>\n",
              "      <th>2</th>\n",
              "      <td>11</td>\n",
              "    </tr>\n",
              "    <tr>\n",
              "      <th>3</th>\n",
              "      <td>23</td>\n",
              "    </tr>\n",
              "    <tr>\n",
              "      <th>4</th>\n",
              "      <td>40</td>\n",
              "    </tr>\n",
              "    <tr>\n",
              "      <th>5</th>\n",
              "      <td>48</td>\n",
              "    </tr>\n",
              "    <tr>\n",
              "      <th>6</th>\n",
              "      <td>16</td>\n",
              "    </tr>\n",
              "    <tr>\n",
              "      <th>7</th>\n",
              "      <td>3</td>\n",
              "    </tr>\n",
              "    <tr>\n",
              "      <th>8</th>\n",
              "      <td>13</td>\n",
              "    </tr>\n",
              "    <tr>\n",
              "      <th>9</th>\n",
              "      <td>44</td>\n",
              "    </tr>\n",
              "    <tr>\n",
              "      <th>10</th>\n",
              "      <td>21</td>\n",
              "    </tr>\n",
              "    <tr>\n",
              "      <th>11</th>\n",
              "      <td>45</td>\n",
              "    </tr>\n",
              "    <tr>\n",
              "      <th>12</th>\n",
              "      <td>9</td>\n",
              "    </tr>\n",
              "    <tr>\n",
              "      <th>13</th>\n",
              "      <td>93</td>\n",
              "    </tr>\n",
              "    <tr>\n",
              "      <th>14</th>\n",
              "      <td>97</td>\n",
              "    </tr>\n",
              "    <tr>\n",
              "      <th>15</th>\n",
              "      <td>83</td>\n",
              "    </tr>\n",
              "    <tr>\n",
              "      <th>16</th>\n",
              "      <td>55</td>\n",
              "    </tr>\n",
              "    <tr>\n",
              "      <th>17</th>\n",
              "      <td>1</td>\n",
              "    </tr>\n",
              "    <tr>\n",
              "      <th>18</th>\n",
              "      <td>69</td>\n",
              "    </tr>\n",
              "    <tr>\n",
              "      <th>19</th>\n",
              "      <td>41</td>\n",
              "    </tr>\n",
              "    <tr>\n",
              "      <th>20</th>\n",
              "      <td>30</td>\n",
              "    </tr>\n",
              "    <tr>\n",
              "      <th>21</th>\n",
              "      <td>76</td>\n",
              "    </tr>\n",
              "    <tr>\n",
              "      <th>22</th>\n",
              "      <td>49</td>\n",
              "    </tr>\n",
              "    <tr>\n",
              "      <th>23</th>\n",
              "      <td>69</td>\n",
              "    </tr>\n",
              "    <tr>\n",
              "      <th>24</th>\n",
              "      <td>36</td>\n",
              "    </tr>\n",
              "    <tr>\n",
              "      <th>25</th>\n",
              "      <td>60</td>\n",
              "    </tr>\n",
              "    <tr>\n",
              "      <th>26</th>\n",
              "      <td>81</td>\n",
              "    </tr>\n",
              "    <tr>\n",
              "      <th>27</th>\n",
              "      <td>19</td>\n",
              "    </tr>\n",
              "    <tr>\n",
              "      <th>28</th>\n",
              "      <td>46</td>\n",
              "    </tr>\n",
              "    <tr>\n",
              "      <th>29</th>\n",
              "      <td>40</td>\n",
              "    </tr>\n",
              "    <tr>\n",
              "      <th>30</th>\n",
              "      <td>25</td>\n",
              "    </tr>\n",
              "    <tr>\n",
              "      <th>31</th>\n",
              "      <td>63</td>\n",
              "    </tr>\n",
              "  </tbody>\n",
              "</table>\n",
              "</div>"
            ],
            "text/plain": [
              "           estacao 1\n",
              "2021 1 1          61\n",
              "       2          11\n",
              "       3          23\n",
              "       4          40\n",
              "       5          48\n",
              "       6          16\n",
              "       7           3\n",
              "       8          13\n",
              "       9          44\n",
              "       10         21\n",
              "       11         45\n",
              "       12          9\n",
              "       13         93\n",
              "       14         97\n",
              "       15         83\n",
              "       16         55\n",
              "       17          1\n",
              "       18         69\n",
              "       19         41\n",
              "       20         30\n",
              "       21         76\n",
              "       22         49\n",
              "       23         69\n",
              "       24         36\n",
              "       25         60\n",
              "       26         81\n",
              "       27         19\n",
              "       28         46\n",
              "       29         40\n",
              "       30         25\n",
              "       31         63"
            ]
          },
          "metadata": {},
          "execution_count": 76
        }
      ]
    },
    {
      "cell_type": "code",
      "metadata": {
        "id": "VbF8jh6uPqSA"
      },
      "source": [
        "idx = pd.MultiIndex.from_tuples(rain.keys(), names=['year', 'month', 'day'])"
      ],
      "execution_count": 67,
      "outputs": []
    },
    {
      "cell_type": "code",
      "metadata": {
        "colab": {
          "base_uri": "https://localhost:8080/",
          "height": 303
        },
        "id": "vpVf7Fd-QkF6",
        "outputId": "36ddd8ab-95da-450f-c1b0-7d644e21cb99"
      },
      "source": [
        "pd.DataFrame(rain,)"
      ],
      "execution_count": 74,
      "outputs": [
        {
          "output_type": "error",
          "ename": "ValueError",
          "evalue": "ignored",
          "traceback": [
            "\u001b[0;31m---------------------------------------------------------------------------\u001b[0m",
            "\u001b[0;31mValueError\u001b[0m                                Traceback (most recent call last)",
            "\u001b[0;32m<ipython-input-74-97a361104e8a>\u001b[0m in \u001b[0;36m<module>\u001b[0;34m()\u001b[0m\n\u001b[0;32m----> 1\u001b[0;31m \u001b[0mpd\u001b[0m\u001b[0;34m.\u001b[0m\u001b[0mDataFrame\u001b[0m\u001b[0;34m(\u001b[0m\u001b[0mrain\u001b[0m\u001b[0;34m,\u001b[0m \u001b[0mcolumns\u001b[0m\u001b[0;34m=\u001b[0m\u001b[0midx\u001b[0m\u001b[0;34m)\u001b[0m\u001b[0;34m\u001b[0m\u001b[0;34m\u001b[0m\u001b[0m\n\u001b[0m",
            "\u001b[0;32m/usr/local/lib/python3.7/dist-packages/pandas/core/frame.py\u001b[0m in \u001b[0;36m__init__\u001b[0;34m(self, data, index, columns, dtype, copy)\u001b[0m\n\u001b[1;32m    466\u001b[0m \u001b[0;34m\u001b[0m\u001b[0m\n\u001b[1;32m    467\u001b[0m         \u001b[0;32melif\u001b[0m \u001b[0misinstance\u001b[0m\u001b[0;34m(\u001b[0m\u001b[0mdata\u001b[0m\u001b[0;34m,\u001b[0m \u001b[0mdict\u001b[0m\u001b[0;34m)\u001b[0m\u001b[0;34m:\u001b[0m\u001b[0;34m\u001b[0m\u001b[0;34m\u001b[0m\u001b[0m\n\u001b[0;32m--> 468\u001b[0;31m             \u001b[0mmgr\u001b[0m \u001b[0;34m=\u001b[0m \u001b[0minit_dict\u001b[0m\u001b[0;34m(\u001b[0m\u001b[0mdata\u001b[0m\u001b[0;34m,\u001b[0m \u001b[0mindex\u001b[0m\u001b[0;34m,\u001b[0m \u001b[0mcolumns\u001b[0m\u001b[0;34m,\u001b[0m \u001b[0mdtype\u001b[0m\u001b[0;34m=\u001b[0m\u001b[0mdtype\u001b[0m\u001b[0;34m)\u001b[0m\u001b[0;34m\u001b[0m\u001b[0;34m\u001b[0m\u001b[0m\n\u001b[0m\u001b[1;32m    469\u001b[0m         \u001b[0;32melif\u001b[0m \u001b[0misinstance\u001b[0m\u001b[0;34m(\u001b[0m\u001b[0mdata\u001b[0m\u001b[0;34m,\u001b[0m \u001b[0mma\u001b[0m\u001b[0;34m.\u001b[0m\u001b[0mMaskedArray\u001b[0m\u001b[0;34m)\u001b[0m\u001b[0;34m:\u001b[0m\u001b[0;34m\u001b[0m\u001b[0;34m\u001b[0m\u001b[0m\n\u001b[1;32m    470\u001b[0m             \u001b[0;32mimport\u001b[0m \u001b[0mnumpy\u001b[0m\u001b[0;34m.\u001b[0m\u001b[0mma\u001b[0m\u001b[0;34m.\u001b[0m\u001b[0mmrecords\u001b[0m \u001b[0;32mas\u001b[0m \u001b[0mmrecords\u001b[0m\u001b[0;34m\u001b[0m\u001b[0;34m\u001b[0m\u001b[0m\n",
            "\u001b[0;32m/usr/local/lib/python3.7/dist-packages/pandas/core/internals/construction.py\u001b[0m in \u001b[0;36minit_dict\u001b[0;34m(data, index, columns, dtype)\u001b[0m\n\u001b[1;32m    252\u001b[0m             \u001b[0;31m# GH10856\u001b[0m\u001b[0;34m\u001b[0m\u001b[0;34m\u001b[0m\u001b[0;34m\u001b[0m\u001b[0m\n\u001b[1;32m    253\u001b[0m             \u001b[0;31m# raise ValueError if only scalars in dict\u001b[0m\u001b[0;34m\u001b[0m\u001b[0;34m\u001b[0m\u001b[0;34m\u001b[0m\u001b[0m\n\u001b[0;32m--> 254\u001b[0;31m             \u001b[0mindex\u001b[0m \u001b[0;34m=\u001b[0m \u001b[0mextract_index\u001b[0m\u001b[0;34m(\u001b[0m\u001b[0marrays\u001b[0m\u001b[0;34m[\u001b[0m\u001b[0;34m~\u001b[0m\u001b[0mmissing\u001b[0m\u001b[0;34m]\u001b[0m\u001b[0;34m)\u001b[0m\u001b[0;34m\u001b[0m\u001b[0;34m\u001b[0m\u001b[0m\n\u001b[0m\u001b[1;32m    255\u001b[0m         \u001b[0;32melse\u001b[0m\u001b[0;34m:\u001b[0m\u001b[0;34m\u001b[0m\u001b[0;34m\u001b[0m\u001b[0m\n\u001b[1;32m    256\u001b[0m             \u001b[0mindex\u001b[0m \u001b[0;34m=\u001b[0m \u001b[0mensure_index\u001b[0m\u001b[0;34m(\u001b[0m\u001b[0mindex\u001b[0m\u001b[0;34m)\u001b[0m\u001b[0;34m\u001b[0m\u001b[0;34m\u001b[0m\u001b[0m\n",
            "\u001b[0;32m/usr/local/lib/python3.7/dist-packages/pandas/core/internals/construction.py\u001b[0m in \u001b[0;36mextract_index\u001b[0;34m(data)\u001b[0m\n\u001b[1;32m    385\u001b[0m \u001b[0;34m\u001b[0m\u001b[0m\n\u001b[1;32m    386\u001b[0m         \u001b[0;32mif\u001b[0m \u001b[0;32mnot\u001b[0m \u001b[0mindexes\u001b[0m \u001b[0;32mand\u001b[0m \u001b[0;32mnot\u001b[0m \u001b[0mraw_lengths\u001b[0m\u001b[0;34m:\u001b[0m\u001b[0;34m\u001b[0m\u001b[0;34m\u001b[0m\u001b[0m\n\u001b[0;32m--> 387\u001b[0;31m             \u001b[0;32mraise\u001b[0m \u001b[0mValueError\u001b[0m\u001b[0;34m(\u001b[0m\u001b[0;34m\"If using all scalar values, you must pass an index\"\u001b[0m\u001b[0;34m)\u001b[0m\u001b[0;34m\u001b[0m\u001b[0;34m\u001b[0m\u001b[0m\n\u001b[0m\u001b[1;32m    388\u001b[0m \u001b[0;34m\u001b[0m\u001b[0m\n\u001b[1;32m    389\u001b[0m         \u001b[0;32mif\u001b[0m \u001b[0mhave_series\u001b[0m\u001b[0;34m:\u001b[0m\u001b[0;34m\u001b[0m\u001b[0;34m\u001b[0m\u001b[0m\n",
            "\u001b[0;31mValueError\u001b[0m: If using all scalar values, you must pass an index"
          ]
        }
      ]
    },
    {
      "cell_type": "code",
      "metadata": {
        "colab": {
          "base_uri": "https://localhost:8080/",
          "height": 1000
        },
        "id": "5fAE7YbGQDDx",
        "outputId": "ed2d810c-db6c-4eb8-81c2-364c0502ac5e"
      },
      "source": [
        "pd.DataFrame.from_dict(rain, orient='index')"
      ],
      "execution_count": 71,
      "outputs": [
        {
          "output_type": "execute_result",
          "data": {
            "text/html": [
              "<div>\n",
              "<style scoped>\n",
              "    .dataframe tbody tr th:only-of-type {\n",
              "        vertical-align: middle;\n",
              "    }\n",
              "\n",
              "    .dataframe tbody tr th {\n",
              "        vertical-align: top;\n",
              "    }\n",
              "\n",
              "    .dataframe thead th {\n",
              "        text-align: right;\n",
              "    }\n",
              "</style>\n",
              "<table border=\"1\" class=\"dataframe\">\n",
              "  <thead>\n",
              "    <tr style=\"text-align: right;\">\n",
              "      <th></th>\n",
              "      <th>0</th>\n",
              "    </tr>\n",
              "  </thead>\n",
              "  <tbody>\n",
              "    <tr>\n",
              "      <th>(2021, 1, 1)</th>\n",
              "      <td>61</td>\n",
              "    </tr>\n",
              "    <tr>\n",
              "      <th>(2021, 1, 2)</th>\n",
              "      <td>11</td>\n",
              "    </tr>\n",
              "    <tr>\n",
              "      <th>(2021, 1, 3)</th>\n",
              "      <td>23</td>\n",
              "    </tr>\n",
              "    <tr>\n",
              "      <th>(2021, 1, 4)</th>\n",
              "      <td>40</td>\n",
              "    </tr>\n",
              "    <tr>\n",
              "      <th>(2021, 1, 5)</th>\n",
              "      <td>48</td>\n",
              "    </tr>\n",
              "    <tr>\n",
              "      <th>(2021, 1, 6)</th>\n",
              "      <td>16</td>\n",
              "    </tr>\n",
              "    <tr>\n",
              "      <th>(2021, 1, 7)</th>\n",
              "      <td>3</td>\n",
              "    </tr>\n",
              "    <tr>\n",
              "      <th>(2021, 1, 8)</th>\n",
              "      <td>13</td>\n",
              "    </tr>\n",
              "    <tr>\n",
              "      <th>(2021, 1, 9)</th>\n",
              "      <td>44</td>\n",
              "    </tr>\n",
              "    <tr>\n",
              "      <th>(2021, 1, 10)</th>\n",
              "      <td>21</td>\n",
              "    </tr>\n",
              "    <tr>\n",
              "      <th>(2021, 1, 11)</th>\n",
              "      <td>45</td>\n",
              "    </tr>\n",
              "    <tr>\n",
              "      <th>(2021, 1, 12)</th>\n",
              "      <td>9</td>\n",
              "    </tr>\n",
              "    <tr>\n",
              "      <th>(2021, 1, 13)</th>\n",
              "      <td>93</td>\n",
              "    </tr>\n",
              "    <tr>\n",
              "      <th>(2021, 1, 14)</th>\n",
              "      <td>97</td>\n",
              "    </tr>\n",
              "    <tr>\n",
              "      <th>(2021, 1, 15)</th>\n",
              "      <td>83</td>\n",
              "    </tr>\n",
              "    <tr>\n",
              "      <th>(2021, 1, 16)</th>\n",
              "      <td>55</td>\n",
              "    </tr>\n",
              "    <tr>\n",
              "      <th>(2021, 1, 17)</th>\n",
              "      <td>1</td>\n",
              "    </tr>\n",
              "    <tr>\n",
              "      <th>(2021, 1, 18)</th>\n",
              "      <td>69</td>\n",
              "    </tr>\n",
              "    <tr>\n",
              "      <th>(2021, 1, 19)</th>\n",
              "      <td>41</td>\n",
              "    </tr>\n",
              "    <tr>\n",
              "      <th>(2021, 1, 20)</th>\n",
              "      <td>30</td>\n",
              "    </tr>\n",
              "    <tr>\n",
              "      <th>(2021, 1, 21)</th>\n",
              "      <td>76</td>\n",
              "    </tr>\n",
              "    <tr>\n",
              "      <th>(2021, 1, 22)</th>\n",
              "      <td>49</td>\n",
              "    </tr>\n",
              "    <tr>\n",
              "      <th>(2021, 1, 23)</th>\n",
              "      <td>69</td>\n",
              "    </tr>\n",
              "    <tr>\n",
              "      <th>(2021, 1, 24)</th>\n",
              "      <td>36</td>\n",
              "    </tr>\n",
              "    <tr>\n",
              "      <th>(2021, 1, 25)</th>\n",
              "      <td>60</td>\n",
              "    </tr>\n",
              "    <tr>\n",
              "      <th>(2021, 1, 26)</th>\n",
              "      <td>81</td>\n",
              "    </tr>\n",
              "    <tr>\n",
              "      <th>(2021, 1, 27)</th>\n",
              "      <td>19</td>\n",
              "    </tr>\n",
              "    <tr>\n",
              "      <th>(2021, 1, 28)</th>\n",
              "      <td>46</td>\n",
              "    </tr>\n",
              "    <tr>\n",
              "      <th>(2021, 1, 29)</th>\n",
              "      <td>40</td>\n",
              "    </tr>\n",
              "    <tr>\n",
              "      <th>(2021, 1, 30)</th>\n",
              "      <td>25</td>\n",
              "    </tr>\n",
              "    <tr>\n",
              "      <th>(2021, 1, 31)</th>\n",
              "      <td>63</td>\n",
              "    </tr>\n",
              "  </tbody>\n",
              "</table>\n",
              "</div>"
            ],
            "text/plain": [
              "                0\n",
              "(2021, 1, 1)   61\n",
              "(2021, 1, 2)   11\n",
              "(2021, 1, 3)   23\n",
              "(2021, 1, 4)   40\n",
              "(2021, 1, 5)   48\n",
              "(2021, 1, 6)   16\n",
              "(2021, 1, 7)    3\n",
              "(2021, 1, 8)   13\n",
              "(2021, 1, 9)   44\n",
              "(2021, 1, 10)  21\n",
              "(2021, 1, 11)  45\n",
              "(2021, 1, 12)   9\n",
              "(2021, 1, 13)  93\n",
              "(2021, 1, 14)  97\n",
              "(2021, 1, 15)  83\n",
              "(2021, 1, 16)  55\n",
              "(2021, 1, 17)   1\n",
              "(2021, 1, 18)  69\n",
              "(2021, 1, 19)  41\n",
              "(2021, 1, 20)  30\n",
              "(2021, 1, 21)  76\n",
              "(2021, 1, 22)  49\n",
              "(2021, 1, 23)  69\n",
              "(2021, 1, 24)  36\n",
              "(2021, 1, 25)  60\n",
              "(2021, 1, 26)  81\n",
              "(2021, 1, 27)  19\n",
              "(2021, 1, 28)  46\n",
              "(2021, 1, 29)  40\n",
              "(2021, 1, 30)  25\n",
              "(2021, 1, 31)  63"
            ]
          },
          "metadata": {},
          "execution_count": 71
        }
      ]
    },
    {
      "cell_type": "code",
      "metadata": {
        "colab": {
          "base_uri": "https://localhost:8080/",
          "height": 320
        },
        "id": "jTWLYbUvoNVs",
        "outputId": "23fe10a1-8e11-4060-8055-1c291e9d738b"
      },
      "source": [
        "import pandas as pd\n",
        "pd.DataFrame(rain)"
      ],
      "execution_count": 61,
      "outputs": [
        {
          "output_type": "error",
          "ename": "ValueError",
          "evalue": "ignored",
          "traceback": [
            "\u001b[0;31m---------------------------------------------------------------------------\u001b[0m",
            "\u001b[0;31mValueError\u001b[0m                                Traceback (most recent call last)",
            "\u001b[0;32m<ipython-input-61-8ac9ef5ddf65>\u001b[0m in \u001b[0;36m<module>\u001b[0;34m()\u001b[0m\n\u001b[1;32m      1\u001b[0m \u001b[0;32mimport\u001b[0m \u001b[0mpandas\u001b[0m \u001b[0;32mas\u001b[0m \u001b[0mpd\u001b[0m\u001b[0;34m\u001b[0m\u001b[0;34m\u001b[0m\u001b[0m\n\u001b[0;32m----> 2\u001b[0;31m \u001b[0mpd\u001b[0m\u001b[0;34m.\u001b[0m\u001b[0mDataFrame\u001b[0m\u001b[0;34m(\u001b[0m\u001b[0mrain\u001b[0m\u001b[0;34m)\u001b[0m\u001b[0;34m\u001b[0m\u001b[0;34m\u001b[0m\u001b[0m\n\u001b[0m",
            "\u001b[0;32m/usr/local/lib/python3.7/dist-packages/pandas/core/frame.py\u001b[0m in \u001b[0;36m__init__\u001b[0;34m(self, data, index, columns, dtype, copy)\u001b[0m\n\u001b[1;32m    466\u001b[0m \u001b[0;34m\u001b[0m\u001b[0m\n\u001b[1;32m    467\u001b[0m         \u001b[0;32melif\u001b[0m \u001b[0misinstance\u001b[0m\u001b[0;34m(\u001b[0m\u001b[0mdata\u001b[0m\u001b[0;34m,\u001b[0m \u001b[0mdict\u001b[0m\u001b[0;34m)\u001b[0m\u001b[0;34m:\u001b[0m\u001b[0;34m\u001b[0m\u001b[0;34m\u001b[0m\u001b[0m\n\u001b[0;32m--> 468\u001b[0;31m             \u001b[0mmgr\u001b[0m \u001b[0;34m=\u001b[0m \u001b[0minit_dict\u001b[0m\u001b[0;34m(\u001b[0m\u001b[0mdata\u001b[0m\u001b[0;34m,\u001b[0m \u001b[0mindex\u001b[0m\u001b[0;34m,\u001b[0m \u001b[0mcolumns\u001b[0m\u001b[0;34m,\u001b[0m \u001b[0mdtype\u001b[0m\u001b[0;34m=\u001b[0m\u001b[0mdtype\u001b[0m\u001b[0;34m)\u001b[0m\u001b[0;34m\u001b[0m\u001b[0;34m\u001b[0m\u001b[0m\n\u001b[0m\u001b[1;32m    469\u001b[0m         \u001b[0;32melif\u001b[0m \u001b[0misinstance\u001b[0m\u001b[0;34m(\u001b[0m\u001b[0mdata\u001b[0m\u001b[0;34m,\u001b[0m \u001b[0mma\u001b[0m\u001b[0;34m.\u001b[0m\u001b[0mMaskedArray\u001b[0m\u001b[0;34m)\u001b[0m\u001b[0;34m:\u001b[0m\u001b[0;34m\u001b[0m\u001b[0;34m\u001b[0m\u001b[0m\n\u001b[1;32m    470\u001b[0m             \u001b[0;32mimport\u001b[0m \u001b[0mnumpy\u001b[0m\u001b[0;34m.\u001b[0m\u001b[0mma\u001b[0m\u001b[0;34m.\u001b[0m\u001b[0mmrecords\u001b[0m \u001b[0;32mas\u001b[0m \u001b[0mmrecords\u001b[0m\u001b[0;34m\u001b[0m\u001b[0;34m\u001b[0m\u001b[0m\n",
            "\u001b[0;32m/usr/local/lib/python3.7/dist-packages/pandas/core/internals/construction.py\u001b[0m in \u001b[0;36minit_dict\u001b[0;34m(data, index, columns, dtype)\u001b[0m\n\u001b[1;32m    281\u001b[0m             \u001b[0marr\u001b[0m \u001b[0;32mif\u001b[0m \u001b[0;32mnot\u001b[0m \u001b[0mis_datetime64tz_dtype\u001b[0m\u001b[0;34m(\u001b[0m\u001b[0marr\u001b[0m\u001b[0;34m)\u001b[0m \u001b[0;32melse\u001b[0m \u001b[0marr\u001b[0m\u001b[0;34m.\u001b[0m\u001b[0mcopy\u001b[0m\u001b[0;34m(\u001b[0m\u001b[0;34m)\u001b[0m \u001b[0;32mfor\u001b[0m \u001b[0marr\u001b[0m \u001b[0;32min\u001b[0m \u001b[0marrays\u001b[0m\u001b[0;34m\u001b[0m\u001b[0;34m\u001b[0m\u001b[0m\n\u001b[1;32m    282\u001b[0m         ]\n\u001b[0;32m--> 283\u001b[0;31m     \u001b[0;32mreturn\u001b[0m \u001b[0marrays_to_mgr\u001b[0m\u001b[0;34m(\u001b[0m\u001b[0marrays\u001b[0m\u001b[0;34m,\u001b[0m \u001b[0mdata_names\u001b[0m\u001b[0;34m,\u001b[0m \u001b[0mindex\u001b[0m\u001b[0;34m,\u001b[0m \u001b[0mcolumns\u001b[0m\u001b[0;34m,\u001b[0m \u001b[0mdtype\u001b[0m\u001b[0;34m=\u001b[0m\u001b[0mdtype\u001b[0m\u001b[0;34m)\u001b[0m\u001b[0;34m\u001b[0m\u001b[0;34m\u001b[0m\u001b[0m\n\u001b[0m\u001b[1;32m    284\u001b[0m \u001b[0;34m\u001b[0m\u001b[0m\n\u001b[1;32m    285\u001b[0m \u001b[0;34m\u001b[0m\u001b[0m\n",
            "\u001b[0;32m/usr/local/lib/python3.7/dist-packages/pandas/core/internals/construction.py\u001b[0m in \u001b[0;36marrays_to_mgr\u001b[0;34m(arrays, arr_names, index, columns, dtype, verify_integrity)\u001b[0m\n\u001b[1;32m     76\u001b[0m         \u001b[0;31m# figure out the index, if necessary\u001b[0m\u001b[0;34m\u001b[0m\u001b[0;34m\u001b[0m\u001b[0;34m\u001b[0m\u001b[0m\n\u001b[1;32m     77\u001b[0m         \u001b[0;32mif\u001b[0m \u001b[0mindex\u001b[0m \u001b[0;32mis\u001b[0m \u001b[0;32mNone\u001b[0m\u001b[0;34m:\u001b[0m\u001b[0;34m\u001b[0m\u001b[0;34m\u001b[0m\u001b[0m\n\u001b[0;32m---> 78\u001b[0;31m             \u001b[0mindex\u001b[0m \u001b[0;34m=\u001b[0m \u001b[0mextract_index\u001b[0m\u001b[0;34m(\u001b[0m\u001b[0marrays\u001b[0m\u001b[0;34m)\u001b[0m\u001b[0;34m\u001b[0m\u001b[0;34m\u001b[0m\u001b[0m\n\u001b[0m\u001b[1;32m     79\u001b[0m         \u001b[0;32melse\u001b[0m\u001b[0;34m:\u001b[0m\u001b[0;34m\u001b[0m\u001b[0;34m\u001b[0m\u001b[0m\n\u001b[1;32m     80\u001b[0m             \u001b[0mindex\u001b[0m \u001b[0;34m=\u001b[0m \u001b[0mensure_index\u001b[0m\u001b[0;34m(\u001b[0m\u001b[0mindex\u001b[0m\u001b[0;34m)\u001b[0m\u001b[0;34m\u001b[0m\u001b[0;34m\u001b[0m\u001b[0m\n",
            "\u001b[0;32m/usr/local/lib/python3.7/dist-packages/pandas/core/internals/construction.py\u001b[0m in \u001b[0;36mextract_index\u001b[0;34m(data)\u001b[0m\n\u001b[1;32m    385\u001b[0m \u001b[0;34m\u001b[0m\u001b[0m\n\u001b[1;32m    386\u001b[0m         \u001b[0;32mif\u001b[0m \u001b[0;32mnot\u001b[0m \u001b[0mindexes\u001b[0m \u001b[0;32mand\u001b[0m \u001b[0;32mnot\u001b[0m \u001b[0mraw_lengths\u001b[0m\u001b[0;34m:\u001b[0m\u001b[0;34m\u001b[0m\u001b[0;34m\u001b[0m\u001b[0m\n\u001b[0;32m--> 387\u001b[0;31m             \u001b[0;32mraise\u001b[0m \u001b[0mValueError\u001b[0m\u001b[0;34m(\u001b[0m\u001b[0;34m\"If using all scalar values, you must pass an index\"\u001b[0m\u001b[0;34m)\u001b[0m\u001b[0;34m\u001b[0m\u001b[0;34m\u001b[0m\u001b[0m\n\u001b[0m\u001b[1;32m    388\u001b[0m \u001b[0;34m\u001b[0m\u001b[0m\n\u001b[1;32m    389\u001b[0m         \u001b[0;32mif\u001b[0m \u001b[0mhave_series\u001b[0m\u001b[0;34m:\u001b[0m\u001b[0;34m\u001b[0m\u001b[0;34m\u001b[0m\u001b[0m\n",
            "\u001b[0;31mValueError\u001b[0m: If using all scalar values, you must pass an index"
          ]
        }
      ]
    },
    {
      "cell_type": "code",
      "metadata": {
        "id": "hIGPDDwOoNSl"
      },
      "source": [
        ""
      ],
      "execution_count": null,
      "outputs": []
    },
    {
      "cell_type": "code",
      "metadata": {
        "id": "q88lLPpxoNHv"
      },
      "source": [
        ""
      ],
      "execution_count": null,
      "outputs": []
    },
    {
      "cell_type": "code",
      "metadata": {
        "id": "sbxWTH-C_vWe"
      },
      "source": [
        "df = pd.DataFrame.from_dict(data, orient=\"index\").stack().to_frame()\n",
        "df = pd.DataFrame(df[0].values.tolist(), index=df.index)\n",
        "df"
      ],
      "execution_count": null,
      "outputs": []
    },
    {
      "cell_type": "code",
      "metadata": {
        "id": "aNZYtqsj_0WJ"
      },
      "source": [
        "data = {}\n",
        "for station in stations:\n",
        "    daily_rain = []\n",
        "    river_stage = [100]\n",
        "    for _ in range(31):\n",
        "        daily_rain.append(random.randint(0, 100))\n",
        "        river_stage.append(river_stage[-1] + random.randint(-1,1))\n",
        "\n",
        "\n",
        "    # data.update({station: station_data})    \n",
        "    data[station] = daily_rain\n",
        "\n",
        "str(data)"
      ],
      "execution_count": null,
      "outputs": []
    },
    {
      "cell_type": "code",
      "metadata": {
        "id": "mR75Ml4M_4z2"
      },
      "source": [
        "pd.DataFrame(data, index=range(1, 32))"
      ],
      "execution_count": null,
      "outputs": []
    },
    {
      "cell_type": "code",
      "metadata": {
        "id": "hKao91OYc0MX"
      },
      "source": [
        ""
      ],
      "execution_count": null,
      "outputs": []
    }
  ]
}