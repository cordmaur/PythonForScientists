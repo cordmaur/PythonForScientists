{
  "nbformat": 4,
  "nbformat_minor": 0,
  "metadata": {
    "colab": {
      "name": "Python4Scientists_Lesson2.ipynb",
      "provenance": [],
      "toc_visible": true,
      "authorship_tag": "ABX9TyNs0aPFCqFES3aolDXuWEXh",
      "include_colab_link": true
    },
    "kernelspec": {
      "name": "python3",
      "display_name": "Python 3"
    },
    "language_info": {
      "name": "python"
    }
  },
  "cells": [
    {
      "cell_type": "markdown",
      "metadata": {
        "id": "view-in-github",
        "colab_type": "text"
      },
      "source": [
        "<a href=\"https://colab.research.google.com/github/cordmaur/PythonForScientists/blob/main/Python4Scientists_Lesson2.ipynb\" target=\"_parent\"><img src=\"https://colab.research.google.com/assets/colab-badge.svg\" alt=\"Open In Colab\"/></a>"
      ]
    },
    {
      "cell_type": "markdown",
      "metadata": {
        "id": "jHgaiX0MablB"
      },
      "source": [
        "# Introduction to Python for Scientists - Lesson 2"
      ]
    },
    {
      "cell_type": "markdown",
      "metadata": {
        "id": "lSLEXTQmaiUI"
      },
      "source": [
        "## Exercises solution"
      ]
    },
    {
      "cell_type": "code",
      "metadata": {
        "colab": {
          "base_uri": "https://localhost:8080/"
        },
        "id": "rcyNImirgolt",
        "outputId": "4ffd68f5-0bb2-4b53-d527-6758353153cb"
      },
      "source": [
        "import random\n",
        "# create the days and daily rain\n",
        "random.seed(1)\n",
        "\n",
        "daily_rain = []\n",
        "day_of_month = []\n",
        "\n",
        "for i in range(1, 32, 1):\n",
        "    day_of_month.append(i)\n",
        "    daily_rain.append(random.randint(0, 100))\n",
        "\n",
        "str(day_of_month), str(daily_rain)"
      ],
      "execution_count": null,
      "outputs": [
        {
          "output_type": "execute_result",
          "data": {
            "text/plain": [
              "('[1, 2, 3, 4, 5, 6, 7, 8, 9, 10, 11, 12, 13, 14, 15, 16, 17, 18, 19, 20, 21, 22, 23, 24, 25, 26, 27, 28, 29, 30, 31]',\n",
              " '[17, 72, 97, 8, 32, 15, 63, 97, 57, 60, 83, 48, 100, 26, 12, 62, 3, 49, 55, 77, 97, 98, 0, 89, 57, 34, 92, 29, 75, 13, 40]')"
            ]
          },
          "metadata": {},
          "execution_count": 1
        }
      ]
    },
    {
      "cell_type": "code",
      "metadata": {
        "colab": {
          "base_uri": "https://localhost:8080/",
          "height": 554
        },
        "id": "EbYm-tvvgojV",
        "outputId": "077e200e-7870-429d-fe21-55a6559a56a5"
      },
      "source": [
        "import matplotlib.pyplot as plt\n",
        "plt.figure(figsize=(18, 9))\n",
        "plt.bar(day_of_month, daily_rain)"
      ],
      "execution_count": null,
      "outputs": [
        {
          "output_type": "execute_result",
          "data": {
            "text/plain": [
              "<BarContainer object of 31 artists>"
            ]
          },
          "metadata": {},
          "execution_count": 2
        },
        {
          "output_type": "display_data",
          "data": {
            "image/png": "[encoded data removed]",
            "text/plain": [
              "<Figure size 1296x648 with 1 Axes>"
            ]
          },
          "metadata": {
            "needs_background": "light"
          }
        }
      ]
    },
    {
      "cell_type": "markdown",
      "metadata": {
        "id": "YFXTAHQ-gy4H"
      },
      "source": [
        "Answer these questions:\n",
        "* number of days with rain\n",
        "* day of the maximum rain and day of the minimum rain\n",
        "* total rain\n",
        "* mean rain\n",
        "* <b>Challenge:</b> order the <b>days</b> according to the rain precipitation. Descending order (from highest to lowest). Ex: [12, 7, ...]"
      ]
    },
    {
      "cell_type": "code",
      "metadata": {
        "colab": {
          "base_uri": "https://localhost:8080/"
        },
        "id": "3k2kV4T-mCrg",
        "outputId": "906e5a73-b66e-475f-93f9-6f40d3b8bbed"
      },
      "source": [
        "days_with_rain = 0\n",
        "for rain in daily_rain:\n",
        "    if rain > 0:\n",
        "        days_with_rain += 1\n",
        "days_with_rain"
      ],
      "execution_count": null,
      "outputs": [
        {
          "output_type": "execute_result",
          "data": {
            "text/plain": [
              "30"
            ]
          },
          "metadata": {},
          "execution_count": 3
        }
      ]
    },
    {
      "cell_type": "code",
      "metadata": {
        "colab": {
          "base_uri": "https://localhost:8080/"
        },
        "id": "RD_JMveQmWLv",
        "outputId": "3506d16b-e72e-4905-f8f6-57599def5424"
      },
      "source": [
        "max_rain = 0\n",
        "day_of_max = 0\n",
        "\n",
        "min_rain = 99999\n",
        "day_of_min = 0\n",
        "\n",
        "for day, rain in zip(day_of_month, daily_rain):\n",
        "    if rain > max_rain:\n",
        "        max_rain = rain\n",
        "        day_of_max = day\n",
        "    \n",
        "    if rain < min_rain:\n",
        "        min_rain = rain\n",
        "        day_of_min = day\n",
        "\n",
        "\n",
        "day_of_max, day_of_min\n",
        "\n",
        "\n",
        "# import sys\n",
        "# print(sys.maxint)\n"
      ],
      "execution_count": null,
      "outputs": [
        {
          "output_type": "execute_result",
          "data": {
            "text/plain": [
              "(13, 23)"
            ]
          },
          "metadata": {},
          "execution_count": 4
        }
      ]
    },
    {
      "cell_type": "code",
      "metadata": {
        "colab": {
          "base_uri": "https://localhost:8080/"
        },
        "id": "Buly7otVmWJQ",
        "outputId": "5424f60a-b1ad-462a-ce9c-ba525698ab50"
      },
      "source": [
        "total_rain = 0\n",
        "for rain in daily_rain:\n",
        "    total_rain += rain\n",
        "total_rain"
      ],
      "execution_count": null,
      "outputs": [
        {
          "output_type": "execute_result",
          "data": {
            "text/plain": [
              "1657"
            ]
          },
          "metadata": {},
          "execution_count": 5
        }
      ]
    },
    {
      "cell_type": "code",
      "metadata": {
        "colab": {
          "base_uri": "https://localhost:8080/"
        },
        "id": "Ed9r068nmWGl",
        "outputId": "75114fc1-b5d1-4e2c-c079-bc06b98c5dc5"
      },
      "source": [
        "mean_rain = total_rain / len(daily_rain)\n",
        "mean_rain"
      ],
      "execution_count": null,
      "outputs": [
        {
          "output_type": "execute_result",
          "data": {
            "text/plain": [
              "53.45161290322581"
            ]
          },
          "metadata": {},
          "execution_count": 6
        }
      ]
    },
    {
      "cell_type": "code",
      "metadata": {
        "colab": {
          "base_uri": "https://localhost:8080/"
        },
        "id": "ANZ2iRSXowfH",
        "outputId": "6fe4504f-5c25-41fa-b676-bc5cb90aeb45"
      },
      "source": [
        "sorted_rain = daily_rain.copy()\n",
        "\n",
        "print('Original list')\n",
        "print(sorted_rain)\n",
        "\n",
        "for i in range(len(sorted_rain)):\n",
        "    for j in range(i+1, len(sorted_rain)):\n",
        "        if sorted_rain[j] < sorted_rain[i]:\n",
        "\n",
        "            print(f'swapping i={i}({sorted_rain[i]}) with j={j}({sorted_rain[j]})')\n",
        "\n",
        "            temp = sorted_rain[i]\n",
        "            sorted_rain[i] = sorted_rain[j]\n",
        "            sorted_rain[j] = temp\n",
        "            print(sorted_rain)\n",
        "    \n",
        "    print('End of first pass')\n",
        "print('\\n Final list')\n",
        "print(sorted_rain)"
      ],
      "execution_count": null,
      "outputs": [
        {
          "output_type": "stream",
          "name": "stdout",
          "text": [
            "Original list\n",
            "[17, 72, 97, 8, 32, 15, 63, 97, 57, 60, 83, 48, 100, 26, 12, 62, 3, 49, 55, 77, 97, 98, 0, 89, 57, 34, 92, 29, 75, 13, 40]\n",
            "swapping i=0(17) with j=3(8)\n",
            "[8, 72, 97, 17, 32, 15, 63, 97, 57, 60, 83, 48, 100, 26, 12, 62, 3, 49, 55, 77, 97, 98, 0, 89, 57, 34, 92, 29, 75, 13, 40]\n",
            "swapping i=0(8) with j=16(3)\n",
            "[3, 72, 97, 17, 32, 15, 63, 97, 57, 60, 83, 48, 100, 26, 12, 62, 8, 49, 55, 77, 97, 98, 0, 89, 57, 34, 92, 29, 75, 13, 40]\n",
            "swapping i=0(3) with j=22(0)\n",
            "[0, 72, 97, 17, 32, 15, 63, 97, 57, 60, 83, 48, 100, 26, 12, 62, 8, 49, 55, 77, 97, 98, 3, 89, 57, 34, 92, 29, 75, 13, 40]\n",
            "End of first pass\n",
            "swapping i=1(72) with j=3(17)\n",
            "[0, 17, 97, 72, 32, 15, 63, 97, 57, 60, 83, 48, 100, 26, 12, 62, 8, 49, 55, 77, 97, 98, 3, 89, 57, 34, 92, 29, 75, 13, 40]\n",
            "swapping i=1(17) with j=5(15)\n",
            "[0, 15, 97, 72, 32, 17, 63, 97, 57, 60, 83, 48, 100, 26, 12, 62, 8, 49, 55, 77, 97, 98, 3, 89, 57, 34, 92, 29, 75, 13, 40]\n",
            "swapping i=1(15) with j=14(12)\n",
            "[0, 12, 97, 72, 32, 17, 63, 97, 57, 60, 83, 48, 100, 26, 15, 62, 8, 49, 55, 77, 97, 98, 3, 89, 57, 34, 92, 29, 75, 13, 40]\n",
            "swapping i=1(12) with j=16(8)\n",
            "[0, 8, 97, 72, 32, 17, 63, 97, 57, 60, 83, 48, 100, 26, 15, 62, 12, 49, 55, 77, 97, 98, 3, 89, 57, 34, 92, 29, 75, 13, 40]\n",
            "swapping i=1(8) with j=22(3)\n",
            "[0, 3, 97, 72, 32, 17, 63, 97, 57, 60, 83, 48, 100, 26, 15, 62, 12, 49, 55, 77, 97, 98, 8, 89, 57, 34, 92, 29, 75, 13, 40]\n",
            "End of first pass\n",
            "swapping i=2(97) with j=3(72)\n",
            "[0, 3, 72, 97, 32, 17, 63, 97, 57, 60, 83, 48, 100, 26, 15, 62, 12, 49, 55, 77, 97, 98, 8, 89, 57, 34, 92, 29, 75, 13, 40]\n",
            "swapping i=2(72) with j=4(32)\n",
            "[0, 3, 32, 97, 72, 17, 63, 97, 57, 60, 83, 48, 100, 26, 15, 62, 12, 49, 55, 77, 97, 98, 8, 89, 57, 34, 92, 29, 75, 13, 40]\n",
            "swapping i=2(32) with j=5(17)\n",
            "[0, 3, 17, 97, 72, 32, 63, 97, 57, 60, 83, 48, 100, 26, 15, 62, 12, 49, 55, 77, 97, 98, 8, 89, 57, 34, 92, 29, 75, 13, 40]\n",
            "swapping i=2(17) with j=14(15)\n",
            "[0, 3, 15, 97, 72, 32, 63, 97, 57, 60, 83, 48, 100, 26, 17, 62, 12, 49, 55, 77, 97, 98, 8, 89, 57, 34, 92, 29, 75, 13, 40]\n",
            "swapping i=2(15) with j=16(12)\n",
            "[0, 3, 12, 97, 72, 32, 63, 97, 57, 60, 83, 48, 100, 26, 17, 62, 15, 49, 55, 77, 97, 98, 8, 89, 57, 34, 92, 29, 75, 13, 40]\n",
            "swapping i=2(12) with j=22(8)\n",
            "[0, 3, 8, 97, 72, 32, 63, 97, 57, 60, 83, 48, 100, 26, 17, 62, 15, 49, 55, 77, 97, 98, 12, 89, 57, 34, 92, 29, 75, 13, 40]\n",
            "End of first pass\n",
            "swapping i=3(97) with j=4(72)\n",
            "[0, 3, 8, 72, 97, 32, 63, 97, 57, 60, 83, 48, 100, 26, 17, 62, 15, 49, 55, 77, 97, 98, 12, 89, 57, 34, 92, 29, 75, 13, 40]\n",
            "swapping i=3(72) with j=5(32)\n",
            "[0, 3, 8, 32, 97, 72, 63, 97, 57, 60, 83, 48, 100, 26, 17, 62, 15, 49, 55, 77, 97, 98, 12, 89, 57, 34, 92, 29, 75, 13, 40]\n",
            "swapping i=3(32) with j=13(26)\n",
            "[0, 3, 8, 26, 97, 72, 63, 97, 57, 60, 83, 48, 100, 32, 17, 62, 15, 49, 55, 77, 97, 98, 12, 89, 57, 34, 92, 29, 75, 13, 40]\n",
            "swapping i=3(26) with j=14(17)\n",
            "[0, 3, 8, 17, 97, 72, 63, 97, 57, 60, 83, 48, 100, 32, 26, 62, 15, 49, 55, 77, 97, 98, 12, 89, 57, 34, 92, 29, 75, 13, 40]\n",
            "swapping i=3(17) with j=16(15)\n",
            "[0, 3, 8, 15, 97, 72, 63, 97, 57, 60, 83, 48, 100, 32, 26, 62, 17, 49, 55, 77, 97, 98, 12, 89, 57, 34, 92, 29, 75, 13, 40]\n",
            "swapping i=3(15) with j=22(12)\n",
            "[0, 3, 8, 12, 97, 72, 63, 97, 57, 60, 83, 48, 100, 32, 26, 62, 17, 49, 55, 77, 97, 98, 15, 89, 57, 34, 92, 29, 75, 13, 40]\n",
            "End of first pass\n",
            "swapping i=4(97) with j=5(72)\n",
            "[0, 3, 8, 12, 72, 97, 63, 97, 57, 60, 83, 48, 100, 32, 26, 62, 17, 49, 55, 77, 97, 98, 15, 89, 57, 34, 92, 29, 75, 13, 40]\n",
            "swapping i=4(72) with j=6(63)\n",
            "[0, 3, 8, 12, 63, 97, 72, 97, 57, 60, 83, 48, 100, 32, 26, 62, 17, 49, 55, 77, 97, 98, 15, 89, 57, 34, 92, 29, 75, 13, 40]\n",
            "swapping i=4(63) with j=8(57)\n",
            "[0, 3, 8, 12, 57, 97, 72, 97, 63, 60, 83, 48, 100, 32, 26, 62, 17, 49, 55, 77, 97, 98, 15, 89, 57, 34, 92, 29, 75, 13, 40]\n",
            "swapping i=4(57) with j=11(48)\n",
            "[0, 3, 8, 12, 48, 97, 72, 97, 63, 60, 83, 57, 100, 32, 26, 62, 17, 49, 55, 77, 97, 98, 15, 89, 57, 34, 92, 29, 75, 13, 40]\n",
            "swapping i=4(48) with j=13(32)\n",
            "[0, 3, 8, 12, 32, 97, 72, 97, 63, 60, 83, 57, 100, 48, 26, 62, 17, 49, 55, 77, 97, 98, 15, 89, 57, 34, 92, 29, 75, 13, 40]\n",
            "swapping i=4(32) with j=14(26)\n",
            "[0, 3, 8, 12, 26, 97, 72, 97, 63, 60, 83, 57, 100, 48, 32, 62, 17, 49, 55, 77, 97, 98, 15, 89, 57, 34, 92, 29, 75, 13, 40]\n",
            "swapping i=4(26) with j=16(17)\n",
            "[0, 3, 8, 12, 17, 97, 72, 97, 63, 60, 83, 57, 100, 48, 32, 62, 26, 49, 55, 77, 97, 98, 15, 89, 57, 34, 92, 29, 75, 13, 40]\n",
            "swapping i=4(17) with j=22(15)\n",
            "[0, 3, 8, 12, 15, 97, 72, 97, 63, 60, 83, 57, 100, 48, 32, 62, 26, 49, 55, 77, 97, 98, 17, 89, 57, 34, 92, 29, 75, 13, 40]\n",
            "swapping i=4(15) with j=29(13)\n",
            "[0, 3, 8, 12, 13, 97, 72, 97, 63, 60, 83, 57, 100, 48, 32, 62, 26, 49, 55, 77, 97, 98, 17, 89, 57, 34, 92, 29, 75, 15, 40]\n",
            "End of first pass\n",
            "swapping i=5(97) with j=6(72)\n",
            "[0, 3, 8, 12, 13, 72, 97, 97, 63, 60, 83, 57, 100, 48, 32, 62, 26, 49, 55, 77, 97, 98, 17, 89, 57, 34, 92, 29, 75, 15, 40]\n",
            "swapping i=5(72) with j=8(63)\n",
            "[0, 3, 8, 12, 13, 63, 97, 97, 72, 60, 83, 57, 100, 48, 32, 62, 26, 49, 55, 77, 97, 98, 17, 89, 57, 34, 92, 29, 75, 15, 40]\n",
            "swapping i=5(63) with j=9(60)\n",
            "[0, 3, 8, 12, 13, 60, 97, 97, 72, 63, 83, 57, 100, 48, 32, 62, 26, 49, 55, 77, 97, 98, 17, 89, 57, 34, 92, 29, 75, 15, 40]\n",
            "swapping i=5(60) with j=11(57)\n",
            "[0, 3, 8, 12, 13, 57, 97, 97, 72, 63, 83, 60, 100, 48, 32, 62, 26, 49, 55, 77, 97, 98, 17, 89, 57, 34, 92, 29, 75, 15, 40]\n",
            "swapping i=5(57) with j=13(48)\n",
            "[0, 3, 8, 12, 13, 48, 97, 97, 72, 63, 83, 60, 100, 57, 32, 62, 26, 49, 55, 77, 97, 98, 17, 89, 57, 34, 92, 29, 75, 15, 40]\n",
            "swapping i=5(48) with j=14(32)\n",
            "[0, 3, 8, 12, 13, 32, 97, 97, 72, 63, 83, 60, 100, 57, 48, 62, 26, 49, 55, 77, 97, 98, 17, 89, 57, 34, 92, 29, 75, 15, 40]\n",
            "swapping i=5(32) with j=16(26)\n",
            "[0, 3, 8, 12, 13, 26, 97, 97, 72, 63, 83, 60, 100, 57, 48, 62, 32, 49, 55, 77, 97, 98, 17, 89, 57, 34, 92, 29, 75, 15, 40]\n",
            "swapping i=5(26) with j=22(17)\n",
            "[0, 3, 8, 12, 13, 17, 97, 97, 72, 63, 83, 60, 100, 57, 48, 62, 32, 49, 55, 77, 97, 98, 26, 89, 57, 34, 92, 29, 75, 15, 40]\n",
            "swapping i=5(17) with j=29(15)\n",
            "[0, 3, 8, 12, 13, 15, 97, 97, 72, 63, 83, 60, 100, 57, 48, 62, 32, 49, 55, 77, 97, 98, 26, 89, 57, 34, 92, 29, 75, 17, 40]\n",
            "End of first pass\n",
            "swapping i=6(97) with j=8(72)\n",
            "[0, 3, 8, 12, 13, 15, 72, 97, 97, 63, 83, 60, 100, 57, 48, 62, 32, 49, 55, 77, 97, 98, 26, 89, 57, 34, 92, 29, 75, 17, 40]\n",
            "swapping i=6(72) with j=9(63)\n",
            "[0, 3, 8, 12, 13, 15, 63, 97, 97, 72, 83, 60, 100, 57, 48, 62, 32, 49, 55, 77, 97, 98, 26, 89, 57, 34, 92, 29, 75, 17, 40]\n",
            "swapping i=6(63) with j=11(60)\n",
            "[0, 3, 8, 12, 13, 15, 60, 97, 97, 72, 83, 63, 100, 57, 48, 62, 32, 49, 55, 77, 97, 98, 26, 89, 57, 34, 92, 29, 75, 17, 40]\n",
            "swapping i=6(60) with j=13(57)\n",
            "[0, 3, 8, 12, 13, 15, 57, 97, 97, 72, 83, 63, 100, 60, 48, 62, 32, 49, 55, 77, 97, 98, 26, 89, 57, 34, 92, 29, 75, 17, 40]\n",
            "swapping i=6(57) with j=14(48)\n",
            "[0, 3, 8, 12, 13, 15, 48, 97, 97, 72, 83, 63, 100, 60, 57, 62, 32, 49, 55, 77, 97, 98, 26, 89, 57, 34, 92, 29, 75, 17, 40]\n",
            "swapping i=6(48) with j=16(32)\n",
            "[0, 3, 8, 12, 13, 15, 32, 97, 97, 72, 83, 63, 100, 60, 57, 62, 48, 49, 55, 77, 97, 98, 26, 89, 57, 34, 92, 29, 75, 17, 40]\n",
            "swapping i=6(32) with j=22(26)\n",
            "[0, 3, 8, 12, 13, 15, 26, 97, 97, 72, 83, 63, 100, 60, 57, 62, 48, 49, 55, 77, 97, 98, 32, 89, 57, 34, 92, 29, 75, 17, 40]\n",
            "swapping i=6(26) with j=29(17)\n",
            "[0, 3, 8, 12, 13, 15, 17, 97, 97, 72, 83, 63, 100, 60, 57, 62, 48, 49, 55, 77, 97, 98, 32, 89, 57, 34, 92, 29, 75, 26, 40]\n",
            "End of first pass\n",
            "swapping i=7(97) with j=9(72)\n",
            "[0, 3, 8, 12, 13, 15, 17, 72, 97, 97, 83, 63, 100, 60, 57, 62, 48, 49, 55, 77, 97, 98, 32, 89, 57, 34, 92, 29, 75, 26, 40]\n",
            "swapping i=7(72) with j=11(63)\n",
            "[0, 3, 8, 12, 13, 15, 17, 63, 97, 97, 83, 72, 100, 60, 57, 62, 48, 49, 55, 77, 97, 98, 32, 89, 57, 34, 92, 29, 75, 26, 40]\n",
            "swapping i=7(63) with j=13(60)\n",
            "[0, 3, 8, 12, 13, 15, 17, 60, 97, 97, 83, 72, 100, 63, 57, 62, 48, 49, 55, 77, 97, 98, 32, 89, 57, 34, 92, 29, 75, 26, 40]\n",
            "swapping i=7(60) with j=14(57)\n",
            "[0, 3, 8, 12, 13, 15, 17, 57, 97, 97, 83, 72, 100, 63, 60, 62, 48, 49, 55, 77, 97, 98, 32, 89, 57, 34, 92, 29, 75, 26, 40]\n",
            "swapping i=7(57) with j=16(48)\n",
            "[0, 3, 8, 12, 13, 15, 17, 48, 97, 97, 83, 72, 100, 63, 60, 62, 57, 49, 55, 77, 97, 98, 32, 89, 57, 34, 92, 29, 75, 26, 40]\n",
            "swapping i=7(48) with j=22(32)\n",
            "[0, 3, 8, 12, 13, 15, 17, 32, 97, 97, 83, 72, 100, 63, 60, 62, 57, 49, 55, 77, 97, 98, 48, 89, 57, 34, 92, 29, 75, 26, 40]\n",
            "swapping i=7(32) with j=27(29)\n",
            "[0, 3, 8, 12, 13, 15, 17, 29, 97, 97, 83, 72, 100, 63, 60, 62, 57, 49, 55, 77, 97, 98, 48, 89, 57, 34, 92, 32, 75, 26, 40]\n",
            "swapping i=7(29) with j=29(26)\n",
            "[0, 3, 8, 12, 13, 15, 17, 26, 97, 97, 83, 72, 100, 63, 60, 62, 57, 49, 55, 77, 97, 98, 48, 89, 57, 34, 92, 32, 75, 29, 40]\n",
            "End of first pass\n",
            "swapping i=8(97) with j=10(83)\n",
            "[0, 3, 8, 12, 13, 15, 17, 26, 83, 97, 97, 72, 100, 63, 60, 62, 57, 49, 55, 77, 97, 98, 48, 89, 57, 34, 92, 32, 75, 29, 40]\n",
            "swapping i=8(83) with j=11(72)\n",
            "[0, 3, 8, 12, 13, 15, 17, 26, 72, 97, 97, 83, 100, 63, 60, 62, 57, 49, 55, 77, 97, 98, 48, 89, 57, 34, 92, 32, 75, 29, 40]\n",
            "swapping i=8(72) with j=13(63)\n",
            "[0, 3, 8, 12, 13, 15, 17, 26, 63, 97, 97, 83, 100, 72, 60, 62, 57, 49, 55, 77, 97, 98, 48, 89, 57, 34, 92, 32, 75, 29, 40]\n",
            "swapping i=8(63) with j=14(60)\n",
            "[0, 3, 8, 12, 13, 15, 17, 26, 60, 97, 97, 83, 100, 72, 63, 62, 57, 49, 55, 77, 97, 98, 48, 89, 57, 34, 92, 32, 75, 29, 40]\n",
            "swapping i=8(60) with j=16(57)\n",
            "[0, 3, 8, 12, 13, 15, 17, 26, 57, 97, 97, 83, 100, 72, 63, 62, 60, 49, 55, 77, 97, 98, 48, 89, 57, 34, 92, 32, 75, 29, 40]\n",
            "swapping i=8(57) with j=17(49)\n",
            "[0, 3, 8, 12, 13, 15, 17, 26, 49, 97, 97, 83, 100, 72, 63, 62, 60, 57, 55, 77, 97, 98, 48, 89, 57, 34, 92, 32, 75, 29, 40]\n",
            "swapping i=8(49) with j=22(48)\n",
            "[0, 3, 8, 12, 13, 15, 17, 26, 48, 97, 97, 83, 100, 72, 63, 62, 60, 57, 55, 77, 97, 98, 49, 89, 57, 34, 92, 32, 75, 29, 40]\n",
            "swapping i=8(48) with j=25(34)\n",
            "[0, 3, 8, 12, 13, 15, 17, 26, 34, 97, 97, 83, 100, 72, 63, 62, 60, 57, 55, 77, 97, 98, 49, 89, 57, 48, 92, 32, 75, 29, 40]\n",
            "swapping i=8(34) with j=27(32)\n",
            "[0, 3, 8, 12, 13, 15, 17, 26, 32, 97, 97, 83, 100, 72, 63, 62, 60, 57, 55, 77, 97, 98, 49, 89, 57, 48, 92, 34, 75, 29, 40]\n",
            "swapping i=8(32) with j=29(29)\n",
            "[0, 3, 8, 12, 13, 15, 17, 26, 29, 97, 97, 83, 100, 72, 63, 62, 60, 57, 55, 77, 97, 98, 49, 89, 57, 48, 92, 34, 75, 32, 40]\n",
            "End of first pass\n",
            "swapping i=9(97) with j=11(83)\n",
            "[0, 3, 8, 12, 13, 15, 17, 26, 29, 83, 97, 97, 100, 72, 63, 62, 60, 57, 55, 77, 97, 98, 49, 89, 57, 48, 92, 34, 75, 32, 40]\n",
            "swapping i=9(83) with j=13(72)\n",
            "[0, 3, 8, 12, 13, 15, 17, 26, 29, 72, 97, 97, 100, 83, 63, 62, 60, 57, 55, 77, 97, 98, 49, 89, 57, 48, 92, 34, 75, 32, 40]\n",
            "swapping i=9(72) with j=14(63)\n",
            "[0, 3, 8, 12, 13, 15, 17, 26, 29, 63, 97, 97, 100, 83, 72, 62, 60, 57, 55, 77, 97, 98, 49, 89, 57, 48, 92, 34, 75, 32, 40]\n",
            "swapping i=9(63) with j=15(62)\n",
            "[0, 3, 8, 12, 13, 15, 17, 26, 29, 62, 97, 97, 100, 83, 72, 63, 60, 57, 55, 77, 97, 98, 49, 89, 57, 48, 92, 34, 75, 32, 40]\n",
            "swapping i=9(62) with j=16(60)\n",
            "[0, 3, 8, 12, 13, 15, 17, 26, 29, 60, 97, 97, 100, 83, 72, 63, 62, 57, 55, 77, 97, 98, 49, 89, 57, 48, 92, 34, 75, 32, 40]\n",
            "swapping i=9(60) with j=17(57)\n",
            "[0, 3, 8, 12, 13, 15, 17, 26, 29, 57, 97, 97, 100, 83, 72, 63, 62, 60, 55, 77, 97, 98, 49, 89, 57, 48, 92, 34, 75, 32, 40]\n",
            "swapping i=9(57) with j=18(55)\n",
            "[0, 3, 8, 12, 13, 15, 17, 26, 29, 55, 97, 97, 100, 83, 72, 63, 62, 60, 57, 77, 97, 98, 49, 89, 57, 48, 92, 34, 75, 32, 40]\n",
            "swapping i=9(55) with j=22(49)\n",
            "[0, 3, 8, 12, 13, 15, 17, 26, 29, 49, 97, 97, 100, 83, 72, 63, 62, 60, 57, 77, 97, 98, 55, 89, 57, 48, 92, 34, 75, 32, 40]\n",
            "swapping i=9(49) with j=25(48)\n",
            "[0, 3, 8, 12, 13, 15, 17, 26, 29, 48, 97, 97, 100, 83, 72, 63, 62, 60, 57, 77, 97, 98, 55, 89, 57, 49, 92, 34, 75, 32, 40]\n",
            "swapping i=9(48) with j=27(34)\n",
            "[0, 3, 8, 12, 13, 15, 17, 26, 29, 34, 97, 97, 100, 83, 72, 63, 62, 60, 57, 77, 97, 98, 55, 89, 57, 49, 92, 48, 75, 32, 40]\n",
            "swapping i=9(34) with j=29(32)\n",
            "[0, 3, 8, 12, 13, 15, 17, 26, 29, 32, 97, 97, 100, 83, 72, 63, 62, 60, 57, 77, 97, 98, 55, 89, 57, 49, 92, 48, 75, 34, 40]\n",
            "End of first pass\n",
            "swapping i=10(97) with j=13(83)\n",
            "[0, 3, 8, 12, 13, 15, 17, 26, 29, 32, 83, 97, 100, 97, 72, 63, 62, 60, 57, 77, 97, 98, 55, 89, 57, 49, 92, 48, 75, 34, 40]\n",
            "swapping i=10(83) with j=14(72)\n",
            "[0, 3, 8, 12, 13, 15, 17, 26, 29, 32, 72, 97, 100, 97, 83, 63, 62, 60, 57, 77, 97, 98, 55, 89, 57, 49, 92, 48, 75, 34, 40]\n",
            "swapping i=10(72) with j=15(63)\n",
            "[0, 3, 8, 12, 13, 15, 17, 26, 29, 32, 63, 97, 100, 97, 83, 72, 62, 60, 57, 77, 97, 98, 55, 89, 57, 49, 92, 48, 75, 34, 40]\n",
            "swapping i=10(63) with j=16(62)\n",
            "[0, 3, 8, 12, 13, 15, 17, 26, 29, 32, 62, 97, 100, 97, 83, 72, 63, 60, 57, 77, 97, 98, 55, 89, 57, 49, 92, 48, 75, 34, 40]\n",
            "swapping i=10(62) with j=17(60)\n",
            "[0, 3, 8, 12, 13, 15, 17, 26, 29, 32, 60, 97, 100, 97, 83, 72, 63, 62, 57, 77, 97, 98, 55, 89, 57, 49, 92, 48, 75, 34, 40]\n",
            "swapping i=10(60) with j=18(57)\n",
            "[0, 3, 8, 12, 13, 15, 17, 26, 29, 32, 57, 97, 100, 97, 83, 72, 63, 62, 60, 77, 97, 98, 55, 89, 57, 49, 92, 48, 75, 34, 40]\n",
            "swapping i=10(57) with j=22(55)\n",
            "[0, 3, 8, 12, 13, 15, 17, 26, 29, 32, 55, 97, 100, 97, 83, 72, 63, 62, 60, 77, 97, 98, 57, 89, 57, 49, 92, 48, 75, 34, 40]\n",
            "swapping i=10(55) with j=25(49)\n",
            "[0, 3, 8, 12, 13, 15, 17, 26, 29, 32, 49, 97, 100, 97, 83, 72, 63, 62, 60, 77, 97, 98, 57, 89, 57, 55, 92, 48, 75, 34, 40]\n",
            "swapping i=10(49) with j=27(48)\n",
            "[0, 3, 8, 12, 13, 15, 17, 26, 29, 32, 48, 97, 100, 97, 83, 72, 63, 62, 60, 77, 97, 98, 57, 89, 57, 55, 92, 49, 75, 34, 40]\n",
            "swapping i=10(48) with j=29(34)\n",
            "[0, 3, 8, 12, 13, 15, 17, 26, 29, 32, 34, 97, 100, 97, 83, 72, 63, 62, 60, 77, 97, 98, 57, 89, 57, 55, 92, 49, 75, 48, 40]\n",
            "End of first pass\n",
            "swapping i=11(97) with j=14(83)\n",
            "[0, 3, 8, 12, 13, 15, 17, 26, 29, 32, 34, 83, 100, 97, 97, 72, 63, 62, 60, 77, 97, 98, 57, 89, 57, 55, 92, 49, 75, 48, 40]\n",
            "swapping i=11(83) with j=15(72)\n",
            "[0, 3, 8, 12, 13, 15, 17, 26, 29, 32, 34, 72, 100, 97, 97, 83, 63, 62, 60, 77, 97, 98, 57, 89, 57, 55, 92, 49, 75, 48, 40]\n",
            "swapping i=11(72) with j=16(63)\n",
            "[0, 3, 8, 12, 13, 15, 17, 26, 29, 32, 34, 63, 100, 97, 97, 83, 72, 62, 60, 77, 97, 98, 57, 89, 57, 55, 92, 49, 75, 48, 40]\n",
            "swapping i=11(63) with j=17(62)\n",
            "[0, 3, 8, 12, 13, 15, 17, 26, 29, 32, 34, 62, 100, 97, 97, 83, 72, 63, 60, 77, 97, 98, 57, 89, 57, 55, 92, 49, 75, 48, 40]\n",
            "swapping i=11(62) with j=18(60)\n",
            "[0, 3, 8, 12, 13, 15, 17, 26, 29, 32, 34, 60, 100, 97, 97, 83, 72, 63, 62, 77, 97, 98, 57, 89, 57, 55, 92, 49, 75, 48, 40]\n",
            "swapping i=11(60) with j=22(57)\n",
            "[0, 3, 8, 12, 13, 15, 17, 26, 29, 32, 34, 57, 100, 97, 97, 83, 72, 63, 62, 77, 97, 98, 60, 89, 57, 55, 92, 49, 75, 48, 40]\n",
            "swapping i=11(57) with j=25(55)\n",
            "[0, 3, 8, 12, 13, 15, 17, 26, 29, 32, 34, 55, 100, 97, 97, 83, 72, 63, 62, 77, 97, 98, 60, 89, 57, 57, 92, 49, 75, 48, 40]\n",
            "swapping i=11(55) with j=27(49)\n",
            "[0, 3, 8, 12, 13, 15, 17, 26, 29, 32, 34, 49, 100, 97, 97, 83, 72, 63, 62, 77, 97, 98, 60, 89, 57, 57, 92, 55, 75, 48, 40]\n",
            "swapping i=11(49) with j=29(48)\n",
            "[0, 3, 8, 12, 13, 15, 17, 26, 29, 32, 34, 48, 100, 97, 97, 83, 72, 63, 62, 77, 97, 98, 60, 89, 57, 57, 92, 55, 75, 49, 40]\n",
            "swapping i=11(48) with j=30(40)\n",
            "[0, 3, 8, 12, 13, 15, 17, 26, 29, 32, 34, 40, 100, 97, 97, 83, 72, 63, 62, 77, 97, 98, 60, 89, 57, 57, 92, 55, 75, 49, 48]\n",
            "End of first pass\n",
            "swapping i=12(100) with j=13(97)\n",
            "[0, 3, 8, 12, 13, 15, 17, 26, 29, 32, 34, 40, 97, 100, 97, 83, 72, 63, 62, 77, 97, 98, 60, 89, 57, 57, 92, 55, 75, 49, 48]\n",
            "swapping i=12(97) with j=15(83)\n",
            "[0, 3, 8, 12, 13, 15, 17, 26, 29, 32, 34, 40, 83, 100, 97, 97, 72, 63, 62, 77, 97, 98, 60, 89, 57, 57, 92, 55, 75, 49, 48]\n",
            "swapping i=12(83) with j=16(72)\n",
            "[0, 3, 8, 12, 13, 15, 17, 26, 29, 32, 34, 40, 72, 100, 97, 97, 83, 63, 62, 77, 97, 98, 60, 89, 57, 57, 92, 55, 75, 49, 48]\n",
            "swapping i=12(72) with j=17(63)\n",
            "[0, 3, 8, 12, 13, 15, 17, 26, 29, 32, 34, 40, 63, 100, 97, 97, 83, 72, 62, 77, 97, 98, 60, 89, 57, 57, 92, 55, 75, 49, 48]\n",
            "swapping i=12(63) with j=18(62)\n",
            "[0, 3, 8, 12, 13, 15, 17, 26, 29, 32, 34, 40, 62, 100, 97, 97, 83, 72, 63, 77, 97, 98, 60, 89, 57, 57, 92, 55, 75, 49, 48]\n",
            "swapping i=12(62) with j=22(60)\n",
            "[0, 3, 8, 12, 13, 15, 17, 26, 29, 32, 34, 40, 60, 100, 97, 97, 83, 72, 63, 77, 97, 98, 62, 89, 57, 57, 92, 55, 75, 49, 48]\n",
            "swapping i=12(60) with j=24(57)\n",
            "[0, 3, 8, 12, 13, 15, 17, 26, 29, 32, 34, 40, 57, 100, 97, 97, 83, 72, 63, 77, 97, 98, 62, 89, 60, 57, 92, 55, 75, 49, 48]\n",
            "swapping i=12(57) with j=27(55)\n",
            "[0, 3, 8, 12, 13, 15, 17, 26, 29, 32, 34, 40, 55, 100, 97, 97, 83, 72, 63, 77, 97, 98, 62, 89, 60, 57, 92, 57, 75, 49, 48]\n",
            "swapping i=12(55) with j=29(49)\n",
            "[0, 3, 8, 12, 13, 15, 17, 26, 29, 32, 34, 40, 49, 100, 97, 97, 83, 72, 63, 77, 97, 98, 62, 89, 60, 57, 92, 57, 75, 55, 48]\n",
            "swapping i=12(49) with j=30(48)\n",
            "[0, 3, 8, 12, 13, 15, 17, 26, 29, 32, 34, 40, 48, 100, 97, 97, 83, 72, 63, 77, 97, 98, 62, 89, 60, 57, 92, 57, 75, 55, 49]\n",
            "End of first pass\n",
            "swapping i=13(100) with j=14(97)\n",
            "[0, 3, 8, 12, 13, 15, 17, 26, 29, 32, 34, 40, 48, 97, 100, 97, 83, 72, 63, 77, 97, 98, 62, 89, 60, 57, 92, 57, 75, 55, 49]\n",
            "swapping i=13(97) with j=16(83)\n",
            "[0, 3, 8, 12, 13, 15, 17, 26, 29, 32, 34, 40, 48, 83, 100, 97, 97, 72, 63, 77, 97, 98, 62, 89, 60, 57, 92, 57, 75, 55, 49]\n",
            "swapping i=13(83) with j=17(72)\n",
            "[0, 3, 8, 12, 13, 15, 17, 26, 29, 32, 34, 40, 48, 72, 100, 97, 97, 83, 63, 77, 97, 98, 62, 89, 60, 57, 92, 57, 75, 55, 49]\n",
            "swapping i=13(72) with j=18(63)\n",
            "[0, 3, 8, 12, 13, 15, 17, 26, 29, 32, 34, 40, 48, 63, 100, 97, 97, 83, 72, 77, 97, 98, 62, 89, 60, 57, 92, 57, 75, 55, 49]\n",
            "swapping i=13(63) with j=22(62)\n",
            "[0, 3, 8, 12, 13, 15, 17, 26, 29, 32, 34, 40, 48, 62, 100, 97, 97, 83, 72, 77, 97, 98, 63, 89, 60, 57, 92, 57, 75, 55, 49]\n",
            "swapping i=13(62) with j=24(60)\n",
            "[0, 3, 8, 12, 13, 15, 17, 26, 29, 32, 34, 40, 48, 60, 100, 97, 97, 83, 72, 77, 97, 98, 63, 89, 62, 57, 92, 57, 75, 55, 49]\n",
            "swapping i=13(60) with j=25(57)\n",
            "[0, 3, 8, 12, 13, 15, 17, 26, 29, 32, 34, 40, 48, 57, 100, 97, 97, 83, 72, 77, 97, 98, 63, 89, 62, 60, 92, 57, 75, 55, 49]\n",
            "swapping i=13(57) with j=29(55)\n",
            "[0, 3, 8, 12, 13, 15, 17, 26, 29, 32, 34, 40, 48, 55, 100, 97, 97, 83, 72, 77, 97, 98, 63, 89, 62, 60, 92, 57, 75, 57, 49]\n",
            "swapping i=13(55) with j=30(49)\n",
            "[0, 3, 8, 12, 13, 15, 17, 26, 29, 32, 34, 40, 48, 49, 100, 97, 97, 83, 72, 77, 97, 98, 63, 89, 62, 60, 92, 57, 75, 57, 55]\n",
            "End of first pass\n",
            "swapping i=14(100) with j=15(97)\n",
            "[0, 3, 8, 12, 13, 15, 17, 26, 29, 32, 34, 40, 48, 49, 97, 100, 97, 83, 72, 77, 97, 98, 63, 89, 62, 60, 92, 57, 75, 57, 55]\n",
            "swapping i=14(97) with j=17(83)\n",
            "[0, 3, 8, 12, 13, 15, 17, 26, 29, 32, 34, 40, 48, 49, 83, 100, 97, 97, 72, 77, 97, 98, 63, 89, 62, 60, 92, 57, 75, 57, 55]\n",
            "swapping i=14(83) with j=18(72)\n",
            "[0, 3, 8, 12, 13, 15, 17, 26, 29, 32, 34, 40, 48, 49, 72, 100, 97, 97, 83, 77, 97, 98, 63, 89, 62, 60, 92, 57, 75, 57, 55]\n",
            "swapping i=14(72) with j=22(63)\n",
            "[0, 3, 8, 12, 13, 15, 17, 26, 29, 32, 34, 40, 48, 49, 63, 100, 97, 97, 83, 77, 97, 98, 72, 89, 62, 60, 92, 57, 75, 57, 55]\n",
            "swapping i=14(63) with j=24(62)\n",
            "[0, 3, 8, 12, 13, 15, 17, 26, 29, 32, 34, 40, 48, 49, 62, 100, 97, 97, 83, 77, 97, 98, 72, 89, 63, 60, 92, 57, 75, 57, 55]\n",
            "swapping i=14(62) with j=25(60)\n",
            "[0, 3, 8, 12, 13, 15, 17, 26, 29, 32, 34, 40, 48, 49, 60, 100, 97, 97, 83, 77, 97, 98, 72, 89, 63, 62, 92, 57, 75, 57, 55]\n",
            "swapping i=14(60) with j=27(57)\n",
            "[0, 3, 8, 12, 13, 15, 17, 26, 29, 32, 34, 40, 48, 49, 57, 100, 97, 97, 83, 77, 97, 98, 72, 89, 63, 62, 92, 60, 75, 57, 55]\n",
            "swapping i=14(57) with j=30(55)\n",
            "[0, 3, 8, 12, 13, 15, 17, 26, 29, 32, 34, 40, 48, 49, 55, 100, 97, 97, 83, 77, 97, 98, 72, 89, 63, 62, 92, 60, 75, 57, 57]\n",
            "End of first pass\n",
            "swapping i=15(100) with j=16(97)\n",
            "[0, 3, 8, 12, 13, 15, 17, 26, 29, 32, 34, 40, 48, 49, 55, 97, 100, 97, 83, 77, 97, 98, 72, 89, 63, 62, 92, 60, 75, 57, 57]\n",
            "swapping i=15(97) with j=18(83)\n",
            "[0, 3, 8, 12, 13, 15, 17, 26, 29, 32, 34, 40, 48, 49, 55, 83, 100, 97, 97, 77, 97, 98, 72, 89, 63, 62, 92, 60, 75, 57, 57]\n",
            "swapping i=15(83) with j=19(77)\n",
            "[0, 3, 8, 12, 13, 15, 17, 26, 29, 32, 34, 40, 48, 49, 55, 77, 100, 97, 97, 83, 97, 98, 72, 89, 63, 62, 92, 60, 75, 57, 57]\n",
            "swapping i=15(77) with j=22(72)\n",
            "[0, 3, 8, 12, 13, 15, 17, 26, 29, 32, 34, 40, 48, 49, 55, 72, 100, 97, 97, 83, 97, 98, 77, 89, 63, 62, 92, 60, 75, 57, 57]\n",
            "swapping i=15(72) with j=24(63)\n",
            "[0, 3, 8, 12, 13, 15, 17, 26, 29, 32, 34, 40, 48, 49, 55, 63, 100, 97, 97, 83, 97, 98, 77, 89, 72, 62, 92, 60, 75, 57, 57]\n",
            "swapping i=15(63) with j=25(62)\n",
            "[0, 3, 8, 12, 13, 15, 17, 26, 29, 32, 34, 40, 48, 49, 55, 62, 100, 97, 97, 83, 97, 98, 77, 89, 72, 63, 92, 60, 75, 57, 57]\n",
            "swapping i=15(62) with j=27(60)\n",
            "[0, 3, 8, 12, 13, 15, 17, 26, 29, 32, 34, 40, 48, 49, 55, 60, 100, 97, 97, 83, 97, 98, 77, 89, 72, 63, 92, 62, 75, 57, 57]\n",
            "swapping i=15(60) with j=29(57)\n",
            "[0, 3, 8, 12, 13, 15, 17, 26, 29, 32, 34, 40, 48, 49, 55, 57, 100, 97, 97, 83, 97, 98, 77, 89, 72, 63, 92, 62, 75, 60, 57]\n",
            "End of first pass\n",
            "swapping i=16(100) with j=17(97)\n",
            "[0, 3, 8, 12, 13, 15, 17, 26, 29, 32, 34, 40, 48, 49, 55, 57, 97, 100, 97, 83, 97, 98, 77, 89, 72, 63, 92, 62, 75, 60, 57]\n",
            "swapping i=16(97) with j=19(83)\n",
            "[0, 3, 8, 12, 13, 15, 17, 26, 29, 32, 34, 40, 48, 49, 55, 57, 83, 100, 97, 97, 97, 98, 77, 89, 72, 63, 92, 62, 75, 60, 57]\n",
            "swapping i=16(83) with j=22(77)\n",
            "[0, 3, 8, 12, 13, 15, 17, 26, 29, 32, 34, 40, 48, 49, 55, 57, 77, 100, 97, 97, 97, 98, 83, 89, 72, 63, 92, 62, 75, 60, 57]\n",
            "swapping i=16(77) with j=24(72)\n",
            "[0, 3, 8, 12, 13, 15, 17, 26, 29, 32, 34, 40, 48, 49, 55, 57, 72, 100, 97, 97, 97, 98, 83, 89, 77, 63, 92, 62, 75, 60, 57]\n",
            "swapping i=16(72) with j=25(63)\n",
            "[0, 3, 8, 12, 13, 15, 17, 26, 29, 32, 34, 40, 48, 49, 55, 57, 63, 100, 97, 97, 97, 98, 83, 89, 77, 72, 92, 62, 75, 60, 57]\n",
            "swapping i=16(63) with j=27(62)\n",
            "[0, 3, 8, 12, 13, 15, 17, 26, 29, 32, 34, 40, 48, 49, 55, 57, 62, 100, 97, 97, 97, 98, 83, 89, 77, 72, 92, 63, 75, 60, 57]\n",
            "swapping i=16(62) with j=29(60)\n",
            "[0, 3, 8, 12, 13, 15, 17, 26, 29, 32, 34, 40, 48, 49, 55, 57, 60, 100, 97, 97, 97, 98, 83, 89, 77, 72, 92, 63, 75, 62, 57]\n",
            "swapping i=16(60) with j=30(57)\n",
            "[0, 3, 8, 12, 13, 15, 17, 26, 29, 32, 34, 40, 48, 49, 55, 57, 57, 100, 97, 97, 97, 98, 83, 89, 77, 72, 92, 63, 75, 62, 60]\n",
            "End of first pass\n",
            "swapping i=17(100) with j=18(97)\n",
            "[0, 3, 8, 12, 13, 15, 17, 26, 29, 32, 34, 40, 48, 49, 55, 57, 57, 97, 100, 97, 97, 98, 83, 89, 77, 72, 92, 63, 75, 62, 60]\n",
            "swapping i=17(97) with j=22(83)\n",
            "[0, 3, 8, 12, 13, 15, 17, 26, 29, 32, 34, 40, 48, 49, 55, 57, 57, 83, 100, 97, 97, 98, 97, 89, 77, 72, 92, 63, 75, 62, 60]\n",
            "swapping i=17(83) with j=24(77)\n",
            "[0, 3, 8, 12, 13, 15, 17, 26, 29, 32, 34, 40, 48, 49, 55, 57, 57, 77, 100, 97, 97, 98, 97, 89, 83, 72, 92, 63, 75, 62, 60]\n",
            "swapping i=17(77) with j=25(72)\n",
            "[0, 3, 8, 12, 13, 15, 17, 26, 29, 32, 34, 40, 48, 49, 55, 57, 57, 72, 100, 97, 97, 98, 97, 89, 83, 77, 92, 63, 75, 62, 60]\n",
            "swapping i=17(72) with j=27(63)\n",
            "[0, 3, 8, 12, 13, 15, 17, 26, 29, 32, 34, 40, 48, 49, 55, 57, 57, 63, 100, 97, 97, 98, 97, 89, 83, 77, 92, 72, 75, 62, 60]\n",
            "swapping i=17(63) with j=29(62)\n",
            "[0, 3, 8, 12, 13, 15, 17, 26, 29, 32, 34, 40, 48, 49, 55, 57, 57, 62, 100, 97, 97, 98, 97, 89, 83, 77, 92, 72, 75, 63, 60]\n",
            "swapping i=17(62) with j=30(60)\n",
            "[0, 3, 8, 12, 13, 15, 17, 26, 29, 32, 34, 40, 48, 49, 55, 57, 57, 60, 100, 97, 97, 98, 97, 89, 83, 77, 92, 72, 75, 63, 62]\n",
            "End of first pass\n",
            "swapping i=18(100) with j=19(97)\n",
            "[0, 3, 8, 12, 13, 15, 17, 26, 29, 32, 34, 40, 48, 49, 55, 57, 57, 60, 97, 100, 97, 98, 97, 89, 83, 77, 92, 72, 75, 63, 62]\n",
            "swapping i=18(97) with j=23(89)\n",
            "[0, 3, 8, 12, 13, 15, 17, 26, 29, 32, 34, 40, 48, 49, 55, 57, 57, 60, 89, 100, 97, 98, 97, 97, 83, 77, 92, 72, 75, 63, 62]\n",
            "swapping i=18(89) with j=24(83)\n",
            "[0, 3, 8, 12, 13, 15, 17, 26, 29, 32, 34, 40, 48, 49, 55, 57, 57, 60, 83, 100, 97, 98, 97, 97, 89, 77, 92, 72, 75, 63, 62]\n",
            "swapping i=18(83) with j=25(77)\n",
            "[0, 3, 8, 12, 13, 15, 17, 26, 29, 32, 34, 40, 48, 49, 55, 57, 57, 60, 77, 100, 97, 98, 97, 97, 89, 83, 92, 72, 75, 63, 62]\n",
            "swapping i=18(77) with j=27(72)\n",
            "[0, 3, 8, 12, 13, 15, 17, 26, 29, 32, 34, 40, 48, 49, 55, 57, 57, 60, 72, 100, 97, 98, 97, 97, 89, 83, 92, 77, 75, 63, 62]\n",
            "swapping i=18(72) with j=29(63)\n",
            "[0, 3, 8, 12, 13, 15, 17, 26, 29, 32, 34, 40, 48, 49, 55, 57, 57, 60, 63, 100, 97, 98, 97, 97, 89, 83, 92, 77, 75, 72, 62]\n",
            "swapping i=18(63) with j=30(62)\n",
            "[0, 3, 8, 12, 13, 15, 17, 26, 29, 32, 34, 40, 48, 49, 55, 57, 57, 60, 62, 100, 97, 98, 97, 97, 89, 83, 92, 77, 75, 72, 63]\n",
            "End of first pass\n",
            "swapping i=19(100) with j=20(97)\n",
            "[0, 3, 8, 12, 13, 15, 17, 26, 29, 32, 34, 40, 48, 49, 55, 57, 57, 60, 62, 97, 100, 98, 97, 97, 89, 83, 92, 77, 75, 72, 63]\n",
            "swapping i=19(97) with j=24(89)\n",
            "[0, 3, 8, 12, 13, 15, 17, 26, 29, 32, 34, 40, 48, 49, 55, 57, 57, 60, 62, 89, 100, 98, 97, 97, 97, 83, 92, 77, 75, 72, 63]\n",
            "swapping i=19(89) with j=25(83)\n",
            "[0, 3, 8, 12, 13, 15, 17, 26, 29, 32, 34, 40, 48, 49, 55, 57, 57, 60, 62, 83, 100, 98, 97, 97, 97, 89, 92, 77, 75, 72, 63]\n",
            "swapping i=19(83) with j=27(77)\n",
            "[0, 3, 8, 12, 13, 15, 17, 26, 29, 32, 34, 40, 48, 49, 55, 57, 57, 60, 62, 77, 100, 98, 97, 97, 97, 89, 92, 83, 75, 72, 63]\n",
            "swapping i=19(77) with j=28(75)\n",
            "[0, 3, 8, 12, 13, 15, 17, 26, 29, 32, 34, 40, 48, 49, 55, 57, 57, 60, 62, 75, 100, 98, 97, 97, 97, 89, 92, 83, 77, 72, 63]\n",
            "swapping i=19(75) with j=29(72)\n",
            "[0, 3, 8, 12, 13, 15, 17, 26, 29, 32, 34, 40, 48, 49, 55, 57, 57, 60, 62, 72, 100, 98, 97, 97, 97, 89, 92, 83, 77, 75, 63]\n",
            "swapping i=19(72) with j=30(63)\n",
            "[0, 3, 8, 12, 13, 15, 17, 26, 29, 32, 34, 40, 48, 49, 55, 57, 57, 60, 62, 63, 100, 98, 97, 97, 97, 89, 92, 83, 77, 75, 72]\n",
            "End of first pass\n",
            "swapping i=20(100) with j=21(98)\n",
            "[0, 3, 8, 12, 13, 15, 17, 26, 29, 32, 34, 40, 48, 49, 55, 57, 57, 60, 62, 63, 98, 100, 97, 97, 97, 89, 92, 83, 77, 75, 72]\n",
            "swapping i=20(98) with j=22(97)\n",
            "[0, 3, 8, 12, 13, 15, 17, 26, 29, 32, 34, 40, 48, 49, 55, 57, 57, 60, 62, 63, 97, 100, 98, 97, 97, 89, 92, 83, 77, 75, 72]\n",
            "swapping i=20(97) with j=25(89)\n",
            "[0, 3, 8, 12, 13, 15, 17, 26, 29, 32, 34, 40, 48, 49, 55, 57, 57, 60, 62, 63, 89, 100, 98, 97, 97, 97, 92, 83, 77, 75, 72]\n",
            "swapping i=20(89) with j=27(83)\n",
            "[0, 3, 8, 12, 13, 15, 17, 26, 29, 32, 34, 40, 48, 49, 55, 57, 57, 60, 62, 63, 83, 100, 98, 97, 97, 97, 92, 89, 77, 75, 72]\n",
            "swapping i=20(83) with j=28(77)\n",
            "[0, 3, 8, 12, 13, 15, 17, 26, 29, 32, 34, 40, 48, 49, 55, 57, 57, 60, 62, 63, 77, 100, 98, 97, 97, 97, 92, 89, 83, 75, 72]\n",
            "swapping i=20(77) with j=29(75)\n",
            "[0, 3, 8, 12, 13, 15, 17, 26, 29, 32, 34, 40, 48, 49, 55, 57, 57, 60, 62, 63, 75, 100, 98, 97, 97, 97, 92, 89, 83, 77, 72]\n",
            "swapping i=20(75) with j=30(72)\n",
            "[0, 3, 8, 12, 13, 15, 17, 26, 29, 32, 34, 40, 48, 49, 55, 57, 57, 60, 62, 63, 72, 100, 98, 97, 97, 97, 92, 89, 83, 77, 75]\n",
            "End of first pass\n",
            "swapping i=21(100) with j=22(98)\n",
            "[0, 3, 8, 12, 13, 15, 17, 26, 29, 32, 34, 40, 48, 49, 55, 57, 57, 60, 62, 63, 72, 98, 100, 97, 97, 97, 92, 89, 83, 77, 75]\n",
            "swapping i=21(98) with j=23(97)\n",
            "[0, 3, 8, 12, 13, 15, 17, 26, 29, 32, 34, 40, 48, 49, 55, 57, 57, 60, 62, 63, 72, 97, 100, 98, 97, 97, 92, 89, 83, 77, 75]\n",
            "swapping i=21(97) with j=26(92)\n",
            "[0, 3, 8, 12, 13, 15, 17, 26, 29, 32, 34, 40, 48, 49, 55, 57, 57, 60, 62, 63, 72, 92, 100, 98, 97, 97, 97, 89, 83, 77, 75]\n",
            "swapping i=21(92) with j=27(89)\n",
            "[0, 3, 8, 12, 13, 15, 17, 26, 29, 32, 34, 40, 48, 49, 55, 57, 57, 60, 62, 63, 72, 89, 100, 98, 97, 97, 97, 92, 83, 77, 75]\n",
            "swapping i=21(89) with j=28(83)\n",
            "[0, 3, 8, 12, 13, 15, 17, 26, 29, 32, 34, 40, 48, 49, 55, 57, 57, 60, 62, 63, 72, 83, 100, 98, 97, 97, 97, 92, 89, 77, 75]\n",
            "swapping i=21(83) with j=29(77)\n",
            "[0, 3, 8, 12, 13, 15, 17, 26, 29, 32, 34, 40, 48, 49, 55, 57, 57, 60, 62, 63, 72, 77, 100, 98, 97, 97, 97, 92, 89, 83, 75]\n",
            "swapping i=21(77) with j=30(75)\n",
            "[0, 3, 8, 12, 13, 15, 17, 26, 29, 32, 34, 40, 48, 49, 55, 57, 57, 60, 62, 63, 72, 75, 100, 98, 97, 97, 97, 92, 89, 83, 77]\n",
            "End of first pass\n",
            "swapping i=22(100) with j=23(98)\n",
            "[0, 3, 8, 12, 13, 15, 17, 26, 29, 32, 34, 40, 48, 49, 55, 57, 57, 60, 62, 63, 72, 75, 98, 100, 97, 97, 97, 92, 89, 83, 77]\n",
            "swapping i=22(98) with j=24(97)\n",
            "[0, 3, 8, 12, 13, 15, 17, 26, 29, 32, 34, 40, 48, 49, 55, 57, 57, 60, 62, 63, 72, 75, 97, 100, 98, 97, 97, 92, 89, 83, 77]\n",
            "swapping i=22(97) with j=27(92)\n",
            "[0, 3, 8, 12, 13, 15, 17, 26, 29, 32, 34, 40, 48, 49, 55, 57, 57, 60, 62, 63, 72, 75, 92, 100, 98, 97, 97, 97, 89, 83, 77]\n",
            "swapping i=22(92) with j=28(89)\n",
            "[0, 3, 8, 12, 13, 15, 17, 26, 29, 32, 34, 40, 48, 49, 55, 57, 57, 60, 62, 63, 72, 75, 89, 100, 98, 97, 97, 97, 92, 83, 77]\n",
            "swapping i=22(89) with j=29(83)\n",
            "[0, 3, 8, 12, 13, 15, 17, 26, 29, 32, 34, 40, 48, 49, 55, 57, 57, 60, 62, 63, 72, 75, 83, 100, 98, 97, 97, 97, 92, 89, 77]\n",
            "swapping i=22(83) with j=30(77)\n",
            "[0, 3, 8, 12, 13, 15, 17, 26, 29, 32, 34, 40, 48, 49, 55, 57, 57, 60, 62, 63, 72, 75, 77, 100, 98, 97, 97, 97, 92, 89, 83]\n",
            "End of first pass\n",
            "swapping i=23(100) with j=24(98)\n",
            "[0, 3, 8, 12, 13, 15, 17, 26, 29, 32, 34, 40, 48, 49, 55, 57, 57, 60, 62, 63, 72, 75, 77, 98, 100, 97, 97, 97, 92, 89, 83]\n",
            "swapping i=23(98) with j=25(97)\n",
            "[0, 3, 8, 12, 13, 15, 17, 26, 29, 32, 34, 40, 48, 49, 55, 57, 57, 60, 62, 63, 72, 75, 77, 97, 100, 98, 97, 97, 92, 89, 83]\n",
            "swapping i=23(97) with j=28(92)\n",
            "[0, 3, 8, 12, 13, 15, 17, 26, 29, 32, 34, 40, 48, 49, 55, 57, 57, 60, 62, 63, 72, 75, 77, 92, 100, 98, 97, 97, 97, 89, 83]\n",
            "swapping i=23(92) with j=29(89)\n",
            "[0, 3, 8, 12, 13, 15, 17, 26, 29, 32, 34, 40, 48, 49, 55, 57, 57, 60, 62, 63, 72, 75, 77, 89, 100, 98, 97, 97, 97, 92, 83]\n",
            "swapping i=23(89) with j=30(83)\n",
            "[0, 3, 8, 12, 13, 15, 17, 26, 29, 32, 34, 40, 48, 49, 55, 57, 57, 60, 62, 63, 72, 75, 77, 83, 100, 98, 97, 97, 97, 92, 89]\n",
            "End of first pass\n",
            "swapping i=24(100) with j=25(98)\n",
            "[0, 3, 8, 12, 13, 15, 17, 26, 29, 32, 34, 40, 48, 49, 55, 57, 57, 60, 62, 63, 72, 75, 77, 83, 98, 100, 97, 97, 97, 92, 89]\n",
            "swapping i=24(98) with j=26(97)\n",
            "[0, 3, 8, 12, 13, 15, 17, 26, 29, 32, 34, 40, 48, 49, 55, 57, 57, 60, 62, 63, 72, 75, 77, 83, 97, 100, 98, 97, 97, 92, 89]\n",
            "swapping i=24(97) with j=29(92)\n",
            "[0, 3, 8, 12, 13, 15, 17, 26, 29, 32, 34, 40, 48, 49, 55, 57, 57, 60, 62, 63, 72, 75, 77, 83, 92, 100, 98, 97, 97, 97, 89]\n",
            "swapping i=24(92) with j=30(89)\n",
            "[0, 3, 8, 12, 13, 15, 17, 26, 29, 32, 34, 40, 48, 49, 55, 57, 57, 60, 62, 63, 72, 75, 77, 83, 89, 100, 98, 97, 97, 97, 92]\n",
            "End of first pass\n",
            "swapping i=25(100) with j=26(98)\n",
            "[0, 3, 8, 12, 13, 15, 17, 26, 29, 32, 34, 40, 48, 49, 55, 57, 57, 60, 62, 63, 72, 75, 77, 83, 89, 98, 100, 97, 97, 97, 92]\n",
            "swapping i=25(98) with j=27(97)\n",
            "[0, 3, 8, 12, 13, 15, 17, 26, 29, 32, 34, 40, 48, 49, 55, 57, 57, 60, 62, 63, 72, 75, 77, 83, 89, 97, 100, 98, 97, 97, 92]\n",
            "swapping i=25(97) with j=30(92)\n",
            "[0, 3, 8, 12, 13, 15, 17, 26, 29, 32, 34, 40, 48, 49, 55, 57, 57, 60, 62, 63, 72, 75, 77, 83, 89, 92, 100, 98, 97, 97, 97]\n",
            "End of first pass\n",
            "swapping i=26(100) with j=27(98)\n",
            "[0, 3, 8, 12, 13, 15, 17, 26, 29, 32, 34, 40, 48, 49, 55, 57, 57, 60, 62, 63, 72, 75, 77, 83, 89, 92, 98, 100, 97, 97, 97]\n",
            "swapping i=26(98) with j=28(97)\n",
            "[0, 3, 8, 12, 13, 15, 17, 26, 29, 32, 34, 40, 48, 49, 55, 57, 57, 60, 62, 63, 72, 75, 77, 83, 89, 92, 97, 100, 98, 97, 97]\n",
            "End of first pass\n",
            "swapping i=27(100) with j=28(98)\n",
            "[0, 3, 8, 12, 13, 15, 17, 26, 29, 32, 34, 40, 48, 49, 55, 57, 57, 60, 62, 63, 72, 75, 77, 83, 89, 92, 97, 98, 100, 97, 97]\n",
            "swapping i=27(98) with j=29(97)\n",
            "[0, 3, 8, 12, 13, 15, 17, 26, 29, 32, 34, 40, 48, 49, 55, 57, 57, 60, 62, 63, 72, 75, 77, 83, 89, 92, 97, 97, 100, 98, 97]\n",
            "End of first pass\n",
            "swapping i=28(100) with j=29(98)\n",
            "[0, 3, 8, 12, 13, 15, 17, 26, 29, 32, 34, 40, 48, 49, 55, 57, 57, 60, 62, 63, 72, 75, 77, 83, 89, 92, 97, 97, 98, 100, 97]\n",
            "swapping i=28(98) with j=30(97)\n",
            "[0, 3, 8, 12, 13, 15, 17, 26, 29, 32, 34, 40, 48, 49, 55, 57, 57, 60, 62, 63, 72, 75, 77, 83, 89, 92, 97, 97, 97, 100, 98]\n",
            "End of first pass\n",
            "swapping i=29(100) with j=30(98)\n",
            "[0, 3, 8, 12, 13, 15, 17, 26, 29, 32, 34, 40, 48, 49, 55, 57, 57, 60, 62, 63, 72, 75, 77, 83, 89, 92, 97, 97, 97, 98, 100]\n",
            "End of first pass\n",
            "End of first pass\n",
            "\n",
            " Final list\n",
            "[0, 3, 8, 12, 13, 15, 17, 26, 29, 32, 34, 40, 48, 49, 55, 57, 57, 60, 62, 63, 72, 75, 77, 83, 89, 92, 97, 97, 97, 98, 100]\n"
          ]
        }
      ]
    },
    {
      "cell_type": "markdown",
      "metadata": {
        "id": "_URK_HNCk0bS"
      },
      "source": [
        "PYTHONIC'S SOLUTIONS"
      ]
    },
    {
      "cell_type": "code",
      "metadata": {
        "colab": {
          "base_uri": "https://localhost:8080/"
        },
        "id": "MirGNBghk6mx",
        "outputId": "1d323d03-78e7-4596-cfdd-0df8ee0ff7c1"
      },
      "source": [
        "day_of_month[daily_rain.index(min(daily_rain))]"
      ],
      "execution_count": null,
      "outputs": [
        {
          "output_type": "execute_result",
          "data": {
            "text/plain": [
              "23"
            ]
          },
          "metadata": {},
          "execution_count": 16
        }
      ]
    },
    {
      "cell_type": "code",
      "metadata": {
        "colab": {
          "base_uri": "https://localhost:8080/"
        },
        "id": "vwQVsKi-liWY",
        "outputId": "36d03f33-b071-4643-f363-cb3f1ab7e7c9"
      },
      "source": [
        "day_of_month[daily_rain.index(max(daily_rain))]"
      ],
      "execution_count": null,
      "outputs": [
        {
          "output_type": "execute_result",
          "data": {
            "text/plain": [
              "13"
            ]
          },
          "metadata": {},
          "execution_count": 17
        }
      ]
    },
    {
      "cell_type": "code",
      "metadata": {
        "colab": {
          "base_uri": "https://localhost:8080/"
        },
        "id": "O-o9q72dloVW",
        "outputId": "6ec4d959-54cd-48c3-8bee-8baa37ca564c"
      },
      "source": [
        "sum(daily_rain)/len(daily_rain)"
      ],
      "execution_count": null,
      "outputs": [
        {
          "output_type": "execute_result",
          "data": {
            "text/plain": [
              "53.45161290322581"
            ]
          },
          "metadata": {},
          "execution_count": 18
        }
      ]
    },
    {
      "cell_type": "code",
      "metadata": {
        "colab": {
          "base_uri": "https://localhost:8080/"
        },
        "id": "RzGkJbaYhJ_P",
        "outputId": "72e7d254-faf5-4534-cd2a-1b1cb7f637ef"
      },
      "source": [
        "sum(list(map(lambda x: 1 if daily_rain[x-1] > 0 else 0, day_of_month)))"
      ],
      "execution_count": null,
      "outputs": [
        {
          "output_type": "execute_result",
          "data": {
            "text/plain": [
              "30"
            ]
          },
          "metadata": {},
          "execution_count": 19
        }
      ]
    },
    {
      "cell_type": "code",
      "metadata": {
        "colab": {
          "base_uri": "https://localhost:8080/",
          "height": 35
        },
        "id": "4NQO4CnIgog_",
        "outputId": "84a07206-31e5-4d02-95b0-042c05b89b87"
      },
      "source": [
        "day_of_month.sort(key=lambda x: daily_rain[x-1], reverse=True)\n",
        "str(day_of_month)"
      ],
      "execution_count": null,
      "outputs": [
        {
          "output_type": "execute_result",
          "data": {
            "application/vnd.google.colaboratory.intrinsic+json": {
              "type": "string"
            },
            "text/plain": [
              "'[13, 22, 3, 8, 21, 27, 24, 11, 20, 29, 2, 7, 16, 10, 9, 25, 19, 18, 12, 31, 26, 5, 28, 14, 1, 6, 30, 15, 4, 17, 23]'"
            ]
          },
          "metadata": {},
          "execution_count": 20
        }
      ]
    },
    {
      "cell_type": "code",
      "metadata": {
        "id": "IDwYwM0kgoeo"
      },
      "source": [
        ""
      ],
      "execution_count": null,
      "outputs": []
    },
    {
      "cell_type": "markdown",
      "metadata": {
        "id": "oDdmrl1dAt8q"
      },
      "source": [
        "## Basic Types - part 2 "
      ]
    },
    {
      "cell_type": "markdown",
      "metadata": {
        "id": "IOk7-87Qjfbe"
      },
      "source": [
        "### Set\n"
      ]
    },
    {
      "cell_type": "markdown",
      "metadata": {
        "id": "AkVazK88i8FI"
      },
      "source": [
        "\n",
        "(from w3 schools http://https://www.w3schools.com/python/python_sets.asp) \n",
        "\n",
        "\n",
        "Sets are used to store multiple items in a single variable.\n",
        "\n",
        "Set is one of 4 built-in data types in Python used to store collections of data, the other 3 are List, Tuple, and Dictionary, all with different qualities and usage.\n",
        "\n",
        "A set is a collection which is unordered, unchangeable*, and unindexed"
      ]
    },
    {
      "cell_type": "code",
      "metadata": {
        "colab": {
          "base_uri": "https://localhost:8080/"
        },
        "id": "RkFzdcjBbsx7",
        "outputId": "dc027a48-3d46-465d-dc40-1fa689d21644"
      },
      "source": [
        "myset = {\"apple\", \"banana\", \"cherry\", \"banana\"}\n",
        "myset"
      ],
      "execution_count": null,
      "outputs": [
        {
          "output_type": "execute_result",
          "data": {
            "text/plain": [
              "{'apple', 'banana', 'cherry'}"
            ]
          },
          "metadata": {},
          "execution_count": 3
        }
      ]
    },
    {
      "cell_type": "code",
      "metadata": {
        "id": "005zxsULhNO7"
      },
      "source": [
        "# UNORDERED\n",
        "# myset[0] "
      ],
      "execution_count": 9,
      "outputs": []
    },
    {
      "cell_type": "code",
      "metadata": {
        "id": "L1JCBl_jjeCn"
      },
      "source": [
        "# set?"
      ],
      "execution_count": 10,
      "outputs": []
    },
    {
      "cell_type": "code",
      "metadata": {
        "colab": {
          "base_uri": "https://localhost:8080/"
        },
        "id": "4SAWXDfJcZ9q",
        "outputId": "7eec33c5-6000-4499-faeb-16ce87e33ee3"
      },
      "source": [
        "myset2 = set(['banana', 'kiwi', 'pineapple'])\n",
        "myset2"
      ],
      "execution_count": 11,
      "outputs": [
        {
          "output_type": "execute_result",
          "data": {
            "text/plain": [
              "{'banana', 'kiwi', 'pineapple'}"
            ]
          },
          "metadata": {},
          "execution_count": 11
        }
      ]
    },
    {
      "cell_type": "code",
      "metadata": {
        "colab": {
          "base_uri": "https://localhost:8080/"
        },
        "id": "6ZCKd3aQcBHD",
        "outputId": "898d9ad6-d2f6-4574-b756-54e6c617bdab"
      },
      "source": [
        "myset.union(myset2)"
      ],
      "execution_count": 12,
      "outputs": [
        {
          "output_type": "execute_result",
          "data": {
            "text/plain": [
              "{'apple', 'banana', 'cherry', 'kiwi', 'pineapple'}"
            ]
          },
          "metadata": {},
          "execution_count": 12
        }
      ]
    },
    {
      "cell_type": "code",
      "metadata": {
        "id": "Wu1NfwV5hcg8"
      },
      "source": [
        "myset3 = myset.difference(myset2)"
      ],
      "execution_count": 14,
      "outputs": []
    },
    {
      "cell_type": "code",
      "metadata": {
        "colab": {
          "base_uri": "https://localhost:8080/"
        },
        "id": "T8vgCHmFhccv",
        "outputId": "25d0488b-0b74-4ba3-f7f1-da5b5ccad6f2"
      },
      "source": [
        "for item in myset3:\n",
        "    print(item)"
      ],
      "execution_count": 15,
      "outputs": [
        {
          "output_type": "stream",
          "name": "stdout",
          "text": [
            "cherry\n",
            "apple\n"
          ]
        }
      ]
    },
    {
      "cell_type": "code",
      "metadata": {
        "colab": {
          "base_uri": "https://localhost:8080/"
        },
        "id": "lOFuXMjmjlfu",
        "outputId": "66829caf-24f6-4397-8eab-9154c24d1353"
      },
      "source": [
        "\"cherry\" in myset3"
      ],
      "execution_count": 27,
      "outputs": [
        {
          "output_type": "execute_result",
          "data": {
            "text/plain": [
              "True"
            ]
          },
          "metadata": {},
          "execution_count": 27
        }
      ]
    },
    {
      "cell_type": "code",
      "metadata": {
        "id": "SleGAE7cbspE"
      },
      "source": [
        "# example: to determine what are the minimum necessary bands to run waterdetect\n",
        "# reference band, clustering bands, threshold bands"
      ],
      "execution_count": null,
      "outputs": []
    },
    {
      "cell_type": "markdown",
      "metadata": {
        "id": "YU2R9ljBA8UK"
      },
      "source": [
        "### Tuples"
      ]
    },
    {
      "cell_type": "code",
      "metadata": {
        "id": "mR1M3kOnA-4x",
        "colab": {
          "base_uri": "https://localhost:8080/"
        },
        "outputId": "ed93384b-403a-4522-de2d-3fcec4eae6cd"
      },
      "source": [
        "t = (1, 2, 3, 4, 5)\n",
        "t"
      ],
      "execution_count": 16,
      "outputs": [
        {
          "output_type": "execute_result",
          "data": {
            "text/plain": [
              "(1, 2, 3, 4, 5)"
            ]
          },
          "metadata": {},
          "execution_count": 16
        }
      ]
    },
    {
      "cell_type": "code",
      "metadata": {
        "id": "W7BZTGrXBOFA"
      },
      "source": [
        "# tuples are imutable\n",
        "# t[0] = 0"
      ],
      "execution_count": 17,
      "outputs": []
    },
    {
      "cell_type": "code",
      "metadata": {
        "id": "9wYXtPOhFxsO"
      },
      "source": [
        "# t."
      ],
      "execution_count": 19,
      "outputs": []
    },
    {
      "cell_type": "code",
      "metadata": {
        "id": "ogkVT3psA-1G",
        "colab": {
          "base_uri": "https://localhost:8080/"
        },
        "outputId": "f375db21-5486-4abf-e5a7-01ec3fb80a5e"
      },
      "source": [
        "type(t)"
      ],
      "execution_count": 20,
      "outputs": [
        {
          "output_type": "execute_result",
          "data": {
            "text/plain": [
              "tuple"
            ]
          },
          "metadata": {},
          "execution_count": 20
        }
      ]
    },
    {
      "cell_type": "code",
      "metadata": {
        "id": "M-CPeTFYA-yI",
        "colab": {
          "base_uri": "https://localhost:8080/"
        },
        "outputId": "7fc5e875-9c2f-45d0-c761-1073617d06a1"
      },
      "source": [
        "t[0:3]"
      ],
      "execution_count": 21,
      "outputs": [
        {
          "output_type": "execute_result",
          "data": {
            "text/plain": [
              "(1, 2, 3)"
            ]
          },
          "metadata": {},
          "execution_count": 21
        }
      ]
    },
    {
      "cell_type": "code",
      "metadata": {
        "id": "p9YiBRrbB-cQ",
        "colab": {
          "base_uri": "https://localhost:8080/"
        },
        "outputId": "5004c2da-0d1a-4c75-beff-5bd60cc70036"
      },
      "source": [
        "# values separated by comma are packed into tuples automatically\n",
        "x = 0\n",
        "y = 1\n",
        "x, y"
      ],
      "execution_count": 23,
      "outputs": [
        {
          "output_type": "execute_result",
          "data": {
            "text/plain": [
              "(0, 1)"
            ]
          },
          "metadata": {},
          "execution_count": 23
        }
      ]
    },
    {
      "cell_type": "code",
      "metadata": {
        "id": "OpbxwwK1BOBp",
        "colab": {
          "base_uri": "https://localhost:8080/"
        },
        "outputId": "64c92d97-b4c6-491c-996b-c473baa70fd7"
      },
      "source": [
        "# tuple unpacking\n",
        "(a, b) = (x, y)\n",
        "a, b "
      ],
      "execution_count": 24,
      "outputs": [
        {
          "output_type": "execute_result",
          "data": {
            "text/plain": [
              "(0, 1)"
            ]
          },
          "metadata": {},
          "execution_count": 24
        }
      ]
    },
    {
      "cell_type": "code",
      "metadata": {
        "id": "vvRc5bEUBN-Q"
      },
      "source": [
        "a, b = x, y\n",
        "a, b"
      ],
      "execution_count": null,
      "outputs": []
    },
    {
      "cell_type": "code",
      "metadata": {
        "id": "rEtAIQDyPB2g",
        "colab": {
          "base_uri": "https://localhost:8080/"
        },
        "outputId": "65938957-0091-4e29-f03f-a35b0b754a5b"
      },
      "source": [
        "# Some operations\n",
        "# tuple joining\n",
        "t + (a,b)"
      ],
      "execution_count": 25,
      "outputs": [
        {
          "output_type": "execute_result",
          "data": {
            "text/plain": [
              "(1, 2, 3, 4, 5, 0, 1)"
            ]
          },
          "metadata": {},
          "execution_count": 25
        }
      ]
    },
    {
      "cell_type": "code",
      "metadata": {
        "id": "NiM3pN5IP1EI",
        "colab": {
          "base_uri": "https://localhost:8080/"
        },
        "outputId": "2e5782dd-f67d-475c-f65b-35ee5774bb53"
      },
      "source": [
        "# Multiplication? No repetition...\n",
        "t*2"
      ],
      "execution_count": 26,
      "outputs": [
        {
          "output_type": "execute_result",
          "data": {
            "text/plain": [
              "(1, 2, 3, 4, 5, 1, 2, 3, 4, 5)"
            ]
          },
          "metadata": {},
          "execution_count": 26
        }
      ]
    },
    {
      "cell_type": "code",
      "metadata": {
        "id": "tX9aPnBMCgna"
      },
      "source": [
        "# Unpacking now works with any iterable\n",
        "employee = [\"John Doe\", \"40\", \"Software Engineer\"]\n",
        "name = employee[0]\n",
        "age = employee[1]\n",
        "job = employee[2]\n",
        "name, age, job"
      ],
      "execution_count": null,
      "outputs": []
    },
    {
      "cell_type": "code",
      "metadata": {
        "id": "W-bZl1xGE0NE"
      },
      "source": [
        "name, age, job = [\"John Doe\", \"40\", \"Software Engineer\"]\n",
        "name, age, job"
      ],
      "execution_count": null,
      "outputs": []
    },
    {
      "cell_type": "code",
      "metadata": {
        "id": "4RW0gvjXHmy7"
      },
      "source": [
        "# it can Unpack ANYTHING Python can iterate on (Iterable)\n",
        "m, a, u, r, i, c, i2, o = \"Maurício\"\n",
        "m, a, u, r, i, c, i2, o"
      ],
      "execution_count": null,
      "outputs": []
    },
    {
      "cell_type": "markdown",
      "metadata": {
        "id": "cT05vK5hEbZk"
      },
      "source": [
        "<b>Note:</b> For more packing and unpacking examples, go to:<br>\n",
        "https://stackabuse.com/unpacking-in-python-beyond-parallel-assignment/#definingfunctionswithand"
      ]
    },
    {
      "cell_type": "markdown",
      "metadata": {
        "id": "nj5W2bfPGTlE"
      },
      "source": [
        "### List comprehension"
      ]
    },
    {
      "cell_type": "markdown",
      "metadata": {
        "id": "IOhMR3uOGc6f"
      },
      "source": [
        "List comprehension offers a shorter syntax when you want to create a new list based on any iterable. <br>\n",
        "[operation(X) for X in \"list\"] and each operation(X) will be an item of a new list"
      ]
    },
    {
      "cell_type": "code",
      "metadata": {
        "id": "6Z3dvDzOJHm9",
        "colab": {
          "base_uri": "https://localhost:8080/"
        },
        "outputId": "068950f7-901f-4eb2-a866-2139245e96a7"
      },
      "source": [
        "# Suppose we want the square of each item in this list, in a new list\n",
        "lst = [1, 2, 3, 4, 5]\n",
        "\n",
        "new_list = []\n",
        "for x in lst:\n",
        "    new_list.append(x**2)\n",
        "\n",
        "new_list"
      ],
      "execution_count": 28,
      "outputs": [
        {
          "output_type": "execute_result",
          "data": {
            "text/plain": [
              "[1, 4, 9, 16, 25]"
            ]
          },
          "metadata": {},
          "execution_count": 28
        }
      ]
    },
    {
      "cell_type": "code",
      "metadata": {
        "id": "I9kE0ihWJwbl",
        "colab": {
          "base_uri": "https://localhost:8080/"
        },
        "outputId": "955e5f4e-c2a8-4351-cc7a-41d1f3ce423a"
      },
      "source": [
        "new_list = [x**2 for x in lst]\n",
        "new_list"
      ],
      "execution_count": 29,
      "outputs": [
        {
          "output_type": "execute_result",
          "data": {
            "text/plain": [
              "[1, 4, 9, 16, 25]"
            ]
          },
          "metadata": {},
          "execution_count": 29
        }
      ]
    },
    {
      "cell_type": "code",
      "metadata": {
        "colab": {
          "base_uri": "https://localhost:8080/"
        },
        "id": "Hhpx3qkYkEUd",
        "outputId": "972c21f1-8580-4b48-ec2b-42ce61ef687f"
      },
      "source": [
        "# unpacking inside a list comprehension\n",
        "# Suppose 3 students, with its ages:\n",
        "\n",
        "lst = [('A', 11), ('B', 9), ('C', 10)]\n",
        "lst"
      ],
      "execution_count": 31,
      "outputs": [
        {
          "output_type": "execute_result",
          "data": {
            "text/plain": [
              "[('A', 11), ('B', 9), ('C', 10)]"
            ]
          },
          "metadata": {},
          "execution_count": 31
        }
      ]
    },
    {
      "cell_type": "code",
      "metadata": {
        "colab": {
          "base_uri": "https://localhost:8080/",
          "height": 35
        },
        "id": "Zww4f3UokRFI",
        "outputId": "e4015b1c-513c-4e27-be75-edacd95b7b54"
      },
      "source": [
        "lst[1][0]"
      ],
      "execution_count": 32,
      "outputs": [
        {
          "output_type": "execute_result",
          "data": {
            "application/vnd.google.colaboratory.intrinsic+json": {
              "type": "string"
            },
            "text/plain": [
              "'B'"
            ]
          },
          "metadata": {},
          "execution_count": 32
        }
      ]
    },
    {
      "cell_type": "code",
      "metadata": {
        "id": "PgzMm54dGTDU",
        "colab": {
          "base_uri": "https://localhost:8080/"
        },
        "outputId": "d3dae534-7e63-4b99-aaac-4f0e1b4cf6f3"
      },
      "source": [
        "# create a lst like:\n",
        "# students = ['Student A has 11 years', 'Student B has 9 years', 'Student C has 10 years']\n",
        "students = []\n",
        "for student, age in lst:\n",
        "    s = \"Student \" + str(student) + \" has \" + str(age) + \" years\"\n",
        "    students.append(s)\n",
        "\n",
        "students"
      ],
      "execution_count": 34,
      "outputs": [
        {
          "output_type": "execute_result",
          "data": {
            "text/plain": [
              "['Student A has 11 years', 'Student B has 9 years', 'Student C has 10 years']"
            ]
          },
          "metadata": {},
          "execution_count": 34
        }
      ]
    },
    {
      "cell_type": "code",
      "metadata": {
        "id": "gR0u3ZsQG-rS",
        "colab": {
          "base_uri": "https://localhost:8080/"
        },
        "outputId": "3fc83ee6-a18f-4807-e2c7-a10f6c4255d2"
      },
      "source": [
        "# in a more concise way\n",
        "students = [f\"Student {student} is {age} years old\" for student, age in lst]\n",
        "students"
      ],
      "execution_count": 35,
      "outputs": [
        {
          "output_type": "execute_result",
          "data": {
            "text/plain": [
              "['Student A is 11 years old',\n",
              " 'Student B is 9 years old',\n",
              " 'Student C is 10 years old']"
            ]
          },
          "metadata": {},
          "execution_count": 35
        }
      ]
    },
    {
      "cell_type": "markdown",
      "metadata": {
        "id": "LdU4ssmaEar4"
      },
      "source": [
        "### Dictionaries\n",
        "Similar to lists, but with a key to identify each item<br>\n",
        "{key: value, key: value, key:value, ....}<br>\n",
        "Keys are imutables <br>\n",
        "<b>Note:</b> As of Python version 3.7, dictionaries are ordered. In Python 3.6 and earlier, dictionaries are unordered.\n",
        "\n",
        "\n",
        "\n",
        "\n"
      ]
    },
    {
      "cell_type": "code",
      "metadata": {
        "id": "ljXEj8TaV1fN",
        "colab": {
          "base_uri": "https://localhost:8080/"
        },
        "outputId": "0331c34d-f226-4f95-9e7d-ac09b503f5c9"
      },
      "source": [
        "# if we received the structure proposed before, how could we get the age of student named C\n",
        "\n",
        "# solution: go through the list, check the first item of the tuple, if it is C, get the second item of the tuple...\n",
        "desired_student = 'A'\n",
        "\n",
        "for student in lst:\n",
        "    if student[0] == desired_student:   \n",
        "        print(f'Student {desired_student} has {student[1]} years old')"
      ],
      "execution_count": 37,
      "outputs": [
        {
          "output_type": "stream",
          "name": "stdout",
          "text": [
            "Student A has 11 years old\n"
          ]
        }
      ]
    },
    {
      "cell_type": "code",
      "metadata": {
        "id": "SPPttmCAV1b7",
        "colab": {
          "base_uri": "https://localhost:8080/"
        },
        "outputId": "0a289e50-15bf-457b-c966-4c09fc6d0a61"
      },
      "source": [
        "# if data had been passed by 2 lists... we needed to use the common index to locate the age\n",
        "names = ['A', 'B', 'C']\n",
        "ages = [11, 9, 10]\n",
        "\n",
        "desired_student == 'C'\n",
        "\n",
        "idx = names.index(desired_student)\n",
        "print(ages[idx])"
      ],
      "execution_count": 38,
      "outputs": [
        {
          "output_type": "stream",
          "name": "stdout",
          "text": [
            "11\n"
          ]
        }
      ]
    },
    {
      "cell_type": "code",
      "metadata": {
        "id": "xQAseaC4V1Pt",
        "colab": {
          "base_uri": "https://localhost:8080/"
        },
        "outputId": "21f568c7-2956-4b50-abd6-e88a1bb1c0ee"
      },
      "source": [
        "# using dictionaries\n",
        "students = {'A': 11, 'B': 9, 'C': 10}\n",
        "students"
      ],
      "execution_count": 41,
      "outputs": [
        {
          "output_type": "execute_result",
          "data": {
            "text/plain": [
              "{'A': 11, 'B': 9, 'C': 10}"
            ]
          },
          "metadata": {},
          "execution_count": 41
        }
      ]
    },
    {
      "cell_type": "code",
      "metadata": {
        "colab": {
          "base_uri": "https://localhost:8080/"
        },
        "id": "JOn_fErFk-EU",
        "outputId": "e9ae5943-2ced-4d51-d323-82ca6a0dbd0c"
      },
      "source": [
        "students['C']"
      ],
      "execution_count": 42,
      "outputs": [
        {
          "output_type": "execute_result",
          "data": {
            "text/plain": [
              "10"
            ]
          },
          "metadata": {},
          "execution_count": 42
        }
      ]
    },
    {
      "cell_type": "code",
      "metadata": {
        "id": "kCGDvR7ZXiq-",
        "colab": {
          "base_uri": "https://localhost:8080/"
        },
        "outputId": "b2ef13a1-8405-4f52-d0ba-e21d1baec4f0"
      },
      "source": [
        "# nothing prevent us to create inner dictionaries:\n",
        "students = {'A': {'age': 11, 'Height': 145},\n",
        "            'B': {'age': 9, 'Height': 144.2},\n",
        "            'C': {'age': 10, 'Height': 147},\n",
        "            }\n",
        "\n",
        "desired_student = 'C'\n",
        "students[desired_student]"
      ],
      "execution_count": 43,
      "outputs": [
        {
          "output_type": "execute_result",
          "data": {
            "text/plain": [
              "{'Height': 147, 'age': 10}"
            ]
          },
          "metadata": {},
          "execution_count": 43
        }
      ]
    },
    {
      "cell_type": "code",
      "metadata": {
        "id": "Y1O4K8ykYtRj",
        "colab": {
          "base_uri": "https://localhost:8080/"
        },
        "outputId": "4db986d9-0d9c-476e-c1a5-84a09d822582"
      },
      "source": [
        "students[desired_student]['age']"
      ],
      "execution_count": 44,
      "outputs": [
        {
          "output_type": "execute_result",
          "data": {
            "text/plain": [
              "10"
            ]
          },
          "metadata": {},
          "execution_count": 44
        }
      ]
    },
    {
      "cell_type": "code",
      "metadata": {
        "id": "oZlPTKw8X6PT",
        "colab": {
          "base_uri": "https://localhost:8080/"
        },
        "outputId": "766d39c7-54ce-4cba-b73a-95d45785a11f"
      },
      "source": [
        "print(f\"Student {desired_student} has {students[desired_student]['age']} and measures {students[desired_student]['Height']}\")"
      ],
      "execution_count": 45,
      "outputs": [
        {
          "output_type": "stream",
          "name": "stdout",
          "text": [
            "Student C has 10 and measures 147\n"
          ]
        }
      ]
    },
    {
      "cell_type": "markdown",
      "metadata": {
        "id": "r9JvYOMyXh6d"
      },
      "source": [
        "Back to our hydrological example"
      ]
    },
    {
      "cell_type": "code",
      "metadata": {
        "id": "TsBZr_gF-ZQH",
        "colab": {
          "base_uri": "https://localhost:8080/"
        },
        "outputId": "270b297d-b7cd-4826-89fd-13b655bb6b7b"
      },
      "source": [
        "import random\n",
        "import matplotlib.pyplot as plt\n",
        "\n",
        "# create the days and daily rain\n",
        "random.seed(1)\n",
        "\n",
        "daily_rain = []\n",
        "day_of_month = []\n",
        "\n",
        "for i in range(1, 32, 1):\n",
        "    day_of_month.append(i)\n",
        "    daily_rain.append(random.randint(0, 100))\n",
        "\n",
        "str(day_of_month), str(daily_rain)"
      ],
      "execution_count": 46,
      "outputs": [
        {
          "output_type": "execute_result",
          "data": {
            "text/plain": [
              "('[1, 2, 3, 4, 5, 6, 7, 8, 9, 10, 11, 12, 13, 14, 15, 16, 17, 18, 19, 20, 21, 22, 23, 24, 25, 26, 27, 28, 29, 30, 31]',\n",
              " '[17, 72, 97, 8, 32, 15, 63, 97, 57, 60, 83, 48, 100, 26, 12, 62, 3, 49, 55, 77, 97, 98, 0, 89, 57, 34, 92, 29, 75, 13, 40]')"
            ]
          },
          "metadata": {},
          "execution_count": 46
        }
      ]
    },
    {
      "cell_type": "code",
      "metadata": {
        "id": "esLxcc2lPfy_",
        "colab": {
          "base_uri": "https://localhost:8080/",
          "height": 283
        },
        "outputId": "d5e8d5a5-c9e9-4a14-ec9c-2877f0790b98"
      },
      "source": [
        "# Now I will create a random walk (non-stationary) to represent river stage\n",
        "random.seed(2)\n",
        "river_stage = [100]\n",
        "for _ in range(31):\n",
        "    river_stage.append(river_stage[-1] + random.randint(-2, 2))    \n",
        "\n",
        "plt.plot(river_stage)"
      ],
      "execution_count": 47,
      "outputs": [
        {
          "output_type": "execute_result",
          "data": {
            "text/plain": [
              "[<matplotlib.lines.Line2D at 0x7f350268f350>]"
            ]
          },
          "metadata": {},
          "execution_count": 47
        },
        {
          "output_type": "display_data",
          "data": {
            "image/png": "[encoded data removed]",
            "text/plain": [
              "<Figure size 432x288 with 1 Axes>"
            ]
          },
          "metadata": {
            "needs_background": "light"
          }
        }
      ]
    },
    {
      "cell_type": "code",
      "metadata": {
        "id": "f5WEdpaCBN7r",
        "colab": {
          "base_uri": "https://localhost:8080/"
        },
        "outputId": "e79ca6a7-daa0-491f-a8b3-b9648aea8836"
      },
      "source": [
        "# What happened on day 15?\n",
        "\n",
        "print(f'It rained {daily_rain[14]}mm and the level was {river_stage[14]}cm')"
      ],
      "execution_count": 48,
      "outputs": [
        {
          "output_type": "stream",
          "name": "stdout",
          "text": [
            "It rained 12mm and the level was 96cm\n"
          ]
        }
      ]
    },
    {
      "cell_type": "markdown",
      "metadata": {
        "id": "4p5dylxjTYXN"
      },
      "source": [
        "In the previous example, we could find the value corresponding a specific day, because it has a relation with the list index (index = day -1)<br>\n",
        "And we need 2 variables of type list (stage and rain). <br>\n",
        "What if I want to store 10 different stations? <br>\n",
        "Should we declare 20 different lists (10*2)? <br>\n",
        "<br>\n",
        "How to know which variable holds each station? By using variable names? That would be cumbersome.\n",
        "\n"
      ]
    },
    {
      "cell_type": "code",
      "metadata": {
        "id": "6k-9wrU4BN4R",
        "colab": {
          "base_uri": "https://localhost:8080/",
          "height": 53
        },
        "outputId": "870bb943-15c9-4681-cc45-666dce883a25"
      },
      "source": [
        "# Let's do it using dictionaries\n",
        "\n",
        "# 1st we will create the stations names (keys)\n",
        "stations = [f'Station {i}' for i in range(1, 11)]\n",
        "\n",
        "str(stations)"
      ],
      "execution_count": 49,
      "outputs": [
        {
          "output_type": "execute_result",
          "data": {
            "application/vnd.google.colaboratory.intrinsic+json": {
              "type": "string"
            },
            "text/plain": [
              "\"['Station 1', 'Station 2', 'Station 3', 'Station 4', 'Station 5', 'Station 6', 'Station 7', 'Station 8', 'Station 9', 'Station 10']\""
            ]
          },
          "metadata": {},
          "execution_count": 49
        }
      ]
    },
    {
      "cell_type": "code",
      "metadata": {
        "id": "7pQ8SMwaal7w",
        "colab": {
          "base_uri": "https://localhost:8080/"
        },
        "outputId": "6e9c7ff2-84d9-436a-d2a7-0c3fb32de836"
      },
      "source": [
        "data = {2: 234}\n",
        "type(data)"
      ],
      "execution_count": 50,
      "outputs": [
        {
          "output_type": "execute_result",
          "data": {
            "text/plain": [
              "dict"
            ]
          },
          "metadata": {},
          "execution_count": 50
        }
      ]
    },
    {
      "cell_type": "code",
      "metadata": {
        "id": "NKzNaC3japV1",
        "colab": {
          "base_uri": "https://localhost:8080/"
        },
        "outputId": "1c37d9f0-8387-434c-ecc7-944948e6909e"
      },
      "source": [
        "# dict has no APPEND method...however it can be updated with a new {key: value}\n",
        "data.update({2: 543, 3: 0})\n",
        "data"
      ],
      "execution_count": 51,
      "outputs": [
        {
          "output_type": "execute_result",
          "data": {
            "text/plain": [
              "{2: 543, 3: 0}"
            ]
          },
          "metadata": {},
          "execution_count": 51
        }
      ]
    },
    {
      "cell_type": "code",
      "metadata": {
        "id": "XENtWJ6XbGv-",
        "colab": {
          "base_uri": "https://localhost:8080/"
        },
        "outputId": "3f46582e-b18b-42df-d243-29726a1824f0"
      },
      "source": [
        "data[2] = 222\n",
        "data"
      ],
      "execution_count": 52,
      "outputs": [
        {
          "output_type": "execute_result",
          "data": {
            "text/plain": [
              "{2: 222, 3: 0}"
            ]
          },
          "metadata": {},
          "execution_count": 52
        }
      ]
    },
    {
      "cell_type": "code",
      "metadata": {
        "id": "aE-nJSPIU1D-",
        "colab": {
          "base_uri": "https://localhost:8080/",
          "height": 191
        },
        "outputId": "681edab0-f23d-48c8-fe43-91c1daf289da"
      },
      "source": [
        "data = {}\n",
        "for station in stations:\n",
        "    daily_rain = []\n",
        "    river_stage = []\n",
        "    for _ in range(31):\n",
        "        daily_rain.append(random.randint(0, 100))\n",
        "\n",
        "        if len(river_stage) > 0:\n",
        "            river_stage.append(river_stage[-1] + random.randint(-1,1))\n",
        "        else:\n",
        "            river_stage.append(random.randint(90, 100))\n",
        "\n",
        "    station_data = {'rain': daily_rain, 'stage': river_stage}\n",
        "\n",
        "    # data.update({station: station_data})    \n",
        "    data[station] = station_data\n",
        "\n",
        "str(data)"
      ],
      "execution_count": 54,
      "outputs": [
        {
          "output_type": "execute_result",
          "data": {
            "application/vnd.google.colaboratory.intrinsic+json": {
              "type": "string"
            },
            "text/plain": [
              "\"{'Station 1': {'rain': [22, 29, 22, 22, 65, 46, 86, 23, 53, 67, 75, 46, 20, 91, 59, 67, 62, 63, 65, 84, 59, 72, 71, 58, 84, 41, 21, 34, 39, 90, 71], 'stage': [93, 92, 92, 91, 92, 93, 94, 94, 95, 95, 95, 95, 95, 96, 97, 96, 96, 97, 97, 97, 97, 98, 99, 99, 98, 99, 100, 100, 100, 101, 102]}, 'Station 2': {'rain': [64, 78, 52, 93, 62, 46, 79, 100, 92, 24, 13, 73, 6, 75, 87, 96, 17, 31, 7, 91, 7, 46, 31, 3, 14, 3, 93, 47, 16, 94, 66], 'stage': [100, 101, 101, 100, 101, 102, 101, 101, 100, 101, 100, 101, 101, 100, 99, 100, 100, 99, 99, 98, 98, 97, 98, 97, 96, 95, 94, 94, 93, 92, 93]}, 'Station 3': {'rain': [0, 75, 31, 4, 44, 80, 95, 36, 62, 39, 70, 94, 33, 79, 19, 28, 84, 40, 3, 100, 66, 99, 62, 41, 43, 33, 53, 2, 71, 85, 32], 'stage': [96, 95, 94, 93, 94, 95, 94, 94, 93, 93, 94, 93, 93, 94, 94, 93, 94, 93, 93, 92, 93, 93, 94, 93, 93, 94, 95, 96, 95, 94, 93]}, 'Station 4': {'rain': [16, 21, 58, 29, 90, 31, 91, 9, 10, 29, 79, 46, 87, 35, 96, 19, 49, 20, 65, 11, 13, 2, 96, 13, 3, 85, 58, 68, 48, 87, 93], 'stage': [92, 91, 92, 93, 92, 91, 91, 91, 92, 93, 94, 94, 94, 95, 94, 93, 93, 92, 93, 92, 91, 90, 89, 88, 89, 89, 89, 90, 89, 88, 88]}, 'Station 5': {'rain': [54, 2, 75, 53, 74, 12, 61, 2, 15, 46, 88, 39, 87, 12, 39, 99, 2, 7, 81, 59, 75, 9, 36, 47, 92, 28, 24, 73, 50, 59, 96], 'stage': [98, 99, 98, 99, 98, 99, 99, 100, 101, 101, 101, 100, 100, 99, 98, 99, 99, 99, 99, 98, 99, 98, 97, 97, 96, 96, 95, 95, 96, 95, 95]}, 'Station 6': {'rain': [50, 32, 15, 78, 82, 27, 13, 79, 60, 92, 63, 45, 18, 34, 67, 92, 53, 87, 50, 20, 76, 70, 89, 89, 74, 73, 9, 22, 18, 8, 87], 'stage': [91, 90, 89, 89, 89, 90, 89, 90, 89, 90, 90, 90, 90, 90, 90, 91, 91, 91, 90, 90, 90, 90, 91, 90, 91, 90, 90, 91, 91, 90, 91]}, 'Station 7': {'rain': [4, 37, 29, 85, 42, 22, 36, 19, 96, 12, 66, 91, 32, 20, 90, 51, 100, 93, 59, 92, 76, 94, 50, 6, 35, 32, 93, 90, 60, 70, 91], 'stage': [92, 92, 93, 94, 94, 95, 94, 95, 95, 95, 94, 95, 94, 94, 93, 93, 94, 93, 93, 92, 92, 91, 92, 92, 92, 93, 93, 94, 94, 94, 95]}, 'Station 8': {'rain': [84, 97, 28, 79, 51, 48, 1, 59, 91, 83, 12, 51, 93, 77, 27, 49, 98, 35, 75, 24, 78, 1, 86, 61, 65, 22, 91, 97, 44, 62, 85], 'stage': [91, 92, 93, 92, 93, 94, 94, 95, 95, 94, 93, 92, 93, 93, 92, 93, 92, 93, 94, 94, 93, 94, 94, 94, 95, 95, 94, 93, 92, 93, 94]}, 'Station 9': {'rain': [8, 62, 42, 34, 58, 10, 96, 22, 32, 80, 17, 20, 48, 86, 19, 36, 59, 46, 68, 72, 26, 39, 83, 61, 68, 38, 33, 38, 82, 83, 50], 'stage': [99, 100, 100, 101, 100, 101, 101, 101, 102, 103, 102, 102, 102, 102, 101, 102, 101, 100, 100, 100, 101, 101, 100, 101, 102, 101, 101, 101, 101, 102, 103]}, 'Station 10': {'rain': [11, 81, 50, 67, 64, 11, 5, 58, 29, 35, 14, 86, 46, 40, 9, 58, 21, 56, 59, 91, 81, 34, 20, 30, 24, 47, 45, 17, 34, 81, 51], 'stage': [98, 97, 98, 97, 98, 98, 97, 98, 99, 98, 97, 97, 96, 96, 96, 96, 96, 96, 95, 95, 94, 94, 93, 93, 94, 93, 92, 91, 92, 92, 93]}}\""
            ]
          },
          "metadata": {},
          "execution_count": 54
        }
      ]
    },
    {
      "cell_type": "code",
      "metadata": {
        "id": "VOP7e-9naizV",
        "colab": {
          "base_uri": "https://localhost:8080/",
          "height": 53
        },
        "outputId": "43c789d2-d8a8-4b3e-b444-aeacb53de8b4"
      },
      "source": [
        "str(data['Station 2']['stage'])"
      ],
      "execution_count": 55,
      "outputs": [
        {
          "output_type": "execute_result",
          "data": {
            "application/vnd.google.colaboratory.intrinsic+json": {
              "type": "string"
            },
            "text/plain": [
              "'[100, 101, 101, 100, 101, 102, 101, 101, 100, 101, 100, 101, 101, 100, 99, 100, 100, 99, 99, 98, 98, 97, 98, 97, 96, 95, 94, 94, 93, 92, 93]'"
            ]
          },
          "metadata": {},
          "execution_count": 55
        }
      ]
    },
    {
      "cell_type": "code",
      "metadata": {
        "id": "Lc2r0SqF-12V",
        "colab": {
          "base_uri": "https://localhost:8080/",
          "height": 53
        },
        "outputId": "5c252876-bb85-49b1-a62b-839171e63d8f"
      },
      "source": [
        "str(data['Station 5']['stage'])"
      ],
      "execution_count": 56,
      "outputs": [
        {
          "output_type": "execute_result",
          "data": {
            "application/vnd.google.colaboratory.intrinsic+json": {
              "type": "string"
            },
            "text/plain": [
              "'[98, 99, 98, 99, 98, 99, 99, 100, 101, 101, 101, 100, 100, 99, 98, 99, 99, 99, 99, 98, 99, 98, 97, 97, 96, 96, 95, 95, 96, 95, 95]'"
            ]
          },
          "metadata": {},
          "execution_count": 56
        }
      ]
    },
    {
      "cell_type": "code",
      "metadata": {
        "id": "ApQgUAnT_ufv",
        "colab": {
          "base_uri": "https://localhost:8080/",
          "height": 283
        },
        "outputId": "a73b247d-4fee-4b79-ec16-597d018b0296"
      },
      "source": [
        "plt.plot(data['Station 2']['stage'])\n",
        "plt.plot(data['Station 5']['stage'])"
      ],
      "execution_count": 57,
      "outputs": [
        {
          "output_type": "execute_result",
          "data": {
            "text/plain": [
              "[<matplotlib.lines.Line2D at 0x7f34fdeb6a50>]"
            ]
          },
          "metadata": {},
          "execution_count": 57
        },
        {
          "output_type": "display_data",
          "data": {
            "image/png": "[encoded data removed]",
            "text/plain": [
              "<Figure size 432x288 with 1 Axes>"
            ]
          },
          "metadata": {
            "needs_background": "light"
          }
        }
      ]
    },
    {
      "cell_type": "code",
      "metadata": {
        "colab": {
          "base_uri": "https://localhost:8080/"
        },
        "id": "QGjmC4k8m2tG",
        "outputId": "c3873e24-7c3c-4cf7-ac6a-baf5b34798af"
      },
      "source": [
        "data = {}\n",
        "for station in stations:\n",
        "    station_rain = {i: random.randint(0, 100) for i in range(1, 32)}\n",
        "    \n",
        "    stage = random.randint(50, 150)\n",
        "    station_stage = {i: stage + random.randint(-2, 2) for i in range(1, 32)}\n",
        "\n",
        "    data[station] = {'rain': station_rain, 'stage': station_stage}\n",
        "\n",
        "data['Station 2']['stage']"
      ],
      "execution_count": 61,
      "outputs": [
        {
          "output_type": "execute_result",
          "data": {
            "text/plain": [
              "{1: 141,\n",
              " 2: 143,\n",
              " 3: 140,\n",
              " 4: 140,\n",
              " 5: 142,\n",
              " 6: 141,\n",
              " 7: 139,\n",
              " 8: 142,\n",
              " 9: 143,\n",
              " 10: 143,\n",
              " 11: 140,\n",
              " 12: 139,\n",
              " 13: 142,\n",
              " 14: 141,\n",
              " 15: 140,\n",
              " 16: 139,\n",
              " 17: 140,\n",
              " 18: 141,\n",
              " 19: 139,\n",
              " 20: 140,\n",
              " 21: 140,\n",
              " 22: 142,\n",
              " 23: 143,\n",
              " 24: 142,\n",
              " 25: 142,\n",
              " 26: 139,\n",
              " 27: 139,\n",
              " 28: 141,\n",
              " 29: 142,\n",
              " 30: 143,\n",
              " 31: 143}"
            ]
          },
          "metadata": {},
          "execution_count": 61
        }
      ]
    },
    {
      "cell_type": "markdown",
      "metadata": {
        "id": "MJ8Q6fLhhSbT"
      },
      "source": [
        "Great! But this example would make more sense if we had... <br>10 stations x 12 months x (28, 29, 30 or 31) days<br>\n",
        "<br>\n",
        "We could add one more loop and some tests for the date... but... <br>\n",
        "HELP!!!! Its getting too complicated..."
      ]
    },
    {
      "cell_type": "markdown",
      "metadata": {
        "id": "cjh2U9cniS0v"
      },
      "source": [
        "## Functions"
      ]
    },
    {
      "cell_type": "markdown",
      "metadata": {
        "id": "tSdVTHjbiUiH"
      },
      "source": [
        "A function is a block of code which only runs when it is called.\n",
        "\n",
        "You can pass data, known as parameters, into a function.\n",
        "\n",
        "A function can return data as a result."
      ]
    },
    {
      "cell_type": "code",
      "metadata": {
        "id": "IEL4n6PffRV9"
      },
      "source": [
        "def square(x):\n",
        "    return x**2\n",
        "\n",
        "square(11)"
      ],
      "execution_count": null,
      "outputs": []
    },
    {
      "cell_type": "code",
      "metadata": {
        "id": "kVyTqodhfRSe"
      },
      "source": [
        "def power(base, expoent):\n",
        "    return base**expoent\n",
        "\n",
        "power(2, 8)"
      ],
      "execution_count": null,
      "outputs": []
    },
    {
      "cell_type": "code",
      "metadata": {
        "id": "WQyzfe8gfROn"
      },
      "source": [
        "# base and expoent are required arguments\n",
        "# power(2)"
      ],
      "execution_count": null,
      "outputs": []
    },
    {
      "cell_type": "code",
      "metadata": {
        "id": "2RlPfMMqfRLJ"
      },
      "source": [
        "power(expoent=8, base=2)"
      ],
      "execution_count": null,
      "outputs": []
    },
    {
      "cell_type": "code",
      "metadata": {
        "id": "BMmGbun_fRHy"
      },
      "source": [
        "# b is an optional (default) parameter\n",
        "# def y = a*x + b\n",
        "def linear(x, a, b=0):\n",
        "    y = a * x + b\n",
        "    return y\n",
        "\n",
        "linear(2, 3)"
      ],
      "execution_count": null,
      "outputs": []
    },
    {
      "cell_type": "code",
      "metadata": {
        "id": "JGywimlifREY"
      },
      "source": [
        "# nomenclature 2 is a positional argument\n",
        "# -10 and 3 are keyword arguments\n",
        "linear(2, b=-10, a=3)"
      ],
      "execution_count": null,
      "outputs": []
    },
    {
      "cell_type": "code",
      "metadata": {
        "id": "ChH4gniPk5ZS"
      },
      "source": [
        "# y = a*x^2 + b*x + c\n",
        "def quadratic(x, a, b=1, c=0):\n",
        "    y = a * power(x, 2) + b*x + c\n",
        "    return y"
      ],
      "execution_count": null,
      "outputs": []
    },
    {
      "cell_type": "code",
      "metadata": {
        "id": "61ykMdGJk5Vw"
      },
      "source": [
        "quadratic(a=1, x=2)"
      ],
      "execution_count": null,
      "outputs": []
    },
    {
      "cell_type": "markdown",
      "metadata": {
        "id": "6wrA0UwXsGly"
      },
      "source": [
        "Explain the scope. Variables have specific scope inside the function..."
      ]
    },
    {
      "cell_type": "code",
      "metadata": {
        "id": "nnNzVXFAk5Sf"
      },
      "source": [
        "import math"
      ],
      "execution_count": null,
      "outputs": []
    },
    {
      "cell_type": "code",
      "metadata": {
        "id": "V-sHnb0_k5Pb"
      },
      "source": [
        "dir(math)"
      ],
      "execution_count": null,
      "outputs": []
    },
    {
      "cell_type": "markdown",
      "metadata": {
        "id": "DkFG6WTCyJrv"
      },
      "source": [
        "## The value <b>None</b>"
      ]
    },
    {
      "cell_type": "markdown",
      "metadata": {
        "id": "_3NvN-46yQmz"
      },
      "source": [
        "\n",
        "The value **None** is used to define a null value. **It is not the same as an empty string, False, or a zero.** It is a data type of the class NoneType object."
      ]
    },
    {
      "cell_type": "code",
      "metadata": {
        "id": "SSpOUxywk5Mb"
      },
      "source": [
        "None == \"\", None == False, None == 0"
      ],
      "execution_count": null,
      "outputs": []
    },
    {
      "cell_type": "code",
      "metadata": {
        "id": "QJlgy6PQoe6D"
      },
      "source": [
        "# correct way of testing (is -> identity operator)\n",
        "x = 0\n",
        "x is None, x is not None"
      ],
      "execution_count": null,
      "outputs": []
    },
    {
      "cell_type": "code",
      "metadata": {
        "id": "FcEs2UaCqibC"
      },
      "source": [
        "bool(None), bool(0), bool(False), bool(123)"
      ],
      "execution_count": null,
      "outputs": []
    },
    {
      "cell_type": "code",
      "metadata": {
        "id": "QpT8tF1Ap-42"
      },
      "source": [
        "# None is absence of value, so we cannot implement this...\n",
        "def check_value(x):\n",
        "    if x:\n",
        "        print(f'{x} has a value')\n",
        "    else:\n",
        "        print(f'{x} has no value at all')"
      ],
      "execution_count": null,
      "outputs": []
    },
    {
      "cell_type": "code",
      "metadata": {
        "id": "JzQXAoYYpDBU"
      },
      "source": [
        "check_value(None), check_value(0), check_value(False)"
      ],
      "execution_count": null,
      "outputs": []
    },
    {
      "cell_type": "code",
      "metadata": {
        "id": "6vjc9wc7pvwj"
      },
      "source": [
        "# Why is that... that's because if x: is testing the BOOLEAN result of x.\n",
        "# To test it correctly we should do:\n",
        "\n",
        "def check_value(x):\n",
        "    if  x is None:\n",
        "        print(f'{x} has no value at all')\n",
        "    else:\n",
        "        print(f'{x} has a value')\n"
      ],
      "execution_count": null,
      "outputs": []
    },
    {
      "cell_type": "code",
      "metadata": {
        "id": "j3ss1ajeqzRZ"
      },
      "source": [
        "check_value(None), check_value(0), check_value(False)"
      ],
      "execution_count": null,
      "outputs": []
    },
    {
      "cell_type": "markdown",
      "metadata": {
        "id": "B391z85-ogXK"
      },
      "source": [
        "Now that we know \"everything\" about functions, let's get back to the hydrological example.<br>\n",
        "\n"
      ]
    },
    {
      "cell_type": "markdown",
      "metadata": {
        "id": "8tmHvZgwy4p5"
      },
      "source": [
        "## Datetime Basics"
      ]
    },
    {
      "cell_type": "code",
      "metadata": {
        "id": "1tCtVqhFzVY8"
      },
      "source": [
        "from datetime import datetime, timedelta"
      ],
      "execution_count": null,
      "outputs": []
    },
    {
      "cell_type": "code",
      "metadata": {
        "id": "pAMzEsmDYR34"
      },
      "source": [
        "datetime.now()"
      ],
      "execution_count": null,
      "outputs": []
    },
    {
      "cell_type": "code",
      "metadata": {
        "id": "nEeBEYLJy-IN"
      },
      "source": [
        "dt = datetime(2021, 1, 1)\n",
        "dt"
      ],
      "execution_count": null,
      "outputs": []
    },
    {
      "cell_type": "code",
      "metadata": {
        "id": "KJLQCN0fYNSi"
      },
      "source": [
        "dt2 = dt + timedelta(days=1)\n",
        "dt2"
      ],
      "execution_count": null,
      "outputs": []
    },
    {
      "cell_type": "code",
      "metadata": {
        "id": "e2NWjY2kYfTV"
      },
      "source": [
        "dt2 - dt"
      ],
      "execution_count": null,
      "outputs": []
    },
    {
      "cell_type": "markdown",
      "metadata": {
        "id": "C4vpytd0y13c"
      },
      "source": [
        "## Exercise"
      ]
    },
    {
      "cell_type": "markdown",
      "metadata": {
        "id": "_YoZ_LJoRr1H"
      },
      "source": [
        "OBS: Show how to find the number of days in a specific month (internet search)."
      ]
    },
    {
      "cell_type": "code",
      "metadata": {
        "id": "TCFl-Rm6ZH0W"
      },
      "source": [
        "def create_random_rain(start, end, max_rain=100, seed=None):\n",
        "\n",
        "    if seed is not None:\n",
        "        random.seed(seed)\n",
        "\n",
        "    if start >= end:\n",
        "        return None\n",
        "\n",
        "    # use timedelta to get days\n",
        "    days = (end - start).days\n",
        "\n",
        "    return {start + timedelta(days=i): random.randint(0, max_rain) for i in range(days)}\n",
        "            "
      ],
      "execution_count": null,
      "outputs": []
    },
    {
      "cell_type": "code",
      "metadata": {
        "id": "tAv8DuIzkOUz"
      },
      "source": [
        "rain"
      ],
      "execution_count": null,
      "outputs": []
    },
    {
      "cell_type": "code",
      "metadata": {
        "id": "9SmXtFUvZHyK"
      },
      "source": [
        "rain = create_random_rain(datetime(2021, 1, 1), datetime(2021, 7, 1))\n",
        "\n",
        "plt.figure(figsize=(10, 5))\n",
        "plt.bar(rain.keys(), rain.values())"
      ],
      "execution_count": null,
      "outputs": []
    },
    {
      "cell_type": "code",
      "metadata": {
        "id": "SMzujxJSZHtJ"
      },
      "source": [
        "def create_random_stage(start, end, damp=1, seed=None):\n",
        "\n",
        "    if start >= end:\n",
        "        return\n",
        "\n",
        "    if seed is not None:\n",
        "        random.seed(seed)\n",
        "\n",
        "    days = (end - start).days\n",
        "\n",
        "    stage = {start: random.randint(50, 100)}\n",
        "\n",
        "    return {start + timedelta(i + 1): stage[start]*damp + random.normalvariate(0, 0.5) for i in range(days)}"
      ],
      "execution_count": null,
      "outputs": []
    },
    {
      "cell_type": "code",
      "metadata": {
        "id": "2A7gLcDpbD90"
      },
      "source": [
        "stage = create_random_stage (datetime(2021, 1, 1), datetime(2022, 7, 1))\n",
        "plt.figure(figsize=(15, 10))\n",
        "\n",
        "plt.plot(list(stage.values()))"
      ],
      "execution_count": null,
      "outputs": []
    },
    {
      "cell_type": "code",
      "metadata": {
        "id": "hDdjZ8WNbD7Y"
      },
      "source": [
        "list(stage.values())"
      ],
      "execution_count": null,
      "outputs": []
    },
    {
      "cell_type": "code",
      "metadata": {
        "id": "BirPXmUYbD43"
      },
      "source": [
        ""
      ],
      "execution_count": null,
      "outputs": []
    },
    {
      "cell_type": "code",
      "metadata": {
        "id": "nZqHeWUzbD2Z"
      },
      "source": [
        ""
      ],
      "execution_count": null,
      "outputs": []
    },
    {
      "cell_type": "code",
      "metadata": {
        "id": "pr2gJpyDj8ZC"
      },
      "source": [
        "from calendar import monthrange\n",
        "\n",
        "def create_random_rain(year, month, max_rain=100, seed=None):\n",
        "    if seed is not None:\n",
        "        random.seed(seed)\n",
        "\n",
        "    days_in_month = monthrange(year, month)[1]\n",
        "    return {(year, month, i): random.randint(0, max_rain) for i in range(1, days_in_month)}"
      ],
      "execution_count": null,
      "outputs": []
    },
    {
      "cell_type": "code",
      "metadata": {
        "id": "Eoen1viBReBt"
      },
      "source": [
        "rain = create_random_rain(2021, 11, max_rain=50, seed=2)\n",
        "plt.bar(range(1, len(rain)+1), rain.values())"
      ],
      "execution_count": null,
      "outputs": []
    },
    {
      "cell_type": "code",
      "metadata": {
        "id": "HSCyDhI9S1P3"
      },
      "source": [
        "def create_random_stage(year, month, seed=None):\n",
        "    if seed is not None:\n",
        "        random.seed(seed)\n",
        "\n",
        "    stage = [random.randint(0, 50)]\n",
        "\n",
        "    days_in_month = monthrange(year, month)[1]\n",
        "    for i in range(days_in_month):\n",
        "        stage.append(stage[-1] + random.uniform(-1, 1))\n",
        "    return stage"
      ],
      "execution_count": null,
      "outputs": []
    },
    {
      "cell_type": "code",
      "metadata": {
        "id": "4qSv-nYiS1Nb"
      },
      "source": [
        "plt.plot(create_random_stage(2021, 11))"
      ],
      "execution_count": null,
      "outputs": []
    },
    {
      "cell_type": "code",
      "metadata": {
        "id": "5hQ3z0XbXaoi"
      },
      "source": [
        "rain"
      ],
      "execution_count": null,
      "outputs": []
    },
    {
      "cell_type": "code",
      "metadata": {
        "id": "ouPVqMm6XamH"
      },
      "source": [
        ""
      ],
      "execution_count": null,
      "outputs": []
    },
    {
      "cell_type": "code",
      "metadata": {
        "id": "HwRXBXPoXajs"
      },
      "source": [
        ""
      ],
      "execution_count": null,
      "outputs": []
    },
    {
      "cell_type": "code",
      "metadata": {
        "id": "oM__4BvxXahL"
      },
      "source": [
        ""
      ],
      "execution_count": null,
      "outputs": []
    },
    {
      "cell_type": "code",
      "metadata": {
        "id": "zbBTb9QyXaeq"
      },
      "source": [
        ""
      ],
      "execution_count": null,
      "outputs": []
    },
    {
      "cell_type": "code",
      "metadata": {
        "id": "UaFUaXa4XacK"
      },
      "source": [
        ""
      ],
      "execution_count": null,
      "outputs": []
    },
    {
      "cell_type": "code",
      "metadata": {
        "id": "CLKjYYYxS1GD"
      },
      "source": [
        ""
      ],
      "execution_count": null,
      "outputs": []
    },
    {
      "cell_type": "code",
      "metadata": {
        "id": "g3DtK-ZnV8CS"
      },
      "source": [
        ""
      ],
      "execution_count": null,
      "outputs": []
    },
    {
      "cell_type": "code",
      "metadata": {
        "id": "v0DkVH0XV8AR"
      },
      "source": [
        ""
      ],
      "execution_count": null,
      "outputs": []
    },
    {
      "cell_type": "code",
      "metadata": {
        "id": "qdLTRD8AV795"
      },
      "source": [
        ""
      ],
      "execution_count": null,
      "outputs": []
    },
    {
      "cell_type": "code",
      "metadata": {
        "id": "-TvTkRyvV77a"
      },
      "source": [
        ""
      ],
      "execution_count": null,
      "outputs": []
    },
    {
      "cell_type": "code",
      "metadata": {
        "id": "PKFNKi7doNZC"
      },
      "source": [
        "rain = create_random_rain(2021, 1)"
      ],
      "execution_count": null,
      "outputs": []
    },
    {
      "cell_type": "code",
      "metadata": {
        "id": "-nKLIbkNPfb7"
      },
      "source": [
        "pd.DataFrame(pd.Series(rain).rename('estacao 1'))"
      ],
      "execution_count": null,
      "outputs": []
    },
    {
      "cell_type": "code",
      "metadata": {
        "id": "VbF8jh6uPqSA"
      },
      "source": [
        "idx = pd.MultiIndex.from_tuples(rain.keys(), names=['year', 'month', 'day'])"
      ],
      "execution_count": null,
      "outputs": []
    },
    {
      "cell_type": "code",
      "metadata": {
        "id": "vpVf7Fd-QkF6"
      },
      "source": [
        "pd.DataFrame(rain,)"
      ],
      "execution_count": null,
      "outputs": []
    },
    {
      "cell_type": "code",
      "metadata": {
        "id": "5fAE7YbGQDDx"
      },
      "source": [
        "pd.DataFrame.from_dict(rain, orient='index')"
      ],
      "execution_count": null,
      "outputs": []
    },
    {
      "cell_type": "code",
      "metadata": {
        "id": "jTWLYbUvoNVs"
      },
      "source": [
        "import pandas as pd\n",
        "pd.DataFrame(rain)"
      ],
      "execution_count": null,
      "outputs": []
    },
    {
      "cell_type": "code",
      "metadata": {
        "id": "hIGPDDwOoNSl"
      },
      "source": [
        ""
      ],
      "execution_count": null,
      "outputs": []
    },
    {
      "cell_type": "code",
      "metadata": {
        "id": "q88lLPpxoNHv"
      },
      "source": [
        ""
      ],
      "execution_count": null,
      "outputs": []
    },
    {
      "cell_type": "code",
      "metadata": {
        "id": "sbxWTH-C_vWe"
      },
      "source": [
        "df = pd.DataFrame.from_dict(data, orient=\"index\").stack().to_frame()\n",
        "df = pd.DataFrame(df[0].values.tolist(), index=df.index)\n",
        "df"
      ],
      "execution_count": null,
      "outputs": []
    },
    {
      "cell_type": "code",
      "metadata": {
        "id": "aNZYtqsj_0WJ"
      },
      "source": [
        "data = {}\n",
        "for station in stations:\n",
        "    daily_rain = []\n",
        "    river_stage = [100]\n",
        "    for _ in range(31):\n",
        "        daily_rain.append(random.randint(0, 100))\n",
        "        river_stage.append(river_stage[-1] + random.randint(-1,1))\n",
        "\n",
        "\n",
        "    # data.update({station: station_data})    \n",
        "    data[station] = daily_rain\n",
        "\n",
        "str(data)"
      ],
      "execution_count": null,
      "outputs": []
    },
    {
      "cell_type": "code",
      "metadata": {
        "id": "mR75Ml4M_4z2"
      },
      "source": [
        "pd.DataFrame(data, index=range(1, 32))"
      ],
      "execution_count": null,
      "outputs": []
    },
    {
      "cell_type": "code",
      "metadata": {
        "id": "hKao91OYc0MX"
      },
      "source": [
        ""
      ],
      "execution_count": null,
      "outputs": []
    }
  ]
}